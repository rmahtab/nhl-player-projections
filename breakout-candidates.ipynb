{
 "cells": [
  {
   "cell_type": "code",
   "execution_count": 1,
   "id": "c472b430",
   "metadata": {},
   "outputs": [],
   "source": [
    "from common import *"
   ]
  },
  {
   "cell_type": "code",
   "execution_count": 2,
   "id": "4f34d8ef",
   "metadata": {},
   "outputs": [],
   "source": [
    "# Choose position to filter down to\n",
    "POSITION = \"forwards\"\n",
    "\n",
    "# Load player historical season stats and salary cap data\n",
    "hdf = load_historical_stats(POSITION)\n",
    "hdf = hdf[hdf[\"season\"] == \"20242025\"]\n",
    "cdf = load_cap_data()"
   ]
  },
  {
   "cell_type": "markdown",
   "id": "f5b1e9a5",
   "metadata": {},
   "source": [
    "Join the two datasets on player name, which is not ideal but ok for now.\n",
    "\n",
    "Also, I did not ingest cap data for all players (e.g. players on IR/LTIR).\n",
    "\n",
    "And some players have names spelled differently across the two datasets, so they are not joined.\n",
    "\n",
    "Filtering these cases out for now."
   ]
  },
  {
   "cell_type": "code",
   "execution_count": 3,
   "id": "6fbcde14",
   "metadata": {},
   "outputs": [],
   "source": [
    "df = hdf.merge(cdf, on=\"playerName\", how=\"left\")\n",
    "df = df[~df[\"capHit\"].isna()]"
   ]
  },
  {
   "cell_type": "markdown",
   "id": "11ff0a85",
   "metadata": {},
   "source": [
    "Lets check the distribution of average time on ice.\n",
    "\n",
    "Hypothesis: Players with low average time on ice (but strong scoring stats) are good breakout candidates."
   ]
  },
  {
   "cell_type": "code",
   "execution_count": 19,
   "id": "d38da270",
   "metadata": {},
   "outputs": [],
   "source": [
    "# px.histogram(\n",
    "#     df,\n",
    "#     x=\"avgToi\",\n",
    "#     width=800,\n",
    "#     height=500,\n",
    "#     title=\"Distribution of Avg Time on Ice\",\n",
    "#     labels={\"avgToi\": \"Avg Time on Ice\"},\n",
    "# )"
   ]
  },
  {
   "cell_type": "markdown",
   "id": "e2ad45dc",
   "metadata": {},
   "source": [
    "Lets filter down to players with 1-2 years of experience in the NHL who played at least 10 games this past season. Looks like there are 36 players who fit the bill."
   ]
  },
  {
   "cell_type": "code",
   "execution_count": 5,
   "id": "df896222",
   "metadata": {},
   "outputs": [
    {
     "data": {
      "text/plain": [
       "(36, 25)"
      ]
     },
     "execution_count": 5,
     "metadata": {},
     "output_type": "execute_result"
    }
   ],
   "source": [
    "MIN_GAMES = 10\n",
    "subset = df[\n",
    "    (df[\"yoe\"] <= 2)\n",
    "    & (df[\"gamesPlayed\"] >= MIN_GAMES)\n",
    "    # & (df[\"avgToi\"] <= 12)\n",
    "    # & (df[\"age\"] <= 25)\n",
    "]\n",
    "subset.shape"
   ]
  },
  {
   "cell_type": "markdown",
   "id": "5f0b52e5",
   "metadata": {},
   "source": [
    "Curious what goal/assist/point scoring rates are for these players vs their average ice time."
   ]
  },
  {
   "cell_type": "code",
   "execution_count": 6,
   "id": "2e69335f",
   "metadata": {},
   "outputs": [
    {
     "data": {
      "application/vnd.plotly.v1+json": {
       "config": {
        "plotlyServerURL": "https://plot.ly"
       },
       "data": [
        {
         "customdata": [
          [
           1,
           2,
           3,
           25,
           [
            "Los Angeles Kings"
           ],
           24,
           775000
          ],
          [
           4,
           21,
           25,
           81,
           [
            "Calgary Flames"
           ],
           25,
           1000000
          ],
          [
           7,
           13,
           20,
           57,
           [
            "Colorado Avalanche",
            "San Jose Sharks"
           ],
           25,
           896250
          ],
          [
           4,
           7,
           11,
           81,
           [
            "New York Islanders"
           ],
           25,
           775000
          ],
          [
           3,
           8,
           11,
           78,
           [
            "Boston Bruins"
           ],
           23,
           925000
          ],
          [
           23,
           24,
           47,
           73,
           [
            "Columbus Blue Jackets"
           ],
           24,
           925000
          ],
          [
           6,
           7,
           13,
           63,
           [
            "Seattle Kraken"
           ],
           23,
           859167
          ],
          [
           13,
           14,
           27,
           54,
           [
            "Calgary Flames"
           ],
           23,
           863333
          ],
          [
           6,
           4,
           10,
           35,
           [
            "New York Rangers"
           ],
           22,
           867500
          ],
          [
           11,
           14,
           25,
           73,
           [
            "Dallas Stars"
           ],
           22,
           894167
          ],
          [
           19,
           23,
           42,
           77,
           [
            "Los Angeles Kings"
           ],
           23,
           875000
          ],
          [
           2,
           4,
           6,
           33,
           [
            "Chicago Blackhawks"
           ],
           22,
           912500
          ],
          [
           5,
           7,
           12,
           75,
           [
            "Minnesota Wild",
            "Boston Bruins"
           ],
           22,
           925000
          ],
          [
           8,
           12,
           20,
           60,
           [
            "Tampa Bay Lightning"
           ],
           23,
           775000
          ],
          [
           0,
           1,
           1,
           12,
           [
            "Los Angeles Kings"
           ],
           28,
           775000
          ],
          [
           10,
           8,
           18,
           62,
           [
            "Montréal Canadiens"
           ],
           23,
           897500
          ],
          [
           7,
           12,
           19,
           51,
           [
            "Utah Hockey Club"
           ],
           22,
           925000
          ],
          [
           14,
           24,
           38,
           78,
           [
            "Dallas Stars",
            "Carolina Hurricanes"
           ],
           21,
           814167
          ],
          [
           15,
           16,
           31,
           72,
           [
            "Florida Panthers"
           ],
           22,
           925000
          ],
          [
           4,
           3,
           7,
           50,
           [
            "Los Angeles Kings"
           ],
           22,
           805833
          ],
          [
           5,
           10,
           15,
           62,
           [
            "Nashville Predators"
           ],
           21,
           863333
          ],
          [
           0,
           2,
           2,
           22,
           [
            "New York Rangers"
           ],
           21,
           863333
          ],
          [
           17,
           17,
           34,
           80,
           [
            "Carolina Hurricanes"
           ],
           21,
           905833
          ],
          [
           25,
           40,
           65,
           75,
           [
            "Utah Hockey Club"
           ],
           20,
           950000
          ],
          [
           20,
           24,
           44,
           82,
           [
            "Anaheim Ducks"
           ],
           20,
           950000
          ],
          [
           19,
           18,
           37,
           77,
           [
            "Detroit Red Wings"
           ],
           20,
           918333
          ],
          [
           12,
           14,
           26,
           53,
           [
            "Chicago Blackhawks"
           ],
           20,
           950000
          ],
          [
           8,
           1,
           9,
           39,
           [
            "New York Islanders"
           ],
           25,
           775000
          ],
          [
           23,
           44,
           67,
           82,
           [
            "Chicago Blackhawks"
           ],
           19,
           950000
          ],
          [
           10,
           18,
           28,
           75,
           [
            "Buffalo Sabres"
           ],
           19,
           950000
          ],
          [
           20,
           25,
           45,
           76,
           [
            "Anaheim Ducks"
           ],
           20,
           950000
          ],
          [
           31,
           23,
           54,
           82,
           [
            "Columbus Blue Jackets"
           ],
           20,
           950000
          ],
          [
           18,
           27,
           45,
           74,
           [
            "San Jose Sharks"
           ],
           19,
           950000
          ],
          [
           26,
           37,
           63,
           80,
           [
            "Philadelphia Flyers"
           ],
           20,
           950000
          ],
          [
           25,
           38,
           63,
           70,
           [
            "San Jose Sharks"
           ],
           18,
           975000
          ],
          [
           10,
           25,
           35,
           77,
           [
            "New York Islanders"
           ],
           26,
           950000
          ]
         ],
         "hovertemplate": "<b>%{hovertext}</b><br><br>avgToi=%{x}<br>g/60=%{y}<br>goals=%{customdata[0]}<br>assists=%{customdata[1]}<br>points=%{customdata[2]}<br>gamesPlayed=%{customdata[3]}<br>team=%{customdata[4]}<br>age=%{customdata[5]}<br>capHit=%{customdata[6]}<extra></extra>",
         "hovertext": [
          "Akil Thomas",
          "Martin Pospisil",
          "Nikolai Kovalenko",
          "Kyle MacLean",
          "John Beecher",
          "Dmitri Voronkov",
          "Tye Kartye",
          "Connor Zary",
          "Brett Berard",
          "Mavrik Bourque",
          "Alex Laferriere",
          "Landon Slaggert",
          "Marat Khusnutdinov",
          "Gage Goncalves",
          "Jeff Malott",
          "Emil Heineman",
          "Josh Doan",
          "Logan Stankoven",
          "Mackie Samoskevich",
          "Samuel Helenius",
          "Zachary L'Heureux",
          "Brennan Othmann",
          "Jackson Blake",
          "Logan Cooley",
          "Cutter Gauthier",
          "Marco Kasper",
          "Frank Nazar",
          "Marc Gatcomb",
          "Connor Bedard",
          "Zach Benson",
          "Leo Carlsson",
          "Adam Fantilli",
          "Will Smith",
          "Matvei Michkov",
          "Macklin Celebrini",
          "Maxim Tsyplakov"
         ],
         "legendgroup": "",
         "marker": {
          "color": "#636efa",
          "symbol": "circle"
         },
         "mode": "markers",
         "name": "",
         "orientation": "v",
         "showlegend": false,
         "type": "scatter",
         "x": {
          "bdata": "VVVVVVXVI0CZmZmZmZkrQNpKaiuprShA7+7u7u7uI0AREREREZEmQImIiIiIyDBA3t3d3d1dI0AREREREREwQO/u7u7ubiVA3t3d3d1dKUCJiIiIiIgwQJqZmZmZmShAxdmHz7ArKECamZmZmZkpQBERERERkSRAzczMzMzMJkCJiIiIiAgrQPAKr/AKLy5AIiIiIiKiKkDNzMzMzEwhQJqZmZmZGShA7+7u7u7uI0AzMzMzM7MrQN7d3d3d3TFAzMzMzMxMLEBlZmZmZuYuQLy7u7u7uy9AERERERGRI0CJiIiIiEg0QCIiIiIioi1AvLu7u7s7MEC8u7u7u3sxQDIzMzMzsy9A7+7u7u6uMECJiIiIiMgzQO/u7u7u7i1A",
          "dtype": "f8"
         },
         "xaxis": "x",
         "y": {
          "bdata": "H2j6Hmj6zj/eNci5iHvLPyuPDrznG+M/SyUoHsEG0z8yj+WsyC3KPxqZHDSUBfI/MagwCTri4j9c3sRc3sTsPww5gaCStu4/foE8tobP5j/wnjI4vKfsP+wSvC7B69I/JbGwesUu1T8AAAAAAADkPwAAAAAAAAAAy1cO2ygq6z9Yh8X2In/jPwqcKRyh1eY/SyoErZwJ7j+TsaiG2cHhP+jHqvgJs9k/AAAAAAAAAAAKYfswX3XtP3YLvxoT6fE//7a+VCWM8D/ctMdvG6ruP53wSMnrZes/u1hlXeAg9D/KM2lP+ozqP1IEOYogR+E/uNfvpwIg7z+L78yCKcL0P59U60Imd+0/Ic7KT4iz8j9KCqqNolTxP0Nf+/QPqeA/",
          "dtype": "f8"
         },
         "yaxis": "y"
        }
       ],
       "layout": {
        "height": 500,
        "legend": {
         "tracegroupgap": 0
        },
        "template": {
         "data": {
          "bar": [
           {
            "error_x": {
             "color": "#f2f5fa"
            },
            "error_y": {
             "color": "#f2f5fa"
            },
            "marker": {
             "line": {
              "color": "rgb(17,17,17)",
              "width": 0.5
             },
             "pattern": {
              "fillmode": "overlay",
              "size": 10,
              "solidity": 0.2
             }
            },
            "type": "bar"
           }
          ],
          "barpolar": [
           {
            "marker": {
             "line": {
              "color": "rgb(17,17,17)",
              "width": 0.5
             },
             "pattern": {
              "fillmode": "overlay",
              "size": 10,
              "solidity": 0.2
             }
            },
            "type": "barpolar"
           }
          ],
          "carpet": [
           {
            "aaxis": {
             "endlinecolor": "#A2B1C6",
             "gridcolor": "#506784",
             "linecolor": "#506784",
             "minorgridcolor": "#506784",
             "startlinecolor": "#A2B1C6"
            },
            "baxis": {
             "endlinecolor": "#A2B1C6",
             "gridcolor": "#506784",
             "linecolor": "#506784",
             "minorgridcolor": "#506784",
             "startlinecolor": "#A2B1C6"
            },
            "type": "carpet"
           }
          ],
          "choropleth": [
           {
            "colorbar": {
             "outlinewidth": 0,
             "ticks": ""
            },
            "type": "choropleth"
           }
          ],
          "contour": [
           {
            "colorbar": {
             "outlinewidth": 0,
             "ticks": ""
            },
            "colorscale": [
             [
              0,
              "#0d0887"
             ],
             [
              0.1111111111111111,
              "#46039f"
             ],
             [
              0.2222222222222222,
              "#7201a8"
             ],
             [
              0.3333333333333333,
              "#9c179e"
             ],
             [
              0.4444444444444444,
              "#bd3786"
             ],
             [
              0.5555555555555556,
              "#d8576b"
             ],
             [
              0.6666666666666666,
              "#ed7953"
             ],
             [
              0.7777777777777778,
              "#fb9f3a"
             ],
             [
              0.8888888888888888,
              "#fdca26"
             ],
             [
              1,
              "#f0f921"
             ]
            ],
            "type": "contour"
           }
          ],
          "contourcarpet": [
           {
            "colorbar": {
             "outlinewidth": 0,
             "ticks": ""
            },
            "type": "contourcarpet"
           }
          ],
          "heatmap": [
           {
            "colorbar": {
             "outlinewidth": 0,
             "ticks": ""
            },
            "colorscale": [
             [
              0,
              "#0d0887"
             ],
             [
              0.1111111111111111,
              "#46039f"
             ],
             [
              0.2222222222222222,
              "#7201a8"
             ],
             [
              0.3333333333333333,
              "#9c179e"
             ],
             [
              0.4444444444444444,
              "#bd3786"
             ],
             [
              0.5555555555555556,
              "#d8576b"
             ],
             [
              0.6666666666666666,
              "#ed7953"
             ],
             [
              0.7777777777777778,
              "#fb9f3a"
             ],
             [
              0.8888888888888888,
              "#fdca26"
             ],
             [
              1,
              "#f0f921"
             ]
            ],
            "type": "heatmap"
           }
          ],
          "histogram": [
           {
            "marker": {
             "pattern": {
              "fillmode": "overlay",
              "size": 10,
              "solidity": 0.2
             }
            },
            "type": "histogram"
           }
          ],
          "histogram2d": [
           {
            "colorbar": {
             "outlinewidth": 0,
             "ticks": ""
            },
            "colorscale": [
             [
              0,
              "#0d0887"
             ],
             [
              0.1111111111111111,
              "#46039f"
             ],
             [
              0.2222222222222222,
              "#7201a8"
             ],
             [
              0.3333333333333333,
              "#9c179e"
             ],
             [
              0.4444444444444444,
              "#bd3786"
             ],
             [
              0.5555555555555556,
              "#d8576b"
             ],
             [
              0.6666666666666666,
              "#ed7953"
             ],
             [
              0.7777777777777778,
              "#fb9f3a"
             ],
             [
              0.8888888888888888,
              "#fdca26"
             ],
             [
              1,
              "#f0f921"
             ]
            ],
            "type": "histogram2d"
           }
          ],
          "histogram2dcontour": [
           {
            "colorbar": {
             "outlinewidth": 0,
             "ticks": ""
            },
            "colorscale": [
             [
              0,
              "#0d0887"
             ],
             [
              0.1111111111111111,
              "#46039f"
             ],
             [
              0.2222222222222222,
              "#7201a8"
             ],
             [
              0.3333333333333333,
              "#9c179e"
             ],
             [
              0.4444444444444444,
              "#bd3786"
             ],
             [
              0.5555555555555556,
              "#d8576b"
             ],
             [
              0.6666666666666666,
              "#ed7953"
             ],
             [
              0.7777777777777778,
              "#fb9f3a"
             ],
             [
              0.8888888888888888,
              "#fdca26"
             ],
             [
              1,
              "#f0f921"
             ]
            ],
            "type": "histogram2dcontour"
           }
          ],
          "mesh3d": [
           {
            "colorbar": {
             "outlinewidth": 0,
             "ticks": ""
            },
            "type": "mesh3d"
           }
          ],
          "parcoords": [
           {
            "line": {
             "colorbar": {
              "outlinewidth": 0,
              "ticks": ""
             }
            },
            "type": "parcoords"
           }
          ],
          "pie": [
           {
            "automargin": true,
            "type": "pie"
           }
          ],
          "scatter": [
           {
            "marker": {
             "line": {
              "color": "#283442"
             }
            },
            "type": "scatter"
           }
          ],
          "scatter3d": [
           {
            "line": {
             "colorbar": {
              "outlinewidth": 0,
              "ticks": ""
             }
            },
            "marker": {
             "colorbar": {
              "outlinewidth": 0,
              "ticks": ""
             }
            },
            "type": "scatter3d"
           }
          ],
          "scattercarpet": [
           {
            "marker": {
             "colorbar": {
              "outlinewidth": 0,
              "ticks": ""
             }
            },
            "type": "scattercarpet"
           }
          ],
          "scattergeo": [
           {
            "marker": {
             "colorbar": {
              "outlinewidth": 0,
              "ticks": ""
             }
            },
            "type": "scattergeo"
           }
          ],
          "scattergl": [
           {
            "marker": {
             "line": {
              "color": "#283442"
             }
            },
            "type": "scattergl"
           }
          ],
          "scattermap": [
           {
            "marker": {
             "colorbar": {
              "outlinewidth": 0,
              "ticks": ""
             }
            },
            "type": "scattermap"
           }
          ],
          "scattermapbox": [
           {
            "marker": {
             "colorbar": {
              "outlinewidth": 0,
              "ticks": ""
             }
            },
            "type": "scattermapbox"
           }
          ],
          "scatterpolar": [
           {
            "marker": {
             "colorbar": {
              "outlinewidth": 0,
              "ticks": ""
             }
            },
            "type": "scatterpolar"
           }
          ],
          "scatterpolargl": [
           {
            "marker": {
             "colorbar": {
              "outlinewidth": 0,
              "ticks": ""
             }
            },
            "type": "scatterpolargl"
           }
          ],
          "scatterternary": [
           {
            "marker": {
             "colorbar": {
              "outlinewidth": 0,
              "ticks": ""
             }
            },
            "type": "scatterternary"
           }
          ],
          "surface": [
           {
            "colorbar": {
             "outlinewidth": 0,
             "ticks": ""
            },
            "colorscale": [
             [
              0,
              "#0d0887"
             ],
             [
              0.1111111111111111,
              "#46039f"
             ],
             [
              0.2222222222222222,
              "#7201a8"
             ],
             [
              0.3333333333333333,
              "#9c179e"
             ],
             [
              0.4444444444444444,
              "#bd3786"
             ],
             [
              0.5555555555555556,
              "#d8576b"
             ],
             [
              0.6666666666666666,
              "#ed7953"
             ],
             [
              0.7777777777777778,
              "#fb9f3a"
             ],
             [
              0.8888888888888888,
              "#fdca26"
             ],
             [
              1,
              "#f0f921"
             ]
            ],
            "type": "surface"
           }
          ],
          "table": [
           {
            "cells": {
             "fill": {
              "color": "#506784"
             },
             "line": {
              "color": "rgb(17,17,17)"
             }
            },
            "header": {
             "fill": {
              "color": "#2a3f5f"
             },
             "line": {
              "color": "rgb(17,17,17)"
             }
            },
            "type": "table"
           }
          ]
         },
         "layout": {
          "annotationdefaults": {
           "arrowcolor": "#f2f5fa",
           "arrowhead": 0,
           "arrowwidth": 1
          },
          "autotypenumbers": "strict",
          "coloraxis": {
           "colorbar": {
            "outlinewidth": 0,
            "ticks": ""
           }
          },
          "colorscale": {
           "diverging": [
            [
             0,
             "#8e0152"
            ],
            [
             0.1,
             "#c51b7d"
            ],
            [
             0.2,
             "#de77ae"
            ],
            [
             0.3,
             "#f1b6da"
            ],
            [
             0.4,
             "#fde0ef"
            ],
            [
             0.5,
             "#f7f7f7"
            ],
            [
             0.6,
             "#e6f5d0"
            ],
            [
             0.7,
             "#b8e186"
            ],
            [
             0.8,
             "#7fbc41"
            ],
            [
             0.9,
             "#4d9221"
            ],
            [
             1,
             "#276419"
            ]
           ],
           "sequential": [
            [
             0,
             "#0d0887"
            ],
            [
             0.1111111111111111,
             "#46039f"
            ],
            [
             0.2222222222222222,
             "#7201a8"
            ],
            [
             0.3333333333333333,
             "#9c179e"
            ],
            [
             0.4444444444444444,
             "#bd3786"
            ],
            [
             0.5555555555555556,
             "#d8576b"
            ],
            [
             0.6666666666666666,
             "#ed7953"
            ],
            [
             0.7777777777777778,
             "#fb9f3a"
            ],
            [
             0.8888888888888888,
             "#fdca26"
            ],
            [
             1,
             "#f0f921"
            ]
           ],
           "sequentialminus": [
            [
             0,
             "#0d0887"
            ],
            [
             0.1111111111111111,
             "#46039f"
            ],
            [
             0.2222222222222222,
             "#7201a8"
            ],
            [
             0.3333333333333333,
             "#9c179e"
            ],
            [
             0.4444444444444444,
             "#bd3786"
            ],
            [
             0.5555555555555556,
             "#d8576b"
            ],
            [
             0.6666666666666666,
             "#ed7953"
            ],
            [
             0.7777777777777778,
             "#fb9f3a"
            ],
            [
             0.8888888888888888,
             "#fdca26"
            ],
            [
             1,
             "#f0f921"
            ]
           ]
          },
          "colorway": [
           "#636efa",
           "#EF553B",
           "#00cc96",
           "#ab63fa",
           "#FFA15A",
           "#19d3f3",
           "#FF6692",
           "#B6E880",
           "#FF97FF",
           "#FECB52"
          ],
          "font": {
           "color": "#f2f5fa"
          },
          "geo": {
           "bgcolor": "rgb(17,17,17)",
           "lakecolor": "rgb(17,17,17)",
           "landcolor": "rgb(17,17,17)",
           "showlakes": true,
           "showland": true,
           "subunitcolor": "#506784"
          },
          "hoverlabel": {
           "align": "left"
          },
          "hovermode": "closest",
          "mapbox": {
           "style": "dark"
          },
          "paper_bgcolor": "rgb(17,17,17)",
          "plot_bgcolor": "rgb(17,17,17)",
          "polar": {
           "angularaxis": {
            "gridcolor": "#506784",
            "linecolor": "#506784",
            "ticks": ""
           },
           "bgcolor": "rgb(17,17,17)",
           "radialaxis": {
            "gridcolor": "#506784",
            "linecolor": "#506784",
            "ticks": ""
           }
          },
          "scene": {
           "xaxis": {
            "backgroundcolor": "rgb(17,17,17)",
            "gridcolor": "#506784",
            "gridwidth": 2,
            "linecolor": "#506784",
            "showbackground": true,
            "ticks": "",
            "zerolinecolor": "#C8D4E3"
           },
           "yaxis": {
            "backgroundcolor": "rgb(17,17,17)",
            "gridcolor": "#506784",
            "gridwidth": 2,
            "linecolor": "#506784",
            "showbackground": true,
            "ticks": "",
            "zerolinecolor": "#C8D4E3"
           },
           "zaxis": {
            "backgroundcolor": "rgb(17,17,17)",
            "gridcolor": "#506784",
            "gridwidth": 2,
            "linecolor": "#506784",
            "showbackground": true,
            "ticks": "",
            "zerolinecolor": "#C8D4E3"
           }
          },
          "shapedefaults": {
           "line": {
            "color": "#f2f5fa"
           }
          },
          "sliderdefaults": {
           "bgcolor": "#C8D4E3",
           "bordercolor": "rgb(17,17,17)",
           "borderwidth": 1,
           "tickwidth": 0
          },
          "ternary": {
           "aaxis": {
            "gridcolor": "#506784",
            "linecolor": "#506784",
            "ticks": ""
           },
           "baxis": {
            "gridcolor": "#506784",
            "linecolor": "#506784",
            "ticks": ""
           },
           "bgcolor": "rgb(17,17,17)",
           "caxis": {
            "gridcolor": "#506784",
            "linecolor": "#506784",
            "ticks": ""
           }
          },
          "title": {
           "x": 0.05
          },
          "updatemenudefaults": {
           "bgcolor": "#506784",
           "borderwidth": 0
          },
          "xaxis": {
           "automargin": true,
           "gridcolor": "#283442",
           "linecolor": "#506784",
           "ticks": "",
           "title": {
            "standoff": 15
           },
           "zerolinecolor": "#283442",
           "zerolinewidth": 2
          },
          "yaxis": {
           "automargin": true,
           "gridcolor": "#283442",
           "linecolor": "#506784",
           "ticks": "",
           "title": {
            "standoff": 15
           },
           "zerolinecolor": "#283442",
           "zerolinewidth": 2
          }
         }
        },
        "title": {
         "text": "Avg Time on Ice vs Goals/60min"
        },
        "width": 800,
        "xaxis": {
         "anchor": "y",
         "domain": [
          0,
          1
         ],
         "title": {
          "text": "avgToi"
         }
        },
        "yaxis": {
         "anchor": "x",
         "domain": [
          0,
          1
         ],
         "title": {
          "text": "g/60"
         }
        }
       }
      },
      "image/png": "[encoded data removed]"
     },
     "metadata": {},
     "output_type": "display_data"
    }
   ],
   "source": [
    "px.scatter(\n",
    "    subset,\n",
    "    x=\"avgToi\",\n",
    "    y=\"g/60\",\n",
    "    hover_name=\"playerName\",\n",
    "    hover_data=[\"goals\", \"assists\", \"points\", \"gamesPlayed\", \"team\", \"age\", \"capHit\"],\n",
    "    width=800,\n",
    "    height=500,\n",
    "    title=\"Avg Time on Ice vs Goals/60min\",\n",
    ")"
   ]
  },
  {
   "cell_type": "code",
   "execution_count": 7,
   "id": "bc3ef6a4",
   "metadata": {},
   "outputs": [
    {
     "data": {
      "application/vnd.plotly.v1+json": {
       "config": {
        "plotlyServerURL": "https://plot.ly"
       },
       "data": [
        {
         "customdata": [
          [
           1,
           2,
           3,
           25,
           [
            "Los Angeles Kings"
           ],
           24,
           775000
          ],
          [
           4,
           21,
           25,
           81,
           [
            "Calgary Flames"
           ],
           25,
           1000000
          ],
          [
           7,
           13,
           20,
           57,
           [
            "Colorado Avalanche",
            "San Jose Sharks"
           ],
           25,
           896250
          ],
          [
           4,
           7,
           11,
           81,
           [
            "New York Islanders"
           ],
           25,
           775000
          ],
          [
           3,
           8,
           11,
           78,
           [
            "Boston Bruins"
           ],
           23,
           925000
          ],
          [
           23,
           24,
           47,
           73,
           [
            "Columbus Blue Jackets"
           ],
           24,
           925000
          ],
          [
           6,
           7,
           13,
           63,
           [
            "Seattle Kraken"
           ],
           23,
           859167
          ],
          [
           13,
           14,
           27,
           54,
           [
            "Calgary Flames"
           ],
           23,
           863333
          ],
          [
           6,
           4,
           10,
           35,
           [
            "New York Rangers"
           ],
           22,
           867500
          ],
          [
           11,
           14,
           25,
           73,
           [
            "Dallas Stars"
           ],
           22,
           894167
          ],
          [
           19,
           23,
           42,
           77,
           [
            "Los Angeles Kings"
           ],
           23,
           875000
          ],
          [
           2,
           4,
           6,
           33,
           [
            "Chicago Blackhawks"
           ],
           22,
           912500
          ],
          [
           5,
           7,
           12,
           75,
           [
            "Minnesota Wild",
            "Boston Bruins"
           ],
           22,
           925000
          ],
          [
           8,
           12,
           20,
           60,
           [
            "Tampa Bay Lightning"
           ],
           23,
           775000
          ],
          [
           0,
           1,
           1,
           12,
           [
            "Los Angeles Kings"
           ],
           28,
           775000
          ],
          [
           10,
           8,
           18,
           62,
           [
            "Montréal Canadiens"
           ],
           23,
           897500
          ],
          [
           7,
           12,
           19,
           51,
           [
            "Utah Hockey Club"
           ],
           22,
           925000
          ],
          [
           14,
           24,
           38,
           78,
           [
            "Dallas Stars",
            "Carolina Hurricanes"
           ],
           21,
           814167
          ],
          [
           15,
           16,
           31,
           72,
           [
            "Florida Panthers"
           ],
           22,
           925000
          ],
          [
           4,
           3,
           7,
           50,
           [
            "Los Angeles Kings"
           ],
           22,
           805833
          ],
          [
           5,
           10,
           15,
           62,
           [
            "Nashville Predators"
           ],
           21,
           863333
          ],
          [
           0,
           2,
           2,
           22,
           [
            "New York Rangers"
           ],
           21,
           863333
          ],
          [
           17,
           17,
           34,
           80,
           [
            "Carolina Hurricanes"
           ],
           21,
           905833
          ],
          [
           25,
           40,
           65,
           75,
           [
            "Utah Hockey Club"
           ],
           20,
           950000
          ],
          [
           20,
           24,
           44,
           82,
           [
            "Anaheim Ducks"
           ],
           20,
           950000
          ],
          [
           19,
           18,
           37,
           77,
           [
            "Detroit Red Wings"
           ],
           20,
           918333
          ],
          [
           12,
           14,
           26,
           53,
           [
            "Chicago Blackhawks"
           ],
           20,
           950000
          ],
          [
           8,
           1,
           9,
           39,
           [
            "New York Islanders"
           ],
           25,
           775000
          ],
          [
           23,
           44,
           67,
           82,
           [
            "Chicago Blackhawks"
           ],
           19,
           950000
          ],
          [
           10,
           18,
           28,
           75,
           [
            "Buffalo Sabres"
           ],
           19,
           950000
          ],
          [
           20,
           25,
           45,
           76,
           [
            "Anaheim Ducks"
           ],
           20,
           950000
          ],
          [
           31,
           23,
           54,
           82,
           [
            "Columbus Blue Jackets"
           ],
           20,
           950000
          ],
          [
           18,
           27,
           45,
           74,
           [
            "San Jose Sharks"
           ],
           19,
           950000
          ],
          [
           26,
           37,
           63,
           80,
           [
            "Philadelphia Flyers"
           ],
           20,
           950000
          ],
          [
           25,
           38,
           63,
           70,
           [
            "San Jose Sharks"
           ],
           18,
           975000
          ],
          [
           10,
           25,
           35,
           77,
           [
            "New York Islanders"
           ],
           26,
           950000
          ]
         ],
         "hovertemplate": "<b>%{hovertext}</b><br><br>avgToi=%{x}<br>a/60=%{y}<br>goals=%{customdata[0]}<br>assists=%{customdata[1]}<br>points=%{customdata[2]}<br>gamesPlayed=%{customdata[3]}<br>team=%{customdata[4]}<br>age=%{customdata[5]}<br>capHit=%{customdata[6]}<extra></extra>",
         "hovertext": [
          "Akil Thomas",
          "Martin Pospisil",
          "Nikolai Kovalenko",
          "Kyle MacLean",
          "John Beecher",
          "Dmitri Voronkov",
          "Tye Kartye",
          "Connor Zary",
          "Brett Berard",
          "Mavrik Bourque",
          "Alex Laferriere",
          "Landon Slaggert",
          "Marat Khusnutdinov",
          "Gage Goncalves",
          "Jeff Malott",
          "Emil Heineman",
          "Josh Doan",
          "Logan Stankoven",
          "Mackie Samoskevich",
          "Samuel Helenius",
          "Zachary L'Heureux",
          "Brennan Othmann",
          "Jackson Blake",
          "Logan Cooley",
          "Cutter Gauthier",
          "Marco Kasper",
          "Frank Nazar",
          "Marc Gatcomb",
          "Connor Bedard",
          "Zach Benson",
          "Leo Carlsson",
          "Adam Fantilli",
          "Will Smith",
          "Matvei Michkov",
          "Macklin Celebrini",
          "Maxim Tsyplakov"
         ],
         "legendgroup": "",
         "marker": {
          "color": "#636efa",
          "symbol": "circle"
         },
         "mode": "markers",
         "name": "",
         "orientation": "v",
         "showlegend": false,
         "type": "scatter",
         "x": {
          "bdata": "VVVVVVXVI0CZmZmZmZkrQNpKaiuprShA7+7u7u7uI0AREREREZEmQImIiIiIyDBA3t3d3d1dI0AREREREREwQO/u7u7ubiVA3t3d3d1dKUCJiIiIiIgwQJqZmZmZmShAxdmHz7ArKECamZmZmZkpQBERERERkSRAzczMzMzMJkCJiIiIiAgrQPAKr/AKLy5AIiIiIiKiKkDNzMzMzEwhQJqZmZmZGShA7+7u7u7uI0AzMzMzM7MrQN7d3d3d3TFAzMzMzMxMLEBlZmZmZuYuQLy7u7u7uy9AERERERGRI0CJiIiIiEg0QCIiIiIioi1AvLu7u7s7MEC8u7u7u3sxQDIzMzMzsy9A7+7u7u6uMECJiIiIiMgzQO/u7u7u7i1A",
          "dtype": "f8"
         },
         "xaxis": "x",
         "y": {
          "bdata": "H2j6Hmj63j9aY+u5EQnyP6jy6MB7vvE/oSBj+uil4D94X+4d23PhP0jMxFcrzvI/jhkOYO4H5j+eZfueZfvuP117qxW3eeQ/LBmq0B8I7T8zYKXeDFjxP+wSvC7B6+I/zcRdReGn3T8AAAAAAADuPy10qNpJHt8/1t9x4lO75T9LBhf4HbbwP1KqIxiKkvM/9XxGXCAF8D9cCv1JxqLaP+jHqvgJs+k/31DZ2E6D4T8KYfswX3XtP/GrMZEeqPw//kFL/1/b8z/5Z1GS8QztP7cY1Wro9u8/u1hlXeAgxD+2lQv+dGX5P8YHzfigGe8/0+b1qAF08z+CpWHrh83uP3h/MLJcGfY/uUy05wad+j+FirBmr1f6PxM3OvJT0/Q/",
          "dtype": "f8"
         },
         "yaxis": "y"
        }
       ],
       "layout": {
        "height": 500,
        "legend": {
         "tracegroupgap": 0
        },
        "template": {
         "data": {
          "bar": [
           {
            "error_x": {
             "color": "#f2f5fa"
            },
            "error_y": {
             "color": "#f2f5fa"
            },
            "marker": {
             "line": {
              "color": "rgb(17,17,17)",
              "width": 0.5
             },
             "pattern": {
              "fillmode": "overlay",
              "size": 10,
              "solidity": 0.2
             }
            },
            "type": "bar"
           }
          ],
          "barpolar": [
           {
            "marker": {
             "line": {
              "color": "rgb(17,17,17)",
              "width": 0.5
             },
             "pattern": {
              "fillmode": "overlay",
              "size": 10,
              "solidity": 0.2
             }
            },
            "type": "barpolar"
           }
          ],
          "carpet": [
           {
            "aaxis": {
             "endlinecolor": "#A2B1C6",
             "gridcolor": "#506784",
             "linecolor": "#506784",
             "minorgridcolor": "#506784",
             "startlinecolor": "#A2B1C6"
            },
            "baxis": {
             "endlinecolor": "#A2B1C6",
             "gridcolor": "#506784",
             "linecolor": "#506784",
             "minorgridcolor": "#506784",
             "startlinecolor": "#A2B1C6"
            },
            "type": "carpet"
           }
          ],
          "choropleth": [
           {
            "colorbar": {
             "outlinewidth": 0,
             "ticks": ""
            },
            "type": "choropleth"
           }
          ],
          "contour": [
           {
            "colorbar": {
             "outlinewidth": 0,
             "ticks": ""
            },
            "colorscale": [
             [
              0,
              "#0d0887"
             ],
             [
              0.1111111111111111,
              "#46039f"
             ],
             [
              0.2222222222222222,
              "#7201a8"
             ],
             [
              0.3333333333333333,
              "#9c179e"
             ],
             [
              0.4444444444444444,
              "#bd3786"
             ],
             [
              0.5555555555555556,
              "#d8576b"
             ],
             [
              0.6666666666666666,
              "#ed7953"
             ],
             [
              0.7777777777777778,
              "#fb9f3a"
             ],
             [
              0.8888888888888888,
              "#fdca26"
             ],
             [
              1,
              "#f0f921"
             ]
            ],
            "type": "contour"
           }
          ],
          "contourcarpet": [
           {
            "colorbar": {
             "outlinewidth": 0,
             "ticks": ""
            },
            "type": "contourcarpet"
           }
          ],
          "heatmap": [
           {
            "colorbar": {
             "outlinewidth": 0,
             "ticks": ""
            },
            "colorscale": [
             [
              0,
              "#0d0887"
             ],
             [
              0.1111111111111111,
              "#46039f"
             ],
             [
              0.2222222222222222,
              "#7201a8"
             ],
             [
              0.3333333333333333,
              "#9c179e"
             ],
             [
              0.4444444444444444,
              "#bd3786"
             ],
             [
              0.5555555555555556,
              "#d8576b"
             ],
             [
              0.6666666666666666,
              "#ed7953"
             ],
             [
              0.7777777777777778,
              "#fb9f3a"
             ],
             [
              0.8888888888888888,
              "#fdca26"
             ],
             [
              1,
              "#f0f921"
             ]
            ],
            "type": "heatmap"
           }
          ],
          "histogram": [
           {
            "marker": {
             "pattern": {
              "fillmode": "overlay",
              "size": 10,
              "solidity": 0.2
             }
            },
            "type": "histogram"
           }
          ],
          "histogram2d": [
           {
            "colorbar": {
             "outlinewidth": 0,
             "ticks": ""
            },
            "colorscale": [
             [
              0,
              "#0d0887"
             ],
             [
              0.1111111111111111,
              "#46039f"
             ],
             [
              0.2222222222222222,
              "#7201a8"
             ],
             [
              0.3333333333333333,
              "#9c179e"
             ],
             [
              0.4444444444444444,
              "#bd3786"
             ],
             [
              0.5555555555555556,
              "#d8576b"
             ],
             [
              0.6666666666666666,
              "#ed7953"
             ],
             [
              0.7777777777777778,
              "#fb9f3a"
             ],
             [
              0.8888888888888888,
              "#fdca26"
             ],
             [
              1,
              "#f0f921"
             ]
            ],
            "type": "histogram2d"
           }
          ],
          "histogram2dcontour": [
           {
            "colorbar": {
             "outlinewidth": 0,
             "ticks": ""
            },
            "colorscale": [
             [
              0,
              "#0d0887"
             ],
             [
              0.1111111111111111,
              "#46039f"
             ],
             [
              0.2222222222222222,
              "#7201a8"
             ],
             [
              0.3333333333333333,
              "#9c179e"
             ],
             [
              0.4444444444444444,
              "#bd3786"
             ],
             [
              0.5555555555555556,
              "#d8576b"
             ],
             [
              0.6666666666666666,
              "#ed7953"
             ],
             [
              0.7777777777777778,
              "#fb9f3a"
             ],
             [
              0.8888888888888888,
              "#fdca26"
             ],
             [
              1,
              "#f0f921"
             ]
            ],
            "type": "histogram2dcontour"
           }
          ],
          "mesh3d": [
           {
            "colorbar": {
             "outlinewidth": 0,
             "ticks": ""
            },
            "type": "mesh3d"
           }
          ],
          "parcoords": [
           {
            "line": {
             "colorbar": {
              "outlinewidth": 0,
              "ticks": ""
             }
            },
            "type": "parcoords"
           }
          ],
          "pie": [
           {
            "automargin": true,
            "type": "pie"
           }
          ],
          "scatter": [
           {
            "marker": {
             "line": {
              "color": "#283442"
             }
            },
            "type": "scatter"
           }
          ],
          "scatter3d": [
           {
            "line": {
             "colorbar": {
              "outlinewidth": 0,
              "ticks": ""
             }
            },
            "marker": {
             "colorbar": {
              "outlinewidth": 0,
              "ticks": ""
             }
            },
            "type": "scatter3d"
           }
          ],
          "scattercarpet": [
           {
            "marker": {
             "colorbar": {
              "outlinewidth": 0,
              "ticks": ""
             }
            },
            "type": "scattercarpet"
           }
          ],
          "scattergeo": [
           {
            "marker": {
             "colorbar": {
              "outlinewidth": 0,
              "ticks": ""
             }
            },
            "type": "scattergeo"
           }
          ],
          "scattergl": [
           {
            "marker": {
             "line": {
              "color": "#283442"
             }
            },
            "type": "scattergl"
           }
          ],
          "scattermap": [
           {
            "marker": {
             "colorbar": {
              "outlinewidth": 0,
              "ticks": ""
             }
            },
            "type": "scattermap"
           }
          ],
          "scattermapbox": [
           {
            "marker": {
             "colorbar": {
              "outlinewidth": 0,
              "ticks": ""
             }
            },
            "type": "scattermapbox"
           }
          ],
          "scatterpolar": [
           {
            "marker": {
             "colorbar": {
              "outlinewidth": 0,
              "ticks": ""
             }
            },
            "type": "scatterpolar"
           }
          ],
          "scatterpolargl": [
           {
            "marker": {
             "colorbar": {
              "outlinewidth": 0,
              "ticks": ""
             }
            },
            "type": "scatterpolargl"
           }
          ],
          "scatterternary": [
           {
            "marker": {
             "colorbar": {
              "outlinewidth": 0,
              "ticks": ""
             }
            },
            "type": "scatterternary"
           }
          ],
          "surface": [
           {
            "colorbar": {
             "outlinewidth": 0,
             "ticks": ""
            },
            "colorscale": [
             [
              0,
              "#0d0887"
             ],
             [
              0.1111111111111111,
              "#46039f"
             ],
             [
              0.2222222222222222,
              "#7201a8"
             ],
             [
              0.3333333333333333,
              "#9c179e"
             ],
             [
              0.4444444444444444,
              "#bd3786"
             ],
             [
              0.5555555555555556,
              "#d8576b"
             ],
             [
              0.6666666666666666,
              "#ed7953"
             ],
             [
              0.7777777777777778,
              "#fb9f3a"
             ],
             [
              0.8888888888888888,
              "#fdca26"
             ],
             [
              1,
              "#f0f921"
             ]
            ],
            "type": "surface"
           }
          ],
          "table": [
           {
            "cells": {
             "fill": {
              "color": "#506784"
             },
             "line": {
              "color": "rgb(17,17,17)"
             }
            },
            "header": {
             "fill": {
              "color": "#2a3f5f"
             },
             "line": {
              "color": "rgb(17,17,17)"
             }
            },
            "type": "table"
           }
          ]
         },
         "layout": {
          "annotationdefaults": {
           "arrowcolor": "#f2f5fa",
           "arrowhead": 0,
           "arrowwidth": 1
          },
          "autotypenumbers": "strict",
          "coloraxis": {
           "colorbar": {
            "outlinewidth": 0,
            "ticks": ""
           }
          },
          "colorscale": {
           "diverging": [
            [
             0,
             "#8e0152"
            ],
            [
             0.1,
             "#c51b7d"
            ],
            [
             0.2,
             "#de77ae"
            ],
            [
             0.3,
             "#f1b6da"
            ],
            [
             0.4,
             "#fde0ef"
            ],
            [
             0.5,
             "#f7f7f7"
            ],
            [
             0.6,
             "#e6f5d0"
            ],
            [
             0.7,
             "#b8e186"
            ],
            [
             0.8,
             "#7fbc41"
            ],
            [
             0.9,
             "#4d9221"
            ],
            [
             1,
             "#276419"
            ]
           ],
           "sequential": [
            [
             0,
             "#0d0887"
            ],
            [
             0.1111111111111111,
             "#46039f"
            ],
            [
             0.2222222222222222,
             "#7201a8"
            ],
            [
             0.3333333333333333,
             "#9c179e"
            ],
            [
             0.4444444444444444,
             "#bd3786"
            ],
            [
             0.5555555555555556,
             "#d8576b"
            ],
            [
             0.6666666666666666,
             "#ed7953"
            ],
            [
             0.7777777777777778,
             "#fb9f3a"
            ],
            [
             0.8888888888888888,
             "#fdca26"
            ],
            [
             1,
             "#f0f921"
            ]
           ],
           "sequentialminus": [
            [
             0,
             "#0d0887"
            ],
            [
             0.1111111111111111,
             "#46039f"
            ],
            [
             0.2222222222222222,
             "#7201a8"
            ],
            [
             0.3333333333333333,
             "#9c179e"
            ],
            [
             0.4444444444444444,
             "#bd3786"
            ],
            [
             0.5555555555555556,
             "#d8576b"
            ],
            [
             0.6666666666666666,
             "#ed7953"
            ],
            [
             0.7777777777777778,
             "#fb9f3a"
            ],
            [
             0.8888888888888888,
             "#fdca26"
            ],
            [
             1,
             "#f0f921"
            ]
           ]
          },
          "colorway": [
           "#636efa",
           "#EF553B",
           "#00cc96",
           "#ab63fa",
           "#FFA15A",
           "#19d3f3",
           "#FF6692",
           "#B6E880",
           "#FF97FF",
           "#FECB52"
          ],
          "font": {
           "color": "#f2f5fa"
          },
          "geo": {
           "bgcolor": "rgb(17,17,17)",
           "lakecolor": "rgb(17,17,17)",
           "landcolor": "rgb(17,17,17)",
           "showlakes": true,
           "showland": true,
           "subunitcolor": "#506784"
          },
          "hoverlabel": {
           "align": "left"
          },
          "hovermode": "closest",
          "mapbox": {
           "style": "dark"
          },
          "paper_bgcolor": "rgb(17,17,17)",
          "plot_bgcolor": "rgb(17,17,17)",
          "polar": {
           "angularaxis": {
            "gridcolor": "#506784",
            "linecolor": "#506784",
            "ticks": ""
           },
           "bgcolor": "rgb(17,17,17)",
           "radialaxis": {
            "gridcolor": "#506784",
            "linecolor": "#506784",
            "ticks": ""
           }
          },
          "scene": {
           "xaxis": {
            "backgroundcolor": "rgb(17,17,17)",
            "gridcolor": "#506784",
            "gridwidth": 2,
            "linecolor": "#506784",
            "showbackground": true,
            "ticks": "",
            "zerolinecolor": "#C8D4E3"
           },
           "yaxis": {
            "backgroundcolor": "rgb(17,17,17)",
            "gridcolor": "#506784",
            "gridwidth": 2,
            "linecolor": "#506784",
            "showbackground": true,
            "ticks": "",
            "zerolinecolor": "#C8D4E3"
           },
           "zaxis": {
            "backgroundcolor": "rgb(17,17,17)",
            "gridcolor": "#506784",
            "gridwidth": 2,
            "linecolor": "#506784",
            "showbackground": true,
            "ticks": "",
            "zerolinecolor": "#C8D4E3"
           }
          },
          "shapedefaults": {
           "line": {
            "color": "#f2f5fa"
           }
          },
          "sliderdefaults": {
           "bgcolor": "#C8D4E3",
           "bordercolor": "rgb(17,17,17)",
           "borderwidth": 1,
           "tickwidth": 0
          },
          "ternary": {
           "aaxis": {
            "gridcolor": "#506784",
            "linecolor": "#506784",
            "ticks": ""
           },
           "baxis": {
            "gridcolor": "#506784",
            "linecolor": "#506784",
            "ticks": ""
           },
           "bgcolor": "rgb(17,17,17)",
           "caxis": {
            "gridcolor": "#506784",
            "linecolor": "#506784",
            "ticks": ""
           }
          },
          "title": {
           "x": 0.05
          },
          "updatemenudefaults": {
           "bgcolor": "#506784",
           "borderwidth": 0
          },
          "xaxis": {
           "automargin": true,
           "gridcolor": "#283442",
           "linecolor": "#506784",
           "ticks": "",
           "title": {
            "standoff": 15
           },
           "zerolinecolor": "#283442",
           "zerolinewidth": 2
          },
          "yaxis": {
           "automargin": true,
           "gridcolor": "#283442",
           "linecolor": "#506784",
           "ticks": "",
           "title": {
            "standoff": 15
           },
           "zerolinecolor": "#283442",
           "zerolinewidth": 2
          }
         }
        },
        "title": {
         "text": "Avg Time on Ice vs Assists/60min"
        },
        "width": 800,
        "xaxis": {
         "anchor": "y",
         "domain": [
          0,
          1
         ],
         "title": {
          "text": "avgToi"
         }
        },
        "yaxis": {
         "anchor": "x",
         "domain": [
          0,
          1
         ],
         "title": {
          "text": "a/60"
         }
        }
       }
      },
      "image/png": "[encoded data removed]"
     },
     "metadata": {},
     "output_type": "display_data"
    }
   ],
   "source": [
    "px.scatter(\n",
    "    subset,\n",
    "    x=\"avgToi\",\n",
    "    y=\"a/60\",\n",
    "    hover_name=\"playerName\",\n",
    "    hover_data=[\"goals\", \"assists\", \"points\", \"gamesPlayed\", \"team\", \"age\", \"capHit\"],\n",
    "    width=800,\n",
    "    height=500,\n",
    "    title=\"Avg Time on Ice vs Assists/60min\",\n",
    ")"
   ]
  },
  {
   "cell_type": "code",
   "execution_count": 8,
   "id": "7db817ca",
   "metadata": {},
   "outputs": [
    {
     "data": {
      "application/vnd.plotly.v1+json": {
       "config": {
        "plotlyServerURL": "https://plot.ly"
       },
       "data": [
        {
         "customdata": [
          [
           1,
           2,
           3,
           25,
           [
            "Los Angeles Kings"
           ],
           24,
           775000
          ],
          [
           4,
           21,
           25,
           81,
           [
            "Calgary Flames"
           ],
           25,
           1000000
          ],
          [
           7,
           13,
           20,
           57,
           [
            "Colorado Avalanche",
            "San Jose Sharks"
           ],
           25,
           896250
          ],
          [
           4,
           7,
           11,
           81,
           [
            "New York Islanders"
           ],
           25,
           775000
          ],
          [
           3,
           8,
           11,
           78,
           [
            "Boston Bruins"
           ],
           23,
           925000
          ],
          [
           23,
           24,
           47,
           73,
           [
            "Columbus Blue Jackets"
           ],
           24,
           925000
          ],
          [
           6,
           7,
           13,
           63,
           [
            "Seattle Kraken"
           ],
           23,
           859167
          ],
          [
           13,
           14,
           27,
           54,
           [
            "Calgary Flames"
           ],
           23,
           863333
          ],
          [
           6,
           4,
           10,
           35,
           [
            "New York Rangers"
           ],
           22,
           867500
          ],
          [
           11,
           14,
           25,
           73,
           [
            "Dallas Stars"
           ],
           22,
           894167
          ],
          [
           19,
           23,
           42,
           77,
           [
            "Los Angeles Kings"
           ],
           23,
           875000
          ],
          [
           2,
           4,
           6,
           33,
           [
            "Chicago Blackhawks"
           ],
           22,
           912500
          ],
          [
           5,
           7,
           12,
           75,
           [
            "Minnesota Wild",
            "Boston Bruins"
           ],
           22,
           925000
          ],
          [
           8,
           12,
           20,
           60,
           [
            "Tampa Bay Lightning"
           ],
           23,
           775000
          ],
          [
           0,
           1,
           1,
           12,
           [
            "Los Angeles Kings"
           ],
           28,
           775000
          ],
          [
           10,
           8,
           18,
           62,
           [
            "Montréal Canadiens"
           ],
           23,
           897500
          ],
          [
           7,
           12,
           19,
           51,
           [
            "Utah Hockey Club"
           ],
           22,
           925000
          ],
          [
           14,
           24,
           38,
           78,
           [
            "Dallas Stars",
            "Carolina Hurricanes"
           ],
           21,
           814167
          ],
          [
           15,
           16,
           31,
           72,
           [
            "Florida Panthers"
           ],
           22,
           925000
          ],
          [
           4,
           3,
           7,
           50,
           [
            "Los Angeles Kings"
           ],
           22,
           805833
          ],
          [
           5,
           10,
           15,
           62,
           [
            "Nashville Predators"
           ],
           21,
           863333
          ],
          [
           0,
           2,
           2,
           22,
           [
            "New York Rangers"
           ],
           21,
           863333
          ],
          [
           17,
           17,
           34,
           80,
           [
            "Carolina Hurricanes"
           ],
           21,
           905833
          ],
          [
           25,
           40,
           65,
           75,
           [
            "Utah Hockey Club"
           ],
           20,
           950000
          ],
          [
           20,
           24,
           44,
           82,
           [
            "Anaheim Ducks"
           ],
           20,
           950000
          ],
          [
           19,
           18,
           37,
           77,
           [
            "Detroit Red Wings"
           ],
           20,
           918333
          ],
          [
           12,
           14,
           26,
           53,
           [
            "Chicago Blackhawks"
           ],
           20,
           950000
          ],
          [
           8,
           1,
           9,
           39,
           [
            "New York Islanders"
           ],
           25,
           775000
          ],
          [
           23,
           44,
           67,
           82,
           [
            "Chicago Blackhawks"
           ],
           19,
           950000
          ],
          [
           10,
           18,
           28,
           75,
           [
            "Buffalo Sabres"
           ],
           19,
           950000
          ],
          [
           20,
           25,
           45,
           76,
           [
            "Anaheim Ducks"
           ],
           20,
           950000
          ],
          [
           31,
           23,
           54,
           82,
           [
            "Columbus Blue Jackets"
           ],
           20,
           950000
          ],
          [
           18,
           27,
           45,
           74,
           [
            "San Jose Sharks"
           ],
           19,
           950000
          ],
          [
           26,
           37,
           63,
           80,
           [
            "Philadelphia Flyers"
           ],
           20,
           950000
          ],
          [
           25,
           38,
           63,
           70,
           [
            "San Jose Sharks"
           ],
           18,
           975000
          ],
          [
           10,
           25,
           35,
           77,
           [
            "New York Islanders"
           ],
           26,
           950000
          ]
         ],
         "hovertemplate": "<b>%{hovertext}</b><br><br>avgToi=%{x}<br>p/60=%{y}<br>goals=%{customdata[0]}<br>assists=%{customdata[1]}<br>points=%{customdata[2]}<br>gamesPlayed=%{customdata[3]}<br>team=%{customdata[4]}<br>age=%{customdata[5]}<br>capHit=%{customdata[6]}<extra></extra>",
         "hovertext": [
          "Akil Thomas",
          "Martin Pospisil",
          "Nikolai Kovalenko",
          "Kyle MacLean",
          "John Beecher",
          "Dmitri Voronkov",
          "Tye Kartye",
          "Connor Zary",
          "Brett Berard",
          "Mavrik Bourque",
          "Alex Laferriere",
          "Landon Slaggert",
          "Marat Khusnutdinov",
          "Gage Goncalves",
          "Jeff Malott",
          "Emil Heineman",
          "Josh Doan",
          "Logan Stankoven",
          "Mackie Samoskevich",
          "Samuel Helenius",
          "Zachary L'Heureux",
          "Brennan Othmann",
          "Jackson Blake",
          "Logan Cooley",
          "Cutter Gauthier",
          "Marco Kasper",
          "Frank Nazar",
          "Marc Gatcomb",
          "Connor Bedard",
          "Zach Benson",
          "Leo Carlsson",
          "Adam Fantilli",
          "Will Smith",
          "Matvei Michkov",
          "Macklin Celebrini",
          "Maxim Tsyplakov"
         ],
         "legendgroup": "",
         "marker": {
          "color": "#636efa",
          "symbol": "circle"
         },
         "mode": "markers",
         "name": "",
         "orientation": "v",
         "showlegend": false,
         "type": "scatter",
         "x": {
          "bdata": "VVVVVVXVI0CZmZmZmZkrQNpKaiuprShA7+7u7u7uI0AREREREZEmQImIiIiIyDBA3t3d3d1dI0AREREREREwQO/u7u7ubiVA3t3d3d1dKUCJiIiIiIgwQJqZmZmZmShAxdmHz7ArKECamZmZmZkpQBERERERkSRAzczMzMzMJkCJiIiIiAgrQPAKr/AKLy5AIiIiIiKiKkDNzMzMzEwhQJqZmZmZGShA7+7u7u7uI0AzMzMzM7MrQN7d3d3d3TFAzMzMzMxMLEBlZmZmZuYuQLy7u7u7uy9AERERERGRI0CJiIiIiEg0QCIiIiIioi1AvLu7u7s7MEC8u7u7u3sxQDIzMzMzsy9A7+7u7u6uMECJiIiIiMgzQO/u7u7u7i1A",
          "dtype": "f8"
         },
         "xaxis": "x",
         "y": {
          "bdata": "F847F8475z8VaiTRgnj1Pz068J5vTPs/RzN3iUkp6j9DwydJTf/nP7Gy8MXfaQJA32CfNBR19D/+IeD9IeD9PzVaFtskmPk/VU1zQ9Pr+T+sr7766qv/P2EcGsahYew/+ToHYFNr6T8AAAAAAAD5Py10qNpJHt8/0BvAXr5y+D/3yXlzr3X6P1h4OKZa/f4/G5LIsu4J/z/ANqerPBPvP+4VgHpHRvM/31DZ2E6D4T8KYfswX3X9P7Rb+NWYSAdAfvwEqsIzAkBrjgyBhtv9P6oEDxpqrv0/0wMSafyk9j/NF+AS+VUDQAwGg8FgMPg/WOl2fgGCAUAl4T68dhQCQOQU0+l3agJAbY2/m0eoBkBnSi36KNYFQLXmt+zbJ/0/",
          "dtype": "f8"
         },
         "yaxis": "y"
        }
       ],
       "layout": {
        "height": 500,
        "legend": {
         "tracegroupgap": 0
        },
        "template": {
         "data": {
          "bar": [
           {
            "error_x": {
             "color": "#f2f5fa"
            },
            "error_y": {
             "color": "#f2f5fa"
            },
            "marker": {
             "line": {
              "color": "rgb(17,17,17)",
              "width": 0.5
             },
             "pattern": {
              "fillmode": "overlay",
              "size": 10,
              "solidity": 0.2
             }
            },
            "type": "bar"
           }
          ],
          "barpolar": [
           {
            "marker": {
             "line": {
              "color": "rgb(17,17,17)",
              "width": 0.5
             },
             "pattern": {
              "fillmode": "overlay",
              "size": 10,
              "solidity": 0.2
             }
            },
            "type": "barpolar"
           }
          ],
          "carpet": [
           {
            "aaxis": {
             "endlinecolor": "#A2B1C6",
             "gridcolor": "#506784",
             "linecolor": "#506784",
             "minorgridcolor": "#506784",
             "startlinecolor": "#A2B1C6"
            },
            "baxis": {
             "endlinecolor": "#A2B1C6",
             "gridcolor": "#506784",
             "linecolor": "#506784",
             "minorgridcolor": "#506784",
             "startlinecolor": "#A2B1C6"
            },
            "type": "carpet"
           }
          ],
          "choropleth": [
           {
            "colorbar": {
             "outlinewidth": 0,
             "ticks": ""
            },
            "type": "choropleth"
           }
          ],
          "contour": [
           {
            "colorbar": {
             "outlinewidth": 0,
             "ticks": ""
            },
            "colorscale": [
             [
              0,
              "#0d0887"
             ],
             [
              0.1111111111111111,
              "#46039f"
             ],
             [
              0.2222222222222222,
              "#7201a8"
             ],
             [
              0.3333333333333333,
              "#9c179e"
             ],
             [
              0.4444444444444444,
              "#bd3786"
             ],
             [
              0.5555555555555556,
              "#d8576b"
             ],
             [
              0.6666666666666666,
              "#ed7953"
             ],
             [
              0.7777777777777778,
              "#fb9f3a"
             ],
             [
              0.8888888888888888,
              "#fdca26"
             ],
             [
              1,
              "#f0f921"
             ]
            ],
            "type": "contour"
           }
          ],
          "contourcarpet": [
           {
            "colorbar": {
             "outlinewidth": 0,
             "ticks": ""
            },
            "type": "contourcarpet"
           }
          ],
          "heatmap": [
           {
            "colorbar": {
             "outlinewidth": 0,
             "ticks": ""
            },
            "colorscale": [
             [
              0,
              "#0d0887"
             ],
             [
              0.1111111111111111,
              "#46039f"
             ],
             [
              0.2222222222222222,
              "#7201a8"
             ],
             [
              0.3333333333333333,
              "#9c179e"
             ],
             [
              0.4444444444444444,
              "#bd3786"
             ],
             [
              0.5555555555555556,
              "#d8576b"
             ],
             [
              0.6666666666666666,
              "#ed7953"
             ],
             [
              0.7777777777777778,
              "#fb9f3a"
             ],
             [
              0.8888888888888888,
              "#fdca26"
             ],
             [
              1,
              "#f0f921"
             ]
            ],
            "type": "heatmap"
           }
          ],
          "histogram": [
           {
            "marker": {
             "pattern": {
              "fillmode": "overlay",
              "size": 10,
              "solidity": 0.2
             }
            },
            "type": "histogram"
           }
          ],
          "histogram2d": [
           {
            "colorbar": {
             "outlinewidth": 0,
             "ticks": ""
            },
            "colorscale": [
             [
              0,
              "#0d0887"
             ],
             [
              0.1111111111111111,
              "#46039f"
             ],
             [
              0.2222222222222222,
              "#7201a8"
             ],
             [
              0.3333333333333333,
              "#9c179e"
             ],
             [
              0.4444444444444444,
              "#bd3786"
             ],
             [
              0.5555555555555556,
              "#d8576b"
             ],
             [
              0.6666666666666666,
              "#ed7953"
             ],
             [
              0.7777777777777778,
              "#fb9f3a"
             ],
             [
              0.8888888888888888,
              "#fdca26"
             ],
             [
              1,
              "#f0f921"
             ]
            ],
            "type": "histogram2d"
           }
          ],
          "histogram2dcontour": [
           {
            "colorbar": {
             "outlinewidth": 0,
             "ticks": ""
            },
            "colorscale": [
             [
              0,
              "#0d0887"
             ],
             [
              0.1111111111111111,
              "#46039f"
             ],
             [
              0.2222222222222222,
              "#7201a8"
             ],
             [
              0.3333333333333333,
              "#9c179e"
             ],
             [
              0.4444444444444444,
              "#bd3786"
             ],
             [
              0.5555555555555556,
              "#d8576b"
             ],
             [
              0.6666666666666666,
              "#ed7953"
             ],
             [
              0.7777777777777778,
              "#fb9f3a"
             ],
             [
              0.8888888888888888,
              "#fdca26"
             ],
             [
              1,
              "#f0f921"
             ]
            ],
            "type": "histogram2dcontour"
           }
          ],
          "mesh3d": [
           {
            "colorbar": {
             "outlinewidth": 0,
             "ticks": ""
            },
            "type": "mesh3d"
           }
          ],
          "parcoords": [
           {
            "line": {
             "colorbar": {
              "outlinewidth": 0,
              "ticks": ""
             }
            },
            "type": "parcoords"
           }
          ],
          "pie": [
           {
            "automargin": true,
            "type": "pie"
           }
          ],
          "scatter": [
           {
            "marker": {
             "line": {
              "color": "#283442"
             }
            },
            "type": "scatter"
           }
          ],
          "scatter3d": [
           {
            "line": {
             "colorbar": {
              "outlinewidth": 0,
              "ticks": ""
             }
            },
            "marker": {
             "colorbar": {
              "outlinewidth": 0,
              "ticks": ""
             }
            },
            "type": "scatter3d"
           }
          ],
          "scattercarpet": [
           {
            "marker": {
             "colorbar": {
              "outlinewidth": 0,
              "ticks": ""
             }
            },
            "type": "scattercarpet"
           }
          ],
          "scattergeo": [
           {
            "marker": {
             "colorbar": {
              "outlinewidth": 0,
              "ticks": ""
             }
            },
            "type": "scattergeo"
           }
          ],
          "scattergl": [
           {
            "marker": {
             "line": {
              "color": "#283442"
             }
            },
            "type": "scattergl"
           }
          ],
          "scattermap": [
           {
            "marker": {
             "colorbar": {
              "outlinewidth": 0,
              "ticks": ""
             }
            },
            "type": "scattermap"
           }
          ],
          "scattermapbox": [
           {
            "marker": {
             "colorbar": {
              "outlinewidth": 0,
              "ticks": ""
             }
            },
            "type": "scattermapbox"
           }
          ],
          "scatterpolar": [
           {
            "marker": {
             "colorbar": {
              "outlinewidth": 0,
              "ticks": ""
             }
            },
            "type": "scatterpolar"
           }
          ],
          "scatterpolargl": [
           {
            "marker": {
             "colorbar": {
              "outlinewidth": 0,
              "ticks": ""
             }
            },
            "type": "scatterpolargl"
           }
          ],
          "scatterternary": [
           {
            "marker": {
             "colorbar": {
              "outlinewidth": 0,
              "ticks": ""
             }
            },
            "type": "scatterternary"
           }
          ],
          "surface": [
           {
            "colorbar": {
             "outlinewidth": 0,
             "ticks": ""
            },
            "colorscale": [
             [
              0,
              "#0d0887"
             ],
             [
              0.1111111111111111,
              "#46039f"
             ],
             [
              0.2222222222222222,
              "#7201a8"
             ],
             [
              0.3333333333333333,
              "#9c179e"
             ],
             [
              0.4444444444444444,
              "#bd3786"
             ],
             [
              0.5555555555555556,
              "#d8576b"
             ],
             [
              0.6666666666666666,
              "#ed7953"
             ],
             [
              0.7777777777777778,
              "#fb9f3a"
             ],
             [
              0.8888888888888888,
              "#fdca26"
             ],
             [
              1,
              "#f0f921"
             ]
            ],
            "type": "surface"
           }
          ],
          "table": [
           {
            "cells": {
             "fill": {
              "color": "#506784"
             },
             "line": {
              "color": "rgb(17,17,17)"
             }
            },
            "header": {
             "fill": {
              "color": "#2a3f5f"
             },
             "line": {
              "color": "rgb(17,17,17)"
             }
            },
            "type": "table"
           }
          ]
         },
         "layout": {
          "annotationdefaults": {
           "arrowcolor": "#f2f5fa",
           "arrowhead": 0,
           "arrowwidth": 1
          },
          "autotypenumbers": "strict",
          "coloraxis": {
           "colorbar": {
            "outlinewidth": 0,
            "ticks": ""
           }
          },
          "colorscale": {
           "diverging": [
            [
             0,
             "#8e0152"
            ],
            [
             0.1,
             "#c51b7d"
            ],
            [
             0.2,
             "#de77ae"
            ],
            [
             0.3,
             "#f1b6da"
            ],
            [
             0.4,
             "#fde0ef"
            ],
            [
             0.5,
             "#f7f7f7"
            ],
            [
             0.6,
             "#e6f5d0"
            ],
            [
             0.7,
             "#b8e186"
            ],
            [
             0.8,
             "#7fbc41"
            ],
            [
             0.9,
             "#4d9221"
            ],
            [
             1,
             "#276419"
            ]
           ],
           "sequential": [
            [
             0,
             "#0d0887"
            ],
            [
             0.1111111111111111,
             "#46039f"
            ],
            [
             0.2222222222222222,
             "#7201a8"
            ],
            [
             0.3333333333333333,
             "#9c179e"
            ],
            [
             0.4444444444444444,
             "#bd3786"
            ],
            [
             0.5555555555555556,
             "#d8576b"
            ],
            [
             0.6666666666666666,
             "#ed7953"
            ],
            [
             0.7777777777777778,
             "#fb9f3a"
            ],
            [
             0.8888888888888888,
             "#fdca26"
            ],
            [
             1,
             "#f0f921"
            ]
           ],
           "sequentialminus": [
            [
             0,
             "#0d0887"
            ],
            [
             0.1111111111111111,
             "#46039f"
            ],
            [
             0.2222222222222222,
             "#7201a8"
            ],
            [
             0.3333333333333333,
             "#9c179e"
            ],
            [
             0.4444444444444444,
             "#bd3786"
            ],
            [
             0.5555555555555556,
             "#d8576b"
            ],
            [
             0.6666666666666666,
             "#ed7953"
            ],
            [
             0.7777777777777778,
             "#fb9f3a"
            ],
            [
             0.8888888888888888,
             "#fdca26"
            ],
            [
             1,
             "#f0f921"
            ]
           ]
          },
          "colorway": [
           "#636efa",
           "#EF553B",
           "#00cc96",
           "#ab63fa",
           "#FFA15A",
           "#19d3f3",
           "#FF6692",
           "#B6E880",
           "#FF97FF",
           "#FECB52"
          ],
          "font": {
           "color": "#f2f5fa"
          },
          "geo": {
           "bgcolor": "rgb(17,17,17)",
           "lakecolor": "rgb(17,17,17)",
           "landcolor": "rgb(17,17,17)",
           "showlakes": true,
           "showland": true,
           "subunitcolor": "#506784"
          },
          "hoverlabel": {
           "align": "left"
          },
          "hovermode": "closest",
          "mapbox": {
           "style": "dark"
          },
          "paper_bgcolor": "rgb(17,17,17)",
          "plot_bgcolor": "rgb(17,17,17)",
          "polar": {
           "angularaxis": {
            "gridcolor": "#506784",
            "linecolor": "#506784",
            "ticks": ""
           },
           "bgcolor": "rgb(17,17,17)",
           "radialaxis": {
            "gridcolor": "#506784",
            "linecolor": "#506784",
            "ticks": ""
           }
          },
          "scene": {
           "xaxis": {
            "backgroundcolor": "rgb(17,17,17)",
            "gridcolor": "#506784",
            "gridwidth": 2,
            "linecolor": "#506784",
            "showbackground": true,
            "ticks": "",
            "zerolinecolor": "#C8D4E3"
           },
           "yaxis": {
            "backgroundcolor": "rgb(17,17,17)",
            "gridcolor": "#506784",
            "gridwidth": 2,
            "linecolor": "#506784",
            "showbackground": true,
            "ticks": "",
            "zerolinecolor": "#C8D4E3"
           },
           "zaxis": {
            "backgroundcolor": "rgb(17,17,17)",
            "gridcolor": "#506784",
            "gridwidth": 2,
            "linecolor": "#506784",
            "showbackground": true,
            "ticks": "",
            "zerolinecolor": "#C8D4E3"
           }
          },
          "shapedefaults": {
           "line": {
            "color": "#f2f5fa"
           }
          },
          "sliderdefaults": {
           "bgcolor": "#C8D4E3",
           "bordercolor": "rgb(17,17,17)",
           "borderwidth": 1,
           "tickwidth": 0
          },
          "ternary": {
           "aaxis": {
            "gridcolor": "#506784",
            "linecolor": "#506784",
            "ticks": ""
           },
           "baxis": {
            "gridcolor": "#506784",
            "linecolor": "#506784",
            "ticks": ""
           },
           "bgcolor": "rgb(17,17,17)",
           "caxis": {
            "gridcolor": "#506784",
            "linecolor": "#506784",
            "ticks": ""
           }
          },
          "title": {
           "x": 0.05
          },
          "updatemenudefaults": {
           "bgcolor": "#506784",
           "borderwidth": 0
          },
          "xaxis": {
           "automargin": true,
           "gridcolor": "#283442",
           "linecolor": "#506784",
           "ticks": "",
           "title": {
            "standoff": 15
           },
           "zerolinecolor": "#283442",
           "zerolinewidth": 2
          },
          "yaxis": {
           "automargin": true,
           "gridcolor": "#283442",
           "linecolor": "#506784",
           "ticks": "",
           "title": {
            "standoff": 15
           },
           "zerolinecolor": "#283442",
           "zerolinewidth": 2
          }
         }
        },
        "title": {
         "text": "Avg Time on Ice vs Points/60min"
        },
        "width": 800,
        "xaxis": {
         "anchor": "y",
         "domain": [
          0,
          1
         ],
         "title": {
          "text": "avgToi"
         }
        },
        "yaxis": {
         "anchor": "x",
         "domain": [
          0,
          1
         ],
         "title": {
          "text": "p/60"
         }
        }
       }
      },
      "image/png": "[encoded data removed]"
     },
     "metadata": {},
     "output_type": "display_data"
    }
   ],
   "source": [
    "px.scatter(\n",
    "    subset,\n",
    "    x=\"avgToi\",\n",
    "    y=\"p/60\",\n",
    "    hover_name=\"playerName\",\n",
    "    hover_data=[\"goals\", \"assists\", \"points\", \"gamesPlayed\", \"team\", \"age\", \"capHit\"],\n",
    "    width=800,\n",
    "    height=500,\n",
    "    title=\"Avg Time on Ice vs Points/60min\",\n",
    ")"
   ]
  },
  {
   "cell_type": "markdown",
   "id": "6857e93a",
   "metadata": {},
   "source": [
    "Just looking at goals/60 now, and split by years of experience."
   ]
  },
  {
   "cell_type": "code",
   "execution_count": 9,
   "id": "f404e497",
   "metadata": {},
   "outputs": [
    {
     "data": {
      "application/vnd.plotly.v1+json": {
       "config": {
        "plotlyServerURL": "https://plot.ly"
       },
       "data": [
        {
         "alignmentgroup": "True",
         "box": {
          "visible": false
         },
         "customdata": [
          [
           1,
           2,
           3,
           25,
           [
            "Los Angeles Kings"
           ],
           24,
           775000
          ],
          [
           4,
           21,
           25,
           81,
           [
            "Calgary Flames"
           ],
           25,
           1000000
          ],
          [
           7,
           13,
           20,
           57,
           [
            "Colorado Avalanche",
            "San Jose Sharks"
           ],
           25,
           896250
          ],
          [
           4,
           7,
           11,
           81,
           [
            "New York Islanders"
           ],
           25,
           775000
          ],
          [
           3,
           8,
           11,
           78,
           [
            "Boston Bruins"
           ],
           23,
           925000
          ],
          [
           23,
           24,
           47,
           73,
           [
            "Columbus Blue Jackets"
           ],
           24,
           925000
          ],
          [
           6,
           7,
           13,
           63,
           [
            "Seattle Kraken"
           ],
           23,
           859167
          ],
          [
           13,
           14,
           27,
           54,
           [
            "Calgary Flames"
           ],
           23,
           863333
          ],
          [
           6,
           4,
           10,
           35,
           [
            "New York Rangers"
           ],
           22,
           867500
          ],
          [
           11,
           14,
           25,
           73,
           [
            "Dallas Stars"
           ],
           22,
           894167
          ],
          [
           19,
           23,
           42,
           77,
           [
            "Los Angeles Kings"
           ],
           23,
           875000
          ],
          [
           2,
           4,
           6,
           33,
           [
            "Chicago Blackhawks"
           ],
           22,
           912500
          ],
          [
           5,
           7,
           12,
           75,
           [
            "Minnesota Wild",
            "Boston Bruins"
           ],
           22,
           925000
          ],
          [
           8,
           12,
           20,
           60,
           [
            "Tampa Bay Lightning"
           ],
           23,
           775000
          ],
          [
           0,
           1,
           1,
           12,
           [
            "Los Angeles Kings"
           ],
           28,
           775000
          ],
          [
           10,
           8,
           18,
           62,
           [
            "Montréal Canadiens"
           ],
           23,
           897500
          ],
          [
           7,
           12,
           19,
           51,
           [
            "Utah Hockey Club"
           ],
           22,
           925000
          ],
          [
           14,
           24,
           38,
           78,
           [
            "Dallas Stars",
            "Carolina Hurricanes"
           ],
           21,
           814167
          ],
          [
           15,
           16,
           31,
           72,
           [
            "Florida Panthers"
           ],
           22,
           925000
          ],
          [
           4,
           3,
           7,
           50,
           [
            "Los Angeles Kings"
           ],
           22,
           805833
          ],
          [
           5,
           10,
           15,
           62,
           [
            "Nashville Predators"
           ],
           21,
           863333
          ],
          [
           0,
           2,
           2,
           22,
           [
            "New York Rangers"
           ],
           21,
           863333
          ],
          [
           17,
           17,
           34,
           80,
           [
            "Carolina Hurricanes"
           ],
           21,
           905833
          ],
          [
           25,
           40,
           65,
           75,
           [
            "Utah Hockey Club"
           ],
           20,
           950000
          ],
          [
           20,
           24,
           44,
           82,
           [
            "Anaheim Ducks"
           ],
           20,
           950000
          ],
          [
           19,
           18,
           37,
           77,
           [
            "Detroit Red Wings"
           ],
           20,
           918333
          ],
          [
           12,
           14,
           26,
           53,
           [
            "Chicago Blackhawks"
           ],
           20,
           950000
          ],
          [
           8,
           1,
           9,
           39,
           [
            "New York Islanders"
           ],
           25,
           775000
          ],
          [
           23,
           44,
           67,
           82,
           [
            "Chicago Blackhawks"
           ],
           19,
           950000
          ],
          [
           10,
           18,
           28,
           75,
           [
            "Buffalo Sabres"
           ],
           19,
           950000
          ],
          [
           20,
           25,
           45,
           76,
           [
            "Anaheim Ducks"
           ],
           20,
           950000
          ],
          [
           31,
           23,
           54,
           82,
           [
            "Columbus Blue Jackets"
           ],
           20,
           950000
          ],
          [
           18,
           27,
           45,
           74,
           [
            "San Jose Sharks"
           ],
           19,
           950000
          ],
          [
           26,
           37,
           63,
           80,
           [
            "Philadelphia Flyers"
           ],
           20,
           950000
          ],
          [
           25,
           38,
           63,
           70,
           [
            "San Jose Sharks"
           ],
           18,
           975000
          ],
          [
           10,
           25,
           35,
           77,
           [
            "New York Islanders"
           ],
           26,
           950000
          ]
         ],
         "hovertemplate": "<b>%{hovertext}</b><br><br>yoe=%{x}<br>g/60=%{y}<br>goals=%{customdata[0]}<br>assists=%{customdata[1]}<br>points=%{customdata[2]}<br>gamesPlayed=%{customdata[3]}<br>team=%{customdata[4]}<br>age=%{customdata[5]}<br>capHit=%{customdata[6]}<extra></extra>",
         "hovertext": [
          "Akil Thomas",
          "Martin Pospisil",
          "Nikolai Kovalenko",
          "Kyle MacLean",
          "John Beecher",
          "Dmitri Voronkov",
          "Tye Kartye",
          "Connor Zary",
          "Brett Berard",
          "Mavrik Bourque",
          "Alex Laferriere",
          "Landon Slaggert",
          "Marat Khusnutdinov",
          "Gage Goncalves",
          "Jeff Malott",
          "Emil Heineman",
          "Josh Doan",
          "Logan Stankoven",
          "Mackie Samoskevich",
          "Samuel Helenius",
          "Zachary L'Heureux",
          "Brennan Othmann",
          "Jackson Blake",
          "Logan Cooley",
          "Cutter Gauthier",
          "Marco Kasper",
          "Frank Nazar",
          "Marc Gatcomb",
          "Connor Bedard",
          "Zach Benson",
          "Leo Carlsson",
          "Adam Fantilli",
          "Will Smith",
          "Matvei Michkov",
          "Macklin Celebrini",
          "Maxim Tsyplakov"
         ],
         "legendgroup": "",
         "marker": {
          "color": "#636efa"
         },
         "name": "",
         "offsetgroup": "",
         "orientation": "v",
         "points": "all",
         "scalegroup": "True",
         "showlegend": false,
         "type": "violin",
         "x": {
          "bdata": "AgIBAgICAgIBAgICAgICAgICAgEBAgICAgICAQICAgIBAQEB",
          "dtype": "i1"
         },
         "x0": " ",
         "xaxis": "x",
         "y": {
          "bdata": "H2j6Hmj6zj/eNci5iHvLPyuPDrznG+M/SyUoHsEG0z8yj+WsyC3KPxqZHDSUBfI/MagwCTri4j9c3sRc3sTsPww5gaCStu4/foE8tobP5j/wnjI4vKfsP+wSvC7B69I/JbGwesUu1T8AAAAAAADkPwAAAAAAAAAAy1cO2ygq6z9Yh8X2In/jPwqcKRyh1eY/SyoErZwJ7j+TsaiG2cHhP+jHqvgJs9k/AAAAAAAAAAAKYfswX3XtP3YLvxoT6fE//7a+VCWM8D/ctMdvG6ruP53wSMnrZes/u1hlXeAg9D/KM2lP+ozqP1IEOYogR+E/uNfvpwIg7z+L78yCKcL0P59U60Imd+0/Ic7KT4iz8j9KCqqNolTxP0Nf+/QPqeA/",
          "dtype": "f8"
         },
         "y0": " ",
         "yaxis": "y"
        }
       ],
       "layout": {
        "legend": {
         "tracegroupgap": 0
        },
        "margin": {
         "t": 60
        },
        "template": {
         "data": {
          "bar": [
           {
            "error_x": {
             "color": "#f2f5fa"
            },
            "error_y": {
             "color": "#f2f5fa"
            },
            "marker": {
             "line": {
              "color": "rgb(17,17,17)",
              "width": 0.5
             },
             "pattern": {
              "fillmode": "overlay",
              "size": 10,
              "solidity": 0.2
             }
            },
            "type": "bar"
           }
          ],
          "barpolar": [
           {
            "marker": {
             "line": {
              "color": "rgb(17,17,17)",
              "width": 0.5
             },
             "pattern": {
              "fillmode": "overlay",
              "size": 10,
              "solidity": 0.2
             }
            },
            "type": "barpolar"
           }
          ],
          "carpet": [
           {
            "aaxis": {
             "endlinecolor": "#A2B1C6",
             "gridcolor": "#506784",
             "linecolor": "#506784",
             "minorgridcolor": "#506784",
             "startlinecolor": "#A2B1C6"
            },
            "baxis": {
             "endlinecolor": "#A2B1C6",
             "gridcolor": "#506784",
             "linecolor": "#506784",
             "minorgridcolor": "#506784",
             "startlinecolor": "#A2B1C6"
            },
            "type": "carpet"
           }
          ],
          "choropleth": [
           {
            "colorbar": {
             "outlinewidth": 0,
             "ticks": ""
            },
            "type": "choropleth"
           }
          ],
          "contour": [
           {
            "colorbar": {
             "outlinewidth": 0,
             "ticks": ""
            },
            "colorscale": [
             [
              0,
              "#0d0887"
             ],
             [
              0.1111111111111111,
              "#46039f"
             ],
             [
              0.2222222222222222,
              "#7201a8"
             ],
             [
              0.3333333333333333,
              "#9c179e"
             ],
             [
              0.4444444444444444,
              "#bd3786"
             ],
             [
              0.5555555555555556,
              "#d8576b"
             ],
             [
              0.6666666666666666,
              "#ed7953"
             ],
             [
              0.7777777777777778,
              "#fb9f3a"
             ],
             [
              0.8888888888888888,
              "#fdca26"
             ],
             [
              1,
              "#f0f921"
             ]
            ],
            "type": "contour"
           }
          ],
          "contourcarpet": [
           {
            "colorbar": {
             "outlinewidth": 0,
             "ticks": ""
            },
            "type": "contourcarpet"
           }
          ],
          "heatmap": [
           {
            "colorbar": {
             "outlinewidth": 0,
             "ticks": ""
            },
            "colorscale": [
             [
              0,
              "#0d0887"
             ],
             [
              0.1111111111111111,
              "#46039f"
             ],
             [
              0.2222222222222222,
              "#7201a8"
             ],
             [
              0.3333333333333333,
              "#9c179e"
             ],
             [
              0.4444444444444444,
              "#bd3786"
             ],
             [
              0.5555555555555556,
              "#d8576b"
             ],
             [
              0.6666666666666666,
              "#ed7953"
             ],
             [
              0.7777777777777778,
              "#fb9f3a"
             ],
             [
              0.8888888888888888,
              "#fdca26"
             ],
             [
              1,
              "#f0f921"
             ]
            ],
            "type": "heatmap"
           }
          ],
          "histogram": [
           {
            "marker": {
             "pattern": {
              "fillmode": "overlay",
              "size": 10,
              "solidity": 0.2
             }
            },
            "type": "histogram"
           }
          ],
          "histogram2d": [
           {
            "colorbar": {
             "outlinewidth": 0,
             "ticks": ""
            },
            "colorscale": [
             [
              0,
              "#0d0887"
             ],
             [
              0.1111111111111111,
              "#46039f"
             ],
             [
              0.2222222222222222,
              "#7201a8"
             ],
             [
              0.3333333333333333,
              "#9c179e"
             ],
             [
              0.4444444444444444,
              "#bd3786"
             ],
             [
              0.5555555555555556,
              "#d8576b"
             ],
             [
              0.6666666666666666,
              "#ed7953"
             ],
             [
              0.7777777777777778,
              "#fb9f3a"
             ],
             [
              0.8888888888888888,
              "#fdca26"
             ],
             [
              1,
              "#f0f921"
             ]
            ],
            "type": "histogram2d"
           }
          ],
          "histogram2dcontour": [
           {
            "colorbar": {
             "outlinewidth": 0,
             "ticks": ""
            },
            "colorscale": [
             [
              0,
              "#0d0887"
             ],
             [
              0.1111111111111111,
              "#46039f"
             ],
             [
              0.2222222222222222,
              "#7201a8"
             ],
             [
              0.3333333333333333,
              "#9c179e"
             ],
             [
              0.4444444444444444,
              "#bd3786"
             ],
             [
              0.5555555555555556,
              "#d8576b"
             ],
             [
              0.6666666666666666,
              "#ed7953"
             ],
             [
              0.7777777777777778,
              "#fb9f3a"
             ],
             [
              0.8888888888888888,
              "#fdca26"
             ],
             [
              1,
              "#f0f921"
             ]
            ],
            "type": "histogram2dcontour"
           }
          ],
          "mesh3d": [
           {
            "colorbar": {
             "outlinewidth": 0,
             "ticks": ""
            },
            "type": "mesh3d"
           }
          ],
          "parcoords": [
           {
            "line": {
             "colorbar": {
              "outlinewidth": 0,
              "ticks": ""
             }
            },
            "type": "parcoords"
           }
          ],
          "pie": [
           {
            "automargin": true,
            "type": "pie"
           }
          ],
          "scatter": [
           {
            "marker": {
             "line": {
              "color": "#283442"
             }
            },
            "type": "scatter"
           }
          ],
          "scatter3d": [
           {
            "line": {
             "colorbar": {
              "outlinewidth": 0,
              "ticks": ""
             }
            },
            "marker": {
             "colorbar": {
              "outlinewidth": 0,
              "ticks": ""
             }
            },
            "type": "scatter3d"
           }
          ],
          "scattercarpet": [
           {
            "marker": {
             "colorbar": {
              "outlinewidth": 0,
              "ticks": ""
             }
            },
            "type": "scattercarpet"
           }
          ],
          "scattergeo": [
           {
            "marker": {
             "colorbar": {
              "outlinewidth": 0,
              "ticks": ""
             }
            },
            "type": "scattergeo"
           }
          ],
          "scattergl": [
           {
            "marker": {
             "line": {
              "color": "#283442"
             }
            },
            "type": "scattergl"
           }
          ],
          "scattermap": [
           {
            "marker": {
             "colorbar": {
              "outlinewidth": 0,
              "ticks": ""
             }
            },
            "type": "scattermap"
           }
          ],
          "scattermapbox": [
           {
            "marker": {
             "colorbar": {
              "outlinewidth": 0,
              "ticks": ""
             }
            },
            "type": "scattermapbox"
           }
          ],
          "scatterpolar": [
           {
            "marker": {
             "colorbar": {
              "outlinewidth": 0,
              "ticks": ""
             }
            },
            "type": "scatterpolar"
           }
          ],
          "scatterpolargl": [
           {
            "marker": {
             "colorbar": {
              "outlinewidth": 0,
              "ticks": ""
             }
            },
            "type": "scatterpolargl"
           }
          ],
          "scatterternary": [
           {
            "marker": {
             "colorbar": {
              "outlinewidth": 0,
              "ticks": ""
             }
            },
            "type": "scatterternary"
           }
          ],
          "surface": [
           {
            "colorbar": {
             "outlinewidth": 0,
             "ticks": ""
            },
            "colorscale": [
             [
              0,
              "#0d0887"
             ],
             [
              0.1111111111111111,
              "#46039f"
             ],
             [
              0.2222222222222222,
              "#7201a8"
             ],
             [
              0.3333333333333333,
              "#9c179e"
             ],
             [
              0.4444444444444444,
              "#bd3786"
             ],
             [
              0.5555555555555556,
              "#d8576b"
             ],
             [
              0.6666666666666666,
              "#ed7953"
             ],
             [
              0.7777777777777778,
              "#fb9f3a"
             ],
             [
              0.8888888888888888,
              "#fdca26"
             ],
             [
              1,
              "#f0f921"
             ]
            ],
            "type": "surface"
           }
          ],
          "table": [
           {
            "cells": {
             "fill": {
              "color": "#506784"
             },
             "line": {
              "color": "rgb(17,17,17)"
             }
            },
            "header": {
             "fill": {
              "color": "#2a3f5f"
             },
             "line": {
              "color": "rgb(17,17,17)"
             }
            },
            "type": "table"
           }
          ]
         },
         "layout": {
          "annotationdefaults": {
           "arrowcolor": "#f2f5fa",
           "arrowhead": 0,
           "arrowwidth": 1
          },
          "autotypenumbers": "strict",
          "coloraxis": {
           "colorbar": {
            "outlinewidth": 0,
            "ticks": ""
           }
          },
          "colorscale": {
           "diverging": [
            [
             0,
             "#8e0152"
            ],
            [
             0.1,
             "#c51b7d"
            ],
            [
             0.2,
             "#de77ae"
            ],
            [
             0.3,
             "#f1b6da"
            ],
            [
             0.4,
             "#fde0ef"
            ],
            [
             0.5,
             "#f7f7f7"
            ],
            [
             0.6,
             "#e6f5d0"
            ],
            [
             0.7,
             "#b8e186"
            ],
            [
             0.8,
             "#7fbc41"
            ],
            [
             0.9,
             "#4d9221"
            ],
            [
             1,
             "#276419"
            ]
           ],
           "sequential": [
            [
             0,
             "#0d0887"
            ],
            [
             0.1111111111111111,
             "#46039f"
            ],
            [
             0.2222222222222222,
             "#7201a8"
            ],
            [
             0.3333333333333333,
             "#9c179e"
            ],
            [
             0.4444444444444444,
             "#bd3786"
            ],
            [
             0.5555555555555556,
             "#d8576b"
            ],
            [
             0.6666666666666666,
             "#ed7953"
            ],
            [
             0.7777777777777778,
             "#fb9f3a"
            ],
            [
             0.8888888888888888,
             "#fdca26"
            ],
            [
             1,
             "#f0f921"
            ]
           ],
           "sequentialminus": [
            [
             0,
             "#0d0887"
            ],
            [
             0.1111111111111111,
             "#46039f"
            ],
            [
             0.2222222222222222,
             "#7201a8"
            ],
            [
             0.3333333333333333,
             "#9c179e"
            ],
            [
             0.4444444444444444,
             "#bd3786"
            ],
            [
             0.5555555555555556,
             "#d8576b"
            ],
            [
             0.6666666666666666,
             "#ed7953"
            ],
            [
             0.7777777777777778,
             "#fb9f3a"
            ],
            [
             0.8888888888888888,
             "#fdca26"
            ],
            [
             1,
             "#f0f921"
            ]
           ]
          },
          "colorway": [
           "#636efa",
           "#EF553B",
           "#00cc96",
           "#ab63fa",
           "#FFA15A",
           "#19d3f3",
           "#FF6692",
           "#B6E880",
           "#FF97FF",
           "#FECB52"
          ],
          "font": {
           "color": "#f2f5fa"
          },
          "geo": {
           "bgcolor": "rgb(17,17,17)",
           "lakecolor": "rgb(17,17,17)",
           "landcolor": "rgb(17,17,17)",
           "showlakes": true,
           "showland": true,
           "subunitcolor": "#506784"
          },
          "hoverlabel": {
           "align": "left"
          },
          "hovermode": "closest",
          "mapbox": {
           "style": "dark"
          },
          "paper_bgcolor": "rgb(17,17,17)",
          "plot_bgcolor": "rgb(17,17,17)",
          "polar": {
           "angularaxis": {
            "gridcolor": "#506784",
            "linecolor": "#506784",
            "ticks": ""
           },
           "bgcolor": "rgb(17,17,17)",
           "radialaxis": {
            "gridcolor": "#506784",
            "linecolor": "#506784",
            "ticks": ""
           }
          },
          "scene": {
           "xaxis": {
            "backgroundcolor": "rgb(17,17,17)",
            "gridcolor": "#506784",
            "gridwidth": 2,
            "linecolor": "#506784",
            "showbackground": true,
            "ticks": "",
            "zerolinecolor": "#C8D4E3"
           },
           "yaxis": {
            "backgroundcolor": "rgb(17,17,17)",
            "gridcolor": "#506784",
            "gridwidth": 2,
            "linecolor": "#506784",
            "showbackground": true,
            "ticks": "",
            "zerolinecolor": "#C8D4E3"
           },
           "zaxis": {
            "backgroundcolor": "rgb(17,17,17)",
            "gridcolor": "#506784",
            "gridwidth": 2,
            "linecolor": "#506784",
            "showbackground": true,
            "ticks": "",
            "zerolinecolor": "#C8D4E3"
           }
          },
          "shapedefaults": {
           "line": {
            "color": "#f2f5fa"
           }
          },
          "sliderdefaults": {
           "bgcolor": "#C8D4E3",
           "bordercolor": "rgb(17,17,17)",
           "borderwidth": 1,
           "tickwidth": 0
          },
          "ternary": {
           "aaxis": {
            "gridcolor": "#506784",
            "linecolor": "#506784",
            "ticks": ""
           },
           "baxis": {
            "gridcolor": "#506784",
            "linecolor": "#506784",
            "ticks": ""
           },
           "bgcolor": "rgb(17,17,17)",
           "caxis": {
            "gridcolor": "#506784",
            "linecolor": "#506784",
            "ticks": ""
           }
          },
          "title": {
           "x": 0.05
          },
          "updatemenudefaults": {
           "bgcolor": "#506784",
           "borderwidth": 0
          },
          "xaxis": {
           "automargin": true,
           "gridcolor": "#283442",
           "linecolor": "#506784",
           "ticks": "",
           "title": {
            "standoff": 15
           },
           "zerolinecolor": "#283442",
           "zerolinewidth": 2
          },
          "yaxis": {
           "automargin": true,
           "gridcolor": "#283442",
           "linecolor": "#506784",
           "ticks": "",
           "title": {
            "standoff": 15
           },
           "zerolinecolor": "#283442",
           "zerolinewidth": 2
          }
         }
        },
        "violinmode": "group",
        "xaxis": {
         "anchor": "y",
         "domain": [
          0,
          1
         ],
         "title": {
          "text": "yoe"
         }
        },
        "yaxis": {
         "anchor": "x",
         "domain": [
          0,
          1
         ],
         "title": {
          "text": "g/60"
         }
        }
       }
      },
      "image/png": "[encoded data removed]"
     },
     "metadata": {},
     "output_type": "display_data"
    }
   ],
   "source": [
    "fig = px.violin(\n",
    "    subset,\n",
    "    x=\"yoe\",\n",
    "    y=\"g/60\",\n",
    "    points=\"all\",\n",
    "    hover_name=\"playerName\",\n",
    "    hover_data=[\"goals\", \"assists\", \"points\", \"gamesPlayed\", \"team\", \"age\", \"capHit\"]\n",
    ")\n",
    "fig.show()"
   ]
  },
  {
   "cell_type": "code",
   "execution_count": 21,
   "id": "3767f8ae",
   "metadata": {},
   "outputs": [
    {
     "name": "stderr",
     "output_type": "stream",
     "text": [
      "[NbConvertApp] Converting notebook breakout-candidates.ipynb to html\n",
      "[NbConvertApp] WARNING | Alternative text is missing on 5 image(s).\n",
      "[NbConvertApp] Writing 495135 bytes to breakout-candidates.html\n"
     ]
    },
    {
     "data": {
      "text/plain": [
       "0"
      ]
     },
     "execution_count": 21,
     "metadata": {},
     "output_type": "execute_result"
    }
   ],
   "source": [
    "os.system(\"jupyter nbconvert --to html breakout-candidates.ipynb\")"
   ]
  },
  {
   "cell_type": "code",
   "execution_count": null,
   "id": "0219d337",
   "metadata": {},
   "outputs": [],
   "source": []
  }
 ],
 "metadata": {
  "kernelspec": {
   "display_name": "3.13.2",
   "language": "python",
   "name": "python3"
  },
  "language_info": {
   "codemirror_mode": {
    "name": "ipython",
    "version": 3
   },
   "file_extension": ".py",
   "mimetype": "text/x-python",
   "name": "python",
   "nbconvert_exporter": "python",
   "pygments_lexer": "ipython3",
   "version": "3.13.2"
  }
 },
 "nbformat": 4,
 "nbformat_minor": 5
}
