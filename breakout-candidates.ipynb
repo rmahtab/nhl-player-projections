{
 "cells": [
  {
   "cell_type": "code",
   "execution_count": 31,
   "id": "c472b430",
   "metadata": {},
   "outputs": [],
   "source": [
    "from common import *\n",
    "import statsmodels.api as sm"
   ]
  },
  {
   "cell_type": "code",
   "execution_count": 2,
   "id": "4f34d8ef",
   "metadata": {},
   "outputs": [],
   "source": [
    "# Choose position to filter down to\n",
    "POSITION = \"forwards\"\n",
    "\n",
    "# Load player historical season stats and salary cap data\n",
    "hdf = load_historical_stats(POSITION)\n",
    "hdf = hdf[hdf[\"season\"] == \"20242025\"]\n",
    "cdf = load_cap_data()"
   ]
  },
  {
   "cell_type": "markdown",
   "id": "f5b1e9a5",
   "metadata": {},
   "source": [
    "Join the two datasets on player name, which is not ideal but ok for now.\n",
    "\n",
    "Also, I did not ingest cap data for all players (e.g. players on IR/LTIR).\n",
    "\n",
    "And some players have names spelled differently across the two datasets, so they are not joined.\n",
    "\n",
    "Filtering these cases out for now."
   ]
  },
  {
   "cell_type": "code",
   "execution_count": 3,
   "id": "6fbcde14",
   "metadata": {},
   "outputs": [],
   "source": [
    "df = hdf.merge(cdf, on=\"playerName\", how=\"left\")\n",
    "df = df[~df[\"capHit\"].isna()]"
   ]
  },
  {
   "cell_type": "markdown",
   "id": "11ff0a85",
   "metadata": {},
   "source": [
    "Lets check the distribution of average time on ice. Not really using the results of this graph anywhere, but just wanted to check the distribution of this feature.\n",
    "\n",
    "Hypothesis: Players with low average time on ice (but strong scoring stats) are good breakout candidates."
   ]
  },
  {
   "cell_type": "code",
   "execution_count": 112,
   "id": "d38da270",
   "metadata": {},
   "outputs": [
    {
     "data": {
      "application/vnd.plotly.v1+json": {
       "config": {
        "plotlyServerURL": "https://plot.ly"
       },
       "data": [
        {
         "bingroup": "x",
         "hovertemplate": "Avg Time on Ice=%{x}<br>count=%{y}<extra></extra>",
         "legendgroup": "",
         "marker": {
          "color": "#636efa",
          "pattern": {
           "shape": ""
          }
         },
         "name": "",
         "orientation": "v",
         "showlegend": false,
         "type": "histogram",
         "x": {
          "bdata": "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",
          "dtype": "f8"
         },
         "xaxis": "x",
         "yaxis": "y"
        }
       ],
       "layout": {
        "barmode": "relative",
        "height": 500,
        "legend": {
         "tracegroupgap": 0
        },
        "template": {
         "data": {
          "bar": [
           {
            "error_x": {
             "color": "#f2f5fa"
            },
            "error_y": {
             "color": "#f2f5fa"
            },
            "marker": {
             "line": {
              "color": "rgb(17,17,17)",
              "width": 0.5
             },
             "pattern": {
              "fillmode": "overlay",
              "size": 10,
              "solidity": 0.2
             }
            },
            "type": "bar"
           }
          ],
          "barpolar": [
           {
            "marker": {
             "line": {
              "color": "rgb(17,17,17)",
              "width": 0.5
             },
             "pattern": {
              "fillmode": "overlay",
              "size": 10,
              "solidity": 0.2
             }
            },
            "type": "barpolar"
           }
          ],
          "carpet": [
           {
            "aaxis": {
             "endlinecolor": "#A2B1C6",
             "gridcolor": "#506784",
             "linecolor": "#506784",
             "minorgridcolor": "#506784",
             "startlinecolor": "#A2B1C6"
            },
            "baxis": {
             "endlinecolor": "#A2B1C6",
             "gridcolor": "#506784",
             "linecolor": "#506784",
             "minorgridcolor": "#506784",
             "startlinecolor": "#A2B1C6"
            },
            "type": "carpet"
           }
          ],
          "choropleth": [
           {
            "colorbar": {
             "outlinewidth": 0,
             "ticks": ""
            },
            "type": "choropleth"
           }
          ],
          "contour": [
           {
            "colorbar": {
             "outlinewidth": 0,
             "ticks": ""
            },
            "colorscale": [
             [
              0,
              "#0d0887"
             ],
             [
              0.1111111111111111,
              "#46039f"
             ],
             [
              0.2222222222222222,
              "#7201a8"
             ],
             [
              0.3333333333333333,
              "#9c179e"
             ],
             [
              0.4444444444444444,
              "#bd3786"
             ],
             [
              0.5555555555555556,
              "#d8576b"
             ],
             [
              0.6666666666666666,
              "#ed7953"
             ],
             [
              0.7777777777777778,
              "#fb9f3a"
             ],
             [
              0.8888888888888888,
              "#fdca26"
             ],
             [
              1,
              "#f0f921"
             ]
            ],
            "type": "contour"
           }
          ],
          "contourcarpet": [
           {
            "colorbar": {
             "outlinewidth": 0,
             "ticks": ""
            },
            "type": "contourcarpet"
           }
          ],
          "heatmap": [
           {
            "colorbar": {
             "outlinewidth": 0,
             "ticks": ""
            },
            "colorscale": [
             [
              0,
              "#0d0887"
             ],
             [
              0.1111111111111111,
              "#46039f"
             ],
             [
              0.2222222222222222,
              "#7201a8"
             ],
             [
              0.3333333333333333,
              "#9c179e"
             ],
             [
              0.4444444444444444,
              "#bd3786"
             ],
             [
              0.5555555555555556,
              "#d8576b"
             ],
             [
              0.6666666666666666,
              "#ed7953"
             ],
             [
              0.7777777777777778,
              "#fb9f3a"
             ],
             [
              0.8888888888888888,
              "#fdca26"
             ],
             [
              1,
              "#f0f921"
             ]
            ],
            "type": "heatmap"
           }
          ],
          "histogram": [
           {
            "marker": {
             "pattern": {
              "fillmode": "overlay",
              "size": 10,
              "solidity": 0.2
             }
            },
            "type": "histogram"
           }
          ],
          "histogram2d": [
           {
            "colorbar": {
             "outlinewidth": 0,
             "ticks": ""
            },
            "colorscale": [
             [
              0,
              "#0d0887"
             ],
             [
              0.1111111111111111,
              "#46039f"
             ],
             [
              0.2222222222222222,
              "#7201a8"
             ],
             [
              0.3333333333333333,
              "#9c179e"
             ],
             [
              0.4444444444444444,
              "#bd3786"
             ],
             [
              0.5555555555555556,
              "#d8576b"
             ],
             [
              0.6666666666666666,
              "#ed7953"
             ],
             [
              0.7777777777777778,
              "#fb9f3a"
             ],
             [
              0.8888888888888888,
              "#fdca26"
             ],
             [
              1,
              "#f0f921"
             ]
            ],
            "type": "histogram2d"
           }
          ],
          "histogram2dcontour": [
           {
            "colorbar": {
             "outlinewidth": 0,
             "ticks": ""
            },
            "colorscale": [
             [
              0,
              "#0d0887"
             ],
             [
              0.1111111111111111,
              "#46039f"
             ],
             [
              0.2222222222222222,
              "#7201a8"
             ],
             [
              0.3333333333333333,
              "#9c179e"
             ],
             [
              0.4444444444444444,
              "#bd3786"
             ],
             [
              0.5555555555555556,
              "#d8576b"
             ],
             [
              0.6666666666666666,
              "#ed7953"
             ],
             [
              0.7777777777777778,
              "#fb9f3a"
             ],
             [
              0.8888888888888888,
              "#fdca26"
             ],
             [
              1,
              "#f0f921"
             ]
            ],
            "type": "histogram2dcontour"
           }
          ],
          "mesh3d": [
           {
            "colorbar": {
             "outlinewidth": 0,
             "ticks": ""
            },
            "type": "mesh3d"
           }
          ],
          "parcoords": [
           {
            "line": {
             "colorbar": {
              "outlinewidth": 0,
              "ticks": ""
             }
            },
            "type": "parcoords"
           }
          ],
          "pie": [
           {
            "automargin": true,
            "type": "pie"
           }
          ],
          "scatter": [
           {
            "marker": {
             "line": {
              "color": "#283442"
             }
            },
            "type": "scatter"
           }
          ],
          "scatter3d": [
           {
            "line": {
             "colorbar": {
              "outlinewidth": 0,
              "ticks": ""
             }
            },
            "marker": {
             "colorbar": {
              "outlinewidth": 0,
              "ticks": ""
             }
            },
            "type": "scatter3d"
           }
          ],
          "scattercarpet": [
           {
            "marker": {
             "colorbar": {
              "outlinewidth": 0,
              "ticks": ""
             }
            },
            "type": "scattercarpet"
           }
          ],
          "scattergeo": [
           {
            "marker": {
             "colorbar": {
              "outlinewidth": 0,
              "ticks": ""
             }
            },
            "type": "scattergeo"
           }
          ],
          "scattergl": [
           {
            "marker": {
             "line": {
              "color": "#283442"
             }
            },
            "type": "scattergl"
           }
          ],
          "scattermap": [
           {
            "marker": {
             "colorbar": {
              "outlinewidth": 0,
              "ticks": ""
             }
            },
            "type": "scattermap"
           }
          ],
          "scattermapbox": [
           {
            "marker": {
             "colorbar": {
              "outlinewidth": 0,
              "ticks": ""
             }
            },
            "type": "scattermapbox"
           }
          ],
          "scatterpolar": [
           {
            "marker": {
             "colorbar": {
              "outlinewidth": 0,
              "ticks": ""
             }
            },
            "type": "scatterpolar"
           }
          ],
          "scatterpolargl": [
           {
            "marker": {
             "colorbar": {
              "outlinewidth": 0,
              "ticks": ""
             }
            },
            "type": "scatterpolargl"
           }
          ],
          "scatterternary": [
           {
            "marker": {
             "colorbar": {
              "outlinewidth": 0,
              "ticks": ""
             }
            },
            "type": "scatterternary"
           }
          ],
          "surface": [
           {
            "colorbar": {
             "outlinewidth": 0,
             "ticks": ""
            },
            "colorscale": [
             [
              0,
              "#0d0887"
             ],
             [
              0.1111111111111111,
              "#46039f"
             ],
             [
              0.2222222222222222,
              "#7201a8"
             ],
             [
              0.3333333333333333,
              "#9c179e"
             ],
             [
              0.4444444444444444,
              "#bd3786"
             ],
             [
              0.5555555555555556,
              "#d8576b"
             ],
             [
              0.6666666666666666,
              "#ed7953"
             ],
             [
              0.7777777777777778,
              "#fb9f3a"
             ],
             [
              0.8888888888888888,
              "#fdca26"
             ],
             [
              1,
              "#f0f921"
             ]
            ],
            "type": "surface"
           }
          ],
          "table": [
           {
            "cells": {
             "fill": {
              "color": "#506784"
             },
             "line": {
              "color": "rgb(17,17,17)"
             }
            },
            "header": {
             "fill": {
              "color": "#2a3f5f"
             },
             "line": {
              "color": "rgb(17,17,17)"
             }
            },
            "type": "table"
           }
          ]
         },
         "layout": {
          "annotationdefaults": {
           "arrowcolor": "#f2f5fa",
           "arrowhead": 0,
           "arrowwidth": 1
          },
          "autotypenumbers": "strict",
          "coloraxis": {
           "colorbar": {
            "outlinewidth": 0,
            "ticks": ""
           }
          },
          "colorscale": {
           "diverging": [
            [
             0,
             "#8e0152"
            ],
            [
             0.1,
             "#c51b7d"
            ],
            [
             0.2,
             "#de77ae"
            ],
            [
             0.3,
             "#f1b6da"
            ],
            [
             0.4,
             "#fde0ef"
            ],
            [
             0.5,
             "#f7f7f7"
            ],
            [
             0.6,
             "#e6f5d0"
            ],
            [
             0.7,
             "#b8e186"
            ],
            [
             0.8,
             "#7fbc41"
            ],
            [
             0.9,
             "#4d9221"
            ],
            [
             1,
             "#276419"
            ]
           ],
           "sequential": [
            [
             0,
             "#0d0887"
            ],
            [
             0.1111111111111111,
             "#46039f"
            ],
            [
             0.2222222222222222,
             "#7201a8"
            ],
            [
             0.3333333333333333,
             "#9c179e"
            ],
            [
             0.4444444444444444,
             "#bd3786"
            ],
            [
             0.5555555555555556,
             "#d8576b"
            ],
            [
             0.6666666666666666,
             "#ed7953"
            ],
            [
             0.7777777777777778,
             "#fb9f3a"
            ],
            [
             0.8888888888888888,
             "#fdca26"
            ],
            [
             1,
             "#f0f921"
            ]
           ],
           "sequentialminus": [
            [
             0,
             "#0d0887"
            ],
            [
             0.1111111111111111,
             "#46039f"
            ],
            [
             0.2222222222222222,
             "#7201a8"
            ],
            [
             0.3333333333333333,
             "#9c179e"
            ],
            [
             0.4444444444444444,
             "#bd3786"
            ],
            [
             0.5555555555555556,
             "#d8576b"
            ],
            [
             0.6666666666666666,
             "#ed7953"
            ],
            [
             0.7777777777777778,
             "#fb9f3a"
            ],
            [
             0.8888888888888888,
             "#fdca26"
            ],
            [
             1,
             "#f0f921"
            ]
           ]
          },
          "colorway": [
           "#636efa",
           "#EF553B",
           "#00cc96",
           "#ab63fa",
           "#FFA15A",
           "#19d3f3",
           "#FF6692",
           "#B6E880",
           "#FF97FF",
           "#FECB52"
          ],
          "font": {
           "color": "#f2f5fa"
          },
          "geo": {
           "bgcolor": "rgb(17,17,17)",
           "lakecolor": "rgb(17,17,17)",
           "landcolor": "rgb(17,17,17)",
           "showlakes": true,
           "showland": true,
           "subunitcolor": "#506784"
          },
          "hoverlabel": {
           "align": "left"
          },
          "hovermode": "closest",
          "mapbox": {
           "style": "dark"
          },
          "paper_bgcolor": "rgb(17,17,17)",
          "plot_bgcolor": "rgb(17,17,17)",
          "polar": {
           "angularaxis": {
            "gridcolor": "#506784",
            "linecolor": "#506784",
            "ticks": ""
           },
           "bgcolor": "rgb(17,17,17)",
           "radialaxis": {
            "gridcolor": "#506784",
            "linecolor": "#506784",
            "ticks": ""
           }
          },
          "scene": {
           "xaxis": {
            "backgroundcolor": "rgb(17,17,17)",
            "gridcolor": "#506784",
            "gridwidth": 2,
            "linecolor": "#506784",
            "showbackground": true,
            "ticks": "",
            "zerolinecolor": "#C8D4E3"
           },
           "yaxis": {
            "backgroundcolor": "rgb(17,17,17)",
            "gridcolor": "#506784",
            "gridwidth": 2,
            "linecolor": "#506784",
            "showbackground": true,
            "ticks": "",
            "zerolinecolor": "#C8D4E3"
           },
           "zaxis": {
            "backgroundcolor": "rgb(17,17,17)",
            "gridcolor": "#506784",
            "gridwidth": 2,
            "linecolor": "#506784",
            "showbackground": true,
            "ticks": "",
            "zerolinecolor": "#C8D4E3"
           }
          },
          "shapedefaults": {
           "line": {
            "color": "#f2f5fa"
           }
          },
          "sliderdefaults": {
           "bgcolor": "#C8D4E3",
           "bordercolor": "rgb(17,17,17)",
           "borderwidth": 1,
           "tickwidth": 0
          },
          "ternary": {
           "aaxis": {
            "gridcolor": "#506784",
            "linecolor": "#506784",
            "ticks": ""
           },
           "baxis": {
            "gridcolor": "#506784",
            "linecolor": "#506784",
            "ticks": ""
           },
           "bgcolor": "rgb(17,17,17)",
           "caxis": {
            "gridcolor": "#506784",
            "linecolor": "#506784",
            "ticks": ""
           }
          },
          "title": {
           "x": 0.05
          },
          "updatemenudefaults": {
           "bgcolor": "#506784",
           "borderwidth": 0
          },
          "xaxis": {
           "automargin": true,
           "gridcolor": "#283442",
           "linecolor": "#506784",
           "ticks": "",
           "title": {
            "standoff": 15
           },
           "zerolinecolor": "#283442",
           "zerolinewidth": 2
          },
          "yaxis": {
           "automargin": true,
           "gridcolor": "#283442",
           "linecolor": "#506784",
           "ticks": "",
           "title": {
            "standoff": 15
           },
           "zerolinecolor": "#283442",
           "zerolinewidth": 2
          }
         }
        },
        "title": {
         "text": "Distribution of Avg Time on Ice"
        },
        "width": 800,
        "xaxis": {
         "anchor": "y",
         "domain": [
          0,
          1
         ],
         "title": {
          "text": "Avg Time on Ice"
         }
        },
        "yaxis": {
         "anchor": "x",
         "domain": [
          0,
          1
         ],
         "title": {
          "text": "count"
         }
        }
       }
      },
      "image/png": "[encoded data removed]"
     },
     "metadata": {},
     "output_type": "display_data"
    }
   ],
   "source": [
    "px.histogram(\n",
    "    df,\n",
    "    x=\"avgToi\",\n",
    "    width=800,\n",
    "    height=500,\n",
    "    title=\"Distribution of Avg Time on Ice\",\n",
    "    labels={\"avgToi\": \"Avg Time on Ice\"},\n",
    ")"
   ]
  },
  {
   "cell_type": "markdown",
   "id": "e2ad45dc",
   "metadata": {},
   "source": [
    "Lets filter down to players with 1-2 years of experience in the NHL who played at least 10 games this past season. Looks like there are 36 players who fit the bill."
   ]
  },
  {
   "cell_type": "code",
   "execution_count": 79,
   "id": "df896222",
   "metadata": {},
   "outputs": [
    {
     "data": {
      "text/plain": [
       "(36, 27)"
      ]
     },
     "execution_count": 79,
     "metadata": {},
     "output_type": "execute_result"
    }
   ],
   "source": [
    "MIN_GAMES = 10\n",
    "subset = df[\n",
    "    (df[\"yoe\"] <= 2)\n",
    "    & (df[\"gamesPlayed\"] >= MIN_GAMES)\n",
    "    # & (df[\"avgToi\"] <= 12)\n",
    "    # & (df[\"age\"] <= 25)\n",
    "]\n",
    "subset.shape"
   ]
  },
  {
   "cell_type": "markdown",
   "id": "5f0b52e5",
   "metadata": {},
   "source": [
    "Curious what goal/assist/point scoring rates are for these players vs their average ice time.\n",
    "\n",
    "Lets also adjust for avgToi. The x/60 metric looks at x metric divided by total ice time. But dividing by avgToi gives us more info.\n",
    "\n",
    "For example, Player A and Player B may both have 0.5 g/60. Lets say both Player A and Player B have 5 goals for a total of 600 min played. Howver, Player A may have 60 games played for an avgToi of 10 minutes per game, while Player B has 30 games played for an avgToi of 20 minutes per game. They both scored the same amount of goals in the same amount of total ice time. However, my interpretation is that Player B was given more slack by the coach (20 minutes per game instead of just 10) while Player A had much less room for error. The difference in number of games could be due to injury or AHL call-ups. If two players have the same per/60 stats, I want to rank players who had less room for error higher than players who had more room for error. This is because I want to idenitfy players who could post increased stats (i.e. breakout) if they are given more ice time. Young players who can deliver under scrutiny and limited ice time are should be well-positioned to blossom given more leeway.\n",
    "\n",
    "Thus, I divide the metrics by avgToi to create an adjusted metric. I then produce a ranking of the players based on that specific adjusted metric. I will do this for all metrics and then add up the rankings per player. The players with the lowest rank sums, should be the best all around scorer within the criteria of this subset of players adjusted for ice time."
   ]
  },
  {
   "cell_type": "code",
   "execution_count": 105,
   "id": "60baf0fc",
   "metadata": {},
   "outputs": [
    {
     "data": {
      "application/vnd.plotly.v1+json": {
       "config": {
        "plotlyServerURL": "https://plot.ly"
       },
       "data": [
        {
         "customdata": [
          [
           1,
           2,
           3,
           25,
           [
            "Los Angeles Kings"
           ],
           24,
           775000
          ],
          [
           4,
           21,
           25,
           81,
           [
            "Calgary Flames"
           ],
           25,
           1000000
          ],
          [
           7,
           13,
           20,
           57,
           [
            "Colorado Avalanche",
            "San Jose Sharks"
           ],
           25,
           896250
          ],
          [
           4,
           7,
           11,
           81,
           [
            "New York Islanders"
           ],
           25,
           775000
          ],
          [
           3,
           8,
           11,
           78,
           [
            "Boston Bruins"
           ],
           23,
           925000
          ],
          [
           23,
           24,
           47,
           73,
           [
            "Columbus Blue Jackets"
           ],
           24,
           925000
          ],
          [
           6,
           7,
           13,
           63,
           [
            "Seattle Kraken"
           ],
           23,
           859167
          ],
          [
           13,
           14,
           27,
           54,
           [
            "Calgary Flames"
           ],
           23,
           863333
          ],
          [
           6,
           4,
           10,
           35,
           [
            "New York Rangers"
           ],
           22,
           867500
          ],
          [
           11,
           14,
           25,
           73,
           [
            "Dallas Stars"
           ],
           22,
           894167
          ],
          [
           19,
           23,
           42,
           77,
           [
            "Los Angeles Kings"
           ],
           23,
           875000
          ],
          [
           2,
           4,
           6,
           33,
           [
            "Chicago Blackhawks"
           ],
           22,
           912500
          ],
          [
           5,
           7,
           12,
           75,
           [
            "Minnesota Wild",
            "Boston Bruins"
           ],
           22,
           925000
          ],
          [
           8,
           12,
           20,
           60,
           [
            "Tampa Bay Lightning"
           ],
           23,
           775000
          ],
          [
           0,
           1,
           1,
           12,
           [
            "Los Angeles Kings"
           ],
           28,
           775000
          ],
          [
           10,
           8,
           18,
           62,
           [
            "Montréal Canadiens"
           ],
           23,
           897500
          ],
          [
           7,
           12,
           19,
           51,
           [
            "Utah Hockey Club"
           ],
           22,
           925000
          ],
          [
           14,
           24,
           38,
           78,
           [
            "Dallas Stars",
            "Carolina Hurricanes"
           ],
           21,
           814167
          ],
          [
           15,
           16,
           31,
           72,
           [
            "Florida Panthers"
           ],
           22,
           925000
          ],
          [
           4,
           3,
           7,
           50,
           [
            "Los Angeles Kings"
           ],
           22,
           805833
          ],
          [
           5,
           10,
           15,
           62,
           [
            "Nashville Predators"
           ],
           21,
           863333
          ],
          [
           0,
           2,
           2,
           22,
           [
            "New York Rangers"
           ],
           21,
           863333
          ],
          [
           17,
           17,
           34,
           80,
           [
            "Carolina Hurricanes"
           ],
           21,
           905833
          ],
          [
           25,
           40,
           65,
           75,
           [
            "Utah Hockey Club"
           ],
           20,
           950000
          ],
          [
           20,
           24,
           44,
           82,
           [
            "Anaheim Ducks"
           ],
           20,
           950000
          ],
          [
           19,
           18,
           37,
           77,
           [
            "Detroit Red Wings"
           ],
           20,
           918333
          ],
          [
           12,
           14,
           26,
           53,
           [
            "Chicago Blackhawks"
           ],
           20,
           950000
          ],
          [
           8,
           1,
           9,
           39,
           [
            "New York Islanders"
           ],
           25,
           775000
          ],
          [
           23,
           44,
           67,
           82,
           [
            "Chicago Blackhawks"
           ],
           19,
           950000
          ],
          [
           10,
           18,
           28,
           75,
           [
            "Buffalo Sabres"
           ],
           19,
           950000
          ],
          [
           20,
           25,
           45,
           76,
           [
            "Anaheim Ducks"
           ],
           20,
           950000
          ],
          [
           31,
           23,
           54,
           82,
           [
            "Columbus Blue Jackets"
           ],
           20,
           950000
          ],
          [
           18,
           27,
           45,
           74,
           [
            "San Jose Sharks"
           ],
           19,
           950000
          ],
          [
           26,
           37,
           63,
           80,
           [
            "Philadelphia Flyers"
           ],
           20,
           950000
          ],
          [
           25,
           38,
           63,
           70,
           [
            "San Jose Sharks"
           ],
           18,
           975000
          ],
          [
           10,
           25,
           35,
           77,
           [
            "New York Islanders"
           ],
           26,
           950000
          ]
         ],
         "hovertemplate": "<b>%{hovertext}</b><br><br>avgToi=%{x}<br>g/60=%{y}<br>goals=%{customdata[0]}<br>assists=%{customdata[1]}<br>points=%{customdata[2]}<br>gamesPlayed=%{customdata[3]}<br>team=%{customdata[4]}<br>age=%{customdata[5]}<br>capHit=%{customdata[6]}<extra></extra>",
         "hovertext": [
          "Akil Thomas",
          "Martin Pospisil",
          "Nikolai Kovalenko",
          "Kyle MacLean",
          "John Beecher",
          "Dmitri Voronkov",
          "Tye Kartye",
          "Connor Zary",
          "Brett Berard",
          "Mavrik Bourque",
          "Alex Laferriere",
          "Landon Slaggert",
          "Marat Khusnutdinov",
          "Gage Goncalves",
          "Jeff Malott",
          "Emil Heineman",
          "Josh Doan",
          "Logan Stankoven",
          "Mackie Samoskevich",
          "Samuel Helenius",
          "Zachary L'Heureux",
          "Brennan Othmann",
          "Jackson Blake",
          "Logan Cooley",
          "Cutter Gauthier",
          "Marco Kasper",
          "Frank Nazar",
          "Marc Gatcomb",
          "Connor Bedard",
          "Zach Benson",
          "Leo Carlsson",
          "Adam Fantilli",
          "Will Smith",
          "Matvei Michkov",
          "Macklin Celebrini",
          "Maxim Tsyplakov"
         ],
         "legendgroup": "",
         "marker": {
          "color": "#636efa",
          "symbol": "circle"
         },
         "mode": "markers",
         "name": "",
         "orientation": "v",
         "showlegend": false,
         "type": "scatter",
         "x": {
          "bdata": "VVVVVVXVI0CZmZmZmZkrQNpKaiuprShA7+7u7u7uI0AREREREZEmQImIiIiIyDBA3t3d3d1dI0AREREREREwQO/u7u7ubiVA3t3d3d1dKUCJiIiIiIgwQJqZmZmZmShAxdmHz7ArKECamZmZmZkpQBERERERkSRAzczMzMzMJkCJiIiIiAgrQPAKr/AKLy5AIiIiIiKiKkDNzMzMzEwhQJqZmZmZGShA7+7u7u7uI0AzMzMzM7MrQN7d3d3d3TFAzMzMzMxMLEBlZmZmZuYuQLy7u7u7uy9AERERERGRI0CJiIiIiEg0QCIiIiIioi1AvLu7u7s7MEC8u7u7u3sxQDIzMzMzsy9A7+7u7u6uMECJiIiIiMgzQO/u7u7u7i1A",
          "dtype": "f8"
         },
         "xaxis": "x",
         "y": {
          "bdata": "H2j6Hmj6zj/eNci5iHvLPyuPDrznG+M/SyUoHsEG0z8yj+WsyC3KPxqZHDSUBfI/MagwCTri4j9c3sRc3sTsPww5gaCStu4/foE8tobP5j/wnjI4vKfsP+wSvC7B69I/JbGwesUu1T8AAAAAAADkPwAAAAAAAAAAy1cO2ygq6z9Yh8X2In/jPwqcKRyh1eY/SyoErZwJ7j+TsaiG2cHhP+jHqvgJs9k/AAAAAAAAAAAKYfswX3XtP3YLvxoT6fE//7a+VCWM8D/ctMdvG6ruP53wSMnrZes/u1hlXeAg9D/KM2lP+ozqP1IEOYogR+E/uNfvpwIg7z+L78yCKcL0P59U60Imd+0/Ic7KT4iz8j9KCqqNolTxP0Nf+/QPqeA/",
          "dtype": "f8"
         },
         "yaxis": "y"
        },
        {
         "hovertemplate": "<b>OLS trendline</b><br>g/60 = 0.0700514 * avgToi + -0.252466<br>R<sup>2</sup>=0.350168<br><br>avgToi=%{x}<br>g/60=%{y} <b>(trend)</b><extra></extra>",
         "legendgroup": "",
         "line": {
          "color": "yellow"
         },
         "marker": {
          "color": "#636efa",
          "symbol": "circle"
         },
         "mode": "lines",
         "name": "",
         "showlegend": false,
         "type": "scatter",
         "x": {
          "bdata": "zczMzMxMIUDe3d3d3V0jQBERERERkSNAVVVVVVXVI0Dv7u7u7u4jQO/u7u7u7iNAERERERGRJEDv7u7u7m4lQBERERERkSZAzczMzMzMJkCamZmZmRkoQMXZh8+wKyhAmpmZmZmZKEDaSmorqa0oQN7d3d3dXSlAmpmZmZmZKUAiIiIiIqIqQImIiIiICCtAmZmZmZmZK0AzMzMzM7MrQMzMzMzMTCxAIiIiIiKiLUDv7u7u7u4tQPAKr/AKLy5AZWZmZmbmLkAyMzMzM7MvQLy7u7u7uy9AERERERERMEC8u7u7uzswQImIiIiIiDBA7+7u7u6uMECJiIiIiMgwQLy7u7u7ezFA3t3d3d3dMUCJiIiIiMgzQImIiIiISDRA",
          "dtype": "f8"
         },
         "xaxis": "x",
         "y": {
          "bdata": "9J2LYWOf1j/2EZg6XkHbP0iAgOwjtNs/YBNhhCtN3D+KSlVdjobcP4pKVV2Ohtw/5KcKZgDy3T/2haQTWePfP5B7j6zcNuE/67sB/8954T94IjWB0u7iP47PVEUZA+M/X6yXn0l+4z8feruvxZTjP9N/6olEWuQ/LsBc3Ded5D8u3Z+StsXlP4FLiER8OOY/y+fmVRTb5j9gA2HCxffmP9uoPU3uo+c/mxjvSIEi6T9Za12OlXjpPyeWk4FwwOk/9XWkUfON6j+ZUnW1fnPrP81b8y4Pfes/H8rb4NTv6z8PJsifeU/sP4vLpCqi++w/SR4TcLZR7T9zVQdJGYvtP5XXtDfNHO8/B6sHIsj47z8m5tJaVyLyPw5wNXnOsfI/",
          "dtype": "f8"
         },
         "yaxis": "y"
        }
       ],
       "layout": {
        "height": 500,
        "legend": {
         "tracegroupgap": 0
        },
        "template": {
         "data": {
          "bar": [
           {
            "error_x": {
             "color": "#f2f5fa"
            },
            "error_y": {
             "color": "#f2f5fa"
            },
            "marker": {
             "line": {
              "color": "rgb(17,17,17)",
              "width": 0.5
             },
             "pattern": {
              "fillmode": "overlay",
              "size": 10,
              "solidity": 0.2
             }
            },
            "type": "bar"
           }
          ],
          "barpolar": [
           {
            "marker": {
             "line": {
              "color": "rgb(17,17,17)",
              "width": 0.5
             },
             "pattern": {
              "fillmode": "overlay",
              "size": 10,
              "solidity": 0.2
             }
            },
            "type": "barpolar"
           }
          ],
          "carpet": [
           {
            "aaxis": {
             "endlinecolor": "#A2B1C6",
             "gridcolor": "#506784",
             "linecolor": "#506784",
             "minorgridcolor": "#506784",
             "startlinecolor": "#A2B1C6"
            },
            "baxis": {
             "endlinecolor": "#A2B1C6",
             "gridcolor": "#506784",
             "linecolor": "#506784",
             "minorgridcolor": "#506784",
             "startlinecolor": "#A2B1C6"
            },
            "type": "carpet"
           }
          ],
          "choropleth": [
           {
            "colorbar": {
             "outlinewidth": 0,
             "ticks": ""
            },
            "type": "choropleth"
           }
          ],
          "contour": [
           {
            "colorbar": {
             "outlinewidth": 0,
             "ticks": ""
            },
            "colorscale": [
             [
              0,
              "#0d0887"
             ],
             [
              0.1111111111111111,
              "#46039f"
             ],
             [
              0.2222222222222222,
              "#7201a8"
             ],
             [
              0.3333333333333333,
              "#9c179e"
             ],
             [
              0.4444444444444444,
              "#bd3786"
             ],
             [
              0.5555555555555556,
              "#d8576b"
             ],
             [
              0.6666666666666666,
              "#ed7953"
             ],
             [
              0.7777777777777778,
              "#fb9f3a"
             ],
             [
              0.8888888888888888,
              "#fdca26"
             ],
             [
              1,
              "#f0f921"
             ]
            ],
            "type": "contour"
           }
          ],
          "contourcarpet": [
           {
            "colorbar": {
             "outlinewidth": 0,
             "ticks": ""
            },
            "type": "contourcarpet"
           }
          ],
          "heatmap": [
           {
            "colorbar": {
             "outlinewidth": 0,
             "ticks": ""
            },
            "colorscale": [
             [
              0,
              "#0d0887"
             ],
             [
              0.1111111111111111,
              "#46039f"
             ],
             [
              0.2222222222222222,
              "#7201a8"
             ],
             [
              0.3333333333333333,
              "#9c179e"
             ],
             [
              0.4444444444444444,
              "#bd3786"
             ],
             [
              0.5555555555555556,
              "#d8576b"
             ],
             [
              0.6666666666666666,
              "#ed7953"
             ],
             [
              0.7777777777777778,
              "#fb9f3a"
             ],
             [
              0.8888888888888888,
              "#fdca26"
             ],
             [
              1,
              "#f0f921"
             ]
            ],
            "type": "heatmap"
           }
          ],
          "histogram": [
           {
            "marker": {
             "pattern": {
              "fillmode": "overlay",
              "size": 10,
              "solidity": 0.2
             }
            },
            "type": "histogram"
           }
          ],
          "histogram2d": [
           {
            "colorbar": {
             "outlinewidth": 0,
             "ticks": ""
            },
            "colorscale": [
             [
              0,
              "#0d0887"
             ],
             [
              0.1111111111111111,
              "#46039f"
             ],
             [
              0.2222222222222222,
              "#7201a8"
             ],
             [
              0.3333333333333333,
              "#9c179e"
             ],
             [
              0.4444444444444444,
              "#bd3786"
             ],
             [
              0.5555555555555556,
              "#d8576b"
             ],
             [
              0.6666666666666666,
              "#ed7953"
             ],
             [
              0.7777777777777778,
              "#fb9f3a"
             ],
             [
              0.8888888888888888,
              "#fdca26"
             ],
             [
              1,
              "#f0f921"
             ]
            ],
            "type": "histogram2d"
           }
          ],
          "histogram2dcontour": [
           {
            "colorbar": {
             "outlinewidth": 0,
             "ticks": ""
            },
            "colorscale": [
             [
              0,
              "#0d0887"
             ],
             [
              0.1111111111111111,
              "#46039f"
             ],
             [
              0.2222222222222222,
              "#7201a8"
             ],
             [
              0.3333333333333333,
              "#9c179e"
             ],
             [
              0.4444444444444444,
              "#bd3786"
             ],
             [
              0.5555555555555556,
              "#d8576b"
             ],
             [
              0.6666666666666666,
              "#ed7953"
             ],
             [
              0.7777777777777778,
              "#fb9f3a"
             ],
             [
              0.8888888888888888,
              "#fdca26"
             ],
             [
              1,
              "#f0f921"
             ]
            ],
            "type": "histogram2dcontour"
           }
          ],
          "mesh3d": [
           {
            "colorbar": {
             "outlinewidth": 0,
             "ticks": ""
            },
            "type": "mesh3d"
           }
          ],
          "parcoords": [
           {
            "line": {
             "colorbar": {
              "outlinewidth": 0,
              "ticks": ""
             }
            },
            "type": "parcoords"
           }
          ],
          "pie": [
           {
            "automargin": true,
            "type": "pie"
           }
          ],
          "scatter": [
           {
            "marker": {
             "line": {
              "color": "#283442"
             }
            },
            "type": "scatter"
           }
          ],
          "scatter3d": [
           {
            "line": {
             "colorbar": {
              "outlinewidth": 0,
              "ticks": ""
             }
            },
            "marker": {
             "colorbar": {
              "outlinewidth": 0,
              "ticks": ""
             }
            },
            "type": "scatter3d"
           }
          ],
          "scattercarpet": [
           {
            "marker": {
             "colorbar": {
              "outlinewidth": 0,
              "ticks": ""
             }
            },
            "type": "scattercarpet"
           }
          ],
          "scattergeo": [
           {
            "marker": {
             "colorbar": {
              "outlinewidth": 0,
              "ticks": ""
             }
            },
            "type": "scattergeo"
           }
          ],
          "scattergl": [
           {
            "marker": {
             "line": {
              "color": "#283442"
             }
            },
            "type": "scattergl"
           }
          ],
          "scattermap": [
           {
            "marker": {
             "colorbar": {
              "outlinewidth": 0,
              "ticks": ""
             }
            },
            "type": "scattermap"
           }
          ],
          "scattermapbox": [
           {
            "marker": {
             "colorbar": {
              "outlinewidth": 0,
              "ticks": ""
             }
            },
            "type": "scattermapbox"
           }
          ],
          "scatterpolar": [
           {
            "marker": {
             "colorbar": {
              "outlinewidth": 0,
              "ticks": ""
             }
            },
            "type": "scatterpolar"
           }
          ],
          "scatterpolargl": [
           {
            "marker": {
             "colorbar": {
              "outlinewidth": 0,
              "ticks": ""
             }
            },
            "type": "scatterpolargl"
           }
          ],
          "scatterternary": [
           {
            "marker": {
             "colorbar": {
              "outlinewidth": 0,
              "ticks": ""
             }
            },
            "type": "scatterternary"
           }
          ],
          "surface": [
           {
            "colorbar": {
             "outlinewidth": 0,
             "ticks": ""
            },
            "colorscale": [
             [
              0,
              "#0d0887"
             ],
             [
              0.1111111111111111,
              "#46039f"
             ],
             [
              0.2222222222222222,
              "#7201a8"
             ],
             [
              0.3333333333333333,
              "#9c179e"
             ],
             [
              0.4444444444444444,
              "#bd3786"
             ],
             [
              0.5555555555555556,
              "#d8576b"
             ],
             [
              0.6666666666666666,
              "#ed7953"
             ],
             [
              0.7777777777777778,
              "#fb9f3a"
             ],
             [
              0.8888888888888888,
              "#fdca26"
             ],
             [
              1,
              "#f0f921"
             ]
            ],
            "type": "surface"
           }
          ],
          "table": [
           {
            "cells": {
             "fill": {
              "color": "#506784"
             },
             "line": {
              "color": "rgb(17,17,17)"
             }
            },
            "header": {
             "fill": {
              "color": "#2a3f5f"
             },
             "line": {
              "color": "rgb(17,17,17)"
             }
            },
            "type": "table"
           }
          ]
         },
         "layout": {
          "annotationdefaults": {
           "arrowcolor": "#f2f5fa",
           "arrowhead": 0,
           "arrowwidth": 1
          },
          "autotypenumbers": "strict",
          "coloraxis": {
           "colorbar": {
            "outlinewidth": 0,
            "ticks": ""
           }
          },
          "colorscale": {
           "diverging": [
            [
             0,
             "#8e0152"
            ],
            [
             0.1,
             "#c51b7d"
            ],
            [
             0.2,
             "#de77ae"
            ],
            [
             0.3,
             "#f1b6da"
            ],
            [
             0.4,
             "#fde0ef"
            ],
            [
             0.5,
             "#f7f7f7"
            ],
            [
             0.6,
             "#e6f5d0"
            ],
            [
             0.7,
             "#b8e186"
            ],
            [
             0.8,
             "#7fbc41"
            ],
            [
             0.9,
             "#4d9221"
            ],
            [
             1,
             "#276419"
            ]
           ],
           "sequential": [
            [
             0,
             "#0d0887"
            ],
            [
             0.1111111111111111,
             "#46039f"
            ],
            [
             0.2222222222222222,
             "#7201a8"
            ],
            [
             0.3333333333333333,
             "#9c179e"
            ],
            [
             0.4444444444444444,
             "#bd3786"
            ],
            [
             0.5555555555555556,
             "#d8576b"
            ],
            [
             0.6666666666666666,
             "#ed7953"
            ],
            [
             0.7777777777777778,
             "#fb9f3a"
            ],
            [
             0.8888888888888888,
             "#fdca26"
            ],
            [
             1,
             "#f0f921"
            ]
           ],
           "sequentialminus": [
            [
             0,
             "#0d0887"
            ],
            [
             0.1111111111111111,
             "#46039f"
            ],
            [
             0.2222222222222222,
             "#7201a8"
            ],
            [
             0.3333333333333333,
             "#9c179e"
            ],
            [
             0.4444444444444444,
             "#bd3786"
            ],
            [
             0.5555555555555556,
             "#d8576b"
            ],
            [
             0.6666666666666666,
             "#ed7953"
            ],
            [
             0.7777777777777778,
             "#fb9f3a"
            ],
            [
             0.8888888888888888,
             "#fdca26"
            ],
            [
             1,
             "#f0f921"
            ]
           ]
          },
          "colorway": [
           "#636efa",
           "#EF553B",
           "#00cc96",
           "#ab63fa",
           "#FFA15A",
           "#19d3f3",
           "#FF6692",
           "#B6E880",
           "#FF97FF",
           "#FECB52"
          ],
          "font": {
           "color": "#f2f5fa"
          },
          "geo": {
           "bgcolor": "rgb(17,17,17)",
           "lakecolor": "rgb(17,17,17)",
           "landcolor": "rgb(17,17,17)",
           "showlakes": true,
           "showland": true,
           "subunitcolor": "#506784"
          },
          "hoverlabel": {
           "align": "left"
          },
          "hovermode": "closest",
          "mapbox": {
           "style": "dark"
          },
          "paper_bgcolor": "rgb(17,17,17)",
          "plot_bgcolor": "rgb(17,17,17)",
          "polar": {
           "angularaxis": {
            "gridcolor": "#506784",
            "linecolor": "#506784",
            "ticks": ""
           },
           "bgcolor": "rgb(17,17,17)",
           "radialaxis": {
            "gridcolor": "#506784",
            "linecolor": "#506784",
            "ticks": ""
           }
          },
          "scene": {
           "xaxis": {
            "backgroundcolor": "rgb(17,17,17)",
            "gridcolor": "#506784",
            "gridwidth": 2,
            "linecolor": "#506784",
            "showbackground": true,
            "ticks": "",
            "zerolinecolor": "#C8D4E3"
           },
           "yaxis": {
            "backgroundcolor": "rgb(17,17,17)",
            "gridcolor": "#506784",
            "gridwidth": 2,
            "linecolor": "#506784",
            "showbackground": true,
            "ticks": "",
            "zerolinecolor": "#C8D4E3"
           },
           "zaxis": {
            "backgroundcolor": "rgb(17,17,17)",
            "gridcolor": "#506784",
            "gridwidth": 2,
            "linecolor": "#506784",
            "showbackground": true,
            "ticks": "",
            "zerolinecolor": "#C8D4E3"
           }
          },
          "shapedefaults": {
           "line": {
            "color": "#f2f5fa"
           }
          },
          "sliderdefaults": {
           "bgcolor": "#C8D4E3",
           "bordercolor": "rgb(17,17,17)",
           "borderwidth": 1,
           "tickwidth": 0
          },
          "ternary": {
           "aaxis": {
            "gridcolor": "#506784",
            "linecolor": "#506784",
            "ticks": ""
           },
           "baxis": {
            "gridcolor": "#506784",
            "linecolor": "#506784",
            "ticks": ""
           },
           "bgcolor": "rgb(17,17,17)",
           "caxis": {
            "gridcolor": "#506784",
            "linecolor": "#506784",
            "ticks": ""
           }
          },
          "title": {
           "x": 0.05
          },
          "updatemenudefaults": {
           "bgcolor": "#506784",
           "borderwidth": 0
          },
          "xaxis": {
           "automargin": true,
           "gridcolor": "#283442",
           "linecolor": "#506784",
           "ticks": "",
           "title": {
            "standoff": 15
           },
           "zerolinecolor": "#283442",
           "zerolinewidth": 2
          },
          "yaxis": {
           "automargin": true,
           "gridcolor": "#283442",
           "linecolor": "#506784",
           "ticks": "",
           "title": {
            "standoff": 15
           },
           "zerolinecolor": "#283442",
           "zerolinewidth": 2
          }
         }
        },
        "title": {
         "text": "Avg Time on Ice vs g/60"
        },
        "width": 800,
        "xaxis": {
         "anchor": "y",
         "domain": [
          0,
          1
         ],
         "title": {
          "text": "avgToi"
         }
        },
        "yaxis": {
         "anchor": "x",
         "domain": [
          0,
          1
         ],
         "title": {
          "text": "g/60"
         }
        }
       }
      },
      "image/png": "[encoded data removed]"
     },
     "metadata": {},
     "output_type": "display_data"
    }
   ],
   "source": [
    "metric = \"g/60\"\n",
    "fig = px.scatter(\n",
    "    subset,\n",
    "    x=\"avgToi\",\n",
    "    y=metric,\n",
    "    hover_name=\"playerName\",\n",
    "    hover_data=[\"goals\", \"assists\", \"points\", \"gamesPlayed\", \"team\", \"age\", \"capHit\"],\n",
    "    width=800,\n",
    "    height=500,\n",
    "    title=f\"Avg Time on Ice vs {metric}\",\n",
    "    trendline=\"ols\",\n",
    "    trendline_color_override=\"yellow\",\n",
    ")\n",
    "fig.show()\n",
    "subset.loc[:, f\"{metric}_adj\"] = subset[metric] / subset[\"avgToi\"]\n",
    "subset.loc[:, f\"{metric}_adj_rank\"] = subset[f\"{metric}_adj\"].rank(ascending=False, method='first').astype(int)"
   ]
  },
  {
   "cell_type": "code",
   "execution_count": 106,
   "id": "bc3ef6a4",
   "metadata": {},
   "outputs": [
    {
     "data": {
      "application/vnd.plotly.v1+json": {
       "config": {
        "plotlyServerURL": "https://plot.ly"
       },
       "data": [
        {
         "customdata": [
          [
           1,
           2,
           3,
           25,
           [
            "Los Angeles Kings"
           ],
           24,
           775000
          ],
          [
           4,
           21,
           25,
           81,
           [
            "Calgary Flames"
           ],
           25,
           1000000
          ],
          [
           7,
           13,
           20,
           57,
           [
            "Colorado Avalanche",
            "San Jose Sharks"
           ],
           25,
           896250
          ],
          [
           4,
           7,
           11,
           81,
           [
            "New York Islanders"
           ],
           25,
           775000
          ],
          [
           3,
           8,
           11,
           78,
           [
            "Boston Bruins"
           ],
           23,
           925000
          ],
          [
           23,
           24,
           47,
           73,
           [
            "Columbus Blue Jackets"
           ],
           24,
           925000
          ],
          [
           6,
           7,
           13,
           63,
           [
            "Seattle Kraken"
           ],
           23,
           859167
          ],
          [
           13,
           14,
           27,
           54,
           [
            "Calgary Flames"
           ],
           23,
           863333
          ],
          [
           6,
           4,
           10,
           35,
           [
            "New York Rangers"
           ],
           22,
           867500
          ],
          [
           11,
           14,
           25,
           73,
           [
            "Dallas Stars"
           ],
           22,
           894167
          ],
          [
           19,
           23,
           42,
           77,
           [
            "Los Angeles Kings"
           ],
           23,
           875000
          ],
          [
           2,
           4,
           6,
           33,
           [
            "Chicago Blackhawks"
           ],
           22,
           912500
          ],
          [
           5,
           7,
           12,
           75,
           [
            "Minnesota Wild",
            "Boston Bruins"
           ],
           22,
           925000
          ],
          [
           8,
           12,
           20,
           60,
           [
            "Tampa Bay Lightning"
           ],
           23,
           775000
          ],
          [
           0,
           1,
           1,
           12,
           [
            "Los Angeles Kings"
           ],
           28,
           775000
          ],
          [
           10,
           8,
           18,
           62,
           [
            "Montréal Canadiens"
           ],
           23,
           897500
          ],
          [
           7,
           12,
           19,
           51,
           [
            "Utah Hockey Club"
           ],
           22,
           925000
          ],
          [
           14,
           24,
           38,
           78,
           [
            "Dallas Stars",
            "Carolina Hurricanes"
           ],
           21,
           814167
          ],
          [
           15,
           16,
           31,
           72,
           [
            "Florida Panthers"
           ],
           22,
           925000
          ],
          [
           4,
           3,
           7,
           50,
           [
            "Los Angeles Kings"
           ],
           22,
           805833
          ],
          [
           5,
           10,
           15,
           62,
           [
            "Nashville Predators"
           ],
           21,
           863333
          ],
          [
           0,
           2,
           2,
           22,
           [
            "New York Rangers"
           ],
           21,
           863333
          ],
          [
           17,
           17,
           34,
           80,
           [
            "Carolina Hurricanes"
           ],
           21,
           905833
          ],
          [
           25,
           40,
           65,
           75,
           [
            "Utah Hockey Club"
           ],
           20,
           950000
          ],
          [
           20,
           24,
           44,
           82,
           [
            "Anaheim Ducks"
           ],
           20,
           950000
          ],
          [
           19,
           18,
           37,
           77,
           [
            "Detroit Red Wings"
           ],
           20,
           918333
          ],
          [
           12,
           14,
           26,
           53,
           [
            "Chicago Blackhawks"
           ],
           20,
           950000
          ],
          [
           8,
           1,
           9,
           39,
           [
            "New York Islanders"
           ],
           25,
           775000
          ],
          [
           23,
           44,
           67,
           82,
           [
            "Chicago Blackhawks"
           ],
           19,
           950000
          ],
          [
           10,
           18,
           28,
           75,
           [
            "Buffalo Sabres"
           ],
           19,
           950000
          ],
          [
           20,
           25,
           45,
           76,
           [
            "Anaheim Ducks"
           ],
           20,
           950000
          ],
          [
           31,
           23,
           54,
           82,
           [
            "Columbus Blue Jackets"
           ],
           20,
           950000
          ],
          [
           18,
           27,
           45,
           74,
           [
            "San Jose Sharks"
           ],
           19,
           950000
          ],
          [
           26,
           37,
           63,
           80,
           [
            "Philadelphia Flyers"
           ],
           20,
           950000
          ],
          [
           25,
           38,
           63,
           70,
           [
            "San Jose Sharks"
           ],
           18,
           975000
          ],
          [
           10,
           25,
           35,
           77,
           [
            "New York Islanders"
           ],
           26,
           950000
          ]
         ],
         "hovertemplate": "<b>%{hovertext}</b><br><br>avgToi=%{x}<br>a/60=%{y}<br>goals=%{customdata[0]}<br>assists=%{customdata[1]}<br>points=%{customdata[2]}<br>gamesPlayed=%{customdata[3]}<br>team=%{customdata[4]}<br>age=%{customdata[5]}<br>capHit=%{customdata[6]}<extra></extra>",
         "hovertext": [
          "Akil Thomas",
          "Martin Pospisil",
          "Nikolai Kovalenko",
          "Kyle MacLean",
          "John Beecher",
          "Dmitri Voronkov",
          "Tye Kartye",
          "Connor Zary",
          "Brett Berard",
          "Mavrik Bourque",
          "Alex Laferriere",
          "Landon Slaggert",
          "Marat Khusnutdinov",
          "Gage Goncalves",
          "Jeff Malott",
          "Emil Heineman",
          "Josh Doan",
          "Logan Stankoven",
          "Mackie Samoskevich",
          "Samuel Helenius",
          "Zachary L'Heureux",
          "Brennan Othmann",
          "Jackson Blake",
          "Logan Cooley",
          "Cutter Gauthier",
          "Marco Kasper",
          "Frank Nazar",
          "Marc Gatcomb",
          "Connor Bedard",
          "Zach Benson",
          "Leo Carlsson",
          "Adam Fantilli",
          "Will Smith",
          "Matvei Michkov",
          "Macklin Celebrini",
          "Maxim Tsyplakov"
         ],
         "legendgroup": "",
         "marker": {
          "color": "#636efa",
          "symbol": "circle"
         },
         "mode": "markers",
         "name": "",
         "orientation": "v",
         "showlegend": false,
         "type": "scatter",
         "x": {
          "bdata": "VVVVVVXVI0CZmZmZmZkrQNpKaiuprShA7+7u7u7uI0AREREREZEmQImIiIiIyDBA3t3d3d1dI0AREREREREwQO/u7u7ubiVA3t3d3d1dKUCJiIiIiIgwQJqZmZmZmShAxdmHz7ArKECamZmZmZkpQBERERERkSRAzczMzMzMJkCJiIiIiAgrQPAKr/AKLy5AIiIiIiKiKkDNzMzMzEwhQJqZmZmZGShA7+7u7u7uI0AzMzMzM7MrQN7d3d3d3TFAzMzMzMxMLEBlZmZmZuYuQLy7u7u7uy9AERERERGRI0CJiIiIiEg0QCIiIiIioi1AvLu7u7s7MEC8u7u7u3sxQDIzMzMzsy9A7+7u7u6uMECJiIiIiMgzQO/u7u7u7i1A",
          "dtype": "f8"
         },
         "xaxis": "x",
         "y": {
          "bdata": "H2j6Hmj63j9aY+u5EQnyP6jy6MB7vvE/oSBj+uil4D94X+4d23PhP0jMxFcrzvI/jhkOYO4H5j+eZfueZfvuP117qxW3eeQ/LBmq0B8I7T8zYKXeDFjxP+wSvC7B6+I/zcRdReGn3T8AAAAAAADuPy10qNpJHt8/1t9x4lO75T9LBhf4HbbwP1KqIxiKkvM/9XxGXCAF8D9cCv1JxqLaP+jHqvgJs+k/31DZ2E6D4T8KYfswX3XtP/GrMZEeqPw//kFL/1/b8z/5Z1GS8QztP7cY1Wro9u8/u1hlXeAgxD+2lQv+dGX5P8YHzfigGe8/0+b1qAF08z+CpWHrh83uP3h/MLJcGfY/uUy05wad+j+FirBmr1f6PxM3OvJT0/Q/",
          "dtype": "f8"
         },
         "yaxis": "y"
        },
        {
         "hovertemplate": "<b>OLS trendline</b><br>a/60 = 0.113015 * avgToi + -0.602068<br>R<sup>2</sup>=0.750588<br><br>avgToi=%{x}<br>a/60=%{y} <b>(trend)</b><extra></extra>",
         "legendgroup": "",
         "line": {
          "color": "yellow"
         },
         "marker": {
          "color": "#636efa",
          "symbol": "circle"
         },
         "mode": "lines",
         "name": "",
         "showlegend": false,
         "type": "scatter",
         "x": {
          "bdata": "zczMzMxMIUDe3d3d3V0jQBERERERkSNAVVVVVVXVI0Dv7u7u7u4jQO/u7u7u7iNAERERERGRJEDv7u7u7m4lQBERERERkSZAzczMzMzMJkCamZmZmRkoQMXZh8+wKyhAmpmZmZmZKEDaSmorqa0oQN7d3d3dXSlAmpmZmZmZKUAiIiIiIqIqQImIiIiICCtAmZmZmZmZK0AzMzMzM7MrQMzMzMzMTCxAIiIiIiKiLUDv7u7u7u4tQPAKr/AKLy5AZWZmZmbmLkAyMzMzM7MvQLy7u7u7uy9AERERERERMEC8u7u7uzswQImIiIiIiDBA7+7u7u6uMECJiIiIiMgwQLy7u7u7ezFA3t3d3d3dMUCJiIiIiMgzQImIiIiISDRA",
          "dtype": "f8"
         },
         "xaxis": "x",
         "y": {
          "bdata": "LsjizV0I2D9QoKlJuYHfP97iLJZxHeA/fKb31+KY4D/Yr6NQLcfgP9ivo1Atx+A/ckDlTFrs4T84PLhiin3jP5r7VboriuU/xmbn0y725T9u4KP09k/oP8g/6kmtcOg/OA8AUGs36T9qWJSlsVvpP6ABJ+1Qmuo/zGy4BlQG6z/SIqrlquTsP0JIWsjUne0/8icpdCWk7j9OMdXsb9LuP3Jp3cAu6O8/x53phLIo8T/Rq+s5Im7xP4raEaMYqPE/YC4rgd9N8j/OU9tjCQfzPwoA+HfADvM/wRJQaVVr8z8FzW4yfLjzPxjpcpxbQ/Q/IPd0UcuI9D99ACHKFbf0P/5B1RYf+/U/M7to5ZGs9j85GUruzyP6PwNIpklEC/s/",
          "dtype": "f8"
         },
         "yaxis": "y"
        }
       ],
       "layout": {
        "height": 500,
        "legend": {
         "tracegroupgap": 0
        },
        "template": {
         "data": {
          "bar": [
           {
            "error_x": {
             "color": "#f2f5fa"
            },
            "error_y": {
             "color": "#f2f5fa"
            },
            "marker": {
             "line": {
              "color": "rgb(17,17,17)",
              "width": 0.5
             },
             "pattern": {
              "fillmode": "overlay",
              "size": 10,
              "solidity": 0.2
             }
            },
            "type": "bar"
           }
          ],
          "barpolar": [
           {
            "marker": {
             "line": {
              "color": "rgb(17,17,17)",
              "width": 0.5
             },
             "pattern": {
              "fillmode": "overlay",
              "size": 10,
              "solidity": 0.2
             }
            },
            "type": "barpolar"
           }
          ],
          "carpet": [
           {
            "aaxis": {
             "endlinecolor": "#A2B1C6",
             "gridcolor": "#506784",
             "linecolor": "#506784",
             "minorgridcolor": "#506784",
             "startlinecolor": "#A2B1C6"
            },
            "baxis": {
             "endlinecolor": "#A2B1C6",
             "gridcolor": "#506784",
             "linecolor": "#506784",
             "minorgridcolor": "#506784",
             "startlinecolor": "#A2B1C6"
            },
            "type": "carpet"
           }
          ],
          "choropleth": [
           {
            "colorbar": {
             "outlinewidth": 0,
             "ticks": ""
            },
            "type": "choropleth"
           }
          ],
          "contour": [
           {
            "colorbar": {
             "outlinewidth": 0,
             "ticks": ""
            },
            "colorscale": [
             [
              0,
              "#0d0887"
             ],
             [
              0.1111111111111111,
              "#46039f"
             ],
             [
              0.2222222222222222,
              "#7201a8"
             ],
             [
              0.3333333333333333,
              "#9c179e"
             ],
             [
              0.4444444444444444,
              "#bd3786"
             ],
             [
              0.5555555555555556,
              "#d8576b"
             ],
             [
              0.6666666666666666,
              "#ed7953"
             ],
             [
              0.7777777777777778,
              "#fb9f3a"
             ],
             [
              0.8888888888888888,
              "#fdca26"
             ],
             [
              1,
              "#f0f921"
             ]
            ],
            "type": "contour"
           }
          ],
          "contourcarpet": [
           {
            "colorbar": {
             "outlinewidth": 0,
             "ticks": ""
            },
            "type": "contourcarpet"
           }
          ],
          "heatmap": [
           {
            "colorbar": {
             "outlinewidth": 0,
             "ticks": ""
            },
            "colorscale": [
             [
              0,
              "#0d0887"
             ],
             [
              0.1111111111111111,
              "#46039f"
             ],
             [
              0.2222222222222222,
              "#7201a8"
             ],
             [
              0.3333333333333333,
              "#9c179e"
             ],
             [
              0.4444444444444444,
              "#bd3786"
             ],
             [
              0.5555555555555556,
              "#d8576b"
             ],
             [
              0.6666666666666666,
              "#ed7953"
             ],
             [
              0.7777777777777778,
              "#fb9f3a"
             ],
             [
              0.8888888888888888,
              "#fdca26"
             ],
             [
              1,
              "#f0f921"
             ]
            ],
            "type": "heatmap"
           }
          ],
          "histogram": [
           {
            "marker": {
             "pattern": {
              "fillmode": "overlay",
              "size": 10,
              "solidity": 0.2
             }
            },
            "type": "histogram"
           }
          ],
          "histogram2d": [
           {
            "colorbar": {
             "outlinewidth": 0,
             "ticks": ""
            },
            "colorscale": [
             [
              0,
              "#0d0887"
             ],
             [
              0.1111111111111111,
              "#46039f"
             ],
             [
              0.2222222222222222,
              "#7201a8"
             ],
             [
              0.3333333333333333,
              "#9c179e"
             ],
             [
              0.4444444444444444,
              "#bd3786"
             ],
             [
              0.5555555555555556,
              "#d8576b"
             ],
             [
              0.6666666666666666,
              "#ed7953"
             ],
             [
              0.7777777777777778,
              "#fb9f3a"
             ],
             [
              0.8888888888888888,
              "#fdca26"
             ],
             [
              1,
              "#f0f921"
             ]
            ],
            "type": "histogram2d"
           }
          ],
          "histogram2dcontour": [
           {
            "colorbar": {
             "outlinewidth": 0,
             "ticks": ""
            },
            "colorscale": [
             [
              0,
              "#0d0887"
             ],
             [
              0.1111111111111111,
              "#46039f"
             ],
             [
              0.2222222222222222,
              "#7201a8"
             ],
             [
              0.3333333333333333,
              "#9c179e"
             ],
             [
              0.4444444444444444,
              "#bd3786"
             ],
             [
              0.5555555555555556,
              "#d8576b"
             ],
             [
              0.6666666666666666,
              "#ed7953"
             ],
             [
              0.7777777777777778,
              "#fb9f3a"
             ],
             [
              0.8888888888888888,
              "#fdca26"
             ],
             [
              1,
              "#f0f921"
             ]
            ],
            "type": "histogram2dcontour"
           }
          ],
          "mesh3d": [
           {
            "colorbar": {
             "outlinewidth": 0,
             "ticks": ""
            },
            "type": "mesh3d"
           }
          ],
          "parcoords": [
           {
            "line": {
             "colorbar": {
              "outlinewidth": 0,
              "ticks": ""
             }
            },
            "type": "parcoords"
           }
          ],
          "pie": [
           {
            "automargin": true,
            "type": "pie"
           }
          ],
          "scatter": [
           {
            "marker": {
             "line": {
              "color": "#283442"
             }
            },
            "type": "scatter"
           }
          ],
          "scatter3d": [
           {
            "line": {
             "colorbar": {
              "outlinewidth": 0,
              "ticks": ""
             }
            },
            "marker": {
             "colorbar": {
              "outlinewidth": 0,
              "ticks": ""
             }
            },
            "type": "scatter3d"
           }
          ],
          "scattercarpet": [
           {
            "marker": {
             "colorbar": {
              "outlinewidth": 0,
              "ticks": ""
             }
            },
            "type": "scattercarpet"
           }
          ],
          "scattergeo": [
           {
            "marker": {
             "colorbar": {
              "outlinewidth": 0,
              "ticks": ""
             }
            },
            "type": "scattergeo"
           }
          ],
          "scattergl": [
           {
            "marker": {
             "line": {
              "color": "#283442"
             }
            },
            "type": "scattergl"
           }
          ],
          "scattermap": [
           {
            "marker": {
             "colorbar": {
              "outlinewidth": 0,
              "ticks": ""
             }
            },
            "type": "scattermap"
           }
          ],
          "scattermapbox": [
           {
            "marker": {
             "colorbar": {
              "outlinewidth": 0,
              "ticks": ""
             }
            },
            "type": "scattermapbox"
           }
          ],
          "scatterpolar": [
           {
            "marker": {
             "colorbar": {
              "outlinewidth": 0,
              "ticks": ""
             }
            },
            "type": "scatterpolar"
           }
          ],
          "scatterpolargl": [
           {
            "marker": {
             "colorbar": {
              "outlinewidth": 0,
              "ticks": ""
             }
            },
            "type": "scatterpolargl"
           }
          ],
          "scatterternary": [
           {
            "marker": {
             "colorbar": {
              "outlinewidth": 0,
              "ticks": ""
             }
            },
            "type": "scatterternary"
           }
          ],
          "surface": [
           {
            "colorbar": {
             "outlinewidth": 0,
             "ticks": ""
            },
            "colorscale": [
             [
              0,
              "#0d0887"
             ],
             [
              0.1111111111111111,
              "#46039f"
             ],
             [
              0.2222222222222222,
              "#7201a8"
             ],
             [
              0.3333333333333333,
              "#9c179e"
             ],
             [
              0.4444444444444444,
              "#bd3786"
             ],
             [
              0.5555555555555556,
              "#d8576b"
             ],
             [
              0.6666666666666666,
              "#ed7953"
             ],
             [
              0.7777777777777778,
              "#fb9f3a"
             ],
             [
              0.8888888888888888,
              "#fdca26"
             ],
             [
              1,
              "#f0f921"
             ]
            ],
            "type": "surface"
           }
          ],
          "table": [
           {
            "cells": {
             "fill": {
              "color": "#506784"
             },
             "line": {
              "color": "rgb(17,17,17)"
             }
            },
            "header": {
             "fill": {
              "color": "#2a3f5f"
             },
             "line": {
              "color": "rgb(17,17,17)"
             }
            },
            "type": "table"
           }
          ]
         },
         "layout": {
          "annotationdefaults": {
           "arrowcolor": "#f2f5fa",
           "arrowhead": 0,
           "arrowwidth": 1
          },
          "autotypenumbers": "strict",
          "coloraxis": {
           "colorbar": {
            "outlinewidth": 0,
            "ticks": ""
           }
          },
          "colorscale": {
           "diverging": [
            [
             0,
             "#8e0152"
            ],
            [
             0.1,
             "#c51b7d"
            ],
            [
             0.2,
             "#de77ae"
            ],
            [
             0.3,
             "#f1b6da"
            ],
            [
             0.4,
             "#fde0ef"
            ],
            [
             0.5,
             "#f7f7f7"
            ],
            [
             0.6,
             "#e6f5d0"
            ],
            [
             0.7,
             "#b8e186"
            ],
            [
             0.8,
             "#7fbc41"
            ],
            [
             0.9,
             "#4d9221"
            ],
            [
             1,
             "#276419"
            ]
           ],
           "sequential": [
            [
             0,
             "#0d0887"
            ],
            [
             0.1111111111111111,
             "#46039f"
            ],
            [
             0.2222222222222222,
             "#7201a8"
            ],
            [
             0.3333333333333333,
             "#9c179e"
            ],
            [
             0.4444444444444444,
             "#bd3786"
            ],
            [
             0.5555555555555556,
             "#d8576b"
            ],
            [
             0.6666666666666666,
             "#ed7953"
            ],
            [
             0.7777777777777778,
             "#fb9f3a"
            ],
            [
             0.8888888888888888,
             "#fdca26"
            ],
            [
             1,
             "#f0f921"
            ]
           ],
           "sequentialminus": [
            [
             0,
             "#0d0887"
            ],
            [
             0.1111111111111111,
             "#46039f"
            ],
            [
             0.2222222222222222,
             "#7201a8"
            ],
            [
             0.3333333333333333,
             "#9c179e"
            ],
            [
             0.4444444444444444,
             "#bd3786"
            ],
            [
             0.5555555555555556,
             "#d8576b"
            ],
            [
             0.6666666666666666,
             "#ed7953"
            ],
            [
             0.7777777777777778,
             "#fb9f3a"
            ],
            [
             0.8888888888888888,
             "#fdca26"
            ],
            [
             1,
             "#f0f921"
            ]
           ]
          },
          "colorway": [
           "#636efa",
           "#EF553B",
           "#00cc96",
           "#ab63fa",
           "#FFA15A",
           "#19d3f3",
           "#FF6692",
           "#B6E880",
           "#FF97FF",
           "#FECB52"
          ],
          "font": {
           "color": "#f2f5fa"
          },
          "geo": {
           "bgcolor": "rgb(17,17,17)",
           "lakecolor": "rgb(17,17,17)",
           "landcolor": "rgb(17,17,17)",
           "showlakes": true,
           "showland": true,
           "subunitcolor": "#506784"
          },
          "hoverlabel": {
           "align": "left"
          },
          "hovermode": "closest",
          "mapbox": {
           "style": "dark"
          },
          "paper_bgcolor": "rgb(17,17,17)",
          "plot_bgcolor": "rgb(17,17,17)",
          "polar": {
           "angularaxis": {
            "gridcolor": "#506784",
            "linecolor": "#506784",
            "ticks": ""
           },
           "bgcolor": "rgb(17,17,17)",
           "radialaxis": {
            "gridcolor": "#506784",
            "linecolor": "#506784",
            "ticks": ""
           }
          },
          "scene": {
           "xaxis": {
            "backgroundcolor": "rgb(17,17,17)",
            "gridcolor": "#506784",
            "gridwidth": 2,
            "linecolor": "#506784",
            "showbackground": true,
            "ticks": "",
            "zerolinecolor": "#C8D4E3"
           },
           "yaxis": {
            "backgroundcolor": "rgb(17,17,17)",
            "gridcolor": "#506784",
            "gridwidth": 2,
            "linecolor": "#506784",
            "showbackground": true,
            "ticks": "",
            "zerolinecolor": "#C8D4E3"
           },
           "zaxis": {
            "backgroundcolor": "rgb(17,17,17)",
            "gridcolor": "#506784",
            "gridwidth": 2,
            "linecolor": "#506784",
            "showbackground": true,
            "ticks": "",
            "zerolinecolor": "#C8D4E3"
           }
          },
          "shapedefaults": {
           "line": {
            "color": "#f2f5fa"
           }
          },
          "sliderdefaults": {
           "bgcolor": "#C8D4E3",
           "bordercolor": "rgb(17,17,17)",
           "borderwidth": 1,
           "tickwidth": 0
          },
          "ternary": {
           "aaxis": {
            "gridcolor": "#506784",
            "linecolor": "#506784",
            "ticks": ""
           },
           "baxis": {
            "gridcolor": "#506784",
            "linecolor": "#506784",
            "ticks": ""
           },
           "bgcolor": "rgb(17,17,17)",
           "caxis": {
            "gridcolor": "#506784",
            "linecolor": "#506784",
            "ticks": ""
           }
          },
          "title": {
           "x": 0.05
          },
          "updatemenudefaults": {
           "bgcolor": "#506784",
           "borderwidth": 0
          },
          "xaxis": {
           "automargin": true,
           "gridcolor": "#283442",
           "linecolor": "#506784",
           "ticks": "",
           "title": {
            "standoff": 15
           },
           "zerolinecolor": "#283442",
           "zerolinewidth": 2
          },
          "yaxis": {
           "automargin": true,
           "gridcolor": "#283442",
           "linecolor": "#506784",
           "ticks": "",
           "title": {
            "standoff": 15
           },
           "zerolinecolor": "#283442",
           "zerolinewidth": 2
          }
         }
        },
        "title": {
         "text": "Avg Time on Ice vs a/60"
        },
        "width": 800,
        "xaxis": {
         "anchor": "y",
         "domain": [
          0,
          1
         ],
         "title": {
          "text": "avgToi"
         }
        },
        "yaxis": {
         "anchor": "x",
         "domain": [
          0,
          1
         ],
         "title": {
          "text": "a/60"
         }
        }
       }
      },
      "image/png": "[encoded data removed]"
     },
     "metadata": {},
     "output_type": "display_data"
    }
   ],
   "source": [
    "metric = \"a/60\"\n",
    "fig = px.scatter(\n",
    "    subset,\n",
    "    x=\"avgToi\",\n",
    "    y=metric,\n",
    "    hover_name=\"playerName\",\n",
    "    hover_data=[\"goals\", \"assists\", \"points\", \"gamesPlayed\", \"team\", \"age\", \"capHit\"],\n",
    "    width=800,\n",
    "    height=500,\n",
    "    title=f\"Avg Time on Ice vs {metric}\",\n",
    "    trendline=\"ols\",\n",
    "    trendline_color_override=\"yellow\",\n",
    ")\n",
    "fig.show()\n",
    "subset.loc[:, f\"{metric}_adj\"] = subset[metric] / subset[\"avgToi\"]\n",
    "subset.loc[:, f\"{metric}_adj_rank\"] = subset[f\"{metric}_adj\"].rank(ascending=False, method='first').astype(int)"
   ]
  },
  {
   "cell_type": "code",
   "execution_count": 107,
   "id": "7db817ca",
   "metadata": {},
   "outputs": [
    {
     "data": {
      "application/vnd.plotly.v1+json": {
       "config": {
        "plotlyServerURL": "https://plot.ly"
       },
       "data": [
        {
         "customdata": [
          [
           1,
           2,
           3,
           25,
           [
            "Los Angeles Kings"
           ],
           24,
           775000
          ],
          [
           4,
           21,
           25,
           81,
           [
            "Calgary Flames"
           ],
           25,
           1000000
          ],
          [
           7,
           13,
           20,
           57,
           [
            "Colorado Avalanche",
            "San Jose Sharks"
           ],
           25,
           896250
          ],
          [
           4,
           7,
           11,
           81,
           [
            "New York Islanders"
           ],
           25,
           775000
          ],
          [
           3,
           8,
           11,
           78,
           [
            "Boston Bruins"
           ],
           23,
           925000
          ],
          [
           23,
           24,
           47,
           73,
           [
            "Columbus Blue Jackets"
           ],
           24,
           925000
          ],
          [
           6,
           7,
           13,
           63,
           [
            "Seattle Kraken"
           ],
           23,
           859167
          ],
          [
           13,
           14,
           27,
           54,
           [
            "Calgary Flames"
           ],
           23,
           863333
          ],
          [
           6,
           4,
           10,
           35,
           [
            "New York Rangers"
           ],
           22,
           867500
          ],
          [
           11,
           14,
           25,
           73,
           [
            "Dallas Stars"
           ],
           22,
           894167
          ],
          [
           19,
           23,
           42,
           77,
           [
            "Los Angeles Kings"
           ],
           23,
           875000
          ],
          [
           2,
           4,
           6,
           33,
           [
            "Chicago Blackhawks"
           ],
           22,
           912500
          ],
          [
           5,
           7,
           12,
           75,
           [
            "Minnesota Wild",
            "Boston Bruins"
           ],
           22,
           925000
          ],
          [
           8,
           12,
           20,
           60,
           [
            "Tampa Bay Lightning"
           ],
           23,
           775000
          ],
          [
           0,
           1,
           1,
           12,
           [
            "Los Angeles Kings"
           ],
           28,
           775000
          ],
          [
           10,
           8,
           18,
           62,
           [
            "Montréal Canadiens"
           ],
           23,
           897500
          ],
          [
           7,
           12,
           19,
           51,
           [
            "Utah Hockey Club"
           ],
           22,
           925000
          ],
          [
           14,
           24,
           38,
           78,
           [
            "Dallas Stars",
            "Carolina Hurricanes"
           ],
           21,
           814167
          ],
          [
           15,
           16,
           31,
           72,
           [
            "Florida Panthers"
           ],
           22,
           925000
          ],
          [
           4,
           3,
           7,
           50,
           [
            "Los Angeles Kings"
           ],
           22,
           805833
          ],
          [
           5,
           10,
           15,
           62,
           [
            "Nashville Predators"
           ],
           21,
           863333
          ],
          [
           0,
           2,
           2,
           22,
           [
            "New York Rangers"
           ],
           21,
           863333
          ],
          [
           17,
           17,
           34,
           80,
           [
            "Carolina Hurricanes"
           ],
           21,
           905833
          ],
          [
           25,
           40,
           65,
           75,
           [
            "Utah Hockey Club"
           ],
           20,
           950000
          ],
          [
           20,
           24,
           44,
           82,
           [
            "Anaheim Ducks"
           ],
           20,
           950000
          ],
          [
           19,
           18,
           37,
           77,
           [
            "Detroit Red Wings"
           ],
           20,
           918333
          ],
          [
           12,
           14,
           26,
           53,
           [
            "Chicago Blackhawks"
           ],
           20,
           950000
          ],
          [
           8,
           1,
           9,
           39,
           [
            "New York Islanders"
           ],
           25,
           775000
          ],
          [
           23,
           44,
           67,
           82,
           [
            "Chicago Blackhawks"
           ],
           19,
           950000
          ],
          [
           10,
           18,
           28,
           75,
           [
            "Buffalo Sabres"
           ],
           19,
           950000
          ],
          [
           20,
           25,
           45,
           76,
           [
            "Anaheim Ducks"
           ],
           20,
           950000
          ],
          [
           31,
           23,
           54,
           82,
           [
            "Columbus Blue Jackets"
           ],
           20,
           950000
          ],
          [
           18,
           27,
           45,
           74,
           [
            "San Jose Sharks"
           ],
           19,
           950000
          ],
          [
           26,
           37,
           63,
           80,
           [
            "Philadelphia Flyers"
           ],
           20,
           950000
          ],
          [
           25,
           38,
           63,
           70,
           [
            "San Jose Sharks"
           ],
           18,
           975000
          ],
          [
           10,
           25,
           35,
           77,
           [
            "New York Islanders"
           ],
           26,
           950000
          ]
         ],
         "hovertemplate": "<b>%{hovertext}</b><br><br>avgToi=%{x}<br>p/60=%{y}<br>goals=%{customdata[0]}<br>assists=%{customdata[1]}<br>points=%{customdata[2]}<br>gamesPlayed=%{customdata[3]}<br>team=%{customdata[4]}<br>age=%{customdata[5]}<br>capHit=%{customdata[6]}<extra></extra>",
         "hovertext": [
          "Akil Thomas",
          "Martin Pospisil",
          "Nikolai Kovalenko",
          "Kyle MacLean",
          "John Beecher",
          "Dmitri Voronkov",
          "Tye Kartye",
          "Connor Zary",
          "Brett Berard",
          "Mavrik Bourque",
          "Alex Laferriere",
          "Landon Slaggert",
          "Marat Khusnutdinov",
          "Gage Goncalves",
          "Jeff Malott",
          "Emil Heineman",
          "Josh Doan",
          "Logan Stankoven",
          "Mackie Samoskevich",
          "Samuel Helenius",
          "Zachary L'Heureux",
          "Brennan Othmann",
          "Jackson Blake",
          "Logan Cooley",
          "Cutter Gauthier",
          "Marco Kasper",
          "Frank Nazar",
          "Marc Gatcomb",
          "Connor Bedard",
          "Zach Benson",
          "Leo Carlsson",
          "Adam Fantilli",
          "Will Smith",
          "Matvei Michkov",
          "Macklin Celebrini",
          "Maxim Tsyplakov"
         ],
         "legendgroup": "",
         "marker": {
          "color": "#636efa",
          "symbol": "circle"
         },
         "mode": "markers",
         "name": "",
         "orientation": "v",
         "showlegend": false,
         "type": "scatter",
         "x": {
          "bdata": "VVVVVVXVI0CZmZmZmZkrQNpKaiuprShA7+7u7u7uI0AREREREZEmQImIiIiIyDBA3t3d3d1dI0AREREREREwQO/u7u7ubiVA3t3d3d1dKUCJiIiIiIgwQJqZmZmZmShAxdmHz7ArKECamZmZmZkpQBERERERkSRAzczMzMzMJkCJiIiIiAgrQPAKr/AKLy5AIiIiIiKiKkDNzMzMzEwhQJqZmZmZGShA7+7u7u7uI0AzMzMzM7MrQN7d3d3d3TFAzMzMzMxMLEBlZmZmZuYuQLy7u7u7uy9AERERERGRI0CJiIiIiEg0QCIiIiIioi1AvLu7u7s7MEC8u7u7u3sxQDIzMzMzsy9A7+7u7u6uMECJiIiIiMgzQO/u7u7u7i1A",
          "dtype": "f8"
         },
         "xaxis": "x",
         "y": {
          "bdata": "F847F8475z8VaiTRgnj1Pz068J5vTPs/RzN3iUkp6j9DwydJTf/nP7Gy8MXfaQJA32CfNBR19D/+IeD9IeD9PzVaFtskmPk/VU1zQ9Pr+T+sr7766qv/P2EcGsahYew/+ToHYFNr6T8AAAAAAAD5Py10qNpJHt8/0BvAXr5y+D/3yXlzr3X6P1h4OKZa/f4/G5LIsu4J/z/ANqerPBPvP+4VgHpHRvM/31DZ2E6D4T8KYfswX3X9P7Rb+NWYSAdAfvwEqsIzAkBrjgyBhtv9P6oEDxpqrv0/0wMSafyk9j/NF+AS+VUDQAwGg8FgMPg/WOl2fgGCAUAl4T68dhQCQOQU0+l3agJAbY2/m0eoBkBnSi36KNYFQLXmt+zbJ/0/",
          "dtype": "f8"
         },
         "yaxis": "y"
        },
        {
         "hovertemplate": "<b>OLS trendline</b><br>p/60 = 0.183066 * avgToi + -0.854535<br>R<sup>2</sup>=0.723504<br><br>avgToi=%{x}<br>p/60=%{y} <b>(trend)</b><extra></extra>",
         "legendgroup": "",
         "line": {
          "color": "yellow"
         },
         "marker": {
          "color": "#636efa",
          "symbol": "circle"
         },
         "mode": "lines",
         "name": "",
         "showlegend": false,
         "type": "scatter",
         "x": {
          "bdata": "zczMzMxMIUDe3d3d3V0jQBERERERkSNAVVVVVVXVI0Dv7u7u7u4jQO/u7u7u7iNAERERERGRJEDv7u7u7m4lQBERERERkSZAzczMzMzMJkCamZmZmRkoQMXZh8+wKyhAmpmZmZmZKEDaSmorqa0oQN7d3d3dXSlAmpmZmZmZKUAiIiIiIqIqQImIiIiICCtAmZmZmZmZK0AzMzMzM7MrQMzMzMzMTCxAIiIiIiKiLUDv7u7u7u4tQPAKr/AKLy5AZWZmZmbmLkAyMzMzM7MvQLy7u7u7uy9AERERERERMEC8u7u7uzswQImIiIiIiDBA7+7u7u6uMECJiIiIiMgwQLy7u7u7ezFA3t3d3d3dMUCJiIiIiMgzQImIiIiISDRA",
          "dtype": "f8"
         },
         "xaxis": "x",
         "y": {
          "bdata": "GDO3l+BT5z8o2SDCi2HtPwgjbYyD9+0/NDAomni/7j8kVU5/dArvPyRVTn90Cu8/Nkr1P61y8D+dP0V2m7fxP5m7cjOEYPM/XZF0af+38z93gey6ZJ/1P6+Hn0fjufU/z93Ld9pa9j9J6aeqO3j2P73AiLtKevc/gZaK8cXR9z8DACW8MFX5P+VJcYYo6/k/4QcI5Zy/+j9bGpvXGuX6PyuJDYcOxvs/GSphKfO5/T+BYRoBbSr+P6Gl2+NQiP4/XWn9KdmU/z+Q/kpfZGAAQPrWuAekZgBA6vve7J+xAEAIcCmBHPAAQHCn4liWYAFAJEO/RNOYAUCcVVI3Ub4BQObWV9nCxAJAXEg2+3pUA0Cyf46kEyMGQArcbWGJ3gZA",
          "dtype": "f8"
         },
         "yaxis": "y"
        }
       ],
       "layout": {
        "height": 500,
        "legend": {
         "tracegroupgap": 0
        },
        "template": {
         "data": {
          "bar": [
           {
            "error_x": {
             "color": "#f2f5fa"
            },
            "error_y": {
             "color": "#f2f5fa"
            },
            "marker": {
             "line": {
              "color": "rgb(17,17,17)",
              "width": 0.5
             },
             "pattern": {
              "fillmode": "overlay",
              "size": 10,
              "solidity": 0.2
             }
            },
            "type": "bar"
           }
          ],
          "barpolar": [
           {
            "marker": {
             "line": {
              "color": "rgb(17,17,17)",
              "width": 0.5
             },
             "pattern": {
              "fillmode": "overlay",
              "size": 10,
              "solidity": 0.2
             }
            },
            "type": "barpolar"
           }
          ],
          "carpet": [
           {
            "aaxis": {
             "endlinecolor": "#A2B1C6",
             "gridcolor": "#506784",
             "linecolor": "#506784",
             "minorgridcolor": "#506784",
             "startlinecolor": "#A2B1C6"
            },
            "baxis": {
             "endlinecolor": "#A2B1C6",
             "gridcolor": "#506784",
             "linecolor": "#506784",
             "minorgridcolor": "#506784",
             "startlinecolor": "#A2B1C6"
            },
            "type": "carpet"
           }
          ],
          "choropleth": [
           {
            "colorbar": {
             "outlinewidth": 0,
             "ticks": ""
            },
            "type": "choropleth"
           }
          ],
          "contour": [
           {
            "colorbar": {
             "outlinewidth": 0,
             "ticks": ""
            },
            "colorscale": [
             [
              0,
              "#0d0887"
             ],
             [
              0.1111111111111111,
              "#46039f"
             ],
             [
              0.2222222222222222,
              "#7201a8"
             ],
             [
              0.3333333333333333,
              "#9c179e"
             ],
             [
              0.4444444444444444,
              "#bd3786"
             ],
             [
              0.5555555555555556,
              "#d8576b"
             ],
             [
              0.6666666666666666,
              "#ed7953"
             ],
             [
              0.7777777777777778,
              "#fb9f3a"
             ],
             [
              0.8888888888888888,
              "#fdca26"
             ],
             [
              1,
              "#f0f921"
             ]
            ],
            "type": "contour"
           }
          ],
          "contourcarpet": [
           {
            "colorbar": {
             "outlinewidth": 0,
             "ticks": ""
            },
            "type": "contourcarpet"
           }
          ],
          "heatmap": [
           {
            "colorbar": {
             "outlinewidth": 0,
             "ticks": ""
            },
            "colorscale": [
             [
              0,
              "#0d0887"
             ],
             [
              0.1111111111111111,
              "#46039f"
             ],
             [
              0.2222222222222222,
              "#7201a8"
             ],
             [
              0.3333333333333333,
              "#9c179e"
             ],
             [
              0.4444444444444444,
              "#bd3786"
             ],
             [
              0.5555555555555556,
              "#d8576b"
             ],
             [
              0.6666666666666666,
              "#ed7953"
             ],
             [
              0.7777777777777778,
              "#fb9f3a"
             ],
             [
              0.8888888888888888,
              "#fdca26"
             ],
             [
              1,
              "#f0f921"
             ]
            ],
            "type": "heatmap"
           }
          ],
          "histogram": [
           {
            "marker": {
             "pattern": {
              "fillmode": "overlay",
              "size": 10,
              "solidity": 0.2
             }
            },
            "type": "histogram"
           }
          ],
          "histogram2d": [
           {
            "colorbar": {
             "outlinewidth": 0,
             "ticks": ""
            },
            "colorscale": [
             [
              0,
              "#0d0887"
             ],
             [
              0.1111111111111111,
              "#46039f"
             ],
             [
              0.2222222222222222,
              "#7201a8"
             ],
             [
              0.3333333333333333,
              "#9c179e"
             ],
             [
              0.4444444444444444,
              "#bd3786"
             ],
             [
              0.5555555555555556,
              "#d8576b"
             ],
             [
              0.6666666666666666,
              "#ed7953"
             ],
             [
              0.7777777777777778,
              "#fb9f3a"
             ],
             [
              0.8888888888888888,
              "#fdca26"
             ],
             [
              1,
              "#f0f921"
             ]
            ],
            "type": "histogram2d"
           }
          ],
          "histogram2dcontour": [
           {
            "colorbar": {
             "outlinewidth": 0,
             "ticks": ""
            },
            "colorscale": [
             [
              0,
              "#0d0887"
             ],
             [
              0.1111111111111111,
              "#46039f"
             ],
             [
              0.2222222222222222,
              "#7201a8"
             ],
             [
              0.3333333333333333,
              "#9c179e"
             ],
             [
              0.4444444444444444,
              "#bd3786"
             ],
             [
              0.5555555555555556,
              "#d8576b"
             ],
             [
              0.6666666666666666,
              "#ed7953"
             ],
             [
              0.7777777777777778,
              "#fb9f3a"
             ],
             [
              0.8888888888888888,
              "#fdca26"
             ],
             [
              1,
              "#f0f921"
             ]
            ],
            "type": "histogram2dcontour"
           }
          ],
          "mesh3d": [
           {
            "colorbar": {
             "outlinewidth": 0,
             "ticks": ""
            },
            "type": "mesh3d"
           }
          ],
          "parcoords": [
           {
            "line": {
             "colorbar": {
              "outlinewidth": 0,
              "ticks": ""
             }
            },
            "type": "parcoords"
           }
          ],
          "pie": [
           {
            "automargin": true,
            "type": "pie"
           }
          ],
          "scatter": [
           {
            "marker": {
             "line": {
              "color": "#283442"
             }
            },
            "type": "scatter"
           }
          ],
          "scatter3d": [
           {
            "line": {
             "colorbar": {
              "outlinewidth": 0,
              "ticks": ""
             }
            },
            "marker": {
             "colorbar": {
              "outlinewidth": 0,
              "ticks": ""
             }
            },
            "type": "scatter3d"
           }
          ],
          "scattercarpet": [
           {
            "marker": {
             "colorbar": {
              "outlinewidth": 0,
              "ticks": ""
             }
            },
            "type": "scattercarpet"
           }
          ],
          "scattergeo": [
           {
            "marker": {
             "colorbar": {
              "outlinewidth": 0,
              "ticks": ""
             }
            },
            "type": "scattergeo"
           }
          ],
          "scattergl": [
           {
            "marker": {
             "line": {
              "color": "#283442"
             }
            },
            "type": "scattergl"
           }
          ],
          "scattermap": [
           {
            "marker": {
             "colorbar": {
              "outlinewidth": 0,
              "ticks": ""
             }
            },
            "type": "scattermap"
           }
          ],
          "scattermapbox": [
           {
            "marker": {
             "colorbar": {
              "outlinewidth": 0,
              "ticks": ""
             }
            },
            "type": "scattermapbox"
           }
          ],
          "scatterpolar": [
           {
            "marker": {
             "colorbar": {
              "outlinewidth": 0,
              "ticks": ""
             }
            },
            "type": "scatterpolar"
           }
          ],
          "scatterpolargl": [
           {
            "marker": {
             "colorbar": {
              "outlinewidth": 0,
              "ticks": ""
             }
            },
            "type": "scatterpolargl"
           }
          ],
          "scatterternary": [
           {
            "marker": {
             "colorbar": {
              "outlinewidth": 0,
              "ticks": ""
             }
            },
            "type": "scatterternary"
           }
          ],
          "surface": [
           {
            "colorbar": {
             "outlinewidth": 0,
             "ticks": ""
            },
            "colorscale": [
             [
              0,
              "#0d0887"
             ],
             [
              0.1111111111111111,
              "#46039f"
             ],
             [
              0.2222222222222222,
              "#7201a8"
             ],
             [
              0.3333333333333333,
              "#9c179e"
             ],
             [
              0.4444444444444444,
              "#bd3786"
             ],
             [
              0.5555555555555556,
              "#d8576b"
             ],
             [
              0.6666666666666666,
              "#ed7953"
             ],
             [
              0.7777777777777778,
              "#fb9f3a"
             ],
             [
              0.8888888888888888,
              "#fdca26"
             ],
             [
              1,
              "#f0f921"
             ]
            ],
            "type": "surface"
           }
          ],
          "table": [
           {
            "cells": {
             "fill": {
              "color": "#506784"
             },
             "line": {
              "color": "rgb(17,17,17)"
             }
            },
            "header": {
             "fill": {
              "color": "#2a3f5f"
             },
             "line": {
              "color": "rgb(17,17,17)"
             }
            },
            "type": "table"
           }
          ]
         },
         "layout": {
          "annotationdefaults": {
           "arrowcolor": "#f2f5fa",
           "arrowhead": 0,
           "arrowwidth": 1
          },
          "autotypenumbers": "strict",
          "coloraxis": {
           "colorbar": {
            "outlinewidth": 0,
            "ticks": ""
           }
          },
          "colorscale": {
           "diverging": [
            [
             0,
             "#8e0152"
            ],
            [
             0.1,
             "#c51b7d"
            ],
            [
             0.2,
             "#de77ae"
            ],
            [
             0.3,
             "#f1b6da"
            ],
            [
             0.4,
             "#fde0ef"
            ],
            [
             0.5,
             "#f7f7f7"
            ],
            [
             0.6,
             "#e6f5d0"
            ],
            [
             0.7,
             "#b8e186"
            ],
            [
             0.8,
             "#7fbc41"
            ],
            [
             0.9,
             "#4d9221"
            ],
            [
             1,
             "#276419"
            ]
           ],
           "sequential": [
            [
             0,
             "#0d0887"
            ],
            [
             0.1111111111111111,
             "#46039f"
            ],
            [
             0.2222222222222222,
             "#7201a8"
            ],
            [
             0.3333333333333333,
             "#9c179e"
            ],
            [
             0.4444444444444444,
             "#bd3786"
            ],
            [
             0.5555555555555556,
             "#d8576b"
            ],
            [
             0.6666666666666666,
             "#ed7953"
            ],
            [
             0.7777777777777778,
             "#fb9f3a"
            ],
            [
             0.8888888888888888,
             "#fdca26"
            ],
            [
             1,
             "#f0f921"
            ]
           ],
           "sequentialminus": [
            [
             0,
             "#0d0887"
            ],
            [
             0.1111111111111111,
             "#46039f"
            ],
            [
             0.2222222222222222,
             "#7201a8"
            ],
            [
             0.3333333333333333,
             "#9c179e"
            ],
            [
             0.4444444444444444,
             "#bd3786"
            ],
            [
             0.5555555555555556,
             "#d8576b"
            ],
            [
             0.6666666666666666,
             "#ed7953"
            ],
            [
             0.7777777777777778,
             "#fb9f3a"
            ],
            [
             0.8888888888888888,
             "#fdca26"
            ],
            [
             1,
             "#f0f921"
            ]
           ]
          },
          "colorway": [
           "#636efa",
           "#EF553B",
           "#00cc96",
           "#ab63fa",
           "#FFA15A",
           "#19d3f3",
           "#FF6692",
           "#B6E880",
           "#FF97FF",
           "#FECB52"
          ],
          "font": {
           "color": "#f2f5fa"
          },
          "geo": {
           "bgcolor": "rgb(17,17,17)",
           "lakecolor": "rgb(17,17,17)",
           "landcolor": "rgb(17,17,17)",
           "showlakes": true,
           "showland": true,
           "subunitcolor": "#506784"
          },
          "hoverlabel": {
           "align": "left"
          },
          "hovermode": "closest",
          "mapbox": {
           "style": "dark"
          },
          "paper_bgcolor": "rgb(17,17,17)",
          "plot_bgcolor": "rgb(17,17,17)",
          "polar": {
           "angularaxis": {
            "gridcolor": "#506784",
            "linecolor": "#506784",
            "ticks": ""
           },
           "bgcolor": "rgb(17,17,17)",
           "radialaxis": {
            "gridcolor": "#506784",
            "linecolor": "#506784",
            "ticks": ""
           }
          },
          "scene": {
           "xaxis": {
            "backgroundcolor": "rgb(17,17,17)",
            "gridcolor": "#506784",
            "gridwidth": 2,
            "linecolor": "#506784",
            "showbackground": true,
            "ticks": "",
            "zerolinecolor": "#C8D4E3"
           },
           "yaxis": {
            "backgroundcolor": "rgb(17,17,17)",
            "gridcolor": "#506784",
            "gridwidth": 2,
            "linecolor": "#506784",
            "showbackground": true,
            "ticks": "",
            "zerolinecolor": "#C8D4E3"
           },
           "zaxis": {
            "backgroundcolor": "rgb(17,17,17)",
            "gridcolor": "#506784",
            "gridwidth": 2,
            "linecolor": "#506784",
            "showbackground": true,
            "ticks": "",
            "zerolinecolor": "#C8D4E3"
           }
          },
          "shapedefaults": {
           "line": {
            "color": "#f2f5fa"
           }
          },
          "sliderdefaults": {
           "bgcolor": "#C8D4E3",
           "bordercolor": "rgb(17,17,17)",
           "borderwidth": 1,
           "tickwidth": 0
          },
          "ternary": {
           "aaxis": {
            "gridcolor": "#506784",
            "linecolor": "#506784",
            "ticks": ""
           },
           "baxis": {
            "gridcolor": "#506784",
            "linecolor": "#506784",
            "ticks": ""
           },
           "bgcolor": "rgb(17,17,17)",
           "caxis": {
            "gridcolor": "#506784",
            "linecolor": "#506784",
            "ticks": ""
           }
          },
          "title": {
           "x": 0.05
          },
          "updatemenudefaults": {
           "bgcolor": "#506784",
           "borderwidth": 0
          },
          "xaxis": {
           "automargin": true,
           "gridcolor": "#283442",
           "linecolor": "#506784",
           "ticks": "",
           "title": {
            "standoff": 15
           },
           "zerolinecolor": "#283442",
           "zerolinewidth": 2
          },
          "yaxis": {
           "automargin": true,
           "gridcolor": "#283442",
           "linecolor": "#506784",
           "ticks": "",
           "title": {
            "standoff": 15
           },
           "zerolinecolor": "#283442",
           "zerolinewidth": 2
          }
         }
        },
        "title": {
         "text": "Avg Time on Ice vs p/60"
        },
        "width": 800,
        "xaxis": {
         "anchor": "y",
         "domain": [
          0,
          1
         ],
         "title": {
          "text": "avgToi"
         }
        },
        "yaxis": {
         "anchor": "x",
         "domain": [
          0,
          1
         ],
         "title": {
          "text": "p/60"
         }
        }
       }
      },
      "image/png": "[encoded data removed]"
     },
     "metadata": {},
     "output_type": "display_data"
    }
   ],
   "source": [
    "metric = \"p/60\"\n",
    "fig = px.scatter(\n",
    "    subset,\n",
    "    x=\"avgToi\",\n",
    "    y=metric,\n",
    "    hover_name=\"playerName\",\n",
    "    hover_data=[\"goals\", \"assists\", \"points\", \"gamesPlayed\", \"team\", \"age\", \"capHit\"],\n",
    "    width=800,\n",
    "    height=500,\n",
    "    title=f\"Avg Time on Ice vs {metric}\",\n",
    "    trendline=\"ols\",\n",
    "    trendline_color_override=\"yellow\",\n",
    ")\n",
    "fig.show()\n",
    "subset.loc[:, f\"{metric}_adj\"] = subset[metric] / subset[\"avgToi\"]\n",
    "subset.loc[:, f\"{metric}_adj_rank\"] = subset[f\"{metric}_adj\"].rank(ascending=False, method='first').astype(int)"
   ]
  },
  {
   "cell_type": "markdown",
   "id": "577cb167",
   "metadata": {},
   "source": [
    "Now that I have the three adjusted metrics for goals/assists/points and their respective rankings, I will create the rank_sum metric by adding up the three rankings.\n",
    "\n",
    "Sorting by this rank sum in ascending order, we see some well-known rising stars in the NHL such as Matvei Michkov, Cutter Gauthier, and Logan Cooley. These players already get a relatively high amount of ice time, so even after adjusting for ice time they are performing well.\n",
    "\n",
    "Some players towards the top of the list who have relatively low ice time include Brett Berard (exciting to see as a Rangers fan myself), Nikolai Kovalenko, and Emil Heineman. These are some of the players I plan to include in my breakout candidates lineup."
   ]
  },
  {
   "cell_type": "code",
   "execution_count": 110,
   "id": "549104eb",
   "metadata": {},
   "outputs": [
    {
     "data": {
      "text/html": [
       "<div>\n",
       "<style scoped>\n",
       "    .dataframe tbody tr th:only-of-type {\n",
       "        vertical-align: middle;\n",
       "    }\n",
       "\n",
       "    .dataframe tbody tr th {\n",
       "        vertical-align: top;\n",
       "    }\n",
       "\n",
       "    .dataframe thead th {\n",
       "        text-align: right;\n",
       "    }\n",
       "</style>\n",
       "<table border=\"1\" class=\"dataframe\">\n",
       "  <thead>\n",
       "    <tr style=\"text-align: right;\">\n",
       "      <th></th>\n",
       "      <th>rank_sum</th>\n",
       "      <th>playerName</th>\n",
       "      <th>team</th>\n",
       "      <th>gamesPlayed</th>\n",
       "      <th>goals</th>\n",
       "      <th>assists</th>\n",
       "      <th>points</th>\n",
       "      <th>avgToi</th>\n",
       "      <th>g/60_adj_rank</th>\n",
       "      <th>a/60_adj_rank</th>\n",
       "      <th>p/60_adj_rank</th>\n",
       "    </tr>\n",
       "  </thead>\n",
       "  <tbody>\n",
       "    <tr>\n",
       "      <th>468</th>\n",
       "      <td>10</td>\n",
       "      <td>Matvei Michkov</td>\n",
       "      <td>[Philadelphia Flyers]</td>\n",
       "      <td>80</td>\n",
       "      <td>26.0</td>\n",
       "      <td>37.0</td>\n",
       "      <td>63</td>\n",
       "      <td>16.683333</td>\n",
       "      <td>7</td>\n",
       "      <td>2</td>\n",
       "      <td>1</td>\n",
       "    </tr>\n",
       "    <tr>\n",
       "      <th>441</th>\n",
       "      <td>12</td>\n",
       "      <td>Cutter Gauthier</td>\n",
       "      <td>[Anaheim Ducks]</td>\n",
       "      <td>82</td>\n",
       "      <td>20.0</td>\n",
       "      <td>24.0</td>\n",
       "      <td>44</td>\n",
       "      <td>14.150000</td>\n",
       "      <td>5</td>\n",
       "      <td>4</td>\n",
       "      <td>3</td>\n",
       "    </tr>\n",
       "    <tr>\n",
       "      <th>440</th>\n",
       "      <td>14</td>\n",
       "      <td>Logan Cooley</td>\n",
       "      <td>[Utah Hockey Club]</td>\n",
       "      <td>75</td>\n",
       "      <td>25.0</td>\n",
       "      <td>40.0</td>\n",
       "      <td>65</td>\n",
       "      <td>17.866667</td>\n",
       "      <td>11</td>\n",
       "      <td>1</td>\n",
       "      <td>2</td>\n",
       "    </tr>\n",
       "    <tr>\n",
       "      <th>428</th>\n",
       "      <td>23</td>\n",
       "      <td>Mackie Samoskevich</td>\n",
       "      <td>[Florida Panthers]</td>\n",
       "      <td>72</td>\n",
       "      <td>15.0</td>\n",
       "      <td>16.0</td>\n",
       "      <td>31</td>\n",
       "      <td>13.316667</td>\n",
       "      <td>6</td>\n",
       "      <td>12</td>\n",
       "      <td>5</td>\n",
       "    </tr>\n",
       "    <tr>\n",
       "      <th>465</th>\n",
       "      <td>26</td>\n",
       "      <td>Will Smith</td>\n",
       "      <td>[San Jose Sharks]</td>\n",
       "      <td>74</td>\n",
       "      <td>18.0</td>\n",
       "      <td>27.0</td>\n",
       "      <td>45</td>\n",
       "      <td>15.850000</td>\n",
       "      <td>15</td>\n",
       "      <td>5</td>\n",
       "      <td>6</td>\n",
       "    </tr>\n",
       "    <tr>\n",
       "      <th>400</th>\n",
       "      <td>30</td>\n",
       "      <td>Brett Berard</td>\n",
       "      <td>[New York Rangers]</td>\n",
       "      <td>35</td>\n",
       "      <td>6.0</td>\n",
       "      <td>4.0</td>\n",
       "      <td>10</td>\n",
       "      <td>10.716667</td>\n",
       "      <td>2</td>\n",
       "      <td>24</td>\n",
       "      <td>4</td>\n",
       "    </tr>\n",
       "    <tr>\n",
       "      <th>336</th>\n",
       "      <td>33</td>\n",
       "      <td>Nikolai Kovalenko</td>\n",
       "      <td>[Colorado Avalanche, San Jose Sharks]</td>\n",
       "      <td>57</td>\n",
       "      <td>7.0</td>\n",
       "      <td>13.0</td>\n",
       "      <td>20</td>\n",
       "      <td>12.339181</td>\n",
       "      <td>22</td>\n",
       "      <td>3</td>\n",
       "      <td>8</td>\n",
       "    </tr>\n",
       "    <tr>\n",
       "      <th>469</th>\n",
       "      <td>34</td>\n",
       "      <td>Macklin Celebrini</td>\n",
       "      <td>[San Jose Sharks]</td>\n",
       "      <td>70</td>\n",
       "      <td>25.0</td>\n",
       "      <td>38.0</td>\n",
       "      <td>63</td>\n",
       "      <td>19.783333</td>\n",
       "      <td>18</td>\n",
       "      <td>7</td>\n",
       "      <td>9</td>\n",
       "    </tr>\n",
       "    <tr>\n",
       "      <th>379</th>\n",
       "      <td>35</td>\n",
       "      <td>Dmitri Voronkov</td>\n",
       "      <td>[Columbus Blue Jackets]</td>\n",
       "      <td>73</td>\n",
       "      <td>23.0</td>\n",
       "      <td>24.0</td>\n",
       "      <td>47</td>\n",
       "      <td>16.783333</td>\n",
       "      <td>8</td>\n",
       "      <td>17</td>\n",
       "      <td>10</td>\n",
       "    </tr>\n",
       "    <tr>\n",
       "      <th>460</th>\n",
       "      <td>38</td>\n",
       "      <td>Leo Carlsson</td>\n",
       "      <td>[Anaheim Ducks]</td>\n",
       "      <td>76</td>\n",
       "      <td>20.0</td>\n",
       "      <td>25.0</td>\n",
       "      <td>45</td>\n",
       "      <td>16.233333</td>\n",
       "      <td>14</td>\n",
       "      <td>13</td>\n",
       "      <td>11</td>\n",
       "    </tr>\n",
       "    <tr>\n",
       "      <th>416</th>\n",
       "      <td>40</td>\n",
       "      <td>Emil Heineman</td>\n",
       "      <td>[Montréal Canadiens]</td>\n",
       "      <td>62</td>\n",
       "      <td>10.0</td>\n",
       "      <td>8.0</td>\n",
       "      <td>18</td>\n",
       "      <td>11.400000</td>\n",
       "      <td>3</td>\n",
       "      <td>25</td>\n",
       "      <td>12</td>\n",
       "    </tr>\n",
       "    <tr>\n",
       "      <th>437</th>\n",
       "      <td>41</td>\n",
       "      <td>Jackson Blake</td>\n",
       "      <td>[Carolina Hurricanes]</td>\n",
       "      <td>80</td>\n",
       "      <td>17.0</td>\n",
       "      <td>17.0</td>\n",
       "      <td>34</td>\n",
       "      <td>13.850000</td>\n",
       "      <td>9</td>\n",
       "      <td>19</td>\n",
       "      <td>13</td>\n",
       "    </tr>\n",
       "    <tr>\n",
       "      <th>381</th>\n",
       "      <td>43</td>\n",
       "      <td>Tye Kartye</td>\n",
       "      <td>[Seattle Kraken]</td>\n",
       "      <td>63</td>\n",
       "      <td>6.0</td>\n",
       "      <td>7.0</td>\n",
       "      <td>13</td>\n",
       "      <td>9.683333</td>\n",
       "      <td>13</td>\n",
       "      <td>16</td>\n",
       "      <td>14</td>\n",
       "    </tr>\n",
       "    <tr>\n",
       "      <th>454</th>\n",
       "      <td>44</td>\n",
       "      <td>Marc Gatcomb</td>\n",
       "      <td>[New York Islanders]</td>\n",
       "      <td>39</td>\n",
       "      <td>8.0</td>\n",
       "      <td>1.0</td>\n",
       "      <td>9</td>\n",
       "      <td>9.783333</td>\n",
       "      <td>1</td>\n",
       "      <td>36</td>\n",
       "      <td>7</td>\n",
       "    </tr>\n",
       "    <tr>\n",
       "      <th>461</th>\n",
       "      <td>46</td>\n",
       "      <td>Adam Fantilli</td>\n",
       "      <td>[Columbus Blue Jackets]</td>\n",
       "      <td>82</td>\n",
       "      <td>31.0</td>\n",
       "      <td>23.0</td>\n",
       "      <td>54</td>\n",
       "      <td>17.483333</td>\n",
       "      <td>4</td>\n",
       "      <td>27</td>\n",
       "      <td>15</td>\n",
       "    </tr>\n",
       "    <tr>\n",
       "      <th>402</th>\n",
       "      <td>48</td>\n",
       "      <td>Mavrik Bourque</td>\n",
       "      <td>[Dallas Stars]</td>\n",
       "      <td>73</td>\n",
       "      <td>11.0</td>\n",
       "      <td>14.0</td>\n",
       "      <td>25</td>\n",
       "      <td>12.683333</td>\n",
       "      <td>16</td>\n",
       "      <td>15</td>\n",
       "      <td>17</td>\n",
       "    </tr>\n",
       "    <tr>\n",
       "      <th>426</th>\n",
       "      <td>48</td>\n",
       "      <td>Logan Stankoven</td>\n",
       "      <td>[Dallas Stars, Carolina Hurricanes]</td>\n",
       "      <td>78</td>\n",
       "      <td>14.0</td>\n",
       "      <td>24.0</td>\n",
       "      <td>38</td>\n",
       "      <td>15.091880</td>\n",
       "      <td>23</td>\n",
       "      <td>9</td>\n",
       "      <td>16</td>\n",
       "    </tr>\n",
       "    <tr>\n",
       "      <th>472</th>\n",
       "      <td>53</td>\n",
       "      <td>Maxim Tsyplakov</td>\n",
       "      <td>[New York Islanders]</td>\n",
       "      <td>77</td>\n",
       "      <td>10.0</td>\n",
       "      <td>25.0</td>\n",
       "      <td>35</td>\n",
       "      <td>14.966667</td>\n",
       "      <td>27</td>\n",
       "      <td>6</td>\n",
       "      <td>20</td>\n",
       "    </tr>\n",
       "    <tr>\n",
       "      <th>420</th>\n",
       "      <td>53</td>\n",
       "      <td>Josh Doan</td>\n",
       "      <td>[Utah Hockey Club]</td>\n",
       "      <td>51</td>\n",
       "      <td>7.0</td>\n",
       "      <td>12.0</td>\n",
       "      <td>19</td>\n",
       "      <td>13.516667</td>\n",
       "      <td>24</td>\n",
       "      <td>11</td>\n",
       "      <td>18</td>\n",
       "    </tr>\n",
       "    <tr>\n",
       "      <th>411</th>\n",
       "      <td>54</td>\n",
       "      <td>Gage Goncalves</td>\n",
       "      <td>[Tampa Bay Lightning]</td>\n",
       "      <td>60</td>\n",
       "      <td>8.0</td>\n",
       "      <td>12.0</td>\n",
       "      <td>20</td>\n",
       "      <td>12.800000</td>\n",
       "      <td>21</td>\n",
       "      <td>14</td>\n",
       "      <td>19</td>\n",
       "    </tr>\n",
       "    <tr>\n",
       "      <th>458</th>\n",
       "      <td>58</td>\n",
       "      <td>Connor Bedard</td>\n",
       "      <td>[Chicago Blackhawks]</td>\n",
       "      <td>82</td>\n",
       "      <td>23.0</td>\n",
       "      <td>44.0</td>\n",
       "      <td>67</td>\n",
       "      <td>20.283333</td>\n",
       "      <td>25</td>\n",
       "      <td>10</td>\n",
       "      <td>23</td>\n",
       "    </tr>\n",
       "    <tr>\n",
       "      <th>444</th>\n",
       "      <td>59</td>\n",
       "      <td>Marco Kasper</td>\n",
       "      <td>[Detroit Red Wings]</td>\n",
       "      <td>77</td>\n",
       "      <td>19.0</td>\n",
       "      <td>18.0</td>\n",
       "      <td>37</td>\n",
       "      <td>15.450000</td>\n",
       "      <td>12</td>\n",
       "      <td>26</td>\n",
       "      <td>21</td>\n",
       "    </tr>\n",
       "    <tr>\n",
       "      <th>405</th>\n",
       "      <td>62</td>\n",
       "      <td>Alex Laferriere</td>\n",
       "      <td>[Los Angeles Kings]</td>\n",
       "      <td>77</td>\n",
       "      <td>19.0</td>\n",
       "      <td>23.0</td>\n",
       "      <td>42</td>\n",
       "      <td>16.533333</td>\n",
       "      <td>19</td>\n",
       "      <td>21</td>\n",
       "      <td>22</td>\n",
       "    </tr>\n",
       "    <tr>\n",
       "      <th>385</th>\n",
       "      <td>65</td>\n",
       "      <td>Connor Zary</td>\n",
       "      <td>[Calgary Flames]</td>\n",
       "      <td>54</td>\n",
       "      <td>13.0</td>\n",
       "      <td>14.0</td>\n",
       "      <td>27</td>\n",
       "      <td>16.066667</td>\n",
       "      <td>17</td>\n",
       "      <td>23</td>\n",
       "      <td>25</td>\n",
       "    </tr>\n",
       "    <tr>\n",
       "      <th>447</th>\n",
       "      <td>66</td>\n",
       "      <td>Frank Nazar</td>\n",
       "      <td>[Chicago Blackhawks]</td>\n",
       "      <td>53</td>\n",
       "      <td>12.0</td>\n",
       "      <td>14.0</td>\n",
       "      <td>26</td>\n",
       "      <td>15.866667</td>\n",
       "      <td>20</td>\n",
       "      <td>22</td>\n",
       "      <td>24</td>\n",
       "    </tr>\n",
       "    <tr>\n",
       "      <th>430</th>\n",
       "      <td>68</td>\n",
       "      <td>Samuel Helenius</td>\n",
       "      <td>[Los Angeles Kings]</td>\n",
       "      <td>50</td>\n",
       "      <td>4.0</td>\n",
       "      <td>3.0</td>\n",
       "      <td>7</td>\n",
       "      <td>8.650000</td>\n",
       "      <td>10</td>\n",
       "      <td>32</td>\n",
       "      <td>26</td>\n",
       "    </tr>\n",
       "    <tr>\n",
       "      <th>334</th>\n",
       "      <td>71</td>\n",
       "      <td>Martin Pospisil</td>\n",
       "      <td>[Calgary Flames]</td>\n",
       "      <td>81</td>\n",
       "      <td>4.0</td>\n",
       "      <td>21.0</td>\n",
       "      <td>25</td>\n",
       "      <td>13.800000</td>\n",
       "      <td>34</td>\n",
       "      <td>8</td>\n",
       "      <td>29</td>\n",
       "    </tr>\n",
       "    <tr>\n",
       "      <th>459</th>\n",
       "      <td>73</td>\n",
       "      <td>Zach Benson</td>\n",
       "      <td>[Buffalo Sabres]</td>\n",
       "      <td>75</td>\n",
       "      <td>10.0</td>\n",
       "      <td>18.0</td>\n",
       "      <td>28</td>\n",
       "      <td>14.816667</td>\n",
       "      <td>26</td>\n",
       "      <td>20</td>\n",
       "      <td>27</td>\n",
       "    </tr>\n",
       "    <tr>\n",
       "      <th>433</th>\n",
       "      <td>74</td>\n",
       "      <td>Zachary L'Heureux</td>\n",
       "      <td>[Nashville Predators]</td>\n",
       "      <td>62</td>\n",
       "      <td>5.0</td>\n",
       "      <td>10.0</td>\n",
       "      <td>15</td>\n",
       "      <td>12.050000</td>\n",
       "      <td>28</td>\n",
       "      <td>18</td>\n",
       "      <td>28</td>\n",
       "    </tr>\n",
       "    <tr>\n",
       "      <th>343</th>\n",
       "      <td>88</td>\n",
       "      <td>Kyle MacLean</td>\n",
       "      <td>[New York Islanders]</td>\n",
       "      <td>81</td>\n",
       "      <td>4.0</td>\n",
       "      <td>7.0</td>\n",
       "      <td>11</td>\n",
       "      <td>9.966667</td>\n",
       "      <td>29</td>\n",
       "      <td>29</td>\n",
       "      <td>30</td>\n",
       "    </tr>\n",
       "    <tr>\n",
       "      <th>325</th>\n",
       "      <td>92</td>\n",
       "      <td>Akil Thomas</td>\n",
       "      <td>[Los Angeles Kings]</td>\n",
       "      <td>25</td>\n",
       "      <td>1.0</td>\n",
       "      <td>2.0</td>\n",
       "      <td>3</td>\n",
       "      <td>9.916667</td>\n",
       "      <td>31</td>\n",
       "      <td>30</td>\n",
       "      <td>31</td>\n",
       "    </tr>\n",
       "    <tr>\n",
       "      <th>359</th>\n",
       "      <td>97</td>\n",
       "      <td>John Beecher</td>\n",
       "      <td>[Boston Bruins]</td>\n",
       "      <td>78</td>\n",
       "      <td>3.0</td>\n",
       "      <td>8.0</td>\n",
       "      <td>11</td>\n",
       "      <td>11.283333</td>\n",
       "      <td>33</td>\n",
       "      <td>31</td>\n",
       "      <td>33</td>\n",
       "    </tr>\n",
       "    <tr>\n",
       "      <th>408</th>\n",
       "      <td>97</td>\n",
       "      <td>Landon Slaggert</td>\n",
       "      <td>[Chicago Blackhawks]</td>\n",
       "      <td>33</td>\n",
       "      <td>2.0</td>\n",
       "      <td>4.0</td>\n",
       "      <td>6</td>\n",
       "      <td>12.300000</td>\n",
       "      <td>32</td>\n",
       "      <td>33</td>\n",
       "      <td>32</td>\n",
       "    </tr>\n",
       "    <tr>\n",
       "      <th>410</th>\n",
       "      <td>99</td>\n",
       "      <td>Marat Khusnutdinov</td>\n",
       "      <td>[Minnesota Wild, Boston Bruins]</td>\n",
       "      <td>75</td>\n",
       "      <td>5.0</td>\n",
       "      <td>7.0</td>\n",
       "      <td>12</td>\n",
       "      <td>12.085333</td>\n",
       "      <td>30</td>\n",
       "      <td>35</td>\n",
       "      <td>34</td>\n",
       "    </tr>\n",
       "    <tr>\n",
       "      <th>435</th>\n",
       "      <td>99</td>\n",
       "      <td>Brennan Othmann</td>\n",
       "      <td>[New York Rangers]</td>\n",
       "      <td>22</td>\n",
       "      <td>0.0</td>\n",
       "      <td>2.0</td>\n",
       "      <td>2</td>\n",
       "      <td>9.966667</td>\n",
       "      <td>36</td>\n",
       "      <td>28</td>\n",
       "      <td>35</td>\n",
       "    </tr>\n",
       "    <tr>\n",
       "      <th>413</th>\n",
       "      <td>105</td>\n",
       "      <td>Jeff Malott</td>\n",
       "      <td>[Los Angeles Kings]</td>\n",
       "      <td>12</td>\n",
       "      <td>0.0</td>\n",
       "      <td>1.0</td>\n",
       "      <td>1</td>\n",
       "      <td>10.283333</td>\n",
       "      <td>35</td>\n",
       "      <td>34</td>\n",
       "      <td>36</td>\n",
       "    </tr>\n",
       "  </tbody>\n",
       "</table>\n",
       "</div>"
      ],
      "text/plain": [
       "     rank_sum          playerName                                   team  \\\n",
       "468        10      Matvei Michkov                  [Philadelphia Flyers]   \n",
       "441        12     Cutter Gauthier                        [Anaheim Ducks]   \n",
       "440        14        Logan Cooley                     [Utah Hockey Club]   \n",
       "428        23  Mackie Samoskevich                     [Florida Panthers]   \n",
       "465        26          Will Smith                      [San Jose Sharks]   \n",
       "400        30        Brett Berard                     [New York Rangers]   \n",
       "336        33   Nikolai Kovalenko  [Colorado Avalanche, San Jose Sharks]   \n",
       "469        34   Macklin Celebrini                      [San Jose Sharks]   \n",
       "379        35     Dmitri Voronkov                [Columbus Blue Jackets]   \n",
       "460        38        Leo Carlsson                        [Anaheim Ducks]   \n",
       "416        40       Emil Heineman                   [Montréal Canadiens]   \n",
       "437        41       Jackson Blake                  [Carolina Hurricanes]   \n",
       "381        43          Tye Kartye                       [Seattle Kraken]   \n",
       "454        44        Marc Gatcomb                   [New York Islanders]   \n",
       "461        46       Adam Fantilli                [Columbus Blue Jackets]   \n",
       "402        48      Mavrik Bourque                         [Dallas Stars]   \n",
       "426        48     Logan Stankoven    [Dallas Stars, Carolina Hurricanes]   \n",
       "472        53     Maxim Tsyplakov                   [New York Islanders]   \n",
       "420        53           Josh Doan                     [Utah Hockey Club]   \n",
       "411        54      Gage Goncalves                  [Tampa Bay Lightning]   \n",
       "458        58       Connor Bedard                   [Chicago Blackhawks]   \n",
       "444        59        Marco Kasper                    [Detroit Red Wings]   \n",
       "405        62     Alex Laferriere                    [Los Angeles Kings]   \n",
       "385        65         Connor Zary                       [Calgary Flames]   \n",
       "447        66         Frank Nazar                   [Chicago Blackhawks]   \n",
       "430        68     Samuel Helenius                    [Los Angeles Kings]   \n",
       "334        71     Martin Pospisil                       [Calgary Flames]   \n",
       "459        73         Zach Benson                       [Buffalo Sabres]   \n",
       "433        74   Zachary L'Heureux                  [Nashville Predators]   \n",
       "343        88        Kyle MacLean                   [New York Islanders]   \n",
       "325        92         Akil Thomas                    [Los Angeles Kings]   \n",
       "359        97        John Beecher                        [Boston Bruins]   \n",
       "408        97     Landon Slaggert                   [Chicago Blackhawks]   \n",
       "410        99  Marat Khusnutdinov        [Minnesota Wild, Boston Bruins]   \n",
       "435        99     Brennan Othmann                     [New York Rangers]   \n",
       "413       105         Jeff Malott                    [Los Angeles Kings]   \n",
       "\n",
       "     gamesPlayed  goals  assists  points     avgToi  g/60_adj_rank  \\\n",
       "468           80   26.0     37.0      63  16.683333              7   \n",
       "441           82   20.0     24.0      44  14.150000              5   \n",
       "440           75   25.0     40.0      65  17.866667             11   \n",
       "428           72   15.0     16.0      31  13.316667              6   \n",
       "465           74   18.0     27.0      45  15.850000             15   \n",
       "400           35    6.0      4.0      10  10.716667              2   \n",
       "336           57    7.0     13.0      20  12.339181             22   \n",
       "469           70   25.0     38.0      63  19.783333             18   \n",
       "379           73   23.0     24.0      47  16.783333              8   \n",
       "460           76   20.0     25.0      45  16.233333             14   \n",
       "416           62   10.0      8.0      18  11.400000              3   \n",
       "437           80   17.0     17.0      34  13.850000              9   \n",
       "381           63    6.0      7.0      13   9.683333             13   \n",
       "454           39    8.0      1.0       9   9.783333              1   \n",
       "461           82   31.0     23.0      54  17.483333              4   \n",
       "402           73   11.0     14.0      25  12.683333             16   \n",
       "426           78   14.0     24.0      38  15.091880             23   \n",
       "472           77   10.0     25.0      35  14.966667             27   \n",
       "420           51    7.0     12.0      19  13.516667             24   \n",
       "411           60    8.0     12.0      20  12.800000             21   \n",
       "458           82   23.0     44.0      67  20.283333             25   \n",
       "444           77   19.0     18.0      37  15.450000             12   \n",
       "405           77   19.0     23.0      42  16.533333             19   \n",
       "385           54   13.0     14.0      27  16.066667             17   \n",
       "447           53   12.0     14.0      26  15.866667             20   \n",
       "430           50    4.0      3.0       7   8.650000             10   \n",
       "334           81    4.0     21.0      25  13.800000             34   \n",
       "459           75   10.0     18.0      28  14.816667             26   \n",
       "433           62    5.0     10.0      15  12.050000             28   \n",
       "343           81    4.0      7.0      11   9.966667             29   \n",
       "325           25    1.0      2.0       3   9.916667             31   \n",
       "359           78    3.0      8.0      11  11.283333             33   \n",
       "408           33    2.0      4.0       6  12.300000             32   \n",
       "410           75    5.0      7.0      12  12.085333             30   \n",
       "435           22    0.0      2.0       2   9.966667             36   \n",
       "413           12    0.0      1.0       1  10.283333             35   \n",
       "\n",
       "     a/60_adj_rank  p/60_adj_rank  \n",
       "468              2              1  \n",
       "441              4              3  \n",
       "440              1              2  \n",
       "428             12              5  \n",
       "465              5              6  \n",
       "400             24              4  \n",
       "336              3              8  \n",
       "469              7              9  \n",
       "379             17             10  \n",
       "460             13             11  \n",
       "416             25             12  \n",
       "437             19             13  \n",
       "381             16             14  \n",
       "454             36              7  \n",
       "461             27             15  \n",
       "402             15             17  \n",
       "426              9             16  \n",
       "472              6             20  \n",
       "420             11             18  \n",
       "411             14             19  \n",
       "458             10             23  \n",
       "444             26             21  \n",
       "405             21             22  \n",
       "385             23             25  \n",
       "447             22             24  \n",
       "430             32             26  \n",
       "334              8             29  \n",
       "459             20             27  \n",
       "433             18             28  \n",
       "343             29             30  \n",
       "325             30             31  \n",
       "359             31             33  \n",
       "408             33             32  \n",
       "410             35             34  \n",
       "435             28             35  \n",
       "413             34             36  "
      ]
     },
     "execution_count": 110,
     "metadata": {},
     "output_type": "execute_result"
    }
   ],
   "source": [
    "subset.loc[:, \"rank_sum\"] = subset[\"g/60_adj_rank\"] + subset[\"a/60_adj_rank\"] + subset[\"p/60_adj_rank\"]\n",
    "subset.sort_values(\"rank_sum\")[[\"rank_sum\", \"playerName\", \"team\", \"gamesPlayed\", \"goals\", \"assists\", \"points\", \"avgToi\", \"g/60_adj_rank\", \"a/60_adj_rank\", \"p/60_adj_rank\"]]"
   ]
  },
  {
   "cell_type": "markdown",
   "id": "8c7c7b33",
   "metadata": {},
   "source": [
    "One more plot for fun here, I have avgToi on the x-axis and rank_sum on the y-axis. Players below the trendline are those that are ranked above average compared to their peers in this subset with similar avgToi. Those in the bottom left section of the graph should be ideal breakout candidates."
   ]
  },
  {
   "cell_type": "code",
   "execution_count": 102,
   "id": "a54b7747",
   "metadata": {},
   "outputs": [
    {
     "data": {
      "application/vnd.plotly.v1+json": {
       "config": {
        "plotlyServerURL": "https://plot.ly"
       },
       "data": [
        {
         "customdata": [
          [
           1,
           2,
           3,
           25,
           [
            "Los Angeles Kings"
           ],
           24,
           775000
          ],
          [
           4,
           21,
           25,
           81,
           [
            "Calgary Flames"
           ],
           25,
           1000000
          ],
          [
           7,
           13,
           20,
           57,
           [
            "Colorado Avalanche",
            "San Jose Sharks"
           ],
           25,
           896250
          ],
          [
           4,
           7,
           11,
           81,
           [
            "New York Islanders"
           ],
           25,
           775000
          ],
          [
           3,
           8,
           11,
           78,
           [
            "Boston Bruins"
           ],
           23,
           925000
          ],
          [
           23,
           24,
           47,
           73,
           [
            "Columbus Blue Jackets"
           ],
           24,
           925000
          ],
          [
           6,
           7,
           13,
           63,
           [
            "Seattle Kraken"
           ],
           23,
           859167
          ],
          [
           13,
           14,
           27,
           54,
           [
            "Calgary Flames"
           ],
           23,
           863333
          ],
          [
           6,
           4,
           10,
           35,
           [
            "New York Rangers"
           ],
           22,
           867500
          ],
          [
           11,
           14,
           25,
           73,
           [
            "Dallas Stars"
           ],
           22,
           894167
          ],
          [
           19,
           23,
           42,
           77,
           [
            "Los Angeles Kings"
           ],
           23,
           875000
          ],
          [
           2,
           4,
           6,
           33,
           [
            "Chicago Blackhawks"
           ],
           22,
           912500
          ],
          [
           5,
           7,
           12,
           75,
           [
            "Minnesota Wild",
            "Boston Bruins"
           ],
           22,
           925000
          ],
          [
           8,
           12,
           20,
           60,
           [
            "Tampa Bay Lightning"
           ],
           23,
           775000
          ],
          [
           0,
           1,
           1,
           12,
           [
            "Los Angeles Kings"
           ],
           28,
           775000
          ],
          [
           10,
           8,
           18,
           62,
           [
            "Montréal Canadiens"
           ],
           23,
           897500
          ],
          [
           7,
           12,
           19,
           51,
           [
            "Utah Hockey Club"
           ],
           22,
           925000
          ],
          [
           14,
           24,
           38,
           78,
           [
            "Dallas Stars",
            "Carolina Hurricanes"
           ],
           21,
           814167
          ],
          [
           15,
           16,
           31,
           72,
           [
            "Florida Panthers"
           ],
           22,
           925000
          ],
          [
           4,
           3,
           7,
           50,
           [
            "Los Angeles Kings"
           ],
           22,
           805833
          ],
          [
           5,
           10,
           15,
           62,
           [
            "Nashville Predators"
           ],
           21,
           863333
          ],
          [
           0,
           2,
           2,
           22,
           [
            "New York Rangers"
           ],
           21,
           863333
          ],
          [
           17,
           17,
           34,
           80,
           [
            "Carolina Hurricanes"
           ],
           21,
           905833
          ],
          [
           25,
           40,
           65,
           75,
           [
            "Utah Hockey Club"
           ],
           20,
           950000
          ],
          [
           20,
           24,
           44,
           82,
           [
            "Anaheim Ducks"
           ],
           20,
           950000
          ],
          [
           19,
           18,
           37,
           77,
           [
            "Detroit Red Wings"
           ],
           20,
           918333
          ],
          [
           12,
           14,
           26,
           53,
           [
            "Chicago Blackhawks"
           ],
           20,
           950000
          ],
          [
           8,
           1,
           9,
           39,
           [
            "New York Islanders"
           ],
           25,
           775000
          ],
          [
           23,
           44,
           67,
           82,
           [
            "Chicago Blackhawks"
           ],
           19,
           950000
          ],
          [
           10,
           18,
           28,
           75,
           [
            "Buffalo Sabres"
           ],
           19,
           950000
          ],
          [
           20,
           25,
           45,
           76,
           [
            "Anaheim Ducks"
           ],
           20,
           950000
          ],
          [
           31,
           23,
           54,
           82,
           [
            "Columbus Blue Jackets"
           ],
           20,
           950000
          ],
          [
           18,
           27,
           45,
           74,
           [
            "San Jose Sharks"
           ],
           19,
           950000
          ],
          [
           26,
           37,
           63,
           80,
           [
            "Philadelphia Flyers"
           ],
           20,
           950000
          ],
          [
           25,
           38,
           63,
           70,
           [
            "San Jose Sharks"
           ],
           18,
           975000
          ],
          [
           10,
           25,
           35,
           77,
           [
            "New York Islanders"
           ],
           26,
           950000
          ]
         ],
         "hovertemplate": "<b>%{hovertext}</b><br><br>avgToi=%{x}<br>rank_sum=%{y}<br>goals=%{customdata[0]}<br>assists=%{customdata[1]}<br>points=%{customdata[2]}<br>gamesPlayed=%{customdata[3]}<br>team=%{customdata[4]}<br>age=%{customdata[5]}<br>capHit=%{customdata[6]}<extra></extra>",
         "hovertext": [
          "Akil Thomas",
          "Martin Pospisil",
          "Nikolai Kovalenko",
          "Kyle MacLean",
          "John Beecher",
          "Dmitri Voronkov",
          "Tye Kartye",
          "Connor Zary",
          "Brett Berard",
          "Mavrik Bourque",
          "Alex Laferriere",
          "Landon Slaggert",
          "Marat Khusnutdinov",
          "Gage Goncalves",
          "Jeff Malott",
          "Emil Heineman",
          "Josh Doan",
          "Logan Stankoven",
          "Mackie Samoskevich",
          "Samuel Helenius",
          "Zachary L'Heureux",
          "Brennan Othmann",
          "Jackson Blake",
          "Logan Cooley",
          "Cutter Gauthier",
          "Marco Kasper",
          "Frank Nazar",
          "Marc Gatcomb",
          "Connor Bedard",
          "Zach Benson",
          "Leo Carlsson",
          "Adam Fantilli",
          "Will Smith",
          "Matvei Michkov",
          "Macklin Celebrini",
          "Maxim Tsyplakov"
         ],
         "legendgroup": "",
         "marker": {
          "color": "#636efa",
          "symbol": "circle"
         },
         "mode": "markers",
         "name": "",
         "orientation": "v",
         "showlegend": false,
         "type": "scatter",
         "x": {
          "bdata": "VVVVVVXVI0CZmZmZmZkrQNpKaiuprShA7+7u7u7uI0AREREREZEmQImIiIiIyDBA3t3d3d1dI0AREREREREwQO/u7u7ubiVA3t3d3d1dKUCJiIiIiIgwQJqZmZmZmShAxdmHz7ArKECamZmZmZkpQBERERERkSRAzczMzMzMJkCJiIiIiAgrQPAKr/AKLy5AIiIiIiKiKkDNzMzMzEwhQJqZmZmZGShA7+7u7u7uI0AzMzMzM7MrQN7d3d3d3TFAzMzMzMxMLEBlZmZmZuYuQLy7u7u7uy9AERERERGRI0CJiIiIiEg0QCIiIiIioi1AvLu7u7s7MEC8u7u7u3sxQDIzMzMzsy9A7+7u7u6uMECJiIiIiMgzQO/u7u7u7i1A",
          "dtype": "f8"
         },
         "xaxis": "x",
         "y": {
          "bdata": "XEchWGEjK0EeMD5hYzZpKDUwF0RKYykODDtCLDpJJi4aCiI1",
          "dtype": "i1"
         },
         "yaxis": "y"
        },
        {
         "hovertemplate": "<b>OLS trendline</b><br>rank_sum = -3.96325 * avgToi + 109.918<br>R<sup>2</sup>=0.200412<br><br>avgToi=%{x}<br>rank_sum=%{y} <b>(trend)</b><extra></extra>",
         "legendgroup": "",
         "line": {
          "color": "yellow"
         },
         "marker": {
          "color": "#636efa",
          "symbol": "circle"
         },
         "mode": "lines",
         "name": "",
         "showlegend": false,
         "type": "scatter",
         "x": {
          "bdata": "zczMzMxMIUDe3d3d3V0jQBERERERkSNAVVVVVVXVI0Dv7u7u7u4jQO/u7u7u7iNAERERERGRJEDv7u7u7m4lQBERERERkSZAzczMzMzMJkCamZmZmRkoQMXZh8+wKyhAmpmZmZmZKEDaSmorqa0oQN7d3d3dXSlAmpmZmZmZKUAiIiIiIqIqQImIiIiICCtAmZmZmZmZK0AzMzMzM7MrQMzMzMzMTCxAIiIiIiKiLUDv7u7u7u4tQPAKr/AKLy5AZWZmZmbmLkAyMzMzM7MvQLy7u7u7uy9AERERERERMEC8u7u7uzswQImIiIiIiDBA7+7u7u6uMECJiIiIiMgwQLy7u7u7ezFA3t3d3d3dMUCJiIiIiMgzQImIiIiISDRA",
          "dtype": "f8"
         },
         "xaxis": "x",
         "y": {
          "bdata": "hOLFZKvoUkCSvrkckeJRQDAe6rozyVFArp0q42GnUUB+zUIys5pRQH7NQjKzmlFASPzb0WBKUUCgmq3UdtxQQHe4v/+6TFBABCj4YiMvUEATK2XOiBRPQIfpSSacAk9AKglX5bWVTkDa0buD1YFOQD3myUw/001AWcU6ExCYTUBooS7L9ZFMQOEf8EOALExAuD0Cb8ScS0BWnTINZ4NLQAzbVMI260pA9dXZVASZSUDP9Gov7ExJQNXqBPtmDUlAIJE+07pXSEASjsHEz4xHQPCt0U5bhEdAaiyTx+UeR0AkazQsWcpGQNioVuEoMkZAtMfnuxDmRUDwhkj4VbNFQJjB7Z46UERArJ5gBsSNQ0AU4D0X5oI/QHBYBXOahz1A",
          "dtype": "f8"
         },
         "yaxis": "y"
        }
       ],
       "layout": {
        "height": 500,
        "legend": {
         "tracegroupgap": 0
        },
        "template": {
         "data": {
          "bar": [
           {
            "error_x": {
             "color": "#f2f5fa"
            },
            "error_y": {
             "color": "#f2f5fa"
            },
            "marker": {
             "line": {
              "color": "rgb(17,17,17)",
              "width": 0.5
             },
             "pattern": {
              "fillmode": "overlay",
              "size": 10,
              "solidity": 0.2
             }
            },
            "type": "bar"
           }
          ],
          "barpolar": [
           {
            "marker": {
             "line": {
              "color": "rgb(17,17,17)",
              "width": 0.5
             },
             "pattern": {
              "fillmode": "overlay",
              "size": 10,
              "solidity": 0.2
             }
            },
            "type": "barpolar"
           }
          ],
          "carpet": [
           {
            "aaxis": {
             "endlinecolor": "#A2B1C6",
             "gridcolor": "#506784",
             "linecolor": "#506784",
             "minorgridcolor": "#506784",
             "startlinecolor": "#A2B1C6"
            },
            "baxis": {
             "endlinecolor": "#A2B1C6",
             "gridcolor": "#506784",
             "linecolor": "#506784",
             "minorgridcolor": "#506784",
             "startlinecolor": "#A2B1C6"
            },
            "type": "carpet"
           }
          ],
          "choropleth": [
           {
            "colorbar": {
             "outlinewidth": 0,
             "ticks": ""
            },
            "type": "choropleth"
           }
          ],
          "contour": [
           {
            "colorbar": {
             "outlinewidth": 0,
             "ticks": ""
            },
            "colorscale": [
             [
              0,
              "#0d0887"
             ],
             [
              0.1111111111111111,
              "#46039f"
             ],
             [
              0.2222222222222222,
              "#7201a8"
             ],
             [
              0.3333333333333333,
              "#9c179e"
             ],
             [
              0.4444444444444444,
              "#bd3786"
             ],
             [
              0.5555555555555556,
              "#d8576b"
             ],
             [
              0.6666666666666666,
              "#ed7953"
             ],
             [
              0.7777777777777778,
              "#fb9f3a"
             ],
             [
              0.8888888888888888,
              "#fdca26"
             ],
             [
              1,
              "#f0f921"
             ]
            ],
            "type": "contour"
           }
          ],
          "contourcarpet": [
           {
            "colorbar": {
             "outlinewidth": 0,
             "ticks": ""
            },
            "type": "contourcarpet"
           }
          ],
          "heatmap": [
           {
            "colorbar": {
             "outlinewidth": 0,
             "ticks": ""
            },
            "colorscale": [
             [
              0,
              "#0d0887"
             ],
             [
              0.1111111111111111,
              "#46039f"
             ],
             [
              0.2222222222222222,
              "#7201a8"
             ],
             [
              0.3333333333333333,
              "#9c179e"
             ],
             [
              0.4444444444444444,
              "#bd3786"
             ],
             [
              0.5555555555555556,
              "#d8576b"
             ],
             [
              0.6666666666666666,
              "#ed7953"
             ],
             [
              0.7777777777777778,
              "#fb9f3a"
             ],
             [
              0.8888888888888888,
              "#fdca26"
             ],
             [
              1,
              "#f0f921"
             ]
            ],
            "type": "heatmap"
           }
          ],
          "histogram": [
           {
            "marker": {
             "pattern": {
              "fillmode": "overlay",
              "size": 10,
              "solidity": 0.2
             }
            },
            "type": "histogram"
           }
          ],
          "histogram2d": [
           {
            "colorbar": {
             "outlinewidth": 0,
             "ticks": ""
            },
            "colorscale": [
             [
              0,
              "#0d0887"
             ],
             [
              0.1111111111111111,
              "#46039f"
             ],
             [
              0.2222222222222222,
              "#7201a8"
             ],
             [
              0.3333333333333333,
              "#9c179e"
             ],
             [
              0.4444444444444444,
              "#bd3786"
             ],
             [
              0.5555555555555556,
              "#d8576b"
             ],
             [
              0.6666666666666666,
              "#ed7953"
             ],
             [
              0.7777777777777778,
              "#fb9f3a"
             ],
             [
              0.8888888888888888,
              "#fdca26"
             ],
             [
              1,
              "#f0f921"
             ]
            ],
            "type": "histogram2d"
           }
          ],
          "histogram2dcontour": [
           {
            "colorbar": {
             "outlinewidth": 0,
             "ticks": ""
            },
            "colorscale": [
             [
              0,
              "#0d0887"
             ],
             [
              0.1111111111111111,
              "#46039f"
             ],
             [
              0.2222222222222222,
              "#7201a8"
             ],
             [
              0.3333333333333333,
              "#9c179e"
             ],
             [
              0.4444444444444444,
              "#bd3786"
             ],
             [
              0.5555555555555556,
              "#d8576b"
             ],
             [
              0.6666666666666666,
              "#ed7953"
             ],
             [
              0.7777777777777778,
              "#fb9f3a"
             ],
             [
              0.8888888888888888,
              "#fdca26"
             ],
             [
              1,
              "#f0f921"
             ]
            ],
            "type": "histogram2dcontour"
           }
          ],
          "mesh3d": [
           {
            "colorbar": {
             "outlinewidth": 0,
             "ticks": ""
            },
            "type": "mesh3d"
           }
          ],
          "parcoords": [
           {
            "line": {
             "colorbar": {
              "outlinewidth": 0,
              "ticks": ""
             }
            },
            "type": "parcoords"
           }
          ],
          "pie": [
           {
            "automargin": true,
            "type": "pie"
           }
          ],
          "scatter": [
           {
            "marker": {
             "line": {
              "color": "#283442"
             }
            },
            "type": "scatter"
           }
          ],
          "scatter3d": [
           {
            "line": {
             "colorbar": {
              "outlinewidth": 0,
              "ticks": ""
             }
            },
            "marker": {
             "colorbar": {
              "outlinewidth": 0,
              "ticks": ""
             }
            },
            "type": "scatter3d"
           }
          ],
          "scattercarpet": [
           {
            "marker": {
             "colorbar": {
              "outlinewidth": 0,
              "ticks": ""
             }
            },
            "type": "scattercarpet"
           }
          ],
          "scattergeo": [
           {
            "marker": {
             "colorbar": {
              "outlinewidth": 0,
              "ticks": ""
             }
            },
            "type": "scattergeo"
           }
          ],
          "scattergl": [
           {
            "marker": {
             "line": {
              "color": "#283442"
             }
            },
            "type": "scattergl"
           }
          ],
          "scattermap": [
           {
            "marker": {
             "colorbar": {
              "outlinewidth": 0,
              "ticks": ""
             }
            },
            "type": "scattermap"
           }
          ],
          "scattermapbox": [
           {
            "marker": {
             "colorbar": {
              "outlinewidth": 0,
              "ticks": ""
             }
            },
            "type": "scattermapbox"
           }
          ],
          "scatterpolar": [
           {
            "marker": {
             "colorbar": {
              "outlinewidth": 0,
              "ticks": ""
             }
            },
            "type": "scatterpolar"
           }
          ],
          "scatterpolargl": [
           {
            "marker": {
             "colorbar": {
              "outlinewidth": 0,
              "ticks": ""
             }
            },
            "type": "scatterpolargl"
           }
          ],
          "scatterternary": [
           {
            "marker": {
             "colorbar": {
              "outlinewidth": 0,
              "ticks": ""
             }
            },
            "type": "scatterternary"
           }
          ],
          "surface": [
           {
            "colorbar": {
             "outlinewidth": 0,
             "ticks": ""
            },
            "colorscale": [
             [
              0,
              "#0d0887"
             ],
             [
              0.1111111111111111,
              "#46039f"
             ],
             [
              0.2222222222222222,
              "#7201a8"
             ],
             [
              0.3333333333333333,
              "#9c179e"
             ],
             [
              0.4444444444444444,
              "#bd3786"
             ],
             [
              0.5555555555555556,
              "#d8576b"
             ],
             [
              0.6666666666666666,
              "#ed7953"
             ],
             [
              0.7777777777777778,
              "#fb9f3a"
             ],
             [
              0.8888888888888888,
              "#fdca26"
             ],
             [
              1,
              "#f0f921"
             ]
            ],
            "type": "surface"
           }
          ],
          "table": [
           {
            "cells": {
             "fill": {
              "color": "#506784"
             },
             "line": {
              "color": "rgb(17,17,17)"
             }
            },
            "header": {
             "fill": {
              "color": "#2a3f5f"
             },
             "line": {
              "color": "rgb(17,17,17)"
             }
            },
            "type": "table"
           }
          ]
         },
         "layout": {
          "annotationdefaults": {
           "arrowcolor": "#f2f5fa",
           "arrowhead": 0,
           "arrowwidth": 1
          },
          "autotypenumbers": "strict",
          "coloraxis": {
           "colorbar": {
            "outlinewidth": 0,
            "ticks": ""
           }
          },
          "colorscale": {
           "diverging": [
            [
             0,
             "#8e0152"
            ],
            [
             0.1,
             "#c51b7d"
            ],
            [
             0.2,
             "#de77ae"
            ],
            [
             0.3,
             "#f1b6da"
            ],
            [
             0.4,
             "#fde0ef"
            ],
            [
             0.5,
             "#f7f7f7"
            ],
            [
             0.6,
             "#e6f5d0"
            ],
            [
             0.7,
             "#b8e186"
            ],
            [
             0.8,
             "#7fbc41"
            ],
            [
             0.9,
             "#4d9221"
            ],
            [
             1,
             "#276419"
            ]
           ],
           "sequential": [
            [
             0,
             "#0d0887"
            ],
            [
             0.1111111111111111,
             "#46039f"
            ],
            [
             0.2222222222222222,
             "#7201a8"
            ],
            [
             0.3333333333333333,
             "#9c179e"
            ],
            [
             0.4444444444444444,
             "#bd3786"
            ],
            [
             0.5555555555555556,
             "#d8576b"
            ],
            [
             0.6666666666666666,
             "#ed7953"
            ],
            [
             0.7777777777777778,
             "#fb9f3a"
            ],
            [
             0.8888888888888888,
             "#fdca26"
            ],
            [
             1,
             "#f0f921"
            ]
           ],
           "sequentialminus": [
            [
             0,
             "#0d0887"
            ],
            [
             0.1111111111111111,
             "#46039f"
            ],
            [
             0.2222222222222222,
             "#7201a8"
            ],
            [
             0.3333333333333333,
             "#9c179e"
            ],
            [
             0.4444444444444444,
             "#bd3786"
            ],
            [
             0.5555555555555556,
             "#d8576b"
            ],
            [
             0.6666666666666666,
             "#ed7953"
            ],
            [
             0.7777777777777778,
             "#fb9f3a"
            ],
            [
             0.8888888888888888,
             "#fdca26"
            ],
            [
             1,
             "#f0f921"
            ]
           ]
          },
          "colorway": [
           "#636efa",
           "#EF553B",
           "#00cc96",
           "#ab63fa",
           "#FFA15A",
           "#19d3f3",
           "#FF6692",
           "#B6E880",
           "#FF97FF",
           "#FECB52"
          ],
          "font": {
           "color": "#f2f5fa"
          },
          "geo": {
           "bgcolor": "rgb(17,17,17)",
           "lakecolor": "rgb(17,17,17)",
           "landcolor": "rgb(17,17,17)",
           "showlakes": true,
           "showland": true,
           "subunitcolor": "#506784"
          },
          "hoverlabel": {
           "align": "left"
          },
          "hovermode": "closest",
          "mapbox": {
           "style": "dark"
          },
          "paper_bgcolor": "rgb(17,17,17)",
          "plot_bgcolor": "rgb(17,17,17)",
          "polar": {
           "angularaxis": {
            "gridcolor": "#506784",
            "linecolor": "#506784",
            "ticks": ""
           },
           "bgcolor": "rgb(17,17,17)",
           "radialaxis": {
            "gridcolor": "#506784",
            "linecolor": "#506784",
            "ticks": ""
           }
          },
          "scene": {
           "xaxis": {
            "backgroundcolor": "rgb(17,17,17)",
            "gridcolor": "#506784",
            "gridwidth": 2,
            "linecolor": "#506784",
            "showbackground": true,
            "ticks": "",
            "zerolinecolor": "#C8D4E3"
           },
           "yaxis": {
            "backgroundcolor": "rgb(17,17,17)",
            "gridcolor": "#506784",
            "gridwidth": 2,
            "linecolor": "#506784",
            "showbackground": true,
            "ticks": "",
            "zerolinecolor": "#C8D4E3"
           },
           "zaxis": {
            "backgroundcolor": "rgb(17,17,17)",
            "gridcolor": "#506784",
            "gridwidth": 2,
            "linecolor": "#506784",
            "showbackground": true,
            "ticks": "",
            "zerolinecolor": "#C8D4E3"
           }
          },
          "shapedefaults": {
           "line": {
            "color": "#f2f5fa"
           }
          },
          "sliderdefaults": {
           "bgcolor": "#C8D4E3",
           "bordercolor": "rgb(17,17,17)",
           "borderwidth": 1,
           "tickwidth": 0
          },
          "ternary": {
           "aaxis": {
            "gridcolor": "#506784",
            "linecolor": "#506784",
            "ticks": ""
           },
           "baxis": {
            "gridcolor": "#506784",
            "linecolor": "#506784",
            "ticks": ""
           },
           "bgcolor": "rgb(17,17,17)",
           "caxis": {
            "gridcolor": "#506784",
            "linecolor": "#506784",
            "ticks": ""
           }
          },
          "title": {
           "x": 0.05
          },
          "updatemenudefaults": {
           "bgcolor": "#506784",
           "borderwidth": 0
          },
          "xaxis": {
           "automargin": true,
           "gridcolor": "#283442",
           "linecolor": "#506784",
           "ticks": "",
           "title": {
            "standoff": 15
           },
           "zerolinecolor": "#283442",
           "zerolinewidth": 2
          },
          "yaxis": {
           "automargin": true,
           "gridcolor": "#283442",
           "linecolor": "#506784",
           "ticks": "",
           "title": {
            "standoff": 15
           },
           "zerolinecolor": "#283442",
           "zerolinewidth": 2
          }
         }
        },
        "title": {
         "text": "Avg Time on Ice vs Rank Sum"
        },
        "width": 800,
        "xaxis": {
         "anchor": "y",
         "domain": [
          0,
          1
         ],
         "title": {
          "text": "avgToi"
         }
        },
        "yaxis": {
         "anchor": "x",
         "domain": [
          0,
          1
         ],
         "title": {
          "text": "rank_sum"
         }
        }
       }
      },
      "image/png": "[encoded data removed]"
     },
     "metadata": {},
     "output_type": "display_data"
    }
   ],
   "source": [
    "fig = px.scatter(\n",
    "    subset,\n",
    "    x=\"avgToi\",\n",
    "    y=\"rank_sum\",\n",
    "    hover_name=\"playerName\",\n",
    "    hover_data=[\"goals\", \"assists\", \"points\", \"gamesPlayed\", \"team\", \"age\", \"capHit\"],\n",
    "    width=800,\n",
    "    height=500,\n",
    "    title=f\"Avg Time on Ice vs Rank Sum\",\n",
    "    trendline=\"ols\",\n",
    "    trendline_color_override=\"yellow\",\n",
    ")\n",
    "fig.show()"
   ]
  },
  {
   "cell_type": "markdown",
   "id": "4865c1a6",
   "metadata": {},
   "source": [
    "### Appendix"
   ]
  },
  {
   "cell_type": "code",
   "execution_count": 115,
   "id": "f404e497",
   "metadata": {},
   "outputs": [],
   "source": [
    "# # Just looking at goals/60 now, and split by years of experience.\n",
    "# fig = px.violin(\n",
    "#     subset,\n",
    "#     x=\"yoe\",\n",
    "#     y=\"g/60\",\n",
    "#     points=\"all\",\n",
    "#     hover_name=\"playerName\",\n",
    "#     hover_data=[\"goals\", \"assists\", \"points\", \"gamesPlayed\", \"team\", \"age\", \"capHit\"]\n",
    "# )\n",
    "# fig.show()"
   ]
  },
  {
   "cell_type": "code",
   "execution_count": 116,
   "id": "3767f8ae",
   "metadata": {},
   "outputs": [
    {
     "name": "stderr",
     "output_type": "stream",
     "text": [
      "[NbConvertApp] Converting notebook breakout-candidates.ipynb to html\n",
      "[NbConvertApp] WARNING | Alternative text is missing on 5 image(s).\n",
      "[NbConvertApp] Writing 532122 bytes to breakout-candidates.html\n"
     ]
    },
    {
     "data": {
      "text/plain": [
       "0"
      ]
     },
     "execution_count": 116,
     "metadata": {},
     "output_type": "execute_result"
    }
   ],
   "source": [
    "os.system(\"jupyter nbconvert --to html breakout-candidates.ipynb\")"
   ]
  },
  {
   "cell_type": "code",
   "execution_count": null,
   "id": "0219d337",
   "metadata": {},
   "outputs": [],
   "source": []
  }
 ],
 "metadata": {
  "kernelspec": {
   "display_name": "3.13.2",
   "language": "python",
   "name": "python3"
  },
  "language_info": {
   "codemirror_mode": {
    "name": "ipython",
    "version": 3
   },
   "file_extension": ".py",
   "mimetype": "text/x-python",
   "name": "python",
   "nbconvert_exporter": "python",
   "pygments_lexer": "ipython3",
   "version": "3.13.2"
  }
 },
 "nbformat": 4,
 "nbformat_minor": 5
}
