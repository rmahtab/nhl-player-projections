{
 "cells": [
  {
   "cell_type": "code",
   "execution_count": 1,
   "id": "c472b430",
   "metadata": {},
   "outputs": [],
   "source": [
    "from common import *"
   ]
  },
  {
   "cell_type": "code",
   "execution_count": 2,
   "id": "4f34d8ef",
   "metadata": {},
   "outputs": [
    {
     "data": {
      "text/html": [
       "<div>\n",
       "<style scoped>\n",
       "    .dataframe tbody tr th:only-of-type {\n",
       "        vertical-align: middle;\n",
       "    }\n",
       "\n",
       "    .dataframe tbody tr th {\n",
       "        vertical-align: top;\n",
       "    }\n",
       "\n",
       "    .dataframe thead th {\n",
       "        text-align: right;\n",
       "    }\n",
       "</style>\n",
       "<table border=\"1\" class=\"dataframe\">\n",
       "  <thead>\n",
       "    <tr style=\"text-align: right;\">\n",
       "      <th></th>\n",
       "      <th>playerId</th>\n",
       "      <th>season</th>\n",
       "      <th>team</th>\n",
       "      <th>playerName</th>\n",
       "      <th>age</th>\n",
       "      <th>gamesPlayed</th>\n",
       "      <th>goals</th>\n",
       "      <th>assists</th>\n",
       "      <th>points</th>\n",
       "      <th>plusMinus</th>\n",
       "      <th>pim</th>\n",
       "      <th>powerPlayPoints</th>\n",
       "      <th>shots</th>\n",
       "      <th>totalToi</th>\n",
       "      <th>avgToi</th>\n",
       "      <th>yoe</th>\n",
       "      <th>seasonLength</th>\n",
       "      <th>gpa</th>\n",
       "      <th>gpg</th>\n",
       "      <th>apg</th>\n",
       "      <th>spg</th>\n",
       "      <th>ppppg</th>\n",
       "      <th>g/60</th>\n",
       "      <th>a/60</th>\n",
       "      <th>s/60</th>\n",
       "      <th>ppp/60</th>\n",
       "    </tr>\n",
       "  </thead>\n",
       "  <tbody>\n",
       "    <tr>\n",
       "      <th>19</th>\n",
       "      <td>8470621</td>\n",
       "      <td>20242025</td>\n",
       "      <td>[Edmonton Oilers]</td>\n",
       "      <td>Corey Perry</td>\n",
       "      <td>39</td>\n",
       "      <td>81</td>\n",
       "      <td>19.0</td>\n",
       "      <td>11.0</td>\n",
       "      <td>30</td>\n",
       "      <td>12.0</td>\n",
       "      <td>61.0</td>\n",
       "      <td>7.0</td>\n",
       "      <td>100.0</td>\n",
       "      <td>966.600000</td>\n",
       "      <td>11.933333</td>\n",
       "      <td>20</td>\n",
       "      <td>82.0</td>\n",
       "      <td>0.987805</td>\n",
       "      <td>0.234568</td>\n",
       "      <td>0.135802</td>\n",
       "      <td>1.234568</td>\n",
       "      <td>0.086420</td>\n",
       "      <td>1.179392</td>\n",
       "      <td>0.682806</td>\n",
       "      <td>6.207325</td>\n",
       "      <td>0.434513</td>\n",
       "    </tr>\n",
       "    <tr>\n",
       "      <th>39</th>\n",
       "      <td>8471214</td>\n",
       "      <td>20242025</td>\n",
       "      <td>[Washington Capitals]</td>\n",
       "      <td>Alex Ovechkin</td>\n",
       "      <td>39</td>\n",
       "      <td>65</td>\n",
       "      <td>44.0</td>\n",
       "      <td>29.0</td>\n",
       "      <td>73</td>\n",
       "      <td>15.0</td>\n",
       "      <td>14.0</td>\n",
       "      <td>22.0</td>\n",
       "      <td>237.0</td>\n",
       "      <td>1151.583333</td>\n",
       "      <td>17.716667</td>\n",
       "      <td>20</td>\n",
       "      <td>82.0</td>\n",
       "      <td>0.792683</td>\n",
       "      <td>0.676923</td>\n",
       "      <td>0.446154</td>\n",
       "      <td>3.646154</td>\n",
       "      <td>0.338462</td>\n",
       "      <td>2.292496</td>\n",
       "      <td>1.510963</td>\n",
       "      <td>12.348216</td>\n",
       "      <td>1.146248</td>\n",
       "    </tr>\n",
       "    <tr>\n",
       "      <th>58</th>\n",
       "      <td>8471215</td>\n",
       "      <td>20242025</td>\n",
       "      <td>[Pittsburgh Penguins]</td>\n",
       "      <td>Evgeni Malkin</td>\n",
       "      <td>38</td>\n",
       "      <td>68</td>\n",
       "      <td>16.0</td>\n",
       "      <td>34.0</td>\n",
       "      <td>50</td>\n",
       "      <td>-24.0</td>\n",
       "      <td>42.0</td>\n",
       "      <td>16.0</td>\n",
       "      <td>125.0</td>\n",
       "      <td>1209.266667</td>\n",
       "      <td>17.783333</td>\n",
       "      <td>19</td>\n",
       "      <td>82.0</td>\n",
       "      <td>0.829268</td>\n",
       "      <td>0.235294</td>\n",
       "      <td>0.500000</td>\n",
       "      <td>1.838235</td>\n",
       "      <td>0.235294</td>\n",
       "      <td>0.793870</td>\n",
       "      <td>1.686973</td>\n",
       "      <td>6.202106</td>\n",
       "      <td>0.793870</td>\n",
       "    </tr>\n",
       "    <tr>\n",
       "      <th>78</th>\n",
       "      <td>8471675</td>\n",
       "      <td>20242025</td>\n",
       "      <td>[Pittsburgh Penguins]</td>\n",
       "      <td>Sidney Crosby</td>\n",
       "      <td>37</td>\n",
       "      <td>80</td>\n",
       "      <td>33.0</td>\n",
       "      <td>58.0</td>\n",
       "      <td>91</td>\n",
       "      <td>-20.0</td>\n",
       "      <td>31.0</td>\n",
       "      <td>27.0</td>\n",
       "      <td>227.0</td>\n",
       "      <td>1629.333333</td>\n",
       "      <td>20.366667</td>\n",
       "      <td>20</td>\n",
       "      <td>82.0</td>\n",
       "      <td>0.975610</td>\n",
       "      <td>0.412500</td>\n",
       "      <td>0.725000</td>\n",
       "      <td>2.837500</td>\n",
       "      <td>0.337500</td>\n",
       "      <td>1.215221</td>\n",
       "      <td>2.135843</td>\n",
       "      <td>8.359247</td>\n",
       "      <td>0.994272</td>\n",
       "    </tr>\n",
       "    <tr>\n",
       "      <th>97</th>\n",
       "      <td>8471685</td>\n",
       "      <td>20242025</td>\n",
       "      <td>[Los Angeles Kings]</td>\n",
       "      <td>Anze Kopitar</td>\n",
       "      <td>37</td>\n",
       "      <td>81</td>\n",
       "      <td>21.0</td>\n",
       "      <td>46.0</td>\n",
       "      <td>67</td>\n",
       "      <td>14.0</td>\n",
       "      <td>4.0</td>\n",
       "      <td>22.0</td>\n",
       "      <td>98.0</td>\n",
       "      <td>1534.950000</td>\n",
       "      <td>18.950000</td>\n",
       "      <td>19</td>\n",
       "      <td>82.0</td>\n",
       "      <td>0.987805</td>\n",
       "      <td>0.259259</td>\n",
       "      <td>0.567901</td>\n",
       "      <td>1.209877</td>\n",
       "      <td>0.271605</td>\n",
       "      <td>0.820874</td>\n",
       "      <td>1.798104</td>\n",
       "      <td>3.830744</td>\n",
       "      <td>0.859963</td>\n",
       "    </tr>\n",
       "    <tr>\n",
       "      <th>...</th>\n",
       "      <td>...</td>\n",
       "      <td>...</td>\n",
       "      <td>...</td>\n",
       "      <td>...</td>\n",
       "      <td>...</td>\n",
       "      <td>...</td>\n",
       "      <td>...</td>\n",
       "      <td>...</td>\n",
       "      <td>...</td>\n",
       "      <td>...</td>\n",
       "      <td>...</td>\n",
       "      <td>...</td>\n",
       "      <td>...</td>\n",
       "      <td>...</td>\n",
       "      <td>...</td>\n",
       "      <td>...</td>\n",
       "      <td>...</td>\n",
       "      <td>...</td>\n",
       "      <td>...</td>\n",
       "      <td>...</td>\n",
       "      <td>...</td>\n",
       "      <td>...</td>\n",
       "      <td>...</td>\n",
       "      <td>...</td>\n",
       "      <td>...</td>\n",
       "      <td>...</td>\n",
       "    </tr>\n",
       "    <tr>\n",
       "      <th>3654</th>\n",
       "      <td>8484958</td>\n",
       "      <td>20242025</td>\n",
       "      <td>[New York Islanders]</td>\n",
       "      <td>Maxim Tsyplakov</td>\n",
       "      <td>26</td>\n",
       "      <td>77</td>\n",
       "      <td>10.0</td>\n",
       "      <td>25.0</td>\n",
       "      <td>35</td>\n",
       "      <td>4.0</td>\n",
       "      <td>39.0</td>\n",
       "      <td>3.0</td>\n",
       "      <td>116.0</td>\n",
       "      <td>1152.433333</td>\n",
       "      <td>14.966667</td>\n",
       "      <td>1</td>\n",
       "      <td>82.0</td>\n",
       "      <td>0.939024</td>\n",
       "      <td>0.129870</td>\n",
       "      <td>0.324675</td>\n",
       "      <td>1.506494</td>\n",
       "      <td>0.038961</td>\n",
       "      <td>0.520637</td>\n",
       "      <td>1.301594</td>\n",
       "      <td>6.039395</td>\n",
       "      <td>0.156191</td>\n",
       "    </tr>\n",
       "    <tr>\n",
       "      <th>3655</th>\n",
       "      <td>8484984</td>\n",
       "      <td>20242025</td>\n",
       "      <td>[Montréal Canadiens]</td>\n",
       "      <td>Ivan Demidov</td>\n",
       "      <td>19</td>\n",
       "      <td>2</td>\n",
       "      <td>1.0</td>\n",
       "      <td>1.0</td>\n",
       "      <td>2</td>\n",
       "      <td>1.0</td>\n",
       "      <td>0.0</td>\n",
       "      <td>0.0</td>\n",
       "      <td>5.0</td>\n",
       "      <td>27.433333</td>\n",
       "      <td>13.716667</td>\n",
       "      <td>1</td>\n",
       "      <td>82.0</td>\n",
       "      <td>0.024390</td>\n",
       "      <td>0.500000</td>\n",
       "      <td>0.500000</td>\n",
       "      <td>2.500000</td>\n",
       "      <td>0.000000</td>\n",
       "      <td>2.187120</td>\n",
       "      <td>2.187120</td>\n",
       "      <td>10.935601</td>\n",
       "      <td>0.000000</td>\n",
       "    </tr>\n",
       "    <tr>\n",
       "      <th>3656</th>\n",
       "      <td>8485469</td>\n",
       "      <td>20242025</td>\n",
       "      <td>[Columbus Blue Jackets]</td>\n",
       "      <td>Jack Williams</td>\n",
       "      <td>22</td>\n",
       "      <td>1</td>\n",
       "      <td>0.0</td>\n",
       "      <td>0.0</td>\n",
       "      <td>0</td>\n",
       "      <td>1.0</td>\n",
       "      <td>0.0</td>\n",
       "      <td>0.0</td>\n",
       "      <td>0.0</td>\n",
       "      <td>11.150000</td>\n",
       "      <td>11.150000</td>\n",
       "      <td>1</td>\n",
       "      <td>82.0</td>\n",
       "      <td>0.012195</td>\n",
       "      <td>0.000000</td>\n",
       "      <td>0.000000</td>\n",
       "      <td>0.000000</td>\n",
       "      <td>0.000000</td>\n",
       "      <td>0.000000</td>\n",
       "      <td>0.000000</td>\n",
       "      <td>0.000000</td>\n",
       "      <td>0.000000</td>\n",
       "    </tr>\n",
       "    <tr>\n",
       "      <th>3657</th>\n",
       "      <td>8485483</td>\n",
       "      <td>20242025</td>\n",
       "      <td>[Philadelphia Flyers]</td>\n",
       "      <td>Karsen Dorwart</td>\n",
       "      <td>22</td>\n",
       "      <td>5</td>\n",
       "      <td>0.0</td>\n",
       "      <td>0.0</td>\n",
       "      <td>0</td>\n",
       "      <td>-1.0</td>\n",
       "      <td>2.0</td>\n",
       "      <td>0.0</td>\n",
       "      <td>4.0</td>\n",
       "      <td>54.916667</td>\n",
       "      <td>10.983333</td>\n",
       "      <td>1</td>\n",
       "      <td>82.0</td>\n",
       "      <td>0.060976</td>\n",
       "      <td>0.000000</td>\n",
       "      <td>0.000000</td>\n",
       "      <td>0.800000</td>\n",
       "      <td>0.000000</td>\n",
       "      <td>0.000000</td>\n",
       "      <td>0.000000</td>\n",
       "      <td>4.370258</td>\n",
       "      <td>0.000000</td>\n",
       "    </tr>\n",
       "    <tr>\n",
       "      <th>3658</th>\n",
       "      <td>8485512</td>\n",
       "      <td>20242025</td>\n",
       "      <td>[Anaheim Ducks]</td>\n",
       "      <td>Tim Washe</td>\n",
       "      <td>23</td>\n",
       "      <td>2</td>\n",
       "      <td>0.0</td>\n",
       "      <td>0.0</td>\n",
       "      <td>0</td>\n",
       "      <td>0.0</td>\n",
       "      <td>0.0</td>\n",
       "      <td>0.0</td>\n",
       "      <td>2.0</td>\n",
       "      <td>15.466667</td>\n",
       "      <td>7.733333</td>\n",
       "      <td>1</td>\n",
       "      <td>82.0</td>\n",
       "      <td>0.024390</td>\n",
       "      <td>0.000000</td>\n",
       "      <td>0.000000</td>\n",
       "      <td>1.000000</td>\n",
       "      <td>0.000000</td>\n",
       "      <td>0.000000</td>\n",
       "      <td>0.000000</td>\n",
       "      <td>7.758621</td>\n",
       "      <td>0.000000</td>\n",
       "    </tr>\n",
       "  </tbody>\n",
       "</table>\n",
       "<p>476 rows × 26 columns</p>\n",
       "</div>"
      ],
      "text/plain": [
       "     playerId    season                     team       playerName  age  \\\n",
       "19    8470621  20242025        [Edmonton Oilers]      Corey Perry   39   \n",
       "39    8471214  20242025    [Washington Capitals]    Alex Ovechkin   39   \n",
       "58    8471215  20242025    [Pittsburgh Penguins]    Evgeni Malkin   38   \n",
       "78    8471675  20242025    [Pittsburgh Penguins]    Sidney Crosby   37   \n",
       "97    8471685  20242025      [Los Angeles Kings]     Anze Kopitar   37   \n",
       "...       ...       ...                      ...              ...  ...   \n",
       "3654  8484958  20242025     [New York Islanders]  Maxim Tsyplakov   26   \n",
       "3655  8484984  20242025     [Montréal Canadiens]     Ivan Demidov   19   \n",
       "3656  8485469  20242025  [Columbus Blue Jackets]    Jack Williams   22   \n",
       "3657  8485483  20242025    [Philadelphia Flyers]   Karsen Dorwart   22   \n",
       "3658  8485512  20242025          [Anaheim Ducks]        Tim Washe   23   \n",
       "\n",
       "      gamesPlayed  goals  assists  points  plusMinus   pim  powerPlayPoints  \\\n",
       "19             81   19.0     11.0      30       12.0  61.0              7.0   \n",
       "39             65   44.0     29.0      73       15.0  14.0             22.0   \n",
       "58             68   16.0     34.0      50      -24.0  42.0             16.0   \n",
       "78             80   33.0     58.0      91      -20.0  31.0             27.0   \n",
       "97             81   21.0     46.0      67       14.0   4.0             22.0   \n",
       "...           ...    ...      ...     ...        ...   ...              ...   \n",
       "3654           77   10.0     25.0      35        4.0  39.0              3.0   \n",
       "3655            2    1.0      1.0       2        1.0   0.0              0.0   \n",
       "3656            1    0.0      0.0       0        1.0   0.0              0.0   \n",
       "3657            5    0.0      0.0       0       -1.0   2.0              0.0   \n",
       "3658            2    0.0      0.0       0        0.0   0.0              0.0   \n",
       "\n",
       "      shots     totalToi     avgToi  yoe  seasonLength       gpa       gpg  \\\n",
       "19    100.0   966.600000  11.933333   20          82.0  0.987805  0.234568   \n",
       "39    237.0  1151.583333  17.716667   20          82.0  0.792683  0.676923   \n",
       "58    125.0  1209.266667  17.783333   19          82.0  0.829268  0.235294   \n",
       "78    227.0  1629.333333  20.366667   20          82.0  0.975610  0.412500   \n",
       "97     98.0  1534.950000  18.950000   19          82.0  0.987805  0.259259   \n",
       "...     ...          ...        ...  ...           ...       ...       ...   \n",
       "3654  116.0  1152.433333  14.966667    1          82.0  0.939024  0.129870   \n",
       "3655    5.0    27.433333  13.716667    1          82.0  0.024390  0.500000   \n",
       "3656    0.0    11.150000  11.150000    1          82.0  0.012195  0.000000   \n",
       "3657    4.0    54.916667  10.983333    1          82.0  0.060976  0.000000   \n",
       "3658    2.0    15.466667   7.733333    1          82.0  0.024390  0.000000   \n",
       "\n",
       "           apg       spg     ppppg      g/60      a/60       s/60    ppp/60  \n",
       "19    0.135802  1.234568  0.086420  1.179392  0.682806   6.207325  0.434513  \n",
       "39    0.446154  3.646154  0.338462  2.292496  1.510963  12.348216  1.146248  \n",
       "58    0.500000  1.838235  0.235294  0.793870  1.686973   6.202106  0.793870  \n",
       "78    0.725000  2.837500  0.337500  1.215221  2.135843   8.359247  0.994272  \n",
       "97    0.567901  1.209877  0.271605  0.820874  1.798104   3.830744  0.859963  \n",
       "...        ...       ...       ...       ...       ...        ...       ...  \n",
       "3654  0.324675  1.506494  0.038961  0.520637  1.301594   6.039395  0.156191  \n",
       "3655  0.500000  2.500000  0.000000  2.187120  2.187120  10.935601  0.000000  \n",
       "3656  0.000000  0.000000  0.000000  0.000000  0.000000   0.000000  0.000000  \n",
       "3657  0.000000  0.800000  0.000000  0.000000  0.000000   4.370258  0.000000  \n",
       "3658  0.000000  1.000000  0.000000  0.000000  0.000000   7.758621  0.000000  \n",
       "\n",
       "[476 rows x 26 columns]"
      ]
     },
     "execution_count": 2,
     "metadata": {},
     "output_type": "execute_result"
    }
   ],
   "source": [
    "POSITION = \"forwards\"\n",
    "hdf = load_historical_stats(POSITION)\n",
    "hdf = hdf[hdf[\"season\"] == \"20242025\"]\n",
    "hdf"
   ]
  },
  {
   "cell_type": "code",
   "execution_count": 3,
   "id": "0d841f10",
   "metadata": {},
   "outputs": [],
   "source": [
    "cdf = load_cap_data()"
   ]
  },
  {
   "cell_type": "code",
   "execution_count": 4,
   "id": "37e11be6",
   "metadata": {},
   "outputs": [
    {
     "data": {
      "text/html": [
       "<div>\n",
       "<style scoped>\n",
       "    .dataframe tbody tr th:only-of-type {\n",
       "        vertical-align: middle;\n",
       "    }\n",
       "\n",
       "    .dataframe tbody tr th {\n",
       "        vertical-align: top;\n",
       "    }\n",
       "\n",
       "    .dataframe thead th {\n",
       "        text-align: right;\n",
       "    }\n",
       "</style>\n",
       "<table border=\"1\" class=\"dataframe\">\n",
       "  <thead>\n",
       "    <tr style=\"text-align: right;\">\n",
       "      <th></th>\n",
       "      <th>playerId</th>\n",
       "      <th>season</th>\n",
       "      <th>team</th>\n",
       "      <th>playerName</th>\n",
       "      <th>age</th>\n",
       "      <th>gamesPlayed</th>\n",
       "      <th>goals</th>\n",
       "      <th>assists</th>\n",
       "      <th>points</th>\n",
       "      <th>plusMinus</th>\n",
       "      <th>pim</th>\n",
       "      <th>powerPlayPoints</th>\n",
       "      <th>shots</th>\n",
       "      <th>totalToi</th>\n",
       "      <th>avgToi</th>\n",
       "      <th>yoe</th>\n",
       "      <th>seasonLength</th>\n",
       "      <th>gpa</th>\n",
       "      <th>gpg</th>\n",
       "      <th>apg</th>\n",
       "      <th>spg</th>\n",
       "      <th>ppppg</th>\n",
       "      <th>g/60</th>\n",
       "      <th>a/60</th>\n",
       "      <th>s/60</th>\n",
       "      <th>ppp/60</th>\n",
       "      <th>capHit</th>\n",
       "      <th>capPct</th>\n",
       "    </tr>\n",
       "  </thead>\n",
       "  <tbody>\n",
       "    <tr>\n",
       "      <th>0</th>\n",
       "      <td>8470621</td>\n",
       "      <td>20242025</td>\n",
       "      <td>[Edmonton Oilers]</td>\n",
       "      <td>Corey Perry</td>\n",
       "      <td>39</td>\n",
       "      <td>81</td>\n",
       "      <td>19.0</td>\n",
       "      <td>11.0</td>\n",
       "      <td>30</td>\n",
       "      <td>12.0</td>\n",
       "      <td>61.0</td>\n",
       "      <td>7.0</td>\n",
       "      <td>100.0</td>\n",
       "      <td>966.600000</td>\n",
       "      <td>11.933333</td>\n",
       "      <td>20</td>\n",
       "      <td>82.0</td>\n",
       "      <td>0.987805</td>\n",
       "      <td>0.234568</td>\n",
       "      <td>0.135802</td>\n",
       "      <td>1.234568</td>\n",
       "      <td>0.086420</td>\n",
       "      <td>1.179392</td>\n",
       "      <td>0.682806</td>\n",
       "      <td>6.207325</td>\n",
       "      <td>0.434513</td>\n",
       "      <td>1150000.0</td>\n",
       "      <td>0.0131</td>\n",
       "    </tr>\n",
       "    <tr>\n",
       "      <th>1</th>\n",
       "      <td>8471214</td>\n",
       "      <td>20242025</td>\n",
       "      <td>[Washington Capitals]</td>\n",
       "      <td>Alex Ovechkin</td>\n",
       "      <td>39</td>\n",
       "      <td>65</td>\n",
       "      <td>44.0</td>\n",
       "      <td>29.0</td>\n",
       "      <td>73</td>\n",
       "      <td>15.0</td>\n",
       "      <td>14.0</td>\n",
       "      <td>22.0</td>\n",
       "      <td>237.0</td>\n",
       "      <td>1151.583333</td>\n",
       "      <td>17.716667</td>\n",
       "      <td>20</td>\n",
       "      <td>82.0</td>\n",
       "      <td>0.792683</td>\n",
       "      <td>0.676923</td>\n",
       "      <td>0.446154</td>\n",
       "      <td>3.646154</td>\n",
       "      <td>0.338462</td>\n",
       "      <td>2.292496</td>\n",
       "      <td>1.510963</td>\n",
       "      <td>12.348216</td>\n",
       "      <td>1.146248</td>\n",
       "      <td>9500000.0</td>\n",
       "      <td>0.1080</td>\n",
       "    </tr>\n",
       "    <tr>\n",
       "      <th>3</th>\n",
       "      <td>8471675</td>\n",
       "      <td>20242025</td>\n",
       "      <td>[Pittsburgh Penguins]</td>\n",
       "      <td>Sidney Crosby</td>\n",
       "      <td>37</td>\n",
       "      <td>80</td>\n",
       "      <td>33.0</td>\n",
       "      <td>58.0</td>\n",
       "      <td>91</td>\n",
       "      <td>-20.0</td>\n",
       "      <td>31.0</td>\n",
       "      <td>27.0</td>\n",
       "      <td>227.0</td>\n",
       "      <td>1629.333333</td>\n",
       "      <td>20.366667</td>\n",
       "      <td>20</td>\n",
       "      <td>82.0</td>\n",
       "      <td>0.975610</td>\n",
       "      <td>0.412500</td>\n",
       "      <td>0.725000</td>\n",
       "      <td>2.837500</td>\n",
       "      <td>0.337500</td>\n",
       "      <td>1.215221</td>\n",
       "      <td>2.135843</td>\n",
       "      <td>8.359247</td>\n",
       "      <td>0.994272</td>\n",
       "      <td>8700000.0</td>\n",
       "      <td>0.0989</td>\n",
       "    </tr>\n",
       "    <tr>\n",
       "      <th>4</th>\n",
       "      <td>8471685</td>\n",
       "      <td>20242025</td>\n",
       "      <td>[Los Angeles Kings]</td>\n",
       "      <td>Anze Kopitar</td>\n",
       "      <td>37</td>\n",
       "      <td>81</td>\n",
       "      <td>21.0</td>\n",
       "      <td>46.0</td>\n",
       "      <td>67</td>\n",
       "      <td>14.0</td>\n",
       "      <td>4.0</td>\n",
       "      <td>22.0</td>\n",
       "      <td>98.0</td>\n",
       "      <td>1534.950000</td>\n",
       "      <td>18.950000</td>\n",
       "      <td>19</td>\n",
       "      <td>82.0</td>\n",
       "      <td>0.987805</td>\n",
       "      <td>0.259259</td>\n",
       "      <td>0.567901</td>\n",
       "      <td>1.209877</td>\n",
       "      <td>0.271605</td>\n",
       "      <td>0.820874</td>\n",
       "      <td>1.798104</td>\n",
       "      <td>3.830744</td>\n",
       "      <td>0.859963</td>\n",
       "      <td>7000000.0</td>\n",
       "      <td>0.0795</td>\n",
       "    </tr>\n",
       "    <tr>\n",
       "      <th>5</th>\n",
       "      <td>8471817</td>\n",
       "      <td>20242025</td>\n",
       "      <td>[Toronto Maple Leafs]</td>\n",
       "      <td>Ryan Reaves</td>\n",
       "      <td>37</td>\n",
       "      <td>35</td>\n",
       "      <td>0.0</td>\n",
       "      <td>2.0</td>\n",
       "      <td>2</td>\n",
       "      <td>-2.0</td>\n",
       "      <td>28.0</td>\n",
       "      <td>0.0</td>\n",
       "      <td>14.0</td>\n",
       "      <td>273.000000</td>\n",
       "      <td>7.800000</td>\n",
       "      <td>15</td>\n",
       "      <td>82.0</td>\n",
       "      <td>0.426829</td>\n",
       "      <td>0.000000</td>\n",
       "      <td>0.057143</td>\n",
       "      <td>0.400000</td>\n",
       "      <td>0.000000</td>\n",
       "      <td>0.000000</td>\n",
       "      <td>0.439560</td>\n",
       "      <td>3.076923</td>\n",
       "      <td>0.000000</td>\n",
       "      <td>1350000.0</td>\n",
       "      <td>0.0153</td>\n",
       "    </tr>\n",
       "    <tr>\n",
       "      <th>...</th>\n",
       "      <td>...</td>\n",
       "      <td>...</td>\n",
       "      <td>...</td>\n",
       "      <td>...</td>\n",
       "      <td>...</td>\n",
       "      <td>...</td>\n",
       "      <td>...</td>\n",
       "      <td>...</td>\n",
       "      <td>...</td>\n",
       "      <td>...</td>\n",
       "      <td>...</td>\n",
       "      <td>...</td>\n",
       "      <td>...</td>\n",
       "      <td>...</td>\n",
       "      <td>...</td>\n",
       "      <td>...</td>\n",
       "      <td>...</td>\n",
       "      <td>...</td>\n",
       "      <td>...</td>\n",
       "      <td>...</td>\n",
       "      <td>...</td>\n",
       "      <td>...</td>\n",
       "      <td>...</td>\n",
       "      <td>...</td>\n",
       "      <td>...</td>\n",
       "      <td>...</td>\n",
       "      <td>...</td>\n",
       "      <td>...</td>\n",
       "    </tr>\n",
       "    <tr>\n",
       "      <th>465</th>\n",
       "      <td>8484227</td>\n",
       "      <td>20242025</td>\n",
       "      <td>[San Jose Sharks]</td>\n",
       "      <td>Will Smith</td>\n",
       "      <td>19</td>\n",
       "      <td>74</td>\n",
       "      <td>18.0</td>\n",
       "      <td>27.0</td>\n",
       "      <td>45</td>\n",
       "      <td>-15.0</td>\n",
       "      <td>18.0</td>\n",
       "      <td>12.0</td>\n",
       "      <td>127.0</td>\n",
       "      <td>1172.900000</td>\n",
       "      <td>15.850000</td>\n",
       "      <td>1</td>\n",
       "      <td>82.0</td>\n",
       "      <td>0.902439</td>\n",
       "      <td>0.243243</td>\n",
       "      <td>0.364865</td>\n",
       "      <td>1.716216</td>\n",
       "      <td>0.162162</td>\n",
       "      <td>0.920795</td>\n",
       "      <td>1.381192</td>\n",
       "      <td>6.496718</td>\n",
       "      <td>0.613863</td>\n",
       "      <td>950000.0</td>\n",
       "      <td>0.0108</td>\n",
       "    </tr>\n",
       "    <tr>\n",
       "      <th>468</th>\n",
       "      <td>8484387</td>\n",
       "      <td>20242025</td>\n",
       "      <td>[Philadelphia Flyers]</td>\n",
       "      <td>Matvei Michkov</td>\n",
       "      <td>20</td>\n",
       "      <td>80</td>\n",
       "      <td>26.0</td>\n",
       "      <td>37.0</td>\n",
       "      <td>63</td>\n",
       "      <td>-18.0</td>\n",
       "      <td>46.0</td>\n",
       "      <td>17.0</td>\n",
       "      <td>199.0</td>\n",
       "      <td>1334.666667</td>\n",
       "      <td>16.683333</td>\n",
       "      <td>1</td>\n",
       "      <td>82.0</td>\n",
       "      <td>0.975610</td>\n",
       "      <td>0.325000</td>\n",
       "      <td>0.462500</td>\n",
       "      <td>2.487500</td>\n",
       "      <td>0.212500</td>\n",
       "      <td>1.168831</td>\n",
       "      <td>1.663337</td>\n",
       "      <td>8.946054</td>\n",
       "      <td>0.764236</td>\n",
       "      <td>950000.0</td>\n",
       "      <td>0.0108</td>\n",
       "    </tr>\n",
       "    <tr>\n",
       "      <th>469</th>\n",
       "      <td>8484801</td>\n",
       "      <td>20242025</td>\n",
       "      <td>[San Jose Sharks]</td>\n",
       "      <td>Macklin Celebrini</td>\n",
       "      <td>18</td>\n",
       "      <td>70</td>\n",
       "      <td>25.0</td>\n",
       "      <td>38.0</td>\n",
       "      <td>63</td>\n",
       "      <td>-31.0</td>\n",
       "      <td>28.0</td>\n",
       "      <td>22.0</td>\n",
       "      <td>236.0</td>\n",
       "      <td>1384.833333</td>\n",
       "      <td>19.783333</td>\n",
       "      <td>1</td>\n",
       "      <td>82.0</td>\n",
       "      <td>0.853659</td>\n",
       "      <td>0.357143</td>\n",
       "      <td>0.542857</td>\n",
       "      <td>3.371429</td>\n",
       "      <td>0.314286</td>\n",
       "      <td>1.083163</td>\n",
       "      <td>1.646408</td>\n",
       "      <td>10.225057</td>\n",
       "      <td>0.953183</td>\n",
       "      <td>975000.0</td>\n",
       "      <td>0.0111</td>\n",
       "    </tr>\n",
       "    <tr>\n",
       "      <th>472</th>\n",
       "      <td>8484958</td>\n",
       "      <td>20242025</td>\n",
       "      <td>[New York Islanders]</td>\n",
       "      <td>Maxim Tsyplakov</td>\n",
       "      <td>26</td>\n",
       "      <td>77</td>\n",
       "      <td>10.0</td>\n",
       "      <td>25.0</td>\n",
       "      <td>35</td>\n",
       "      <td>4.0</td>\n",
       "      <td>39.0</td>\n",
       "      <td>3.0</td>\n",
       "      <td>116.0</td>\n",
       "      <td>1152.433333</td>\n",
       "      <td>14.966667</td>\n",
       "      <td>1</td>\n",
       "      <td>82.0</td>\n",
       "      <td>0.939024</td>\n",
       "      <td>0.129870</td>\n",
       "      <td>0.324675</td>\n",
       "      <td>1.506494</td>\n",
       "      <td>0.038961</td>\n",
       "      <td>0.520637</td>\n",
       "      <td>1.301594</td>\n",
       "      <td>6.039395</td>\n",
       "      <td>0.156191</td>\n",
       "      <td>950000.0</td>\n",
       "      <td>0.0108</td>\n",
       "    </tr>\n",
       "    <tr>\n",
       "      <th>474</th>\n",
       "      <td>8485469</td>\n",
       "      <td>20242025</td>\n",
       "      <td>[Columbus Blue Jackets]</td>\n",
       "      <td>Jack Williams</td>\n",
       "      <td>22</td>\n",
       "      <td>1</td>\n",
       "      <td>0.0</td>\n",
       "      <td>0.0</td>\n",
       "      <td>0</td>\n",
       "      <td>1.0</td>\n",
       "      <td>0.0</td>\n",
       "      <td>0.0</td>\n",
       "      <td>0.0</td>\n",
       "      <td>11.150000</td>\n",
       "      <td>11.150000</td>\n",
       "      <td>1</td>\n",
       "      <td>82.0</td>\n",
       "      <td>0.012195</td>\n",
       "      <td>0.000000</td>\n",
       "      <td>0.000000</td>\n",
       "      <td>0.000000</td>\n",
       "      <td>0.000000</td>\n",
       "      <td>0.000000</td>\n",
       "      <td>0.000000</td>\n",
       "      <td>0.000000</td>\n",
       "      <td>0.000000</td>\n",
       "      <td>923750.0</td>\n",
       "      <td>0.0105</td>\n",
       "    </tr>\n",
       "  </tbody>\n",
       "</table>\n",
       "<p>389 rows × 28 columns</p>\n",
       "</div>"
      ],
      "text/plain": [
       "    playerId    season                     team         playerName  age  \\\n",
       "0    8470621  20242025        [Edmonton Oilers]        Corey Perry   39   \n",
       "1    8471214  20242025    [Washington Capitals]      Alex Ovechkin   39   \n",
       "3    8471675  20242025    [Pittsburgh Penguins]      Sidney Crosby   37   \n",
       "4    8471685  20242025      [Los Angeles Kings]       Anze Kopitar   37   \n",
       "5    8471817  20242025    [Toronto Maple Leafs]        Ryan Reaves   37   \n",
       "..       ...       ...                      ...                ...  ...   \n",
       "465  8484227  20242025        [San Jose Sharks]         Will Smith   19   \n",
       "468  8484387  20242025    [Philadelphia Flyers]     Matvei Michkov   20   \n",
       "469  8484801  20242025        [San Jose Sharks]  Macklin Celebrini   18   \n",
       "472  8484958  20242025     [New York Islanders]    Maxim Tsyplakov   26   \n",
       "474  8485469  20242025  [Columbus Blue Jackets]      Jack Williams   22   \n",
       "\n",
       "     gamesPlayed  goals  assists  points  plusMinus   pim  powerPlayPoints  \\\n",
       "0             81   19.0     11.0      30       12.0  61.0              7.0   \n",
       "1             65   44.0     29.0      73       15.0  14.0             22.0   \n",
       "3             80   33.0     58.0      91      -20.0  31.0             27.0   \n",
       "4             81   21.0     46.0      67       14.0   4.0             22.0   \n",
       "5             35    0.0      2.0       2       -2.0  28.0              0.0   \n",
       "..           ...    ...      ...     ...        ...   ...              ...   \n",
       "465           74   18.0     27.0      45      -15.0  18.0             12.0   \n",
       "468           80   26.0     37.0      63      -18.0  46.0             17.0   \n",
       "469           70   25.0     38.0      63      -31.0  28.0             22.0   \n",
       "472           77   10.0     25.0      35        4.0  39.0              3.0   \n",
       "474            1    0.0      0.0       0        1.0   0.0              0.0   \n",
       "\n",
       "     shots     totalToi     avgToi  yoe  seasonLength       gpa       gpg  \\\n",
       "0    100.0   966.600000  11.933333   20          82.0  0.987805  0.234568   \n",
       "1    237.0  1151.583333  17.716667   20          82.0  0.792683  0.676923   \n",
       "3    227.0  1629.333333  20.366667   20          82.0  0.975610  0.412500   \n",
       "4     98.0  1534.950000  18.950000   19          82.0  0.987805  0.259259   \n",
       "5     14.0   273.000000   7.800000   15          82.0  0.426829  0.000000   \n",
       "..     ...          ...        ...  ...           ...       ...       ...   \n",
       "465  127.0  1172.900000  15.850000    1          82.0  0.902439  0.243243   \n",
       "468  199.0  1334.666667  16.683333    1          82.0  0.975610  0.325000   \n",
       "469  236.0  1384.833333  19.783333    1          82.0  0.853659  0.357143   \n",
       "472  116.0  1152.433333  14.966667    1          82.0  0.939024  0.129870   \n",
       "474    0.0    11.150000  11.150000    1          82.0  0.012195  0.000000   \n",
       "\n",
       "          apg       spg     ppppg      g/60      a/60       s/60    ppp/60  \\\n",
       "0    0.135802  1.234568  0.086420  1.179392  0.682806   6.207325  0.434513   \n",
       "1    0.446154  3.646154  0.338462  2.292496  1.510963  12.348216  1.146248   \n",
       "3    0.725000  2.837500  0.337500  1.215221  2.135843   8.359247  0.994272   \n",
       "4    0.567901  1.209877  0.271605  0.820874  1.798104   3.830744  0.859963   \n",
       "5    0.057143  0.400000  0.000000  0.000000  0.439560   3.076923  0.000000   \n",
       "..        ...       ...       ...       ...       ...        ...       ...   \n",
       "465  0.364865  1.716216  0.162162  0.920795  1.381192   6.496718  0.613863   \n",
       "468  0.462500  2.487500  0.212500  1.168831  1.663337   8.946054  0.764236   \n",
       "469  0.542857  3.371429  0.314286  1.083163  1.646408  10.225057  0.953183   \n",
       "472  0.324675  1.506494  0.038961  0.520637  1.301594   6.039395  0.156191   \n",
       "474  0.000000  0.000000  0.000000  0.000000  0.000000   0.000000  0.000000   \n",
       "\n",
       "        capHit  capPct  \n",
       "0    1150000.0  0.0131  \n",
       "1    9500000.0  0.1080  \n",
       "3    8700000.0  0.0989  \n",
       "4    7000000.0  0.0795  \n",
       "5    1350000.0  0.0153  \n",
       "..         ...     ...  \n",
       "465   950000.0  0.0108  \n",
       "468   950000.0  0.0108  \n",
       "469   975000.0  0.0111  \n",
       "472   950000.0  0.0108  \n",
       "474   923750.0  0.0105  \n",
       "\n",
       "[389 rows x 28 columns]"
      ]
     },
     "execution_count": 4,
     "metadata": {},
     "output_type": "execute_result"
    }
   ],
   "source": [
    "df = hdf.merge(cdf, on=\"playerName\", how=\"left\")\n",
    "df = df[~df[\"capHit\"].isna()]\n",
    "df"
   ]
  },
  {
   "cell_type": "code",
   "execution_count": 5,
   "id": "50f54cbb",
   "metadata": {},
   "outputs": [],
   "source": [
    "df[\"capPct\"] = df[\"capPct\"] * 100"
   ]
  },
  {
   "cell_type": "code",
   "execution_count": 7,
   "id": "c380c4dc",
   "metadata": {},
   "outputs": [],
   "source": [
    "# Add 1 to smooth goals (to capture the fact that 0 goals at $10M cap is much worse than 0 goals at $1M cap)\n",
    "df[\"g_eff\"] = (df[\"goals\"] + 1) / df[\"capPct\"]\n",
    "df[\"a_eff\"] = (df[\"assists\"] + 1) / df[\"capPct\"]\n",
    "df[\"p_eff\"] = (df[\"points\"] + 1) / df[\"capPct\"]\n",
    "df[\"gp_eff\"] = (df[\"gamesPlayed\"]) / df[\"capPct\"]"
   ]
  },
  {
   "cell_type": "code",
   "execution_count": null,
   "id": "191fcdbd",
   "metadata": {},
   "outputs": [],
   "source": [
    "# df.sort_values(by=[\"g_eff\"], ascending=[False])"
   ]
  },
  {
   "cell_type": "code",
   "execution_count": 14,
   "id": "6be3e448",
   "metadata": {},
   "outputs": [],
   "source": [
    "def add_z_score(df, col, groupby_col=None):\n",
    "    \"\"\"\n",
    "    Adds a z-score column for `col`. Optionally computes within groups.\n",
    "    \"\"\"\n",
    "    # Grouped z-score\n",
    "    if groupby_col:\n",
    "        z_col = f\"{col}_z\"\n",
    "        df[z_col] = df.groupby(groupby_col)[col].transform(\n",
    "            lambda x: (x - x.mean()) / x.std()\n",
    "        )\n",
    "    # Global z-score\n",
    "    else:\n",
    "        df[f\"{col}_z\"] = (df[col] - df[col].mean()) / df[col].std()\n",
    "    return df"
   ]
  },
  {
   "cell_type": "code",
   "execution_count": null,
   "id": "9a6878dd",
   "metadata": {},
   "outputs": [
    {
     "data": {
      "text/plain": [
       "salary_tier\n",
       "1M     120\n",
       "2M      56\n",
       "3M      45\n",
       "5M      34\n",
       "4M      32\n",
       "6M      30\n",
       "9M      20\n",
       "8M      18\n",
       "7M      16\n",
       "10M     10\n",
       "12M      4\n",
       "13M      2\n",
       "11M      1\n",
       "14M      1\n",
       "Name: count, dtype: int64"
      ]
     },
     "execution_count": 16,
     "metadata": {},
     "output_type": "execute_result"
    }
   ],
   "source": [
    "df[\"salary_tier\"] = (np.ceil(df[\"capHit\"] / 1000000)).astype(int).astype(str) + \"M\"\n",
    "df[\"salary_tier\"].value_counts()"
   ]
  },
  {
   "cell_type": "code",
   "execution_count": null,
   "id": "aa33ef65",
   "metadata": {},
   "outputs": [
    {
     "data": {
      "text/plain": [
       "salary_tier\n",
       "1M      120\n",
       "2M       56\n",
       "3M       45\n",
       "5M       34\n",
       "4M       32\n",
       "6M       30\n",
       "9M       20\n",
       "8M       18\n",
       "7M       16\n",
       "10M      10\n",
       ">10M      8\n",
       "Name: count, dtype: int64"
      ]
     },
     "execution_count": 17,
     "metadata": {},
     "output_type": "execute_result"
    }
   ],
   "source": [
    "df.loc[df[\"salary_tier\"].isin([\"11M\", \"12M\", \"13M\", \"14M\"]), \"salary_tier\"] = \">10M\"\n",
    "df[\"salary_tier\"].value_counts()"
   ]
  },
  {
   "cell_type": "code",
   "execution_count": null,
   "id": "b519c4c2",
   "metadata": {},
   "outputs": [
    {
     "name": "stderr",
     "output_type": "stream",
     "text": [
      "/var/folders/_2/n90h32m103gc3kvk1wlssy1c0000gn/T/ipykernel_85925/3879686840.py:8: FutureWarning:\n",
      "\n",
      "The default of observed=False is deprecated and will be changed to True in a future version of pandas. Pass observed=False to retain current behavior or observed=True to adopt the future default and silence this warning.\n",
      "\n",
      "/var/folders/_2/n90h32m103gc3kvk1wlssy1c0000gn/T/ipykernel_85925/3879686840.py:8: FutureWarning:\n",
      "\n",
      "The default of observed=False is deprecated and will be changed to True in a future version of pandas. Pass observed=False to retain current behavior or observed=True to adopt the future default and silence this warning.\n",
      "\n",
      "/var/folders/_2/n90h32m103gc3kvk1wlssy1c0000gn/T/ipykernel_85925/3879686840.py:8: FutureWarning:\n",
      "\n",
      "The default of observed=False is deprecated and will be changed to True in a future version of pandas. Pass observed=False to retain current behavior or observed=True to adopt the future default and silence this warning.\n",
      "\n"
     ]
    }
   ],
   "source": [
    "df = add_z_score(df, col=\"goal_efficiency\", groupby_col=\"salary_tier\")\n",
    "df = add_z_score(df, col=\"assist_efficiency\", groupby_col=\"salary_tier\")\n",
    "df = add_z_score(df, col=\"point_efficiency\", groupby_col=\"salary_tier\")\n",
    "df = add_z_score(df, col=\"games_played_efficiency\", groupby_col=\"salary_tier\")"
   ]
  },
  {
   "cell_type": "code",
   "execution_count": null,
   "id": "2255a8ca",
   "metadata": {},
   "outputs": [
    {
     "data": {
      "text/html": [
       "<div>\n",
       "<style scoped>\n",
       "    .dataframe tbody tr th:only-of-type {\n",
       "        vertical-align: middle;\n",
       "    }\n",
       "\n",
       "    .dataframe tbody tr th {\n",
       "        vertical-align: top;\n",
       "    }\n",
       "\n",
       "    .dataframe thead th {\n",
       "        text-align: right;\n",
       "    }\n",
       "</style>\n",
       "<table border=\"1\" class=\"dataframe\">\n",
       "  <thead>\n",
       "    <tr style=\"text-align: right;\">\n",
       "      <th></th>\n",
       "      <th>playerId</th>\n",
       "      <th>season</th>\n",
       "      <th>team</th>\n",
       "      <th>playerName</th>\n",
       "      <th>age</th>\n",
       "      <th>gamesPlayed</th>\n",
       "      <th>goals</th>\n",
       "      <th>assists</th>\n",
       "      <th>points</th>\n",
       "      <th>plusMinus</th>\n",
       "      <th>...</th>\n",
       "      <th>capPct</th>\n",
       "      <th>goal_efficiency</th>\n",
       "      <th>assist_efficiency</th>\n",
       "      <th>point_efficiency</th>\n",
       "      <th>games_played_efficiency</th>\n",
       "      <th>salary_tier</th>\n",
       "      <th>goal_efficiency_z</th>\n",
       "      <th>assist_efficiency_z</th>\n",
       "      <th>point_efficiency_z</th>\n",
       "      <th>games_played_efficiency_z</th>\n",
       "    </tr>\n",
       "  </thead>\n",
       "  <tbody>\n",
       "    <tr>\n",
       "      <th>432</th>\n",
       "      <td>8482740</td>\n",
       "      <td>20242025</td>\n",
       "      <td>[Dallas Stars]</td>\n",
       "      <td>Wyatt Johnston</td>\n",
       "      <td>21</td>\n",
       "      <td>82</td>\n",
       "      <td>33.0</td>\n",
       "      <td>38.0</td>\n",
       "      <td>71</td>\n",
       "      <td>2.0</td>\n",
       "      <td>...</td>\n",
       "      <td>0.0102</td>\n",
       "      <td>3333.333333</td>\n",
       "      <td>3823.529412</td>\n",
       "      <td>7058.823529</td>\n",
       "      <td>8039.215686</td>\n",
       "      <td>1M</td>\n",
       "      <td>3.022168</td>\n",
       "      <td>2.548681</td>\n",
       "      <td>2.885939</td>\n",
       "      <td>0.877263</td>\n",
       "    </tr>\n",
       "    <tr>\n",
       "      <th>364</th>\n",
       "      <td>8481580</td>\n",
       "      <td>20242025</td>\n",
       "      <td>[Washington Capitals]</td>\n",
       "      <td>Connor McMichael</td>\n",
       "      <td>23</td>\n",
       "      <td>82</td>\n",
       "      <td>26.0</td>\n",
       "      <td>31.0</td>\n",
       "      <td>57</td>\n",
       "      <td>19.0</td>\n",
       "      <td>...</td>\n",
       "      <td>0.0239</td>\n",
       "      <td>1129.707113</td>\n",
       "      <td>1338.912134</td>\n",
       "      <td>2426.778243</td>\n",
       "      <td>3430.962343</td>\n",
       "      <td>3M</td>\n",
       "      <td>2.768369</td>\n",
       "      <td>2.016582</td>\n",
       "      <td>2.409996</td>\n",
       "      <td>1.625204</td>\n",
       "    </tr>\n",
       "    <tr>\n",
       "      <th>158</th>\n",
       "      <td>8477934</td>\n",
       "      <td>20242025</td>\n",
       "      <td>[Edmonton Oilers]</td>\n",
       "      <td>Leon Draisaitl</td>\n",
       "      <td>29</td>\n",
       "      <td>71</td>\n",
       "      <td>52.0</td>\n",
       "      <td>54.0</td>\n",
       "      <td>106</td>\n",
       "      <td>32.0</td>\n",
       "      <td>...</td>\n",
       "      <td>0.0966</td>\n",
       "      <td>548.654244</td>\n",
       "      <td>569.358178</td>\n",
       "      <td>1107.660455</td>\n",
       "      <td>734.989648</td>\n",
       "      <td>9M</td>\n",
       "      <td>2.685210</td>\n",
       "      <td>1.047224</td>\n",
       "      <td>2.138838</td>\n",
       "      <td>-0.411351</td>\n",
       "    </tr>\n",
       "    <tr>\n",
       "      <th>166</th>\n",
       "      <td>8477949</td>\n",
       "      <td>20242025</td>\n",
       "      <td>[Buffalo Sabres]</td>\n",
       "      <td>Alex Tuch</td>\n",
       "      <td>28</td>\n",
       "      <td>82</td>\n",
       "      <td>36.0</td>\n",
       "      <td>31.0</td>\n",
       "      <td>67</td>\n",
       "      <td>16.0</td>\n",
       "      <td>...</td>\n",
       "      <td>0.0540</td>\n",
       "      <td>685.185185</td>\n",
       "      <td>592.592593</td>\n",
       "      <td>1259.259259</td>\n",
       "      <td>1518.518519</td>\n",
       "      <td>5M</td>\n",
       "      <td>2.622596</td>\n",
       "      <td>0.540570</td>\n",
       "      <td>1.591983</td>\n",
       "      <td>0.591525</td>\n",
       "    </tr>\n",
       "    <tr>\n",
       "      <th>376</th>\n",
       "      <td>8481656</td>\n",
       "      <td>20242025</td>\n",
       "      <td>[Washington Capitals]</td>\n",
       "      <td>Aliaksei Protas</td>\n",
       "      <td>23</td>\n",
       "      <td>76</td>\n",
       "      <td>30.0</td>\n",
       "      <td>36.0</td>\n",
       "      <td>66</td>\n",
       "      <td>40.0</td>\n",
       "      <td>...</td>\n",
       "      <td>0.0384</td>\n",
       "      <td>807.291667</td>\n",
       "      <td>963.541667</td>\n",
       "      <td>1744.791667</td>\n",
       "      <td>1979.166667</td>\n",
       "      <td>4M</td>\n",
       "      <td>2.591297</td>\n",
       "      <td>2.276351</td>\n",
       "      <td>2.560052</td>\n",
       "      <td>0.570659</td>\n",
       "    </tr>\n",
       "    <tr>\n",
       "      <th>...</th>\n",
       "      <td>...</td>\n",
       "      <td>...</td>\n",
       "      <td>...</td>\n",
       "      <td>...</td>\n",
       "      <td>...</td>\n",
       "      <td>...</td>\n",
       "      <td>...</td>\n",
       "      <td>...</td>\n",
       "      <td>...</td>\n",
       "      <td>...</td>\n",
       "      <td>...</td>\n",
       "      <td>...</td>\n",
       "      <td>...</td>\n",
       "      <td>...</td>\n",
       "      <td>...</td>\n",
       "      <td>...</td>\n",
       "      <td>...</td>\n",
       "      <td>...</td>\n",
       "      <td>...</td>\n",
       "      <td>...</td>\n",
       "      <td>...</td>\n",
       "    </tr>\n",
       "    <tr>\n",
       "      <th>58</th>\n",
       "      <td>8475794</td>\n",
       "      <td>20242025</td>\n",
       "      <td>[Dallas Stars]</td>\n",
       "      <td>Tyler Seguin</td>\n",
       "      <td>32</td>\n",
       "      <td>20</td>\n",
       "      <td>9.0</td>\n",
       "      <td>12.0</td>\n",
       "      <td>21</td>\n",
       "      <td>15.0</td>\n",
       "      <td>...</td>\n",
       "      <td>0.1119</td>\n",
       "      <td>89.365505</td>\n",
       "      <td>116.175156</td>\n",
       "      <td>196.604111</td>\n",
       "      <td>178.731010</td>\n",
       "      <td>10M</td>\n",
       "      <td>-1.594352</td>\n",
       "      <td>-1.724648</td>\n",
       "      <td>-1.987152</td>\n",
       "      <td>-2.642859</td>\n",
       "    </tr>\n",
       "    <tr>\n",
       "      <th>46</th>\n",
       "      <td>8475714</td>\n",
       "      <td>20242025</td>\n",
       "      <td>[Toronto Maple Leafs]</td>\n",
       "      <td>Calle Jarnkrok</td>\n",
       "      <td>33</td>\n",
       "      <td>19</td>\n",
       "      <td>1.0</td>\n",
       "      <td>6.0</td>\n",
       "      <td>7</td>\n",
       "      <td>1.0</td>\n",
       "      <td>...</td>\n",
       "      <td>0.0239</td>\n",
       "      <td>83.682008</td>\n",
       "      <td>292.887029</td>\n",
       "      <td>334.728033</td>\n",
       "      <td>794.979079</td>\n",
       "      <td>3M</td>\n",
       "      <td>-1.604561</td>\n",
       "      <td>-0.933573</td>\n",
       "      <td>-1.268493</td>\n",
       "      <td>-2.673761</td>\n",
       "    </tr>\n",
       "    <tr>\n",
       "      <th>94</th>\n",
       "      <td>8476826</td>\n",
       "      <td>20242025</td>\n",
       "      <td>[Seattle Kraken, Tampa Bay Lightning]</td>\n",
       "      <td>Yanni Gourde</td>\n",
       "      <td>33</td>\n",
       "      <td>57</td>\n",
       "      <td>7.0</td>\n",
       "      <td>24.0</td>\n",
       "      <td>31</td>\n",
       "      <td>-1.0</td>\n",
       "      <td>...</td>\n",
       "      <td>0.0587</td>\n",
       "      <td>136.286201</td>\n",
       "      <td>425.894378</td>\n",
       "      <td>545.144804</td>\n",
       "      <td>971.039182</td>\n",
       "      <td>6M</td>\n",
       "      <td>-1.607219</td>\n",
       "      <td>-0.203712</td>\n",
       "      <td>-1.005339</td>\n",
       "      <td>-1.417027</td>\n",
       "    </tr>\n",
       "    <tr>\n",
       "      <th>285</th>\n",
       "      <td>8480012</td>\n",
       "      <td>20242025</td>\n",
       "      <td>[Vancouver Canucks]</td>\n",
       "      <td>Elias Pettersson</td>\n",
       "      <td>26</td>\n",
       "      <td>64</td>\n",
       "      <td>15.0</td>\n",
       "      <td>30.0</td>\n",
       "      <td>45</td>\n",
       "      <td>-10.0</td>\n",
       "      <td>...</td>\n",
       "      <td>0.1318</td>\n",
       "      <td>121.396055</td>\n",
       "      <td>235.204856</td>\n",
       "      <td>349.013657</td>\n",
       "      <td>485.584219</td>\n",
       "      <td>&gt;10M</td>\n",
       "      <td>-1.654901</td>\n",
       "      <td>-1.222593</td>\n",
       "      <td>-1.760937</td>\n",
       "      <td>-0.886033</td>\n",
       "    </tr>\n",
       "    <tr>\n",
       "      <th>106</th>\n",
       "      <td>8476905</td>\n",
       "      <td>20242025</td>\n",
       "      <td>[Seattle Kraken]</td>\n",
       "      <td>Chandler Stephenson</td>\n",
       "      <td>30</td>\n",
       "      <td>78</td>\n",
       "      <td>13.0</td>\n",
       "      <td>38.0</td>\n",
       "      <td>51</td>\n",
       "      <td>-9.0</td>\n",
       "      <td>...</td>\n",
       "      <td>0.0710</td>\n",
       "      <td>197.183099</td>\n",
       "      <td>549.295775</td>\n",
       "      <td>732.394366</td>\n",
       "      <td>1098.591549</td>\n",
       "      <td>7M</td>\n",
       "      <td>-1.717836</td>\n",
       "      <td>0.651501</td>\n",
       "      <td>-0.083270</td>\n",
       "      <td>0.492753</td>\n",
       "    </tr>\n",
       "  </tbody>\n",
       "</table>\n",
       "<p>389 rows × 37 columns</p>\n",
       "</div>"
      ],
      "text/plain": [
       "    playerId    season                                   team  \\\n",
       "432  8482740  20242025                         [Dallas Stars]   \n",
       "364  8481580  20242025                  [Washington Capitals]   \n",
       "158  8477934  20242025                      [Edmonton Oilers]   \n",
       "166  8477949  20242025                       [Buffalo Sabres]   \n",
       "376  8481656  20242025                  [Washington Capitals]   \n",
       "..       ...       ...                                    ...   \n",
       "58   8475794  20242025                         [Dallas Stars]   \n",
       "46   8475714  20242025                  [Toronto Maple Leafs]   \n",
       "94   8476826  20242025  [Seattle Kraken, Tampa Bay Lightning]   \n",
       "285  8480012  20242025                    [Vancouver Canucks]   \n",
       "106  8476905  20242025                       [Seattle Kraken]   \n",
       "\n",
       "              playerName  age  gamesPlayed  goals  assists  points  plusMinus  \\\n",
       "432       Wyatt Johnston   21           82   33.0     38.0      71        2.0   \n",
       "364     Connor McMichael   23           82   26.0     31.0      57       19.0   \n",
       "158       Leon Draisaitl   29           71   52.0     54.0     106       32.0   \n",
       "166            Alex Tuch   28           82   36.0     31.0      67       16.0   \n",
       "376      Aliaksei Protas   23           76   30.0     36.0      66       40.0   \n",
       "..                   ...  ...          ...    ...      ...     ...        ...   \n",
       "58          Tyler Seguin   32           20    9.0     12.0      21       15.0   \n",
       "46        Calle Jarnkrok   33           19    1.0      6.0       7        1.0   \n",
       "94          Yanni Gourde   33           57    7.0     24.0      31       -1.0   \n",
       "285     Elias Pettersson   26           64   15.0     30.0      45      -10.0   \n",
       "106  Chandler Stephenson   30           78   13.0     38.0      51       -9.0   \n",
       "\n",
       "     ...  capPct  goal_efficiency  assist_efficiency  point_efficiency  \\\n",
       "432  ...  0.0102      3333.333333        3823.529412       7058.823529   \n",
       "364  ...  0.0239      1129.707113        1338.912134       2426.778243   \n",
       "158  ...  0.0966       548.654244         569.358178       1107.660455   \n",
       "166  ...  0.0540       685.185185         592.592593       1259.259259   \n",
       "376  ...  0.0384       807.291667         963.541667       1744.791667   \n",
       "..   ...     ...              ...                ...               ...   \n",
       "58   ...  0.1119        89.365505         116.175156        196.604111   \n",
       "46   ...  0.0239        83.682008         292.887029        334.728033   \n",
       "94   ...  0.0587       136.286201         425.894378        545.144804   \n",
       "285  ...  0.1318       121.396055         235.204856        349.013657   \n",
       "106  ...  0.0710       197.183099         549.295775        732.394366   \n",
       "\n",
       "     games_played_efficiency  salary_tier  goal_efficiency_z  \\\n",
       "432              8039.215686           1M           3.022168   \n",
       "364              3430.962343           3M           2.768369   \n",
       "158               734.989648           9M           2.685210   \n",
       "166              1518.518519           5M           2.622596   \n",
       "376              1979.166667           4M           2.591297   \n",
       "..                       ...          ...                ...   \n",
       "58                178.731010          10M          -1.594352   \n",
       "46                794.979079           3M          -1.604561   \n",
       "94                971.039182           6M          -1.607219   \n",
       "285               485.584219         >10M          -1.654901   \n",
       "106              1098.591549           7M          -1.717836   \n",
       "\n",
       "     assist_efficiency_z  point_efficiency_z  games_played_efficiency_z  \n",
       "432             2.548681            2.885939                   0.877263  \n",
       "364             2.016582            2.409996                   1.625204  \n",
       "158             1.047224            2.138838                  -0.411351  \n",
       "166             0.540570            1.591983                   0.591525  \n",
       "376             2.276351            2.560052                   0.570659  \n",
       "..                   ...                 ...                        ...  \n",
       "58             -1.724648           -1.987152                  -2.642859  \n",
       "46             -0.933573           -1.268493                  -2.673761  \n",
       "94             -0.203712           -1.005339                  -1.417027  \n",
       "285            -1.222593           -1.760937                  -0.886033  \n",
       "106             0.651501           -0.083270                   0.492753  \n",
       "\n",
       "[389 rows x 37 columns]"
      ]
     },
     "execution_count": 28,
     "metadata": {},
     "output_type": "execute_result"
    }
   ],
   "source": [
    "df.sort_values(by=\"goal_efficiency_z\", ascending=False)"
   ]
  },
  {
   "cell_type": "code",
   "execution_count": null,
   "id": "4b48f44e",
   "metadata": {},
   "outputs": [],
   "source": [
    "tiers = [\"1M\", \"2M\", \"3M\", \"4M\", \"5M\", \"6M\", \"7M\", \"8M\", \"9M\", \"10M\", \">10M\"]  # your custom order\n",
    "df[\"salary_tier\"] = pd.Categorical(df[\"salary_tier\"], categories=tiers, ordered=True)\n",
    "df = df.sort_values('salary_tier')"
   ]
  },
  {
   "cell_type": "code",
   "execution_count": null,
   "id": "0e210f8a",
   "metadata": {},
   "outputs": [
    {
     "data": {
      "application/vnd.plotly.v1+json": {
       "config": {
        "plotlyServerURL": "https://plot.ly"
       },
       "data": [
        {
         "alignmentgroup": "True",
         "box": {
          "visible": false
         },
         "hovertemplate": "<b>%{hovertext}</b><br><br>salary_tier=%{x}<br>goal_efficiency_z=%{y}<extra></extra>",
         "hovertext": [
          "Jack Williams",
          "Hudson Fasching",
          "Liam O'Brien",
          "Eric Robinson",
          "Connor Brown",
          "Dominic Toninato",
          "Rasmus Kupari",
          "Jimmy Vesey",
          "Akil Thomas",
          "Jakub Lauko",
          "Pontus Holmberg",
          "Zemgus Girgensons",
          "Mark Jankowski",
          "Jonatan Berggren",
          "Tanner Pearson",
          "David Gustafsson",
          "Luke Glendening",
          "Paul Cotter",
          "Nikolai Kovalenko",
          "Cole Koepke",
          "Nolan Foote",
          "Alex Turcotte",
          "John Beecher",
          "Arthur Kaliyev",
          "Matt Nieto",
          "Nicholas Robertson",
          "Jakob Pelletier",
          "Simon Holmstrom",
          "Tyler Motte",
          "Martin Pospisil",
          "Jonny Brodzinski",
          "Jakub Vrana",
          "Steven Lorentz",
          "Kasperi Kapanen",
          "Adam Gaudette",
          "Maxim Tsyplakov",
          "Matthew Highmore",
          "Daniel Sprong",
          "Jansen Harkins",
          "A.J. Greer",
          "Bokondji Imama",
          "Tyson Jost",
          "Parker Kelly",
          "Max Jones",
          "Elias Pettersson",
          "Tomas Nosek",
          "Taylor Raddysh",
          "Noah Gregor",
          "Nathan Walker",
          "Curtis Lazar",
          "Michael Pezzetta",
          "Michael Eyssimont",
          "Jonah Gadjovich",
          "Jaret Anderson-Dolan",
          "Jesper Boqvist",
          "Jonas Rondbjerg",
          "Nick Cousins",
          "Michael McCarron",
          "Mark Kastelic",
          "Alexander Holtz",
          "Michael Carcone",
          "Kyle MacLean",
          "Travis Boyd",
          "Zachary L'Heureux",
          "Wyatt Johnston",
          "Matt Martin",
          "Samuel Helenius",
          "Matthew Knies",
          "Mackie Samoskevich",
          "Brennan Othmann",
          "Logan Stankoven",
          "Joel Kiviranta",
          "Jeff Malott",
          "Gage Goncalves",
          "Craig Smith",
          "Trevor Lewis",
          "William Eklund",
          "Landon Slaggert",
          "Jackson Blake",
          "Logan Cooley",
          "Macklin Celebrini",
          "Matvei Michkov",
          "Will Smith",
          "Adam Fantilli",
          "Leo Carlsson",
          "Zach Benson",
          "Taylor Ward",
          "Vasily Podkolzin",
          "Marat Khusnutdinov",
          "Marc Gatcomb",
          "Emil Heineman",
          "Frank Nazar",
          "Rutger McGroarty",
          "Shane Wright",
          "Cutter Gauthier",
          "Connor Bedard",
          "Tyson Foerster",
          "Josh Doan",
          "Will Cuylle",
          "Connor Zary",
          "Marco Rossi",
          "Jake Neighbours",
          "Ridly Greig",
          "Jack Quinn",
          "Drew O'Connor",
          "Tye Kartye",
          "Marco Kasper",
          "Brett Berard",
          "Justin Dowling",
          "Cole Smith",
          "Colin Blackwell",
          "Cole Schwindt",
          "Alex Laferriere",
          "Juuso Parssinen",
          "Thomas Bordeleau",
          "Luke Evangelista",
          "Mavrik Bourque",
          "Mitchell Chaffee",
          "Dmitri Voronkov",
          "Sam Carrick",
          "Kevin Stenlund",
          "Anthony Beauvillier",
          "Keegan Kolesar",
          "Bobby Brink",
          "Kevin Rooney",
          "Nils Hoglander",
          "Ryan Poehling",
          "Carl Grundstrom",
          "Sam Steel",
          "Brett Howden",
          "Noel Acciari",
          "Ryan Lomberg",
          "Beck Malenstyn",
          "Kiefer Sherwood",
          "Pavel Dorofeyev",
          "Kent Johnson",
          "Pius Suter",
          "Bobby McMann",
          "Morgan Barron",
          "Jack McBain",
          "Isac Lundestrom",
          "Jack Drury",
          "Brett Leason",
          "Brandon Duhaime",
          "Connor Dewar",
          "Fabian Zetterlund",
          "Ty Dellandrea",
          "Christian Fischer",
          "Mathieu Olivier",
          "Marcus Johansson",
          "Corey Perry",
          "Klim Kostin",
          "Victor Olofsson",
          "Peyton Krebs",
          "Blake Lizotte",
          "Nathan Bastian",
          "Justin Danforth",
          "Jake Evans",
          "Logan O'Connor",
          "Nic Dowd",
          "Nico Sturm",
          "Nicolas Aube-Kubel",
          "Morgan Geekie",
          "Ross Johnston",
          "Brandon Saad",
          "Ryan Donato",
          "Tomas Tatar",
          "Mattias Janmark",
          "Sam Lafferty",
          "Lukas Reichel",
          "Ryan Reaves",
          "Oskar Sundqvist",
          "Patrick Maroon",
          "Vladislav Namestnikov",
          "William Carrier",
          "Nicolas Deslauriers",
          "Joe Veleno",
          "Jeff Skinner",
          "Philipp Kurashev",
          "Dylan Holloway",
          "Frederick Gaudreau",
          "Garnet Hathaway",
          "Sean Kuraly",
          "Alex Newhook",
          "Luke Kunin",
          "Nick Bjugstad",
          "Morgan Frost",
          "Kaapo Kakko",
          "Cody Glass",
          "Stefan Noesen",
          "Scott Laughton",
          "Colton Sissons",
          "Alexandre Texier",
          "David Kampf",
          "Jonathan Drouin",
          "Alexis Lafrenière",
          "Calle Jarnkrok",
          "Eetu Luostarinen",
          "Jordan Staal",
          "Noah Cates",
          "Mathieu Joseph",
          "Tanner Jeannot",
          "Connor McMichael",
          "Jordan Greenway",
          "Lars Eller",
          "Jack Roslovic",
          "Nicolas Roy",
          "Michael Amadio",
          "Evgenii Dadonov",
          "Pierre Engvall",
          "Trent Frederic",
          "Evan Rodrigues",
          "Adam Henrique",
          "Yegor Chinakhov",
          "Mason Appleton",
          "Danton Heinen",
          "Casey Cizikas",
          "Barrett Hayton",
          "Ryan McLeod",
          "Cole Sillinger",
          "Matt Duchene",
          "Eeli Tolvanen",
          "Ryan Hartman",
          "Yegor Sharangovich",
          "Barclay Goodrow",
          "Anthony Duclair",
          "Dakota Joshua",
          "David Perron",
          "Viktor Arvidsson",
          "Patrick Kane",
          "Joel Armia",
          "Jordan Martinook",
          "Radek Faksa",
          "Warren Foegele",
          "Kirill Marchenko",
          "Alex Iafallo",
          "Frank Vatrano",
          "Cole Perfetti",
          "Aliaksei Protas",
          "Brandon Tanev",
          "Dawson Mercer",
          "Marcus Foligno",
          "Nino Niederreiter",
          "Yakov Trenin",
          "Erik Haula",
          "Gustav Nyquist",
          "Max Domi",
          "Alexander Kerfoot",
          "Shane Pinto",
          "Boone Jenner",
          "Michael Rasmussen",
          "Matias Maccelli",
          "Ross Colton",
          "Nick Foligno",
          "Ryan Strome",
          "Rickard Rakell",
          "Jason Zucker",
          "Anton Lundell",
          "Kyle Palmieri",
          "Vladimir Tarasenko",
          "Jean-Gabriel Pageau",
          "Jesperi Kotkaniemi",
          "Mikael Granlund",
          "Jordan Eberle",
          "Ryan O'Reilly",
          "Ilya Mikheyev",
          "Michael Bunting",
          "Blake Coleman",
          "Reilly Smith",
          "Mikael Backlund",
          "Filip Chytil",
          "Jason Dickinson",
          "Dylan Strome",
          "Sam Bennett",
          "Alex Tuch",
          "Joel Farabee",
          "Jared McCann",
          "Ivan Barbashev",
          "Lawson Crouse",
          "Conor Garland",
          "Alexander Wennberg",
          "Christian Dvorak",
          "Carter Verhaeghe",
          "Pavel Zacha",
          "Trevor Moore",
          "Mason Marchment",
          "Drake Batherson",
          "Sean Monahan",
          "Travis Konecny",
          "Vincent Trocheck",
          "Jaden Schwartz",
          "Bryan Rust",
          "Zach Hyman",
          "Jake DeBrusk",
          "Ondrej Palat",
          "Charlie Coyle",
          "Tyler Toffoli",
          "William Karlsson",
          "Nick Schmaltz",
          "Adrian Kempe",
          "Brock Nelson",
          "Pavel Buchnevich",
          "Andrew Mangiapane",
          "Yanni Gourde",
          "Andrei Kuzmenko",
          "Josh Anderson",
          "Nikolaj Ehlers",
          "Taylor Hall",
          "Phillip Danault",
          "Teuvo Teravainen",
          "Ryan Nugent-Hopkins",
          "Trevor Zegras",
          "Casey Mittelstadt",
          "Oliver Bjorkstrand",
          "Andre Burakovsky",
          "Tyler Bertuzzi",
          "Jonathan Marchessault",
          "Brendan Gallagher",
          "Nazem Kadri",
          "Martin Necas",
          "Owen Tippett",
          "Chris Kreider",
          "Claude Giroux",
          "Anders Lee",
          "Anze Kopitar",
          "Chandler Stephenson",
          "Brock Boeser",
          "Brandon Hagel",
          "Valeri Nichushkin",
          "Brad Marchand",
          "Quinton Byfield",
          "Anthony Cirelli",
          "Brayden Schenn",
          "Kevin Fiala",
          "Jason Robertson",
          "Josh Norris",
          "Cole Caufield",
          "Nick Suzuki",
          "Kyle Connor",
          "Steven Stamkos",
          "Kevin Hayes",
          "Andrei Svechnikov",
          "Clayton Keller",
          "Seth Jarvis",
          "Sean Couturier",
          "Dylan Cozens",
          "J.T. Miller",
          "Tage Thompson",
          "Jesper Bratt",
          "Elias Lindholm",
          "Nico Hischier",
          "Pierre-Luc Dubois",
          "Tim Stützle",
          "Roope Hintz",
          "Brady Tkachuk",
          "Bo Horvat",
          "Patrik Laine",
          "Jordan Kyrou",
          "Mika Zibanejad",
          "Filip Forsberg",
          "Mark Scheifele",
          "Sam Reinhart",
          "Dylan Larkin",
          "Kirill Kaprizov",
          "Sidney Crosby",
          "Lucas Raymond",
          "Timo Meier",
          "Leon Draisaitl",
          "Tomas Hertl",
          "Jake Guentzel",
          "Robert Thomas",
          "Mark Stone",
          "Nikita Kucherov",
          "Jamie Benn",
          "Alex Ovechkin",
          "Jack Eichel",
          "Sebastian Aho",
          "Aleksander Barkov",
          "Tyler Seguin",
          "Mikko Rantanen",
          "Brayden Point",
          "Jonathan Huberdeau",
          "Connor McDavid",
          "Nathan MacKinnon",
          "Auston Matthews",
          "David Pastrnak",
          "Elias Pettersson",
          "William Nylander",
          "Artemi Panarin"
         ],
         "legendgroup": "",
         "marker": {
          "color": "#636efa"
         },
         "name": "",
         "offsetgroup": "",
         "orientation": "v",
         "points": "all",
         "scalegroup": "True",
         "showlegend": false,
         "type": "violin",
         "x": [
          "1M",
          "1M",
          "1M",
          "1M",
          "1M",
          "1M",
          "1M",
          "1M",
          "1M",
          "1M",
          "1M",
          "1M",
          "1M",
          "1M",
          "1M",
          "1M",
          "1M",
          "1M",
          "1M",
          "1M",
          "1M",
          "1M",
          "1M",
          "1M",
          "1M",
          "1M",
          "1M",
          "1M",
          "1M",
          "1M",
          "1M",
          "1M",
          "1M",
          "1M",
          "1M",
          "1M",
          "1M",
          "1M",
          "1M",
          "1M",
          "1M",
          "1M",
          "1M",
          "1M",
          "1M",
          "1M",
          "1M",
          "1M",
          "1M",
          "1M",
          "1M",
          "1M",
          "1M",
          "1M",
          "1M",
          "1M",
          "1M",
          "1M",
          "1M",
          "1M",
          "1M",
          "1M",
          "1M",
          "1M",
          "1M",
          "1M",
          "1M",
          "1M",
          "1M",
          "1M",
          "1M",
          "1M",
          "1M",
          "1M",
          "1M",
          "1M",
          "1M",
          "1M",
          "1M",
          "1M",
          "1M",
          "1M",
          "1M",
          "1M",
          "1M",
          "1M",
          "1M",
          "1M",
          "1M",
          "1M",
          "1M",
          "1M",
          "1M",
          "1M",
          "1M",
          "1M",
          "1M",
          "1M",
          "1M",
          "1M",
          "1M",
          "1M",
          "1M",
          "1M",
          "1M",
          "1M",
          "1M",
          "1M",
          "1M",
          "1M",
          "1M",
          "1M",
          "1M",
          "1M",
          "1M",
          "1M",
          "1M",
          "1M",
          "1M",
          "1M",
          "2M",
          "2M",
          "2M",
          "2M",
          "2M",
          "2M",
          "2M",
          "2M",
          "2M",
          "2M",
          "2M",
          "2M",
          "2M",
          "2M",
          "2M",
          "2M",
          "2M",
          "2M",
          "2M",
          "2M",
          "2M",
          "2M",
          "2M",
          "2M",
          "2M",
          "2M",
          "2M",
          "2M",
          "2M",
          "2M",
          "2M",
          "2M",
          "2M",
          "2M",
          "2M",
          "2M",
          "2M",
          "2M",
          "2M",
          "2M",
          "2M",
          "2M",
          "2M",
          "2M",
          "2M",
          "2M",
          "2M",
          "2M",
          "2M",
          "2M",
          "2M",
          "2M",
          "2M",
          "2M",
          "2M",
          "2M",
          "3M",
          "3M",
          "3M",
          "3M",
          "3M",
          "3M",
          "3M",
          "3M",
          "3M",
          "3M",
          "3M",
          "3M",
          "3M",
          "3M",
          "3M",
          "3M",
          "3M",
          "3M",
          "3M",
          "3M",
          "3M",
          "3M",
          "3M",
          "3M",
          "3M",
          "3M",
          "3M",
          "3M",
          "3M",
          "3M",
          "3M",
          "3M",
          "3M",
          "3M",
          "3M",
          "3M",
          "3M",
          "3M",
          "3M",
          "3M",
          "3M",
          "3M",
          "3M",
          "3M",
          "3M",
          "4M",
          "4M",
          "4M",
          "4M",
          "4M",
          "4M",
          "4M",
          "4M",
          "4M",
          "4M",
          "4M",
          "4M",
          "4M",
          "4M",
          "4M",
          "4M",
          "4M",
          "4M",
          "4M",
          "4M",
          "4M",
          "4M",
          "4M",
          "4M",
          "4M",
          "4M",
          "4M",
          "4M",
          "4M",
          "4M",
          "4M",
          "4M",
          "5M",
          "5M",
          "5M",
          "5M",
          "5M",
          "5M",
          "5M",
          "5M",
          "5M",
          "5M",
          "5M",
          "5M",
          "5M",
          "5M",
          "5M",
          "5M",
          "5M",
          "5M",
          "5M",
          "5M",
          "5M",
          "5M",
          "5M",
          "5M",
          "5M",
          "5M",
          "5M",
          "5M",
          "5M",
          "5M",
          "5M",
          "5M",
          "5M",
          "5M",
          "6M",
          "6M",
          "6M",
          "6M",
          "6M",
          "6M",
          "6M",
          "6M",
          "6M",
          "6M",
          "6M",
          "6M",
          "6M",
          "6M",
          "6M",
          "6M",
          "6M",
          "6M",
          "6M",
          "6M",
          "6M",
          "6M",
          "6M",
          "6M",
          "6M",
          "6M",
          "6M",
          "6M",
          "6M",
          "6M",
          "7M",
          "7M",
          "7M",
          "7M",
          "7M",
          "7M",
          "7M",
          "7M",
          "7M",
          "7M",
          "7M",
          "7M",
          "7M",
          "7M",
          "7M",
          "7M",
          "8M",
          "8M",
          "8M",
          "8M",
          "8M",
          "8M",
          "8M",
          "8M",
          "8M",
          "8M",
          "8M",
          "8M",
          "8M",
          "8M",
          "8M",
          "8M",
          "8M",
          "8M",
          "9M",
          "9M",
          "9M",
          "9M",
          "9M",
          "9M",
          "9M",
          "9M",
          "9M",
          "9M",
          "9M",
          "9M",
          "9M",
          "9M",
          "9M",
          "9M",
          "9M",
          "9M",
          "9M",
          "9M",
          "10M",
          "10M",
          "10M",
          "10M",
          "10M",
          "10M",
          "10M",
          "10M",
          "10M",
          "10M",
          ">10M",
          ">10M",
          ">10M",
          ">10M",
          ">10M",
          ">10M",
          ">10M",
          ">10M"
         ],
         "x0": " ",
         "xaxis": "x",
         "y": {
          "bdata": "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",
          "dtype": "f8"
         },
         "y0": " ",
         "yaxis": "y"
        }
       ],
       "layout": {
        "legend": {
         "tracegroupgap": 0
        },
        "margin": {
         "t": 60
        },
        "template": {
         "data": {
          "bar": [
           {
            "error_x": {
             "color": "#2a3f5f"
            },
            "error_y": {
             "color": "#2a3f5f"
            },
            "marker": {
             "line": {
              "color": "#E5ECF6",
              "width": 0.5
             },
             "pattern": {
              "fillmode": "overlay",
              "size": 10,
              "solidity": 0.2
             }
            },
            "type": "bar"
           }
          ],
          "barpolar": [
           {
            "marker": {
             "line": {
              "color": "#E5ECF6",
              "width": 0.5
             },
             "pattern": {
              "fillmode": "overlay",
              "size": 10,
              "solidity": 0.2
             }
            },
            "type": "barpolar"
           }
          ],
          "carpet": [
           {
            "aaxis": {
             "endlinecolor": "#2a3f5f",
             "gridcolor": "white",
             "linecolor": "white",
             "minorgridcolor": "white",
             "startlinecolor": "#2a3f5f"
            },
            "baxis": {
             "endlinecolor": "#2a3f5f",
             "gridcolor": "white",
             "linecolor": "white",
             "minorgridcolor": "white",
             "startlinecolor": "#2a3f5f"
            },
            "type": "carpet"
           }
          ],
          "choropleth": [
           {
            "colorbar": {
             "outlinewidth": 0,
             "ticks": ""
            },
            "type": "choropleth"
           }
          ],
          "contour": [
           {
            "colorbar": {
             "outlinewidth": 0,
             "ticks": ""
            },
            "colorscale": [
             [
              0,
              "#0d0887"
             ],
             [
              0.1111111111111111,
              "#46039f"
             ],
             [
              0.2222222222222222,
              "#7201a8"
             ],
             [
              0.3333333333333333,
              "#9c179e"
             ],
             [
              0.4444444444444444,
              "#bd3786"
             ],
             [
              0.5555555555555556,
              "#d8576b"
             ],
             [
              0.6666666666666666,
              "#ed7953"
             ],
             [
              0.7777777777777778,
              "#fb9f3a"
             ],
             [
              0.8888888888888888,
              "#fdca26"
             ],
             [
              1,
              "#f0f921"
             ]
            ],
            "type": "contour"
           }
          ],
          "contourcarpet": [
           {
            "colorbar": {
             "outlinewidth": 0,
             "ticks": ""
            },
            "type": "contourcarpet"
           }
          ],
          "heatmap": [
           {
            "colorbar": {
             "outlinewidth": 0,
             "ticks": ""
            },
            "colorscale": [
             [
              0,
              "#0d0887"
             ],
             [
              0.1111111111111111,
              "#46039f"
             ],
             [
              0.2222222222222222,
              "#7201a8"
             ],
             [
              0.3333333333333333,
              "#9c179e"
             ],
             [
              0.4444444444444444,
              "#bd3786"
             ],
             [
              0.5555555555555556,
              "#d8576b"
             ],
             [
              0.6666666666666666,
              "#ed7953"
             ],
             [
              0.7777777777777778,
              "#fb9f3a"
             ],
             [
              0.8888888888888888,
              "#fdca26"
             ],
             [
              1,
              "#f0f921"
             ]
            ],
            "type": "heatmap"
           }
          ],
          "histogram": [
           {
            "marker": {
             "pattern": {
              "fillmode": "overlay",
              "size": 10,
              "solidity": 0.2
             }
            },
            "type": "histogram"
           }
          ],
          "histogram2d": [
           {
            "colorbar": {
             "outlinewidth": 0,
             "ticks": ""
            },
            "colorscale": [
             [
              0,
              "#0d0887"
             ],
             [
              0.1111111111111111,
              "#46039f"
             ],
             [
              0.2222222222222222,
              "#7201a8"
             ],
             [
              0.3333333333333333,
              "#9c179e"
             ],
             [
              0.4444444444444444,
              "#bd3786"
             ],
             [
              0.5555555555555556,
              "#d8576b"
             ],
             [
              0.6666666666666666,
              "#ed7953"
             ],
             [
              0.7777777777777778,
              "#fb9f3a"
             ],
             [
              0.8888888888888888,
              "#fdca26"
             ],
             [
              1,
              "#f0f921"
             ]
            ],
            "type": "histogram2d"
           }
          ],
          "histogram2dcontour": [
           {
            "colorbar": {
             "outlinewidth": 0,
             "ticks": ""
            },
            "colorscale": [
             [
              0,
              "#0d0887"
             ],
             [
              0.1111111111111111,
              "#46039f"
             ],
             [
              0.2222222222222222,
              "#7201a8"
             ],
             [
              0.3333333333333333,
              "#9c179e"
             ],
             [
              0.4444444444444444,
              "#bd3786"
             ],
             [
              0.5555555555555556,
              "#d8576b"
             ],
             [
              0.6666666666666666,
              "#ed7953"
             ],
             [
              0.7777777777777778,
              "#fb9f3a"
             ],
             [
              0.8888888888888888,
              "#fdca26"
             ],
             [
              1,
              "#f0f921"
             ]
            ],
            "type": "histogram2dcontour"
           }
          ],
          "mesh3d": [
           {
            "colorbar": {
             "outlinewidth": 0,
             "ticks": ""
            },
            "type": "mesh3d"
           }
          ],
          "parcoords": [
           {
            "line": {
             "colorbar": {
              "outlinewidth": 0,
              "ticks": ""
             }
            },
            "type": "parcoords"
           }
          ],
          "pie": [
           {
            "automargin": true,
            "type": "pie"
           }
          ],
          "scatter": [
           {
            "fillpattern": {
             "fillmode": "overlay",
             "size": 10,
             "solidity": 0.2
            },
            "type": "scatter"
           }
          ],
          "scatter3d": [
           {
            "line": {
             "colorbar": {
              "outlinewidth": 0,
              "ticks": ""
             }
            },
            "marker": {
             "colorbar": {
              "outlinewidth": 0,
              "ticks": ""
             }
            },
            "type": "scatter3d"
           }
          ],
          "scattercarpet": [
           {
            "marker": {
             "colorbar": {
              "outlinewidth": 0,
              "ticks": ""
             }
            },
            "type": "scattercarpet"
           }
          ],
          "scattergeo": [
           {
            "marker": {
             "colorbar": {
              "outlinewidth": 0,
              "ticks": ""
             }
            },
            "type": "scattergeo"
           }
          ],
          "scattergl": [
           {
            "marker": {
             "colorbar": {
              "outlinewidth": 0,
              "ticks": ""
             }
            },
            "type": "scattergl"
           }
          ],
          "scattermap": [
           {
            "marker": {
             "colorbar": {
              "outlinewidth": 0,
              "ticks": ""
             }
            },
            "type": "scattermap"
           }
          ],
          "scattermapbox": [
           {
            "marker": {
             "colorbar": {
              "outlinewidth": 0,
              "ticks": ""
             }
            },
            "type": "scattermapbox"
           }
          ],
          "scatterpolar": [
           {
            "marker": {
             "colorbar": {
              "outlinewidth": 0,
              "ticks": ""
             }
            },
            "type": "scatterpolar"
           }
          ],
          "scatterpolargl": [
           {
            "marker": {
             "colorbar": {
              "outlinewidth": 0,
              "ticks": ""
             }
            },
            "type": "scatterpolargl"
           }
          ],
          "scatterternary": [
           {
            "marker": {
             "colorbar": {
              "outlinewidth": 0,
              "ticks": ""
             }
            },
            "type": "scatterternary"
           }
          ],
          "surface": [
           {
            "colorbar": {
             "outlinewidth": 0,
             "ticks": ""
            },
            "colorscale": [
             [
              0,
              "#0d0887"
             ],
             [
              0.1111111111111111,
              "#46039f"
             ],
             [
              0.2222222222222222,
              "#7201a8"
             ],
             [
              0.3333333333333333,
              "#9c179e"
             ],
             [
              0.4444444444444444,
              "#bd3786"
             ],
             [
              0.5555555555555556,
              "#d8576b"
             ],
             [
              0.6666666666666666,
              "#ed7953"
             ],
             [
              0.7777777777777778,
              "#fb9f3a"
             ],
             [
              0.8888888888888888,
              "#fdca26"
             ],
             [
              1,
              "#f0f921"
             ]
            ],
            "type": "surface"
           }
          ],
          "table": [
           {
            "cells": {
             "fill": {
              "color": "#EBF0F8"
             },
             "line": {
              "color": "white"
             }
            },
            "header": {
             "fill": {
              "color": "#C8D4E3"
             },
             "line": {
              "color": "white"
             }
            },
            "type": "table"
           }
          ]
         },
         "layout": {
          "annotationdefaults": {
           "arrowcolor": "#2a3f5f",
           "arrowhead": 0,
           "arrowwidth": 1
          },
          "autotypenumbers": "strict",
          "coloraxis": {
           "colorbar": {
            "outlinewidth": 0,
            "ticks": ""
           }
          },
          "colorscale": {
           "diverging": [
            [
             0,
             "#8e0152"
            ],
            [
             0.1,
             "#c51b7d"
            ],
            [
             0.2,
             "#de77ae"
            ],
            [
             0.3,
             "#f1b6da"
            ],
            [
             0.4,
             "#fde0ef"
            ],
            [
             0.5,
             "#f7f7f7"
            ],
            [
             0.6,
             "#e6f5d0"
            ],
            [
             0.7,
             "#b8e186"
            ],
            [
             0.8,
             "#7fbc41"
            ],
            [
             0.9,
             "#4d9221"
            ],
            [
             1,
             "#276419"
            ]
           ],
           "sequential": [
            [
             0,
             "#0d0887"
            ],
            [
             0.1111111111111111,
             "#46039f"
            ],
            [
             0.2222222222222222,
             "#7201a8"
            ],
            [
             0.3333333333333333,
             "#9c179e"
            ],
            [
             0.4444444444444444,
             "#bd3786"
            ],
            [
             0.5555555555555556,
             "#d8576b"
            ],
            [
             0.6666666666666666,
             "#ed7953"
            ],
            [
             0.7777777777777778,
             "#fb9f3a"
            ],
            [
             0.8888888888888888,
             "#fdca26"
            ],
            [
             1,
             "#f0f921"
            ]
           ],
           "sequentialminus": [
            [
             0,
             "#0d0887"
            ],
            [
             0.1111111111111111,
             "#46039f"
            ],
            [
             0.2222222222222222,
             "#7201a8"
            ],
            [
             0.3333333333333333,
             "#9c179e"
            ],
            [
             0.4444444444444444,
             "#bd3786"
            ],
            [
             0.5555555555555556,
             "#d8576b"
            ],
            [
             0.6666666666666666,
             "#ed7953"
            ],
            [
             0.7777777777777778,
             "#fb9f3a"
            ],
            [
             0.8888888888888888,
             "#fdca26"
            ],
            [
             1,
             "#f0f921"
            ]
           ]
          },
          "colorway": [
           "#636efa",
           "#EF553B",
           "#00cc96",
           "#ab63fa",
           "#FFA15A",
           "#19d3f3",
           "#FF6692",
           "#B6E880",
           "#FF97FF",
           "#FECB52"
          ],
          "font": {
           "color": "#2a3f5f"
          },
          "geo": {
           "bgcolor": "white",
           "lakecolor": "white",
           "landcolor": "#E5ECF6",
           "showlakes": true,
           "showland": true,
           "subunitcolor": "white"
          },
          "hoverlabel": {
           "align": "left"
          },
          "hovermode": "closest",
          "mapbox": {
           "style": "light"
          },
          "paper_bgcolor": "white",
          "plot_bgcolor": "#E5ECF6",
          "polar": {
           "angularaxis": {
            "gridcolor": "white",
            "linecolor": "white",
            "ticks": ""
           },
           "bgcolor": "#E5ECF6",
           "radialaxis": {
            "gridcolor": "white",
            "linecolor": "white",
            "ticks": ""
           }
          },
          "scene": {
           "xaxis": {
            "backgroundcolor": "#E5ECF6",
            "gridcolor": "white",
            "gridwidth": 2,
            "linecolor": "white",
            "showbackground": true,
            "ticks": "",
            "zerolinecolor": "white"
           },
           "yaxis": {
            "backgroundcolor": "#E5ECF6",
            "gridcolor": "white",
            "gridwidth": 2,
            "linecolor": "white",
            "showbackground": true,
            "ticks": "",
            "zerolinecolor": "white"
           },
           "zaxis": {
            "backgroundcolor": "#E5ECF6",
            "gridcolor": "white",
            "gridwidth": 2,
            "linecolor": "white",
            "showbackground": true,
            "ticks": "",
            "zerolinecolor": "white"
           }
          },
          "shapedefaults": {
           "line": {
            "color": "#2a3f5f"
           }
          },
          "ternary": {
           "aaxis": {
            "gridcolor": "white",
            "linecolor": "white",
            "ticks": ""
           },
           "baxis": {
            "gridcolor": "white",
            "linecolor": "white",
            "ticks": ""
           },
           "bgcolor": "#E5ECF6",
           "caxis": {
            "gridcolor": "white",
            "linecolor": "white",
            "ticks": ""
           }
          },
          "title": {
           "x": 0.05
          },
          "xaxis": {
           "automargin": true,
           "gridcolor": "white",
           "linecolor": "white",
           "ticks": "",
           "title": {
            "standoff": 15
           },
           "zerolinecolor": "white",
           "zerolinewidth": 2
          },
          "yaxis": {
           "automargin": true,
           "gridcolor": "white",
           "linecolor": "white",
           "ticks": "",
           "title": {
            "standoff": 15
           },
           "zerolinecolor": "white",
           "zerolinewidth": 2
          }
         }
        },
        "violinmode": "group",
        "xaxis": {
         "anchor": "y",
         "domain": [
          0,
          1
         ],
         "title": {
          "text": "salary_tier"
         }
        },
        "yaxis": {
         "anchor": "x",
         "domain": [
          0,
          1
         ],
         "title": {
          "text": "goal_efficiency_z"
         }
        }
       }
      },
      "image/png": "[encoded data removed]"
     },
     "metadata": {},
     "output_type": "display_data"
    }
   ],
   "source": [
    "fig = px.violin(\n",
    "    df,\n",
    "    x=\"salary_tier\",\n",
    "    y=\"goal_efficiency_z\",\n",
    "    points=\"all\",\n",
    "    hover_name=\"playerName\"\n",
    ")\n",
    "fig.show()"
   ]
  },
  {
   "cell_type": "code",
   "execution_count": null,
   "id": "95b181f7",
   "metadata": {},
   "outputs": [
    {
     "data": {
      "application/vnd.plotly.v1+json": {
       "config": {
        "plotlyServerURL": "https://plot.ly"
       },
       "data": [
        {
         "alignmentgroup": "True",
         "box": {
          "visible": false
         },
         "hovertemplate": "<b>%{hovertext}</b><br><br>salary_tier=%{x}<br>assist_efficiency_z=%{y}<extra></extra>",
         "hovertext": [
          "Jack Williams",
          "Hudson Fasching",
          "Liam O'Brien",
          "Eric Robinson",
          "Connor Brown",
          "Dominic Toninato",
          "Rasmus Kupari",
          "Jimmy Vesey",
          "Akil Thomas",
          "Jakub Lauko",
          "Pontus Holmberg",
          "Zemgus Girgensons",
          "Mark Jankowski",
          "Jonatan Berggren",
          "Tanner Pearson",
          "David Gustafsson",
          "Luke Glendening",
          "Paul Cotter",
          "Nikolai Kovalenko",
          "Cole Koepke",
          "Nolan Foote",
          "Alex Turcotte",
          "John Beecher",
          "Arthur Kaliyev",
          "Matt Nieto",
          "Nicholas Robertson",
          "Jakob Pelletier",
          "Simon Holmstrom",
          "Tyler Motte",
          "Martin Pospisil",
          "Jonny Brodzinski",
          "Jakub Vrana",
          "Steven Lorentz",
          "Kasperi Kapanen",
          "Adam Gaudette",
          "Maxim Tsyplakov",
          "Matthew Highmore",
          "Daniel Sprong",
          "Jansen Harkins",
          "A.J. Greer",
          "Bokondji Imama",
          "Tyson Jost",
          "Parker Kelly",
          "Max Jones",
          "Elias Pettersson",
          "Tomas Nosek",
          "Taylor Raddysh",
          "Noah Gregor",
          "Nathan Walker",
          "Curtis Lazar",
          "Michael Pezzetta",
          "Michael Eyssimont",
          "Jonah Gadjovich",
          "Jaret Anderson-Dolan",
          "Jesper Boqvist",
          "Jonas Rondbjerg",
          "Nick Cousins",
          "Michael McCarron",
          "Mark Kastelic",
          "Alexander Holtz",
          "Michael Carcone",
          "Kyle MacLean",
          "Travis Boyd",
          "Zachary L'Heureux",
          "Wyatt Johnston",
          "Matt Martin",
          "Samuel Helenius",
          "Matthew Knies",
          "Mackie Samoskevich",
          "Brennan Othmann",
          "Logan Stankoven",
          "Joel Kiviranta",
          "Jeff Malott",
          "Gage Goncalves",
          "Craig Smith",
          "Trevor Lewis",
          "William Eklund",
          "Landon Slaggert",
          "Jackson Blake",
          "Logan Cooley",
          "Macklin Celebrini",
          "Matvei Michkov",
          "Will Smith",
          "Adam Fantilli",
          "Leo Carlsson",
          "Zach Benson",
          "Taylor Ward",
          "Vasily Podkolzin",
          "Marat Khusnutdinov",
          "Marc Gatcomb",
          "Emil Heineman",
          "Frank Nazar",
          "Rutger McGroarty",
          "Shane Wright",
          "Cutter Gauthier",
          "Connor Bedard",
          "Tyson Foerster",
          "Josh Doan",
          "Will Cuylle",
          "Connor Zary",
          "Marco Rossi",
          "Jake Neighbours",
          "Ridly Greig",
          "Jack Quinn",
          "Drew O'Connor",
          "Tye Kartye",
          "Marco Kasper",
          "Brett Berard",
          "Justin Dowling",
          "Cole Smith",
          "Colin Blackwell",
          "Cole Schwindt",
          "Alex Laferriere",
          "Juuso Parssinen",
          "Thomas Bordeleau",
          "Luke Evangelista",
          "Mavrik Bourque",
          "Mitchell Chaffee",
          "Dmitri Voronkov",
          "Sam Carrick",
          "Kevin Stenlund",
          "Anthony Beauvillier",
          "Keegan Kolesar",
          "Bobby Brink",
          "Kevin Rooney",
          "Nils Hoglander",
          "Ryan Poehling",
          "Carl Grundstrom",
          "Sam Steel",
          "Brett Howden",
          "Noel Acciari",
          "Ryan Lomberg",
          "Beck Malenstyn",
          "Kiefer Sherwood",
          "Pavel Dorofeyev",
          "Kent Johnson",
          "Pius Suter",
          "Bobby McMann",
          "Morgan Barron",
          "Jack McBain",
          "Isac Lundestrom",
          "Jack Drury",
          "Brett Leason",
          "Brandon Duhaime",
          "Connor Dewar",
          "Fabian Zetterlund",
          "Ty Dellandrea",
          "Christian Fischer",
          "Mathieu Olivier",
          "Marcus Johansson",
          "Corey Perry",
          "Klim Kostin",
          "Victor Olofsson",
          "Peyton Krebs",
          "Blake Lizotte",
          "Nathan Bastian",
          "Justin Danforth",
          "Jake Evans",
          "Logan O'Connor",
          "Nic Dowd",
          "Nico Sturm",
          "Nicolas Aube-Kubel",
          "Morgan Geekie",
          "Ross Johnston",
          "Brandon Saad",
          "Ryan Donato",
          "Tomas Tatar",
          "Mattias Janmark",
          "Sam Lafferty",
          "Lukas Reichel",
          "Ryan Reaves",
          "Oskar Sundqvist",
          "Patrick Maroon",
          "Vladislav Namestnikov",
          "William Carrier",
          "Nicolas Deslauriers",
          "Joe Veleno",
          "Jeff Skinner",
          "Philipp Kurashev",
          "Dylan Holloway",
          "Frederick Gaudreau",
          "Garnet Hathaway",
          "Sean Kuraly",
          "Alex Newhook",
          "Luke Kunin",
          "Nick Bjugstad",
          "Morgan Frost",
          "Kaapo Kakko",
          "Cody Glass",
          "Stefan Noesen",
          "Scott Laughton",
          "Colton Sissons",
          "Alexandre Texier",
          "David Kampf",
          "Jonathan Drouin",
          "Alexis Lafrenière",
          "Calle Jarnkrok",
          "Eetu Luostarinen",
          "Jordan Staal",
          "Noah Cates",
          "Mathieu Joseph",
          "Tanner Jeannot",
          "Connor McMichael",
          "Jordan Greenway",
          "Lars Eller",
          "Jack Roslovic",
          "Nicolas Roy",
          "Michael Amadio",
          "Evgenii Dadonov",
          "Pierre Engvall",
          "Trent Frederic",
          "Evan Rodrigues",
          "Adam Henrique",
          "Yegor Chinakhov",
          "Mason Appleton",
          "Danton Heinen",
          "Casey Cizikas",
          "Barrett Hayton",
          "Ryan McLeod",
          "Cole Sillinger",
          "Matt Duchene",
          "Eeli Tolvanen",
          "Ryan Hartman",
          "Yegor Sharangovich",
          "Barclay Goodrow",
          "Anthony Duclair",
          "Dakota Joshua",
          "David Perron",
          "Viktor Arvidsson",
          "Patrick Kane",
          "Joel Armia",
          "Jordan Martinook",
          "Radek Faksa",
          "Warren Foegele",
          "Kirill Marchenko",
          "Alex Iafallo",
          "Frank Vatrano",
          "Cole Perfetti",
          "Aliaksei Protas",
          "Brandon Tanev",
          "Dawson Mercer",
          "Marcus Foligno",
          "Nino Niederreiter",
          "Yakov Trenin",
          "Erik Haula",
          "Gustav Nyquist",
          "Max Domi",
          "Alexander Kerfoot",
          "Shane Pinto",
          "Boone Jenner",
          "Michael Rasmussen",
          "Matias Maccelli",
          "Ross Colton",
          "Nick Foligno",
          "Ryan Strome",
          "Rickard Rakell",
          "Jason Zucker",
          "Anton Lundell",
          "Kyle Palmieri",
          "Vladimir Tarasenko",
          "Jean-Gabriel Pageau",
          "Jesperi Kotkaniemi",
          "Mikael Granlund",
          "Jordan Eberle",
          "Ryan O'Reilly",
          "Ilya Mikheyev",
          "Michael Bunting",
          "Blake Coleman",
          "Reilly Smith",
          "Mikael Backlund",
          "Filip Chytil",
          "Jason Dickinson",
          "Dylan Strome",
          "Sam Bennett",
          "Alex Tuch",
          "Joel Farabee",
          "Jared McCann",
          "Ivan Barbashev",
          "Lawson Crouse",
          "Conor Garland",
          "Alexander Wennberg",
          "Christian Dvorak",
          "Carter Verhaeghe",
          "Pavel Zacha",
          "Trevor Moore",
          "Mason Marchment",
          "Drake Batherson",
          "Sean Monahan",
          "Travis Konecny",
          "Vincent Trocheck",
          "Jaden Schwartz",
          "Bryan Rust",
          "Zach Hyman",
          "Jake DeBrusk",
          "Ondrej Palat",
          "Charlie Coyle",
          "Tyler Toffoli",
          "William Karlsson",
          "Nick Schmaltz",
          "Adrian Kempe",
          "Brock Nelson",
          "Pavel Buchnevich",
          "Andrew Mangiapane",
          "Yanni Gourde",
          "Andrei Kuzmenko",
          "Josh Anderson",
          "Nikolaj Ehlers",
          "Taylor Hall",
          "Phillip Danault",
          "Teuvo Teravainen",
          "Ryan Nugent-Hopkins",
          "Trevor Zegras",
          "Casey Mittelstadt",
          "Oliver Bjorkstrand",
          "Andre Burakovsky",
          "Tyler Bertuzzi",
          "Jonathan Marchessault",
          "Brendan Gallagher",
          "Nazem Kadri",
          "Martin Necas",
          "Owen Tippett",
          "Chris Kreider",
          "Claude Giroux",
          "Anders Lee",
          "Anze Kopitar",
          "Chandler Stephenson",
          "Brock Boeser",
          "Brandon Hagel",
          "Valeri Nichushkin",
          "Brad Marchand",
          "Quinton Byfield",
          "Anthony Cirelli",
          "Brayden Schenn",
          "Kevin Fiala",
          "Jason Robertson",
          "Josh Norris",
          "Cole Caufield",
          "Nick Suzuki",
          "Kyle Connor",
          "Steven Stamkos",
          "Kevin Hayes",
          "Andrei Svechnikov",
          "Clayton Keller",
          "Seth Jarvis",
          "Sean Couturier",
          "Dylan Cozens",
          "J.T. Miller",
          "Tage Thompson",
          "Jesper Bratt",
          "Elias Lindholm",
          "Nico Hischier",
          "Pierre-Luc Dubois",
          "Tim Stützle",
          "Roope Hintz",
          "Brady Tkachuk",
          "Bo Horvat",
          "Patrik Laine",
          "Jordan Kyrou",
          "Mika Zibanejad",
          "Filip Forsberg",
          "Mark Scheifele",
          "Sam Reinhart",
          "Dylan Larkin",
          "Kirill Kaprizov",
          "Sidney Crosby",
          "Lucas Raymond",
          "Timo Meier",
          "Leon Draisaitl",
          "Tomas Hertl",
          "Jake Guentzel",
          "Robert Thomas",
          "Mark Stone",
          "Nikita Kucherov",
          "Jamie Benn",
          "Alex Ovechkin",
          "Jack Eichel",
          "Sebastian Aho",
          "Aleksander Barkov",
          "Tyler Seguin",
          "Mikko Rantanen",
          "Brayden Point",
          "Jonathan Huberdeau",
          "Connor McDavid",
          "Nathan MacKinnon",
          "Auston Matthews",
          "David Pastrnak",
          "Elias Pettersson",
          "William Nylander",
          "Artemi Panarin"
         ],
         "legendgroup": "",
         "marker": {
          "color": "#636efa"
         },
         "name": "",
         "offsetgroup": "",
         "orientation": "v",
         "points": "all",
         "scalegroup": "True",
         "showlegend": false,
         "type": "violin",
         "x": [
          "1M",
          "1M",
          "1M",
          "1M",
          "1M",
          "1M",
          "1M",
          "1M",
          "1M",
          "1M",
          "1M",
          "1M",
          "1M",
          "1M",
          "1M",
          "1M",
          "1M",
          "1M",
          "1M",
          "1M",
          "1M",
          "1M",
          "1M",
          "1M",
          "1M",
          "1M",
          "1M",
          "1M",
          "1M",
          "1M",
          "1M",
          "1M",
          "1M",
          "1M",
          "1M",
          "1M",
          "1M",
          "1M",
          "1M",
          "1M",
          "1M",
          "1M",
          "1M",
          "1M",
          "1M",
          "1M",
          "1M",
          "1M",
          "1M",
          "1M",
          "1M",
          "1M",
          "1M",
          "1M",
          "1M",
          "1M",
          "1M",
          "1M",
          "1M",
          "1M",
          "1M",
          "1M",
          "1M",
          "1M",
          "1M",
          "1M",
          "1M",
          "1M",
          "1M",
          "1M",
          "1M",
          "1M",
          "1M",
          "1M",
          "1M",
          "1M",
          "1M",
          "1M",
          "1M",
          "1M",
          "1M",
          "1M",
          "1M",
          "1M",
          "1M",
          "1M",
          "1M",
          "1M",
          "1M",
          "1M",
          "1M",
          "1M",
          "1M",
          "1M",
          "1M",
          "1M",
          "1M",
          "1M",
          "1M",
          "1M",
          "1M",
          "1M",
          "1M",
          "1M",
          "1M",
          "1M",
          "1M",
          "1M",
          "1M",
          "1M",
          "1M",
          "1M",
          "1M",
          "1M",
          "1M",
          "1M",
          "1M",
          "1M",
          "1M",
          "1M",
          "2M",
          "2M",
          "2M",
          "2M",
          "2M",
          "2M",
          "2M",
          "2M",
          "2M",
          "2M",
          "2M",
          "2M",
          "2M",
          "2M",
          "2M",
          "2M",
          "2M",
          "2M",
          "2M",
          "2M",
          "2M",
          "2M",
          "2M",
          "2M",
          "2M",
          "2M",
          "2M",
          "2M",
          "2M",
          "2M",
          "2M",
          "2M",
          "2M",
          "2M",
          "2M",
          "2M",
          "2M",
          "2M",
          "2M",
          "2M",
          "2M",
          "2M",
          "2M",
          "2M",
          "2M",
          "2M",
          "2M",
          "2M",
          "2M",
          "2M",
          "2M",
          "2M",
          "2M",
          "2M",
          "2M",
          "2M",
          "3M",
          "3M",
          "3M",
          "3M",
          "3M",
          "3M",
          "3M",
          "3M",
          "3M",
          "3M",
          "3M",
          "3M",
          "3M",
          "3M",
          "3M",
          "3M",
          "3M",
          "3M",
          "3M",
          "3M",
          "3M",
          "3M",
          "3M",
          "3M",
          "3M",
          "3M",
          "3M",
          "3M",
          "3M",
          "3M",
          "3M",
          "3M",
          "3M",
          "3M",
          "3M",
          "3M",
          "3M",
          "3M",
          "3M",
          "3M",
          "3M",
          "3M",
          "3M",
          "3M",
          "3M",
          "4M",
          "4M",
          "4M",
          "4M",
          "4M",
          "4M",
          "4M",
          "4M",
          "4M",
          "4M",
          "4M",
          "4M",
          "4M",
          "4M",
          "4M",
          "4M",
          "4M",
          "4M",
          "4M",
          "4M",
          "4M",
          "4M",
          "4M",
          "4M",
          "4M",
          "4M",
          "4M",
          "4M",
          "4M",
          "4M",
          "4M",
          "4M",
          "5M",
          "5M",
          "5M",
          "5M",
          "5M",
          "5M",
          "5M",
          "5M",
          "5M",
          "5M",
          "5M",
          "5M",
          "5M",
          "5M",
          "5M",
          "5M",
          "5M",
          "5M",
          "5M",
          "5M",
          "5M",
          "5M",
          "5M",
          "5M",
          "5M",
          "5M",
          "5M",
          "5M",
          "5M",
          "5M",
          "5M",
          "5M",
          "5M",
          "5M",
          "6M",
          "6M",
          "6M",
          "6M",
          "6M",
          "6M",
          "6M",
          "6M",
          "6M",
          "6M",
          "6M",
          "6M",
          "6M",
          "6M",
          "6M",
          "6M",
          "6M",
          "6M",
          "6M",
          "6M",
          "6M",
          "6M",
          "6M",
          "6M",
          "6M",
          "6M",
          "6M",
          "6M",
          "6M",
          "6M",
          "7M",
          "7M",
          "7M",
          "7M",
          "7M",
          "7M",
          "7M",
          "7M",
          "7M",
          "7M",
          "7M",
          "7M",
          "7M",
          "7M",
          "7M",
          "7M",
          "8M",
          "8M",
          "8M",
          "8M",
          "8M",
          "8M",
          "8M",
          "8M",
          "8M",
          "8M",
          "8M",
          "8M",
          "8M",
          "8M",
          "8M",
          "8M",
          "8M",
          "8M",
          "9M",
          "9M",
          "9M",
          "9M",
          "9M",
          "9M",
          "9M",
          "9M",
          "9M",
          "9M",
          "9M",
          "9M",
          "9M",
          "9M",
          "9M",
          "9M",
          "9M",
          "9M",
          "9M",
          "9M",
          "10M",
          "10M",
          "10M",
          "10M",
          "10M",
          "10M",
          "10M",
          "10M",
          "10M",
          "10M",
          ">10M",
          ">10M",
          ">10M",
          ">10M",
          ">10M",
          ">10M",
          ">10M",
          ">10M"
         ],
         "x0": " ",
         "xaxis": "x",
         "y": {
          "bdata": "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",
          "dtype": "f8"
         },
         "y0": " ",
         "yaxis": "y"
        }
       ],
       "layout": {
        "legend": {
         "tracegroupgap": 0
        },
        "margin": {
         "t": 60
        },
        "template": {
         "data": {
          "bar": [
           {
            "error_x": {
             "color": "#2a3f5f"
            },
            "error_y": {
             "color": "#2a3f5f"
            },
            "marker": {
             "line": {
              "color": "#E5ECF6",
              "width": 0.5
             },
             "pattern": {
              "fillmode": "overlay",
              "size": 10,
              "solidity": 0.2
             }
            },
            "type": "bar"
           }
          ],
          "barpolar": [
           {
            "marker": {
             "line": {
              "color": "#E5ECF6",
              "width": 0.5
             },
             "pattern": {
              "fillmode": "overlay",
              "size": 10,
              "solidity": 0.2
             }
            },
            "type": "barpolar"
           }
          ],
          "carpet": [
           {
            "aaxis": {
             "endlinecolor": "#2a3f5f",
             "gridcolor": "white",
             "linecolor": "white",
             "minorgridcolor": "white",
             "startlinecolor": "#2a3f5f"
            },
            "baxis": {
             "endlinecolor": "#2a3f5f",
             "gridcolor": "white",
             "linecolor": "white",
             "minorgridcolor": "white",
             "startlinecolor": "#2a3f5f"
            },
            "type": "carpet"
           }
          ],
          "choropleth": [
           {
            "colorbar": {
             "outlinewidth": 0,
             "ticks": ""
            },
            "type": "choropleth"
           }
          ],
          "contour": [
           {
            "colorbar": {
             "outlinewidth": 0,
             "ticks": ""
            },
            "colorscale": [
             [
              0,
              "#0d0887"
             ],
             [
              0.1111111111111111,
              "#46039f"
             ],
             [
              0.2222222222222222,
              "#7201a8"
             ],
             [
              0.3333333333333333,
              "#9c179e"
             ],
             [
              0.4444444444444444,
              "#bd3786"
             ],
             [
              0.5555555555555556,
              "#d8576b"
             ],
             [
              0.6666666666666666,
              "#ed7953"
             ],
             [
              0.7777777777777778,
              "#fb9f3a"
             ],
             [
              0.8888888888888888,
              "#fdca26"
             ],
             [
              1,
              "#f0f921"
             ]
            ],
            "type": "contour"
           }
          ],
          "contourcarpet": [
           {
            "colorbar": {
             "outlinewidth": 0,
             "ticks": ""
            },
            "type": "contourcarpet"
           }
          ],
          "heatmap": [
           {
            "colorbar": {
             "outlinewidth": 0,
             "ticks": ""
            },
            "colorscale": [
             [
              0,
              "#0d0887"
             ],
             [
              0.1111111111111111,
              "#46039f"
             ],
             [
              0.2222222222222222,
              "#7201a8"
             ],
             [
              0.3333333333333333,
              "#9c179e"
             ],
             [
              0.4444444444444444,
              "#bd3786"
             ],
             [
              0.5555555555555556,
              "#d8576b"
             ],
             [
              0.6666666666666666,
              "#ed7953"
             ],
             [
              0.7777777777777778,
              "#fb9f3a"
             ],
             [
              0.8888888888888888,
              "#fdca26"
             ],
             [
              1,
              "#f0f921"
             ]
            ],
            "type": "heatmap"
           }
          ],
          "histogram": [
           {
            "marker": {
             "pattern": {
              "fillmode": "overlay",
              "size": 10,
              "solidity": 0.2
             }
            },
            "type": "histogram"
           }
          ],
          "histogram2d": [
           {
            "colorbar": {
             "outlinewidth": 0,
             "ticks": ""
            },
            "colorscale": [
             [
              0,
              "#0d0887"
             ],
             [
              0.1111111111111111,
              "#46039f"
             ],
             [
              0.2222222222222222,
              "#7201a8"
             ],
             [
              0.3333333333333333,
              "#9c179e"
             ],
             [
              0.4444444444444444,
              "#bd3786"
             ],
             [
              0.5555555555555556,
              "#d8576b"
             ],
             [
              0.6666666666666666,
              "#ed7953"
             ],
             [
              0.7777777777777778,
              "#fb9f3a"
             ],
             [
              0.8888888888888888,
              "#fdca26"
             ],
             [
              1,
              "#f0f921"
             ]
            ],
            "type": "histogram2d"
           }
          ],
          "histogram2dcontour": [
           {
            "colorbar": {
             "outlinewidth": 0,
             "ticks": ""
            },
            "colorscale": [
             [
              0,
              "#0d0887"
             ],
             [
              0.1111111111111111,
              "#46039f"
             ],
             [
              0.2222222222222222,
              "#7201a8"
             ],
             [
              0.3333333333333333,
              "#9c179e"
             ],
             [
              0.4444444444444444,
              "#bd3786"
             ],
             [
              0.5555555555555556,
              "#d8576b"
             ],
             [
              0.6666666666666666,
              "#ed7953"
             ],
             [
              0.7777777777777778,
              "#fb9f3a"
             ],
             [
              0.8888888888888888,
              "#fdca26"
             ],
             [
              1,
              "#f0f921"
             ]
            ],
            "type": "histogram2dcontour"
           }
          ],
          "mesh3d": [
           {
            "colorbar": {
             "outlinewidth": 0,
             "ticks": ""
            },
            "type": "mesh3d"
           }
          ],
          "parcoords": [
           {
            "line": {
             "colorbar": {
              "outlinewidth": 0,
              "ticks": ""
             }
            },
            "type": "parcoords"
           }
          ],
          "pie": [
           {
            "automargin": true,
            "type": "pie"
           }
          ],
          "scatter": [
           {
            "fillpattern": {
             "fillmode": "overlay",
             "size": 10,
             "solidity": 0.2
            },
            "type": "scatter"
           }
          ],
          "scatter3d": [
           {
            "line": {
             "colorbar": {
              "outlinewidth": 0,
              "ticks": ""
             }
            },
            "marker": {
             "colorbar": {
              "outlinewidth": 0,
              "ticks": ""
             }
            },
            "type": "scatter3d"
           }
          ],
          "scattercarpet": [
           {
            "marker": {
             "colorbar": {
              "outlinewidth": 0,
              "ticks": ""
             }
            },
            "type": "scattercarpet"
           }
          ],
          "scattergeo": [
           {
            "marker": {
             "colorbar": {
              "outlinewidth": 0,
              "ticks": ""
             }
            },
            "type": "scattergeo"
           }
          ],
          "scattergl": [
           {
            "marker": {
             "colorbar": {
              "outlinewidth": 0,
              "ticks": ""
             }
            },
            "type": "scattergl"
           }
          ],
          "scattermap": [
           {
            "marker": {
             "colorbar": {
              "outlinewidth": 0,
              "ticks": ""
             }
            },
            "type": "scattermap"
           }
          ],
          "scattermapbox": [
           {
            "marker": {
             "colorbar": {
              "outlinewidth": 0,
              "ticks": ""
             }
            },
            "type": "scattermapbox"
           }
          ],
          "scatterpolar": [
           {
            "marker": {
             "colorbar": {
              "outlinewidth": 0,
              "ticks": ""
             }
            },
            "type": "scatterpolar"
           }
          ],
          "scatterpolargl": [
           {
            "marker": {
             "colorbar": {
              "outlinewidth": 0,
              "ticks": ""
             }
            },
            "type": "scatterpolargl"
           }
          ],
          "scatterternary": [
           {
            "marker": {
             "colorbar": {
              "outlinewidth": 0,
              "ticks": ""
             }
            },
            "type": "scatterternary"
           }
          ],
          "surface": [
           {
            "colorbar": {
             "outlinewidth": 0,
             "ticks": ""
            },
            "colorscale": [
             [
              0,
              "#0d0887"
             ],
             [
              0.1111111111111111,
              "#46039f"
             ],
             [
              0.2222222222222222,
              "#7201a8"
             ],
             [
              0.3333333333333333,
              "#9c179e"
             ],
             [
              0.4444444444444444,
              "#bd3786"
             ],
             [
              0.5555555555555556,
              "#d8576b"
             ],
             [
              0.6666666666666666,
              "#ed7953"
             ],
             [
              0.7777777777777778,
              "#fb9f3a"
             ],
             [
              0.8888888888888888,
              "#fdca26"
             ],
             [
              1,
              "#f0f921"
             ]
            ],
            "type": "surface"
           }
          ],
          "table": [
           {
            "cells": {
             "fill": {
              "color": "#EBF0F8"
             },
             "line": {
              "color": "white"
             }
            },
            "header": {
             "fill": {
              "color": "#C8D4E3"
             },
             "line": {
              "color": "white"
             }
            },
            "type": "table"
           }
          ]
         },
         "layout": {
          "annotationdefaults": {
           "arrowcolor": "#2a3f5f",
           "arrowhead": 0,
           "arrowwidth": 1
          },
          "autotypenumbers": "strict",
          "coloraxis": {
           "colorbar": {
            "outlinewidth": 0,
            "ticks": ""
           }
          },
          "colorscale": {
           "diverging": [
            [
             0,
             "#8e0152"
            ],
            [
             0.1,
             "#c51b7d"
            ],
            [
             0.2,
             "#de77ae"
            ],
            [
             0.3,
             "#f1b6da"
            ],
            [
             0.4,
             "#fde0ef"
            ],
            [
             0.5,
             "#f7f7f7"
            ],
            [
             0.6,
             "#e6f5d0"
            ],
            [
             0.7,
             "#b8e186"
            ],
            [
             0.8,
             "#7fbc41"
            ],
            [
             0.9,
             "#4d9221"
            ],
            [
             1,
             "#276419"
            ]
           ],
           "sequential": [
            [
             0,
             "#0d0887"
            ],
            [
             0.1111111111111111,
             "#46039f"
            ],
            [
             0.2222222222222222,
             "#7201a8"
            ],
            [
             0.3333333333333333,
             "#9c179e"
            ],
            [
             0.4444444444444444,
             "#bd3786"
            ],
            [
             0.5555555555555556,
             "#d8576b"
            ],
            [
             0.6666666666666666,
             "#ed7953"
            ],
            [
             0.7777777777777778,
             "#fb9f3a"
            ],
            [
             0.8888888888888888,
             "#fdca26"
            ],
            [
             1,
             "#f0f921"
            ]
           ],
           "sequentialminus": [
            [
             0,
             "#0d0887"
            ],
            [
             0.1111111111111111,
             "#46039f"
            ],
            [
             0.2222222222222222,
             "#7201a8"
            ],
            [
             0.3333333333333333,
             "#9c179e"
            ],
            [
             0.4444444444444444,
             "#bd3786"
            ],
            [
             0.5555555555555556,
             "#d8576b"
            ],
            [
             0.6666666666666666,
             "#ed7953"
            ],
            [
             0.7777777777777778,
             "#fb9f3a"
            ],
            [
             0.8888888888888888,
             "#fdca26"
            ],
            [
             1,
             "#f0f921"
            ]
           ]
          },
          "colorway": [
           "#636efa",
           "#EF553B",
           "#00cc96",
           "#ab63fa",
           "#FFA15A",
           "#19d3f3",
           "#FF6692",
           "#B6E880",
           "#FF97FF",
           "#FECB52"
          ],
          "font": {
           "color": "#2a3f5f"
          },
          "geo": {
           "bgcolor": "white",
           "lakecolor": "white",
           "landcolor": "#E5ECF6",
           "showlakes": true,
           "showland": true,
           "subunitcolor": "white"
          },
          "hoverlabel": {
           "align": "left"
          },
          "hovermode": "closest",
          "mapbox": {
           "style": "light"
          },
          "paper_bgcolor": "white",
          "plot_bgcolor": "#E5ECF6",
          "polar": {
           "angularaxis": {
            "gridcolor": "white",
            "linecolor": "white",
            "ticks": ""
           },
           "bgcolor": "#E5ECF6",
           "radialaxis": {
            "gridcolor": "white",
            "linecolor": "white",
            "ticks": ""
           }
          },
          "scene": {
           "xaxis": {
            "backgroundcolor": "#E5ECF6",
            "gridcolor": "white",
            "gridwidth": 2,
            "linecolor": "white",
            "showbackground": true,
            "ticks": "",
            "zerolinecolor": "white"
           },
           "yaxis": {
            "backgroundcolor": "#E5ECF6",
            "gridcolor": "white",
            "gridwidth": 2,
            "linecolor": "white",
            "showbackground": true,
            "ticks": "",
            "zerolinecolor": "white"
           },
           "zaxis": {
            "backgroundcolor": "#E5ECF6",
            "gridcolor": "white",
            "gridwidth": 2,
            "linecolor": "white",
            "showbackground": true,
            "ticks": "",
            "zerolinecolor": "white"
           }
          },
          "shapedefaults": {
           "line": {
            "color": "#2a3f5f"
           }
          },
          "ternary": {
           "aaxis": {
            "gridcolor": "white",
            "linecolor": "white",
            "ticks": ""
           },
           "baxis": {
            "gridcolor": "white",
            "linecolor": "white",
            "ticks": ""
           },
           "bgcolor": "#E5ECF6",
           "caxis": {
            "gridcolor": "white",
            "linecolor": "white",
            "ticks": ""
           }
          },
          "title": {
           "x": 0.05
          },
          "xaxis": {
           "automargin": true,
           "gridcolor": "white",
           "linecolor": "white",
           "ticks": "",
           "title": {
            "standoff": 15
           },
           "zerolinecolor": "white",
           "zerolinewidth": 2
          },
          "yaxis": {
           "automargin": true,
           "gridcolor": "white",
           "linecolor": "white",
           "ticks": "",
           "title": {
            "standoff": 15
           },
           "zerolinecolor": "white",
           "zerolinewidth": 2
          }
         }
        },
        "violinmode": "group",
        "xaxis": {
         "anchor": "y",
         "domain": [
          0,
          1
         ],
         "title": {
          "text": "salary_tier"
         }
        },
        "yaxis": {
         "anchor": "x",
         "domain": [
          0,
          1
         ],
         "title": {
          "text": "assist_efficiency_z"
         }
        }
       }
      },
      "image/png": "[encoded data removed]"
     },
     "metadata": {},
     "output_type": "display_data"
    }
   ],
   "source": [
    "fig = px.violin(\n",
    "    df,\n",
    "    x=\"salary_tier\",\n",
    "    y=\"assist_efficiency_z\",\n",
    "    points=\"all\",\n",
    "    hover_name=\"playerName\"\n",
    ")\n",
    "fig.show()"
   ]
  },
  {
   "cell_type": "code",
   "execution_count": null,
   "id": "d44b1146",
   "metadata": {},
   "outputs": [
    {
     "data": {
      "application/vnd.plotly.v1+json": {
       "config": {
        "plotlyServerURL": "https://plot.ly"
       },
       "data": [
        {
         "alignmentgroup": "True",
         "box": {
          "visible": false
         },
         "hovertemplate": "<b>%{hovertext}</b><br><br>salary_tier=%{x}<br>point_efficiency_z=%{y}<extra></extra>",
         "hovertext": [
          "Jack Williams",
          "Hudson Fasching",
          "Liam O'Brien",
          "Eric Robinson",
          "Connor Brown",
          "Dominic Toninato",
          "Rasmus Kupari",
          "Jimmy Vesey",
          "Akil Thomas",
          "Jakub Lauko",
          "Pontus Holmberg",
          "Zemgus Girgensons",
          "Mark Jankowski",
          "Jonatan Berggren",
          "Tanner Pearson",
          "David Gustafsson",
          "Luke Glendening",
          "Paul Cotter",
          "Nikolai Kovalenko",
          "Cole Koepke",
          "Nolan Foote",
          "Alex Turcotte",
          "John Beecher",
          "Arthur Kaliyev",
          "Matt Nieto",
          "Nicholas Robertson",
          "Jakob Pelletier",
          "Simon Holmstrom",
          "Tyler Motte",
          "Martin Pospisil",
          "Jonny Brodzinski",
          "Jakub Vrana",
          "Steven Lorentz",
          "Kasperi Kapanen",
          "Adam Gaudette",
          "Maxim Tsyplakov",
          "Matthew Highmore",
          "Daniel Sprong",
          "Jansen Harkins",
          "A.J. Greer",
          "Bokondji Imama",
          "Tyson Jost",
          "Parker Kelly",
          "Max Jones",
          "Elias Pettersson",
          "Tomas Nosek",
          "Taylor Raddysh",
          "Noah Gregor",
          "Nathan Walker",
          "Curtis Lazar",
          "Michael Pezzetta",
          "Michael Eyssimont",
          "Jonah Gadjovich",
          "Jaret Anderson-Dolan",
          "Jesper Boqvist",
          "Jonas Rondbjerg",
          "Nick Cousins",
          "Michael McCarron",
          "Mark Kastelic",
          "Alexander Holtz",
          "Michael Carcone",
          "Kyle MacLean",
          "Travis Boyd",
          "Zachary L'Heureux",
          "Wyatt Johnston",
          "Matt Martin",
          "Samuel Helenius",
          "Matthew Knies",
          "Mackie Samoskevich",
          "Brennan Othmann",
          "Logan Stankoven",
          "Joel Kiviranta",
          "Jeff Malott",
          "Gage Goncalves",
          "Craig Smith",
          "Trevor Lewis",
          "William Eklund",
          "Landon Slaggert",
          "Jackson Blake",
          "Logan Cooley",
          "Macklin Celebrini",
          "Matvei Michkov",
          "Will Smith",
          "Adam Fantilli",
          "Leo Carlsson",
          "Zach Benson",
          "Taylor Ward",
          "Vasily Podkolzin",
          "Marat Khusnutdinov",
          "Marc Gatcomb",
          "Emil Heineman",
          "Frank Nazar",
          "Rutger McGroarty",
          "Shane Wright",
          "Cutter Gauthier",
          "Connor Bedard",
          "Tyson Foerster",
          "Josh Doan",
          "Will Cuylle",
          "Connor Zary",
          "Marco Rossi",
          "Jake Neighbours",
          "Ridly Greig",
          "Jack Quinn",
          "Drew O'Connor",
          "Tye Kartye",
          "Marco Kasper",
          "Brett Berard",
          "Justin Dowling",
          "Cole Smith",
          "Colin Blackwell",
          "Cole Schwindt",
          "Alex Laferriere",
          "Juuso Parssinen",
          "Thomas Bordeleau",
          "Luke Evangelista",
          "Mavrik Bourque",
          "Mitchell Chaffee",
          "Dmitri Voronkov",
          "Sam Carrick",
          "Kevin Stenlund",
          "Anthony Beauvillier",
          "Keegan Kolesar",
          "Bobby Brink",
          "Kevin Rooney",
          "Nils Hoglander",
          "Ryan Poehling",
          "Carl Grundstrom",
          "Sam Steel",
          "Brett Howden",
          "Noel Acciari",
          "Ryan Lomberg",
          "Beck Malenstyn",
          "Kiefer Sherwood",
          "Pavel Dorofeyev",
          "Kent Johnson",
          "Pius Suter",
          "Bobby McMann",
          "Morgan Barron",
          "Jack McBain",
          "Isac Lundestrom",
          "Jack Drury",
          "Brett Leason",
          "Brandon Duhaime",
          "Connor Dewar",
          "Fabian Zetterlund",
          "Ty Dellandrea",
          "Christian Fischer",
          "Mathieu Olivier",
          "Marcus Johansson",
          "Corey Perry",
          "Klim Kostin",
          "Victor Olofsson",
          "Peyton Krebs",
          "Blake Lizotte",
          "Nathan Bastian",
          "Justin Danforth",
          "Jake Evans",
          "Logan O'Connor",
          "Nic Dowd",
          "Nico Sturm",
          "Nicolas Aube-Kubel",
          "Morgan Geekie",
          "Ross Johnston",
          "Brandon Saad",
          "Ryan Donato",
          "Tomas Tatar",
          "Mattias Janmark",
          "Sam Lafferty",
          "Lukas Reichel",
          "Ryan Reaves",
          "Oskar Sundqvist",
          "Patrick Maroon",
          "Vladislav Namestnikov",
          "William Carrier",
          "Nicolas Deslauriers",
          "Joe Veleno",
          "Jeff Skinner",
          "Philipp Kurashev",
          "Dylan Holloway",
          "Frederick Gaudreau",
          "Garnet Hathaway",
          "Sean Kuraly",
          "Alex Newhook",
          "Luke Kunin",
          "Nick Bjugstad",
          "Morgan Frost",
          "Kaapo Kakko",
          "Cody Glass",
          "Stefan Noesen",
          "Scott Laughton",
          "Colton Sissons",
          "Alexandre Texier",
          "David Kampf",
          "Jonathan Drouin",
          "Alexis Lafrenière",
          "Calle Jarnkrok",
          "Eetu Luostarinen",
          "Jordan Staal",
          "Noah Cates",
          "Mathieu Joseph",
          "Tanner Jeannot",
          "Connor McMichael",
          "Jordan Greenway",
          "Lars Eller",
          "Jack Roslovic",
          "Nicolas Roy",
          "Michael Amadio",
          "Evgenii Dadonov",
          "Pierre Engvall",
          "Trent Frederic",
          "Evan Rodrigues",
          "Adam Henrique",
          "Yegor Chinakhov",
          "Mason Appleton",
          "Danton Heinen",
          "Casey Cizikas",
          "Barrett Hayton",
          "Ryan McLeod",
          "Cole Sillinger",
          "Matt Duchene",
          "Eeli Tolvanen",
          "Ryan Hartman",
          "Yegor Sharangovich",
          "Barclay Goodrow",
          "Anthony Duclair",
          "Dakota Joshua",
          "David Perron",
          "Viktor Arvidsson",
          "Patrick Kane",
          "Joel Armia",
          "Jordan Martinook",
          "Radek Faksa",
          "Warren Foegele",
          "Kirill Marchenko",
          "Alex Iafallo",
          "Frank Vatrano",
          "Cole Perfetti",
          "Aliaksei Protas",
          "Brandon Tanev",
          "Dawson Mercer",
          "Marcus Foligno",
          "Nino Niederreiter",
          "Yakov Trenin",
          "Erik Haula",
          "Gustav Nyquist",
          "Max Domi",
          "Alexander Kerfoot",
          "Shane Pinto",
          "Boone Jenner",
          "Michael Rasmussen",
          "Matias Maccelli",
          "Ross Colton",
          "Nick Foligno",
          "Ryan Strome",
          "Rickard Rakell",
          "Jason Zucker",
          "Anton Lundell",
          "Kyle Palmieri",
          "Vladimir Tarasenko",
          "Jean-Gabriel Pageau",
          "Jesperi Kotkaniemi",
          "Mikael Granlund",
          "Jordan Eberle",
          "Ryan O'Reilly",
          "Ilya Mikheyev",
          "Michael Bunting",
          "Blake Coleman",
          "Reilly Smith",
          "Mikael Backlund",
          "Filip Chytil",
          "Jason Dickinson",
          "Dylan Strome",
          "Sam Bennett",
          "Alex Tuch",
          "Joel Farabee",
          "Jared McCann",
          "Ivan Barbashev",
          "Lawson Crouse",
          "Conor Garland",
          "Alexander Wennberg",
          "Christian Dvorak",
          "Carter Verhaeghe",
          "Pavel Zacha",
          "Trevor Moore",
          "Mason Marchment",
          "Drake Batherson",
          "Sean Monahan",
          "Travis Konecny",
          "Vincent Trocheck",
          "Jaden Schwartz",
          "Bryan Rust",
          "Zach Hyman",
          "Jake DeBrusk",
          "Ondrej Palat",
          "Charlie Coyle",
          "Tyler Toffoli",
          "William Karlsson",
          "Nick Schmaltz",
          "Adrian Kempe",
          "Brock Nelson",
          "Pavel Buchnevich",
          "Andrew Mangiapane",
          "Yanni Gourde",
          "Andrei Kuzmenko",
          "Josh Anderson",
          "Nikolaj Ehlers",
          "Taylor Hall",
          "Phillip Danault",
          "Teuvo Teravainen",
          "Ryan Nugent-Hopkins",
          "Trevor Zegras",
          "Casey Mittelstadt",
          "Oliver Bjorkstrand",
          "Andre Burakovsky",
          "Tyler Bertuzzi",
          "Jonathan Marchessault",
          "Brendan Gallagher",
          "Nazem Kadri",
          "Martin Necas",
          "Owen Tippett",
          "Chris Kreider",
          "Claude Giroux",
          "Anders Lee",
          "Anze Kopitar",
          "Chandler Stephenson",
          "Brock Boeser",
          "Brandon Hagel",
          "Valeri Nichushkin",
          "Brad Marchand",
          "Quinton Byfield",
          "Anthony Cirelli",
          "Brayden Schenn",
          "Kevin Fiala",
          "Jason Robertson",
          "Josh Norris",
          "Cole Caufield",
          "Nick Suzuki",
          "Kyle Connor",
          "Steven Stamkos",
          "Kevin Hayes",
          "Andrei Svechnikov",
          "Clayton Keller",
          "Seth Jarvis",
          "Sean Couturier",
          "Dylan Cozens",
          "J.T. Miller",
          "Tage Thompson",
          "Jesper Bratt",
          "Elias Lindholm",
          "Nico Hischier",
          "Pierre-Luc Dubois",
          "Tim Stützle",
          "Roope Hintz",
          "Brady Tkachuk",
          "Bo Horvat",
          "Patrik Laine",
          "Jordan Kyrou",
          "Mika Zibanejad",
          "Filip Forsberg",
          "Mark Scheifele",
          "Sam Reinhart",
          "Dylan Larkin",
          "Kirill Kaprizov",
          "Sidney Crosby",
          "Lucas Raymond",
          "Timo Meier",
          "Leon Draisaitl",
          "Tomas Hertl",
          "Jake Guentzel",
          "Robert Thomas",
          "Mark Stone",
          "Nikita Kucherov",
          "Jamie Benn",
          "Alex Ovechkin",
          "Jack Eichel",
          "Sebastian Aho",
          "Aleksander Barkov",
          "Tyler Seguin",
          "Mikko Rantanen",
          "Brayden Point",
          "Jonathan Huberdeau",
          "Connor McDavid",
          "Nathan MacKinnon",
          "Auston Matthews",
          "David Pastrnak",
          "Elias Pettersson",
          "William Nylander",
          "Artemi Panarin"
         ],
         "legendgroup": "",
         "marker": {
          "color": "#636efa"
         },
         "name": "",
         "offsetgroup": "",
         "orientation": "v",
         "points": "all",
         "scalegroup": "True",
         "showlegend": false,
         "type": "violin",
         "x": [
          "1M",
          "1M",
          "1M",
          "1M",
          "1M",
          "1M",
          "1M",
          "1M",
          "1M",
          "1M",
          "1M",
          "1M",
          "1M",
          "1M",
          "1M",
          "1M",
          "1M",
          "1M",
          "1M",
          "1M",
          "1M",
          "1M",
          "1M",
          "1M",
          "1M",
          "1M",
          "1M",
          "1M",
          "1M",
          "1M",
          "1M",
          "1M",
          "1M",
          "1M",
          "1M",
          "1M",
          "1M",
          "1M",
          "1M",
          "1M",
          "1M",
          "1M",
          "1M",
          "1M",
          "1M",
          "1M",
          "1M",
          "1M",
          "1M",
          "1M",
          "1M",
          "1M",
          "1M",
          "1M",
          "1M",
          "1M",
          "1M",
          "1M",
          "1M",
          "1M",
          "1M",
          "1M",
          "1M",
          "1M",
          "1M",
          "1M",
          "1M",
          "1M",
          "1M",
          "1M",
          "1M",
          "1M",
          "1M",
          "1M",
          "1M",
          "1M",
          "1M",
          "1M",
          "1M",
          "1M",
          "1M",
          "1M",
          "1M",
          "1M",
          "1M",
          "1M",
          "1M",
          "1M",
          "1M",
          "1M",
          "1M",
          "1M",
          "1M",
          "1M",
          "1M",
          "1M",
          "1M",
          "1M",
          "1M",
          "1M",
          "1M",
          "1M",
          "1M",
          "1M",
          "1M",
          "1M",
          "1M",
          "1M",
          "1M",
          "1M",
          "1M",
          "1M",
          "1M",
          "1M",
          "1M",
          "1M",
          "1M",
          "1M",
          "1M",
          "1M",
          "2M",
          "2M",
          "2M",
          "2M",
          "2M",
          "2M",
          "2M",
          "2M",
          "2M",
          "2M",
          "2M",
          "2M",
          "2M",
          "2M",
          "2M",
          "2M",
          "2M",
          "2M",
          "2M",
          "2M",
          "2M",
          "2M",
          "2M",
          "2M",
          "2M",
          "2M",
          "2M",
          "2M",
          "2M",
          "2M",
          "2M",
          "2M",
          "2M",
          "2M",
          "2M",
          "2M",
          "2M",
          "2M",
          "2M",
          "2M",
          "2M",
          "2M",
          "2M",
          "2M",
          "2M",
          "2M",
          "2M",
          "2M",
          "2M",
          "2M",
          "2M",
          "2M",
          "2M",
          "2M",
          "2M",
          "2M",
          "3M",
          "3M",
          "3M",
          "3M",
          "3M",
          "3M",
          "3M",
          "3M",
          "3M",
          "3M",
          "3M",
          "3M",
          "3M",
          "3M",
          "3M",
          "3M",
          "3M",
          "3M",
          "3M",
          "3M",
          "3M",
          "3M",
          "3M",
          "3M",
          "3M",
          "3M",
          "3M",
          "3M",
          "3M",
          "3M",
          "3M",
          "3M",
          "3M",
          "3M",
          "3M",
          "3M",
          "3M",
          "3M",
          "3M",
          "3M",
          "3M",
          "3M",
          "3M",
          "3M",
          "3M",
          "4M",
          "4M",
          "4M",
          "4M",
          "4M",
          "4M",
          "4M",
          "4M",
          "4M",
          "4M",
          "4M",
          "4M",
          "4M",
          "4M",
          "4M",
          "4M",
          "4M",
          "4M",
          "4M",
          "4M",
          "4M",
          "4M",
          "4M",
          "4M",
          "4M",
          "4M",
          "4M",
          "4M",
          "4M",
          "4M",
          "4M",
          "4M",
          "5M",
          "5M",
          "5M",
          "5M",
          "5M",
          "5M",
          "5M",
          "5M",
          "5M",
          "5M",
          "5M",
          "5M",
          "5M",
          "5M",
          "5M",
          "5M",
          "5M",
          "5M",
          "5M",
          "5M",
          "5M",
          "5M",
          "5M",
          "5M",
          "5M",
          "5M",
          "5M",
          "5M",
          "5M",
          "5M",
          "5M",
          "5M",
          "5M",
          "5M",
          "6M",
          "6M",
          "6M",
          "6M",
          "6M",
          "6M",
          "6M",
          "6M",
          "6M",
          "6M",
          "6M",
          "6M",
          "6M",
          "6M",
          "6M",
          "6M",
          "6M",
          "6M",
          "6M",
          "6M",
          "6M",
          "6M",
          "6M",
          "6M",
          "6M",
          "6M",
          "6M",
          "6M",
          "6M",
          "6M",
          "7M",
          "7M",
          "7M",
          "7M",
          "7M",
          "7M",
          "7M",
          "7M",
          "7M",
          "7M",
          "7M",
          "7M",
          "7M",
          "7M",
          "7M",
          "7M",
          "8M",
          "8M",
          "8M",
          "8M",
          "8M",
          "8M",
          "8M",
          "8M",
          "8M",
          "8M",
          "8M",
          "8M",
          "8M",
          "8M",
          "8M",
          "8M",
          "8M",
          "8M",
          "9M",
          "9M",
          "9M",
          "9M",
          "9M",
          "9M",
          "9M",
          "9M",
          "9M",
          "9M",
          "9M",
          "9M",
          "9M",
          "9M",
          "9M",
          "9M",
          "9M",
          "9M",
          "9M",
          "9M",
          "10M",
          "10M",
          "10M",
          "10M",
          "10M",
          "10M",
          "10M",
          "10M",
          "10M",
          "10M",
          ">10M",
          ">10M",
          ">10M",
          ">10M",
          ">10M",
          ">10M",
          ">10M",
          ">10M"
         ],
         "x0": " ",
         "xaxis": "x",
         "y": {
          "bdata": "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",
          "dtype": "f8"
         },
         "y0": " ",
         "yaxis": "y"
        }
       ],
       "layout": {
        "legend": {
         "tracegroupgap": 0
        },
        "margin": {
         "t": 60
        },
        "template": {
         "data": {
          "bar": [
           {
            "error_x": {
             "color": "#2a3f5f"
            },
            "error_y": {
             "color": "#2a3f5f"
            },
            "marker": {
             "line": {
              "color": "#E5ECF6",
              "width": 0.5
             },
             "pattern": {
              "fillmode": "overlay",
              "size": 10,
              "solidity": 0.2
             }
            },
            "type": "bar"
           }
          ],
          "barpolar": [
           {
            "marker": {
             "line": {
              "color": "#E5ECF6",
              "width": 0.5
             },
             "pattern": {
              "fillmode": "overlay",
              "size": 10,
              "solidity": 0.2
             }
            },
            "type": "barpolar"
           }
          ],
          "carpet": [
           {
            "aaxis": {
             "endlinecolor": "#2a3f5f",
             "gridcolor": "white",
             "linecolor": "white",
             "minorgridcolor": "white",
             "startlinecolor": "#2a3f5f"
            },
            "baxis": {
             "endlinecolor": "#2a3f5f",
             "gridcolor": "white",
             "linecolor": "white",
             "minorgridcolor": "white",
             "startlinecolor": "#2a3f5f"
            },
            "type": "carpet"
           }
          ],
          "choropleth": [
           {
            "colorbar": {
             "outlinewidth": 0,
             "ticks": ""
            },
            "type": "choropleth"
           }
          ],
          "contour": [
           {
            "colorbar": {
             "outlinewidth": 0,
             "ticks": ""
            },
            "colorscale": [
             [
              0,
              "#0d0887"
             ],
             [
              0.1111111111111111,
              "#46039f"
             ],
             [
              0.2222222222222222,
              "#7201a8"
             ],
             [
              0.3333333333333333,
              "#9c179e"
             ],
             [
              0.4444444444444444,
              "#bd3786"
             ],
             [
              0.5555555555555556,
              "#d8576b"
             ],
             [
              0.6666666666666666,
              "#ed7953"
             ],
             [
              0.7777777777777778,
              "#fb9f3a"
             ],
             [
              0.8888888888888888,
              "#fdca26"
             ],
             [
              1,
              "#f0f921"
             ]
            ],
            "type": "contour"
           }
          ],
          "contourcarpet": [
           {
            "colorbar": {
             "outlinewidth": 0,
             "ticks": ""
            },
            "type": "contourcarpet"
           }
          ],
          "heatmap": [
           {
            "colorbar": {
             "outlinewidth": 0,
             "ticks": ""
            },
            "colorscale": [
             [
              0,
              "#0d0887"
             ],
             [
              0.1111111111111111,
              "#46039f"
             ],
             [
              0.2222222222222222,
              "#7201a8"
             ],
             [
              0.3333333333333333,
              "#9c179e"
             ],
             [
              0.4444444444444444,
              "#bd3786"
             ],
             [
              0.5555555555555556,
              "#d8576b"
             ],
             [
              0.6666666666666666,
              "#ed7953"
             ],
             [
              0.7777777777777778,
              "#fb9f3a"
             ],
             [
              0.8888888888888888,
              "#fdca26"
             ],
             [
              1,
              "#f0f921"
             ]
            ],
            "type": "heatmap"
           }
          ],
          "histogram": [
           {
            "marker": {
             "pattern": {
              "fillmode": "overlay",
              "size": 10,
              "solidity": 0.2
             }
            },
            "type": "histogram"
           }
          ],
          "histogram2d": [
           {
            "colorbar": {
             "outlinewidth": 0,
             "ticks": ""
            },
            "colorscale": [
             [
              0,
              "#0d0887"
             ],
             [
              0.1111111111111111,
              "#46039f"
             ],
             [
              0.2222222222222222,
              "#7201a8"
             ],
             [
              0.3333333333333333,
              "#9c179e"
             ],
             [
              0.4444444444444444,
              "#bd3786"
             ],
             [
              0.5555555555555556,
              "#d8576b"
             ],
             [
              0.6666666666666666,
              "#ed7953"
             ],
             [
              0.7777777777777778,
              "#fb9f3a"
             ],
             [
              0.8888888888888888,
              "#fdca26"
             ],
             [
              1,
              "#f0f921"
             ]
            ],
            "type": "histogram2d"
           }
          ],
          "histogram2dcontour": [
           {
            "colorbar": {
             "outlinewidth": 0,
             "ticks": ""
            },
            "colorscale": [
             [
              0,
              "#0d0887"
             ],
             [
              0.1111111111111111,
              "#46039f"
             ],
             [
              0.2222222222222222,
              "#7201a8"
             ],
             [
              0.3333333333333333,
              "#9c179e"
             ],
             [
              0.4444444444444444,
              "#bd3786"
             ],
             [
              0.5555555555555556,
              "#d8576b"
             ],
             [
              0.6666666666666666,
              "#ed7953"
             ],
             [
              0.7777777777777778,
              "#fb9f3a"
             ],
             [
              0.8888888888888888,
              "#fdca26"
             ],
             [
              1,
              "#f0f921"
             ]
            ],
            "type": "histogram2dcontour"
           }
          ],
          "mesh3d": [
           {
            "colorbar": {
             "outlinewidth": 0,
             "ticks": ""
            },
            "type": "mesh3d"
           }
          ],
          "parcoords": [
           {
            "line": {
             "colorbar": {
              "outlinewidth": 0,
              "ticks": ""
             }
            },
            "type": "parcoords"
           }
          ],
          "pie": [
           {
            "automargin": true,
            "type": "pie"
           }
          ],
          "scatter": [
           {
            "fillpattern": {
             "fillmode": "overlay",
             "size": 10,
             "solidity": 0.2
            },
            "type": "scatter"
           }
          ],
          "scatter3d": [
           {
            "line": {
             "colorbar": {
              "outlinewidth": 0,
              "ticks": ""
             }
            },
            "marker": {
             "colorbar": {
              "outlinewidth": 0,
              "ticks": ""
             }
            },
            "type": "scatter3d"
           }
          ],
          "scattercarpet": [
           {
            "marker": {
             "colorbar": {
              "outlinewidth": 0,
              "ticks": ""
             }
            },
            "type": "scattercarpet"
           }
          ],
          "scattergeo": [
           {
            "marker": {
             "colorbar": {
              "outlinewidth": 0,
              "ticks": ""
             }
            },
            "type": "scattergeo"
           }
          ],
          "scattergl": [
           {
            "marker": {
             "colorbar": {
              "outlinewidth": 0,
              "ticks": ""
             }
            },
            "type": "scattergl"
           }
          ],
          "scattermap": [
           {
            "marker": {
             "colorbar": {
              "outlinewidth": 0,
              "ticks": ""
             }
            },
            "type": "scattermap"
           }
          ],
          "scattermapbox": [
           {
            "marker": {
             "colorbar": {
              "outlinewidth": 0,
              "ticks": ""
             }
            },
            "type": "scattermapbox"
           }
          ],
          "scatterpolar": [
           {
            "marker": {
             "colorbar": {
              "outlinewidth": 0,
              "ticks": ""
             }
            },
            "type": "scatterpolar"
           }
          ],
          "scatterpolargl": [
           {
            "marker": {
             "colorbar": {
              "outlinewidth": 0,
              "ticks": ""
             }
            },
            "type": "scatterpolargl"
           }
          ],
          "scatterternary": [
           {
            "marker": {
             "colorbar": {
              "outlinewidth": 0,
              "ticks": ""
             }
            },
            "type": "scatterternary"
           }
          ],
          "surface": [
           {
            "colorbar": {
             "outlinewidth": 0,
             "ticks": ""
            },
            "colorscale": [
             [
              0,
              "#0d0887"
             ],
             [
              0.1111111111111111,
              "#46039f"
             ],
             [
              0.2222222222222222,
              "#7201a8"
             ],
             [
              0.3333333333333333,
              "#9c179e"
             ],
             [
              0.4444444444444444,
              "#bd3786"
             ],
             [
              0.5555555555555556,
              "#d8576b"
             ],
             [
              0.6666666666666666,
              "#ed7953"
             ],
             [
              0.7777777777777778,
              "#fb9f3a"
             ],
             [
              0.8888888888888888,
              "#fdca26"
             ],
             [
              1,
              "#f0f921"
             ]
            ],
            "type": "surface"
           }
          ],
          "table": [
           {
            "cells": {
             "fill": {
              "color": "#EBF0F8"
             },
             "line": {
              "color": "white"
             }
            },
            "header": {
             "fill": {
              "color": "#C8D4E3"
             },
             "line": {
              "color": "white"
             }
            },
            "type": "table"
           }
          ]
         },
         "layout": {
          "annotationdefaults": {
           "arrowcolor": "#2a3f5f",
           "arrowhead": 0,
           "arrowwidth": 1
          },
          "autotypenumbers": "strict",
          "coloraxis": {
           "colorbar": {
            "outlinewidth": 0,
            "ticks": ""
           }
          },
          "colorscale": {
           "diverging": [
            [
             0,
             "#8e0152"
            ],
            [
             0.1,
             "#c51b7d"
            ],
            [
             0.2,
             "#de77ae"
            ],
            [
             0.3,
             "#f1b6da"
            ],
            [
             0.4,
             "#fde0ef"
            ],
            [
             0.5,
             "#f7f7f7"
            ],
            [
             0.6,
             "#e6f5d0"
            ],
            [
             0.7,
             "#b8e186"
            ],
            [
             0.8,
             "#7fbc41"
            ],
            [
             0.9,
             "#4d9221"
            ],
            [
             1,
             "#276419"
            ]
           ],
           "sequential": [
            [
             0,
             "#0d0887"
            ],
            [
             0.1111111111111111,
             "#46039f"
            ],
            [
             0.2222222222222222,
             "#7201a8"
            ],
            [
             0.3333333333333333,
             "#9c179e"
            ],
            [
             0.4444444444444444,
             "#bd3786"
            ],
            [
             0.5555555555555556,
             "#d8576b"
            ],
            [
             0.6666666666666666,
             "#ed7953"
            ],
            [
             0.7777777777777778,
             "#fb9f3a"
            ],
            [
             0.8888888888888888,
             "#fdca26"
            ],
            [
             1,
             "#f0f921"
            ]
           ],
           "sequentialminus": [
            [
             0,
             "#0d0887"
            ],
            [
             0.1111111111111111,
             "#46039f"
            ],
            [
             0.2222222222222222,
             "#7201a8"
            ],
            [
             0.3333333333333333,
             "#9c179e"
            ],
            [
             0.4444444444444444,
             "#bd3786"
            ],
            [
             0.5555555555555556,
             "#d8576b"
            ],
            [
             0.6666666666666666,
             "#ed7953"
            ],
            [
             0.7777777777777778,
             "#fb9f3a"
            ],
            [
             0.8888888888888888,
             "#fdca26"
            ],
            [
             1,
             "#f0f921"
            ]
           ]
          },
          "colorway": [
           "#636efa",
           "#EF553B",
           "#00cc96",
           "#ab63fa",
           "#FFA15A",
           "#19d3f3",
           "#FF6692",
           "#B6E880",
           "#FF97FF",
           "#FECB52"
          ],
          "font": {
           "color": "#2a3f5f"
          },
          "geo": {
           "bgcolor": "white",
           "lakecolor": "white",
           "landcolor": "#E5ECF6",
           "showlakes": true,
           "showland": true,
           "subunitcolor": "white"
          },
          "hoverlabel": {
           "align": "left"
          },
          "hovermode": "closest",
          "mapbox": {
           "style": "light"
          },
          "paper_bgcolor": "white",
          "plot_bgcolor": "#E5ECF6",
          "polar": {
           "angularaxis": {
            "gridcolor": "white",
            "linecolor": "white",
            "ticks": ""
           },
           "bgcolor": "#E5ECF6",
           "radialaxis": {
            "gridcolor": "white",
            "linecolor": "white",
            "ticks": ""
           }
          },
          "scene": {
           "xaxis": {
            "backgroundcolor": "#E5ECF6",
            "gridcolor": "white",
            "gridwidth": 2,
            "linecolor": "white",
            "showbackground": true,
            "ticks": "",
            "zerolinecolor": "white"
           },
           "yaxis": {
            "backgroundcolor": "#E5ECF6",
            "gridcolor": "white",
            "gridwidth": 2,
            "linecolor": "white",
            "showbackground": true,
            "ticks": "",
            "zerolinecolor": "white"
           },
           "zaxis": {
            "backgroundcolor": "#E5ECF6",
            "gridcolor": "white",
            "gridwidth": 2,
            "linecolor": "white",
            "showbackground": true,
            "ticks": "",
            "zerolinecolor": "white"
           }
          },
          "shapedefaults": {
           "line": {
            "color": "#2a3f5f"
           }
          },
          "ternary": {
           "aaxis": {
            "gridcolor": "white",
            "linecolor": "white",
            "ticks": ""
           },
           "baxis": {
            "gridcolor": "white",
            "linecolor": "white",
            "ticks": ""
           },
           "bgcolor": "#E5ECF6",
           "caxis": {
            "gridcolor": "white",
            "linecolor": "white",
            "ticks": ""
           }
          },
          "title": {
           "x": 0.05
          },
          "xaxis": {
           "automargin": true,
           "gridcolor": "white",
           "linecolor": "white",
           "ticks": "",
           "title": {
            "standoff": 15
           },
           "zerolinecolor": "white",
           "zerolinewidth": 2
          },
          "yaxis": {
           "automargin": true,
           "gridcolor": "white",
           "linecolor": "white",
           "ticks": "",
           "title": {
            "standoff": 15
           },
           "zerolinecolor": "white",
           "zerolinewidth": 2
          }
         }
        },
        "violinmode": "group",
        "xaxis": {
         "anchor": "y",
         "domain": [
          0,
          1
         ],
         "title": {
          "text": "salary_tier"
         }
        },
        "yaxis": {
         "anchor": "x",
         "domain": [
          0,
          1
         ],
         "title": {
          "text": "point_efficiency_z"
         }
        }
       }
      },
      "image/png": "[encoded data removed]"
     },
     "metadata": {},
     "output_type": "display_data"
    }
   ],
   "source": [
    "fig = px.violin(\n",
    "    df,\n",
    "    x=\"salary_tier\",\n",
    "    y=\"point_efficiency_z\",\n",
    "    points=\"all\",\n",
    "    hover_name=\"playerName\"\n",
    ")\n",
    "fig.show()"
   ]
  },
  {
   "cell_type": "code",
   "execution_count": null,
   "id": "4c3e5264",
   "metadata": {},
   "outputs": [
    {
     "data": {
      "application/vnd.plotly.v1+json": {
       "config": {
        "plotlyServerURL": "https://plot.ly"
       },
       "data": [
        {
         "alignmentgroup": "True",
         "box": {
          "visible": false
         },
         "hovertemplate": "<b>%{hovertext}</b><br><br>salary_tier=%{x}<br>games_played_efficiency_z=%{y}<extra></extra>",
         "hovertext": [
          "Jack Williams",
          "Hudson Fasching",
          "Liam O'Brien",
          "Eric Robinson",
          "Connor Brown",
          "Dominic Toninato",
          "Rasmus Kupari",
          "Jimmy Vesey",
          "Akil Thomas",
          "Jakub Lauko",
          "Pontus Holmberg",
          "Zemgus Girgensons",
          "Mark Jankowski",
          "Jonatan Berggren",
          "Tanner Pearson",
          "David Gustafsson",
          "Luke Glendening",
          "Paul Cotter",
          "Nikolai Kovalenko",
          "Cole Koepke",
          "Nolan Foote",
          "Alex Turcotte",
          "John Beecher",
          "Arthur Kaliyev",
          "Matt Nieto",
          "Nicholas Robertson",
          "Jakob Pelletier",
          "Simon Holmstrom",
          "Tyler Motte",
          "Martin Pospisil",
          "Jonny Brodzinski",
          "Jakub Vrana",
          "Steven Lorentz",
          "Kasperi Kapanen",
          "Adam Gaudette",
          "Maxim Tsyplakov",
          "Matthew Highmore",
          "Daniel Sprong",
          "Jansen Harkins",
          "A.J. Greer",
          "Bokondji Imama",
          "Tyson Jost",
          "Parker Kelly",
          "Max Jones",
          "Elias Pettersson",
          "Tomas Nosek",
          "Taylor Raddysh",
          "Noah Gregor",
          "Nathan Walker",
          "Curtis Lazar",
          "Michael Pezzetta",
          "Michael Eyssimont",
          "Jonah Gadjovich",
          "Jaret Anderson-Dolan",
          "Jesper Boqvist",
          "Jonas Rondbjerg",
          "Nick Cousins",
          "Michael McCarron",
          "Mark Kastelic",
          "Alexander Holtz",
          "Michael Carcone",
          "Kyle MacLean",
          "Travis Boyd",
          "Zachary L'Heureux",
          "Wyatt Johnston",
          "Matt Martin",
          "Samuel Helenius",
          "Matthew Knies",
          "Mackie Samoskevich",
          "Brennan Othmann",
          "Logan Stankoven",
          "Joel Kiviranta",
          "Jeff Malott",
          "Gage Goncalves",
          "Craig Smith",
          "Trevor Lewis",
          "William Eklund",
          "Landon Slaggert",
          "Jackson Blake",
          "Logan Cooley",
          "Macklin Celebrini",
          "Matvei Michkov",
          "Will Smith",
          "Adam Fantilli",
          "Leo Carlsson",
          "Zach Benson",
          "Taylor Ward",
          "Vasily Podkolzin",
          "Marat Khusnutdinov",
          "Marc Gatcomb",
          "Emil Heineman",
          "Frank Nazar",
          "Rutger McGroarty",
          "Shane Wright",
          "Cutter Gauthier",
          "Connor Bedard",
          "Tyson Foerster",
          "Josh Doan",
          "Will Cuylle",
          "Connor Zary",
          "Marco Rossi",
          "Jake Neighbours",
          "Ridly Greig",
          "Jack Quinn",
          "Drew O'Connor",
          "Tye Kartye",
          "Marco Kasper",
          "Brett Berard",
          "Justin Dowling",
          "Cole Smith",
          "Colin Blackwell",
          "Cole Schwindt",
          "Alex Laferriere",
          "Juuso Parssinen",
          "Thomas Bordeleau",
          "Luke Evangelista",
          "Mavrik Bourque",
          "Mitchell Chaffee",
          "Dmitri Voronkov",
          "Sam Carrick",
          "Kevin Stenlund",
          "Anthony Beauvillier",
          "Keegan Kolesar",
          "Bobby Brink",
          "Kevin Rooney",
          "Nils Hoglander",
          "Ryan Poehling",
          "Carl Grundstrom",
          "Sam Steel",
          "Brett Howden",
          "Noel Acciari",
          "Ryan Lomberg",
          "Beck Malenstyn",
          "Kiefer Sherwood",
          "Pavel Dorofeyev",
          "Kent Johnson",
          "Pius Suter",
          "Bobby McMann",
          "Morgan Barron",
          "Jack McBain",
          "Isac Lundestrom",
          "Jack Drury",
          "Brett Leason",
          "Brandon Duhaime",
          "Connor Dewar",
          "Fabian Zetterlund",
          "Ty Dellandrea",
          "Christian Fischer",
          "Mathieu Olivier",
          "Marcus Johansson",
          "Corey Perry",
          "Klim Kostin",
          "Victor Olofsson",
          "Peyton Krebs",
          "Blake Lizotte",
          "Nathan Bastian",
          "Justin Danforth",
          "Jake Evans",
          "Logan O'Connor",
          "Nic Dowd",
          "Nico Sturm",
          "Nicolas Aube-Kubel",
          "Morgan Geekie",
          "Ross Johnston",
          "Brandon Saad",
          "Ryan Donato",
          "Tomas Tatar",
          "Mattias Janmark",
          "Sam Lafferty",
          "Lukas Reichel",
          "Ryan Reaves",
          "Oskar Sundqvist",
          "Patrick Maroon",
          "Vladislav Namestnikov",
          "William Carrier",
          "Nicolas Deslauriers",
          "Joe Veleno",
          "Jeff Skinner",
          "Philipp Kurashev",
          "Dylan Holloway",
          "Frederick Gaudreau",
          "Garnet Hathaway",
          "Sean Kuraly",
          "Alex Newhook",
          "Luke Kunin",
          "Nick Bjugstad",
          "Morgan Frost",
          "Kaapo Kakko",
          "Cody Glass",
          "Stefan Noesen",
          "Scott Laughton",
          "Colton Sissons",
          "Alexandre Texier",
          "David Kampf",
          "Jonathan Drouin",
          "Alexis Lafrenière",
          "Calle Jarnkrok",
          "Eetu Luostarinen",
          "Jordan Staal",
          "Noah Cates",
          "Mathieu Joseph",
          "Tanner Jeannot",
          "Connor McMichael",
          "Jordan Greenway",
          "Lars Eller",
          "Jack Roslovic",
          "Nicolas Roy",
          "Michael Amadio",
          "Evgenii Dadonov",
          "Pierre Engvall",
          "Trent Frederic",
          "Evan Rodrigues",
          "Adam Henrique",
          "Yegor Chinakhov",
          "Mason Appleton",
          "Danton Heinen",
          "Casey Cizikas",
          "Barrett Hayton",
          "Ryan McLeod",
          "Cole Sillinger",
          "Matt Duchene",
          "Eeli Tolvanen",
          "Ryan Hartman",
          "Yegor Sharangovich",
          "Barclay Goodrow",
          "Anthony Duclair",
          "Dakota Joshua",
          "David Perron",
          "Viktor Arvidsson",
          "Patrick Kane",
          "Joel Armia",
          "Jordan Martinook",
          "Radek Faksa",
          "Warren Foegele",
          "Kirill Marchenko",
          "Alex Iafallo",
          "Frank Vatrano",
          "Cole Perfetti",
          "Aliaksei Protas",
          "Brandon Tanev",
          "Dawson Mercer",
          "Marcus Foligno",
          "Nino Niederreiter",
          "Yakov Trenin",
          "Erik Haula",
          "Gustav Nyquist",
          "Max Domi",
          "Alexander Kerfoot",
          "Shane Pinto",
          "Boone Jenner",
          "Michael Rasmussen",
          "Matias Maccelli",
          "Ross Colton",
          "Nick Foligno",
          "Ryan Strome",
          "Rickard Rakell",
          "Jason Zucker",
          "Anton Lundell",
          "Kyle Palmieri",
          "Vladimir Tarasenko",
          "Jean-Gabriel Pageau",
          "Jesperi Kotkaniemi",
          "Mikael Granlund",
          "Jordan Eberle",
          "Ryan O'Reilly",
          "Ilya Mikheyev",
          "Michael Bunting",
          "Blake Coleman",
          "Reilly Smith",
          "Mikael Backlund",
          "Filip Chytil",
          "Jason Dickinson",
          "Dylan Strome",
          "Sam Bennett",
          "Alex Tuch",
          "Joel Farabee",
          "Jared McCann",
          "Ivan Barbashev",
          "Lawson Crouse",
          "Conor Garland",
          "Alexander Wennberg",
          "Christian Dvorak",
          "Carter Verhaeghe",
          "Pavel Zacha",
          "Trevor Moore",
          "Mason Marchment",
          "Drake Batherson",
          "Sean Monahan",
          "Travis Konecny",
          "Vincent Trocheck",
          "Jaden Schwartz",
          "Bryan Rust",
          "Zach Hyman",
          "Jake DeBrusk",
          "Ondrej Palat",
          "Charlie Coyle",
          "Tyler Toffoli",
          "William Karlsson",
          "Nick Schmaltz",
          "Adrian Kempe",
          "Brock Nelson",
          "Pavel Buchnevich",
          "Andrew Mangiapane",
          "Yanni Gourde",
          "Andrei Kuzmenko",
          "Josh Anderson",
          "Nikolaj Ehlers",
          "Taylor Hall",
          "Phillip Danault",
          "Teuvo Teravainen",
          "Ryan Nugent-Hopkins",
          "Trevor Zegras",
          "Casey Mittelstadt",
          "Oliver Bjorkstrand",
          "Andre Burakovsky",
          "Tyler Bertuzzi",
          "Jonathan Marchessault",
          "Brendan Gallagher",
          "Nazem Kadri",
          "Martin Necas",
          "Owen Tippett",
          "Chris Kreider",
          "Claude Giroux",
          "Anders Lee",
          "Anze Kopitar",
          "Chandler Stephenson",
          "Brock Boeser",
          "Brandon Hagel",
          "Valeri Nichushkin",
          "Brad Marchand",
          "Quinton Byfield",
          "Anthony Cirelli",
          "Brayden Schenn",
          "Kevin Fiala",
          "Jason Robertson",
          "Josh Norris",
          "Cole Caufield",
          "Nick Suzuki",
          "Kyle Connor",
          "Steven Stamkos",
          "Kevin Hayes",
          "Andrei Svechnikov",
          "Clayton Keller",
          "Seth Jarvis",
          "Sean Couturier",
          "Dylan Cozens",
          "J.T. Miller",
          "Tage Thompson",
          "Jesper Bratt",
          "Elias Lindholm",
          "Nico Hischier",
          "Pierre-Luc Dubois",
          "Tim Stützle",
          "Roope Hintz",
          "Brady Tkachuk",
          "Bo Horvat",
          "Patrik Laine",
          "Jordan Kyrou",
          "Mika Zibanejad",
          "Filip Forsberg",
          "Mark Scheifele",
          "Sam Reinhart",
          "Dylan Larkin",
          "Kirill Kaprizov",
          "Sidney Crosby",
          "Lucas Raymond",
          "Timo Meier",
          "Leon Draisaitl",
          "Tomas Hertl",
          "Jake Guentzel",
          "Robert Thomas",
          "Mark Stone",
          "Nikita Kucherov",
          "Jamie Benn",
          "Alex Ovechkin",
          "Jack Eichel",
          "Sebastian Aho",
          "Aleksander Barkov",
          "Tyler Seguin",
          "Mikko Rantanen",
          "Brayden Point",
          "Jonathan Huberdeau",
          "Connor McDavid",
          "Nathan MacKinnon",
          "Auston Matthews",
          "David Pastrnak",
          "Elias Pettersson",
          "William Nylander",
          "Artemi Panarin"
         ],
         "legendgroup": "",
         "marker": {
          "color": "#636efa"
         },
         "name": "",
         "offsetgroup": "",
         "orientation": "v",
         "points": "all",
         "scalegroup": "True",
         "showlegend": false,
         "type": "violin",
         "x": [
          "1M",
          "1M",
          "1M",
          "1M",
          "1M",
          "1M",
          "1M",
          "1M",
          "1M",
          "1M",
          "1M",
          "1M",
          "1M",
          "1M",
          "1M",
          "1M",
          "1M",
          "1M",
          "1M",
          "1M",
          "1M",
          "1M",
          "1M",
          "1M",
          "1M",
          "1M",
          "1M",
          "1M",
          "1M",
          "1M",
          "1M",
          "1M",
          "1M",
          "1M",
          "1M",
          "1M",
          "1M",
          "1M",
          "1M",
          "1M",
          "1M",
          "1M",
          "1M",
          "1M",
          "1M",
          "1M",
          "1M",
          "1M",
          "1M",
          "1M",
          "1M",
          "1M",
          "1M",
          "1M",
          "1M",
          "1M",
          "1M",
          "1M",
          "1M",
          "1M",
          "1M",
          "1M",
          "1M",
          "1M",
          "1M",
          "1M",
          "1M",
          "1M",
          "1M",
          "1M",
          "1M",
          "1M",
          "1M",
          "1M",
          "1M",
          "1M",
          "1M",
          "1M",
          "1M",
          "1M",
          "1M",
          "1M",
          "1M",
          "1M",
          "1M",
          "1M",
          "1M",
          "1M",
          "1M",
          "1M",
          "1M",
          "1M",
          "1M",
          "1M",
          "1M",
          "1M",
          "1M",
          "1M",
          "1M",
          "1M",
          "1M",
          "1M",
          "1M",
          "1M",
          "1M",
          "1M",
          "1M",
          "1M",
          "1M",
          "1M",
          "1M",
          "1M",
          "1M",
          "1M",
          "1M",
          "1M",
          "1M",
          "1M",
          "1M",
          "1M",
          "2M",
          "2M",
          "2M",
          "2M",
          "2M",
          "2M",
          "2M",
          "2M",
          "2M",
          "2M",
          "2M",
          "2M",
          "2M",
          "2M",
          "2M",
          "2M",
          "2M",
          "2M",
          "2M",
          "2M",
          "2M",
          "2M",
          "2M",
          "2M",
          "2M",
          "2M",
          "2M",
          "2M",
          "2M",
          "2M",
          "2M",
          "2M",
          "2M",
          "2M",
          "2M",
          "2M",
          "2M",
          "2M",
          "2M",
          "2M",
          "2M",
          "2M",
          "2M",
          "2M",
          "2M",
          "2M",
          "2M",
          "2M",
          "2M",
          "2M",
          "2M",
          "2M",
          "2M",
          "2M",
          "2M",
          "2M",
          "3M",
          "3M",
          "3M",
          "3M",
          "3M",
          "3M",
          "3M",
          "3M",
          "3M",
          "3M",
          "3M",
          "3M",
          "3M",
          "3M",
          "3M",
          "3M",
          "3M",
          "3M",
          "3M",
          "3M",
          "3M",
          "3M",
          "3M",
          "3M",
          "3M",
          "3M",
          "3M",
          "3M",
          "3M",
          "3M",
          "3M",
          "3M",
          "3M",
          "3M",
          "3M",
          "3M",
          "3M",
          "3M",
          "3M",
          "3M",
          "3M",
          "3M",
          "3M",
          "3M",
          "3M",
          "4M",
          "4M",
          "4M",
          "4M",
          "4M",
          "4M",
          "4M",
          "4M",
          "4M",
          "4M",
          "4M",
          "4M",
          "4M",
          "4M",
          "4M",
          "4M",
          "4M",
          "4M",
          "4M",
          "4M",
          "4M",
          "4M",
          "4M",
          "4M",
          "4M",
          "4M",
          "4M",
          "4M",
          "4M",
          "4M",
          "4M",
          "4M",
          "5M",
          "5M",
          "5M",
          "5M",
          "5M",
          "5M",
          "5M",
          "5M",
          "5M",
          "5M",
          "5M",
          "5M",
          "5M",
          "5M",
          "5M",
          "5M",
          "5M",
          "5M",
          "5M",
          "5M",
          "5M",
          "5M",
          "5M",
          "5M",
          "5M",
          "5M",
          "5M",
          "5M",
          "5M",
          "5M",
          "5M",
          "5M",
          "5M",
          "5M",
          "6M",
          "6M",
          "6M",
          "6M",
          "6M",
          "6M",
          "6M",
          "6M",
          "6M",
          "6M",
          "6M",
          "6M",
          "6M",
          "6M",
          "6M",
          "6M",
          "6M",
          "6M",
          "6M",
          "6M",
          "6M",
          "6M",
          "6M",
          "6M",
          "6M",
          "6M",
          "6M",
          "6M",
          "6M",
          "6M",
          "7M",
          "7M",
          "7M",
          "7M",
          "7M",
          "7M",
          "7M",
          "7M",
          "7M",
          "7M",
          "7M",
          "7M",
          "7M",
          "7M",
          "7M",
          "7M",
          "8M",
          "8M",
          "8M",
          "8M",
          "8M",
          "8M",
          "8M",
          "8M",
          "8M",
          "8M",
          "8M",
          "8M",
          "8M",
          "8M",
          "8M",
          "8M",
          "8M",
          "8M",
          "9M",
          "9M",
          "9M",
          "9M",
          "9M",
          "9M",
          "9M",
          "9M",
          "9M",
          "9M",
          "9M",
          "9M",
          "9M",
          "9M",
          "9M",
          "9M",
          "9M",
          "9M",
          "9M",
          "9M",
          "10M",
          "10M",
          "10M",
          "10M",
          "10M",
          "10M",
          "10M",
          "10M",
          "10M",
          "10M",
          ">10M",
          ">10M",
          ">10M",
          ">10M",
          ">10M",
          ">10M",
          ">10M",
          ">10M"
         ],
         "x0": " ",
         "xaxis": "x",
         "y": {
          "bdata": "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",
          "dtype": "f8"
         },
         "y0": " ",
         "yaxis": "y"
        }
       ],
       "layout": {
        "legend": {
         "tracegroupgap": 0
        },
        "margin": {
         "t": 60
        },
        "template": {
         "data": {
          "bar": [
           {
            "error_x": {
             "color": "#2a3f5f"
            },
            "error_y": {
             "color": "#2a3f5f"
            },
            "marker": {
             "line": {
              "color": "#E5ECF6",
              "width": 0.5
             },
             "pattern": {
              "fillmode": "overlay",
              "size": 10,
              "solidity": 0.2
             }
            },
            "type": "bar"
           }
          ],
          "barpolar": [
           {
            "marker": {
             "line": {
              "color": "#E5ECF6",
              "width": 0.5
             },
             "pattern": {
              "fillmode": "overlay",
              "size": 10,
              "solidity": 0.2
             }
            },
            "type": "barpolar"
           }
          ],
          "carpet": [
           {
            "aaxis": {
             "endlinecolor": "#2a3f5f",
             "gridcolor": "white",
             "linecolor": "white",
             "minorgridcolor": "white",
             "startlinecolor": "#2a3f5f"
            },
            "baxis": {
             "endlinecolor": "#2a3f5f",
             "gridcolor": "white",
             "linecolor": "white",
             "minorgridcolor": "white",
             "startlinecolor": "#2a3f5f"
            },
            "type": "carpet"
           }
          ],
          "choropleth": [
           {
            "colorbar": {
             "outlinewidth": 0,
             "ticks": ""
            },
            "type": "choropleth"
           }
          ],
          "contour": [
           {
            "colorbar": {
             "outlinewidth": 0,
             "ticks": ""
            },
            "colorscale": [
             [
              0,
              "#0d0887"
             ],
             [
              0.1111111111111111,
              "#46039f"
             ],
             [
              0.2222222222222222,
              "#7201a8"
             ],
             [
              0.3333333333333333,
              "#9c179e"
             ],
             [
              0.4444444444444444,
              "#bd3786"
             ],
             [
              0.5555555555555556,
              "#d8576b"
             ],
             [
              0.6666666666666666,
              "#ed7953"
             ],
             [
              0.7777777777777778,
              "#fb9f3a"
             ],
             [
              0.8888888888888888,
              "#fdca26"
             ],
             [
              1,
              "#f0f921"
             ]
            ],
            "type": "contour"
           }
          ],
          "contourcarpet": [
           {
            "colorbar": {
             "outlinewidth": 0,
             "ticks": ""
            },
            "type": "contourcarpet"
           }
          ],
          "heatmap": [
           {
            "colorbar": {
             "outlinewidth": 0,
             "ticks": ""
            },
            "colorscale": [
             [
              0,
              "#0d0887"
             ],
             [
              0.1111111111111111,
              "#46039f"
             ],
             [
              0.2222222222222222,
              "#7201a8"
             ],
             [
              0.3333333333333333,
              "#9c179e"
             ],
             [
              0.4444444444444444,
              "#bd3786"
             ],
             [
              0.5555555555555556,
              "#d8576b"
             ],
             [
              0.6666666666666666,
              "#ed7953"
             ],
             [
              0.7777777777777778,
              "#fb9f3a"
             ],
             [
              0.8888888888888888,
              "#fdca26"
             ],
             [
              1,
              "#f0f921"
             ]
            ],
            "type": "heatmap"
           }
          ],
          "histogram": [
           {
            "marker": {
             "pattern": {
              "fillmode": "overlay",
              "size": 10,
              "solidity": 0.2
             }
            },
            "type": "histogram"
           }
          ],
          "histogram2d": [
           {
            "colorbar": {
             "outlinewidth": 0,
             "ticks": ""
            },
            "colorscale": [
             [
              0,
              "#0d0887"
             ],
             [
              0.1111111111111111,
              "#46039f"
             ],
             [
              0.2222222222222222,
              "#7201a8"
             ],
             [
              0.3333333333333333,
              "#9c179e"
             ],
             [
              0.4444444444444444,
              "#bd3786"
             ],
             [
              0.5555555555555556,
              "#d8576b"
             ],
             [
              0.6666666666666666,
              "#ed7953"
             ],
             [
              0.7777777777777778,
              "#fb9f3a"
             ],
             [
              0.8888888888888888,
              "#fdca26"
             ],
             [
              1,
              "#f0f921"
             ]
            ],
            "type": "histogram2d"
           }
          ],
          "histogram2dcontour": [
           {
            "colorbar": {
             "outlinewidth": 0,
             "ticks": ""
            },
            "colorscale": [
             [
              0,
              "#0d0887"
             ],
             [
              0.1111111111111111,
              "#46039f"
             ],
             [
              0.2222222222222222,
              "#7201a8"
             ],
             [
              0.3333333333333333,
              "#9c179e"
             ],
             [
              0.4444444444444444,
              "#bd3786"
             ],
             [
              0.5555555555555556,
              "#d8576b"
             ],
             [
              0.6666666666666666,
              "#ed7953"
             ],
             [
              0.7777777777777778,
              "#fb9f3a"
             ],
             [
              0.8888888888888888,
              "#fdca26"
             ],
             [
              1,
              "#f0f921"
             ]
            ],
            "type": "histogram2dcontour"
           }
          ],
          "mesh3d": [
           {
            "colorbar": {
             "outlinewidth": 0,
             "ticks": ""
            },
            "type": "mesh3d"
           }
          ],
          "parcoords": [
           {
            "line": {
             "colorbar": {
              "outlinewidth": 0,
              "ticks": ""
             }
            },
            "type": "parcoords"
           }
          ],
          "pie": [
           {
            "automargin": true,
            "type": "pie"
           }
          ],
          "scatter": [
           {
            "fillpattern": {
             "fillmode": "overlay",
             "size": 10,
             "solidity": 0.2
            },
            "type": "scatter"
           }
          ],
          "scatter3d": [
           {
            "line": {
             "colorbar": {
              "outlinewidth": 0,
              "ticks": ""
             }
            },
            "marker": {
             "colorbar": {
              "outlinewidth": 0,
              "ticks": ""
             }
            },
            "type": "scatter3d"
           }
          ],
          "scattercarpet": [
           {
            "marker": {
             "colorbar": {
              "outlinewidth": 0,
              "ticks": ""
             }
            },
            "type": "scattercarpet"
           }
          ],
          "scattergeo": [
           {
            "marker": {
             "colorbar": {
              "outlinewidth": 0,
              "ticks": ""
             }
            },
            "type": "scattergeo"
           }
          ],
          "scattergl": [
           {
            "marker": {
             "colorbar": {
              "outlinewidth": 0,
              "ticks": ""
             }
            },
            "type": "scattergl"
           }
          ],
          "scattermap": [
           {
            "marker": {
             "colorbar": {
              "outlinewidth": 0,
              "ticks": ""
             }
            },
            "type": "scattermap"
           }
          ],
          "scattermapbox": [
           {
            "marker": {
             "colorbar": {
              "outlinewidth": 0,
              "ticks": ""
             }
            },
            "type": "scattermapbox"
           }
          ],
          "scatterpolar": [
           {
            "marker": {
             "colorbar": {
              "outlinewidth": 0,
              "ticks": ""
             }
            },
            "type": "scatterpolar"
           }
          ],
          "scatterpolargl": [
           {
            "marker": {
             "colorbar": {
              "outlinewidth": 0,
              "ticks": ""
             }
            },
            "type": "scatterpolargl"
           }
          ],
          "scatterternary": [
           {
            "marker": {
             "colorbar": {
              "outlinewidth": 0,
              "ticks": ""
             }
            },
            "type": "scatterternary"
           }
          ],
          "surface": [
           {
            "colorbar": {
             "outlinewidth": 0,
             "ticks": ""
            },
            "colorscale": [
             [
              0,
              "#0d0887"
             ],
             [
              0.1111111111111111,
              "#46039f"
             ],
             [
              0.2222222222222222,
              "#7201a8"
             ],
             [
              0.3333333333333333,
              "#9c179e"
             ],
             [
              0.4444444444444444,
              "#bd3786"
             ],
             [
              0.5555555555555556,
              "#d8576b"
             ],
             [
              0.6666666666666666,
              "#ed7953"
             ],
             [
              0.7777777777777778,
              "#fb9f3a"
             ],
             [
              0.8888888888888888,
              "#fdca26"
             ],
             [
              1,
              "#f0f921"
             ]
            ],
            "type": "surface"
           }
          ],
          "table": [
           {
            "cells": {
             "fill": {
              "color": "#EBF0F8"
             },
             "line": {
              "color": "white"
             }
            },
            "header": {
             "fill": {
              "color": "#C8D4E3"
             },
             "line": {
              "color": "white"
             }
            },
            "type": "table"
           }
          ]
         },
         "layout": {
          "annotationdefaults": {
           "arrowcolor": "#2a3f5f",
           "arrowhead": 0,
           "arrowwidth": 1
          },
          "autotypenumbers": "strict",
          "coloraxis": {
           "colorbar": {
            "outlinewidth": 0,
            "ticks": ""
           }
          },
          "colorscale": {
           "diverging": [
            [
             0,
             "#8e0152"
            ],
            [
             0.1,
             "#c51b7d"
            ],
            [
             0.2,
             "#de77ae"
            ],
            [
             0.3,
             "#f1b6da"
            ],
            [
             0.4,
             "#fde0ef"
            ],
            [
             0.5,
             "#f7f7f7"
            ],
            [
             0.6,
             "#e6f5d0"
            ],
            [
             0.7,
             "#b8e186"
            ],
            [
             0.8,
             "#7fbc41"
            ],
            [
             0.9,
             "#4d9221"
            ],
            [
             1,
             "#276419"
            ]
           ],
           "sequential": [
            [
             0,
             "#0d0887"
            ],
            [
             0.1111111111111111,
             "#46039f"
            ],
            [
             0.2222222222222222,
             "#7201a8"
            ],
            [
             0.3333333333333333,
             "#9c179e"
            ],
            [
             0.4444444444444444,
             "#bd3786"
            ],
            [
             0.5555555555555556,
             "#d8576b"
            ],
            [
             0.6666666666666666,
             "#ed7953"
            ],
            [
             0.7777777777777778,
             "#fb9f3a"
            ],
            [
             0.8888888888888888,
             "#fdca26"
            ],
            [
             1,
             "#f0f921"
            ]
           ],
           "sequentialminus": [
            [
             0,
             "#0d0887"
            ],
            [
             0.1111111111111111,
             "#46039f"
            ],
            [
             0.2222222222222222,
             "#7201a8"
            ],
            [
             0.3333333333333333,
             "#9c179e"
            ],
            [
             0.4444444444444444,
             "#bd3786"
            ],
            [
             0.5555555555555556,
             "#d8576b"
            ],
            [
             0.6666666666666666,
             "#ed7953"
            ],
            [
             0.7777777777777778,
             "#fb9f3a"
            ],
            [
             0.8888888888888888,
             "#fdca26"
            ],
            [
             1,
             "#f0f921"
            ]
           ]
          },
          "colorway": [
           "#636efa",
           "#EF553B",
           "#00cc96",
           "#ab63fa",
           "#FFA15A",
           "#19d3f3",
           "#FF6692",
           "#B6E880",
           "#FF97FF",
           "#FECB52"
          ],
          "font": {
           "color": "#2a3f5f"
          },
          "geo": {
           "bgcolor": "white",
           "lakecolor": "white",
           "landcolor": "#E5ECF6",
           "showlakes": true,
           "showland": true,
           "subunitcolor": "white"
          },
          "hoverlabel": {
           "align": "left"
          },
          "hovermode": "closest",
          "mapbox": {
           "style": "light"
          },
          "paper_bgcolor": "white",
          "plot_bgcolor": "#E5ECF6",
          "polar": {
           "angularaxis": {
            "gridcolor": "white",
            "linecolor": "white",
            "ticks": ""
           },
           "bgcolor": "#E5ECF6",
           "radialaxis": {
            "gridcolor": "white",
            "linecolor": "white",
            "ticks": ""
           }
          },
          "scene": {
           "xaxis": {
            "backgroundcolor": "#E5ECF6",
            "gridcolor": "white",
            "gridwidth": 2,
            "linecolor": "white",
            "showbackground": true,
            "ticks": "",
            "zerolinecolor": "white"
           },
           "yaxis": {
            "backgroundcolor": "#E5ECF6",
            "gridcolor": "white",
            "gridwidth": 2,
            "linecolor": "white",
            "showbackground": true,
            "ticks": "",
            "zerolinecolor": "white"
           },
           "zaxis": {
            "backgroundcolor": "#E5ECF6",
            "gridcolor": "white",
            "gridwidth": 2,
            "linecolor": "white",
            "showbackground": true,
            "ticks": "",
            "zerolinecolor": "white"
           }
          },
          "shapedefaults": {
           "line": {
            "color": "#2a3f5f"
           }
          },
          "ternary": {
           "aaxis": {
            "gridcolor": "white",
            "linecolor": "white",
            "ticks": ""
           },
           "baxis": {
            "gridcolor": "white",
            "linecolor": "white",
            "ticks": ""
           },
           "bgcolor": "#E5ECF6",
           "caxis": {
            "gridcolor": "white",
            "linecolor": "white",
            "ticks": ""
           }
          },
          "title": {
           "x": 0.05
          },
          "xaxis": {
           "automargin": true,
           "gridcolor": "white",
           "linecolor": "white",
           "ticks": "",
           "title": {
            "standoff": 15
           },
           "zerolinecolor": "white",
           "zerolinewidth": 2
          },
          "yaxis": {
           "automargin": true,
           "gridcolor": "white",
           "linecolor": "white",
           "ticks": "",
           "title": {
            "standoff": 15
           },
           "zerolinecolor": "white",
           "zerolinewidth": 2
          }
         }
        },
        "violinmode": "group",
        "xaxis": {
         "anchor": "y",
         "domain": [
          0,
          1
         ],
         "title": {
          "text": "salary_tier"
         }
        },
        "yaxis": {
         "anchor": "x",
         "domain": [
          0,
          1
         ],
         "title": {
          "text": "games_played_efficiency_z"
         }
        }
       }
      },
      "image/png": "[encoded data removed]"
     },
     "metadata": {},
     "output_type": "display_data"
    }
   ],
   "source": [
    "fig = px.violin(\n",
    "    df,\n",
    "    x=\"salary_tier\",\n",
    "    y=\"games_played_efficiency_z\",\n",
    "    points=\"all\",\n",
    "    hover_name=\"playerName\"\n",
    ")\n",
    "fig.show()"
   ]
  },
  {
   "cell_type": "code",
   "execution_count": null,
   "id": "99f8ee68",
   "metadata": {},
   "outputs": [
    {
     "data": {
      "application/vnd.plotly.v1+json": {
       "config": {
        "plotlyServerURL": "https://plot.ly"
       },
       "data": [
        {
         "alignmentgroup": "True",
         "box": {
          "visible": false
         },
         "hovertemplate": "<b>%{hovertext}</b><br><br>salary_tier=%{x}<br>point_efficiency=%{y}<extra></extra>",
         "hovertext": [
          "Jack Williams",
          "Hudson Fasching",
          "Liam O'Brien",
          "Eric Robinson",
          "Connor Brown",
          "Dominic Toninato",
          "Rasmus Kupari",
          "Jimmy Vesey",
          "Akil Thomas",
          "Jakub Lauko",
          "Pontus Holmberg",
          "Zemgus Girgensons",
          "Mark Jankowski",
          "Jonatan Berggren",
          "Tanner Pearson",
          "David Gustafsson",
          "Luke Glendening",
          "Paul Cotter",
          "Nikolai Kovalenko",
          "Cole Koepke",
          "Nolan Foote",
          "Alex Turcotte",
          "John Beecher",
          "Arthur Kaliyev",
          "Matt Nieto",
          "Nicholas Robertson",
          "Jakob Pelletier",
          "Simon Holmstrom",
          "Tyler Motte",
          "Martin Pospisil",
          "Jonny Brodzinski",
          "Jakub Vrana",
          "Steven Lorentz",
          "Kasperi Kapanen",
          "Adam Gaudette",
          "Maxim Tsyplakov",
          "Matthew Highmore",
          "Daniel Sprong",
          "Jansen Harkins",
          "A.J. Greer",
          "Bokondji Imama",
          "Tyson Jost",
          "Parker Kelly",
          "Max Jones",
          "Elias Pettersson",
          "Tomas Nosek",
          "Taylor Raddysh",
          "Noah Gregor",
          "Nathan Walker",
          "Curtis Lazar",
          "Michael Pezzetta",
          "Michael Eyssimont",
          "Jonah Gadjovich",
          "Jaret Anderson-Dolan",
          "Jesper Boqvist",
          "Jonas Rondbjerg",
          "Nick Cousins",
          "Michael McCarron",
          "Mark Kastelic",
          "Alexander Holtz",
          "Michael Carcone",
          "Kyle MacLean",
          "Travis Boyd",
          "Zachary L'Heureux",
          "Wyatt Johnston",
          "Matt Martin",
          "Samuel Helenius",
          "Matthew Knies",
          "Mackie Samoskevich",
          "Brennan Othmann",
          "Logan Stankoven",
          "Joel Kiviranta",
          "Jeff Malott",
          "Gage Goncalves",
          "Craig Smith",
          "Trevor Lewis",
          "William Eklund",
          "Landon Slaggert",
          "Jackson Blake",
          "Logan Cooley",
          "Macklin Celebrini",
          "Matvei Michkov",
          "Will Smith",
          "Adam Fantilli",
          "Leo Carlsson",
          "Zach Benson",
          "Taylor Ward",
          "Vasily Podkolzin",
          "Marat Khusnutdinov",
          "Marc Gatcomb",
          "Emil Heineman",
          "Frank Nazar",
          "Rutger McGroarty",
          "Shane Wright",
          "Cutter Gauthier",
          "Connor Bedard",
          "Tyson Foerster",
          "Josh Doan",
          "Will Cuylle",
          "Connor Zary",
          "Marco Rossi",
          "Jake Neighbours",
          "Ridly Greig",
          "Jack Quinn",
          "Drew O'Connor",
          "Tye Kartye",
          "Marco Kasper",
          "Brett Berard",
          "Justin Dowling",
          "Cole Smith",
          "Colin Blackwell",
          "Cole Schwindt",
          "Alex Laferriere",
          "Juuso Parssinen",
          "Thomas Bordeleau",
          "Luke Evangelista",
          "Mavrik Bourque",
          "Mitchell Chaffee",
          "Dmitri Voronkov",
          "Sam Carrick",
          "Kevin Stenlund",
          "Anthony Beauvillier",
          "Keegan Kolesar",
          "Bobby Brink",
          "Kevin Rooney",
          "Nils Hoglander",
          "Ryan Poehling",
          "Carl Grundstrom",
          "Sam Steel",
          "Brett Howden",
          "Noel Acciari",
          "Ryan Lomberg",
          "Beck Malenstyn",
          "Kiefer Sherwood",
          "Pavel Dorofeyev",
          "Kent Johnson",
          "Pius Suter",
          "Bobby McMann",
          "Morgan Barron",
          "Jack McBain",
          "Isac Lundestrom",
          "Jack Drury",
          "Brett Leason",
          "Brandon Duhaime",
          "Connor Dewar",
          "Fabian Zetterlund",
          "Ty Dellandrea",
          "Christian Fischer",
          "Mathieu Olivier",
          "Marcus Johansson",
          "Corey Perry",
          "Klim Kostin",
          "Victor Olofsson",
          "Peyton Krebs",
          "Blake Lizotte",
          "Nathan Bastian",
          "Justin Danforth",
          "Jake Evans",
          "Logan O'Connor",
          "Nic Dowd",
          "Nico Sturm",
          "Nicolas Aube-Kubel",
          "Morgan Geekie",
          "Ross Johnston",
          "Brandon Saad",
          "Ryan Donato",
          "Tomas Tatar",
          "Mattias Janmark",
          "Sam Lafferty",
          "Lukas Reichel",
          "Ryan Reaves",
          "Oskar Sundqvist",
          "Patrick Maroon",
          "Vladislav Namestnikov",
          "William Carrier",
          "Nicolas Deslauriers",
          "Joe Veleno",
          "Jeff Skinner",
          "Philipp Kurashev",
          "Dylan Holloway",
          "Frederick Gaudreau",
          "Garnet Hathaway",
          "Sean Kuraly",
          "Alex Newhook",
          "Luke Kunin",
          "Nick Bjugstad",
          "Morgan Frost",
          "Kaapo Kakko",
          "Cody Glass",
          "Stefan Noesen",
          "Scott Laughton",
          "Colton Sissons",
          "Alexandre Texier",
          "David Kampf",
          "Jonathan Drouin",
          "Alexis Lafrenière",
          "Calle Jarnkrok",
          "Eetu Luostarinen",
          "Jordan Staal",
          "Noah Cates",
          "Mathieu Joseph",
          "Tanner Jeannot",
          "Connor McMichael",
          "Jordan Greenway",
          "Lars Eller",
          "Jack Roslovic",
          "Nicolas Roy",
          "Michael Amadio",
          "Evgenii Dadonov",
          "Pierre Engvall",
          "Trent Frederic",
          "Evan Rodrigues",
          "Adam Henrique",
          "Yegor Chinakhov",
          "Mason Appleton",
          "Danton Heinen",
          "Casey Cizikas",
          "Barrett Hayton",
          "Ryan McLeod",
          "Cole Sillinger",
          "Matt Duchene",
          "Eeli Tolvanen",
          "Ryan Hartman",
          "Yegor Sharangovich",
          "Barclay Goodrow",
          "Anthony Duclair",
          "Dakota Joshua",
          "David Perron",
          "Viktor Arvidsson",
          "Patrick Kane",
          "Joel Armia",
          "Jordan Martinook",
          "Radek Faksa",
          "Warren Foegele",
          "Kirill Marchenko",
          "Alex Iafallo",
          "Frank Vatrano",
          "Cole Perfetti",
          "Aliaksei Protas",
          "Brandon Tanev",
          "Dawson Mercer",
          "Marcus Foligno",
          "Nino Niederreiter",
          "Yakov Trenin",
          "Erik Haula",
          "Gustav Nyquist",
          "Max Domi",
          "Alexander Kerfoot",
          "Shane Pinto",
          "Boone Jenner",
          "Michael Rasmussen",
          "Matias Maccelli",
          "Ross Colton",
          "Nick Foligno",
          "Ryan Strome",
          "Rickard Rakell",
          "Jason Zucker",
          "Anton Lundell",
          "Kyle Palmieri",
          "Vladimir Tarasenko",
          "Jean-Gabriel Pageau",
          "Jesperi Kotkaniemi",
          "Mikael Granlund",
          "Jordan Eberle",
          "Ryan O'Reilly",
          "Ilya Mikheyev",
          "Michael Bunting",
          "Blake Coleman",
          "Reilly Smith",
          "Mikael Backlund",
          "Filip Chytil",
          "Jason Dickinson",
          "Dylan Strome",
          "Sam Bennett",
          "Alex Tuch",
          "Joel Farabee",
          "Jared McCann",
          "Ivan Barbashev",
          "Lawson Crouse",
          "Conor Garland",
          "Alexander Wennberg",
          "Christian Dvorak",
          "Carter Verhaeghe",
          "Pavel Zacha",
          "Trevor Moore",
          "Mason Marchment",
          "Drake Batherson",
          "Sean Monahan",
          "Travis Konecny",
          "Vincent Trocheck",
          "Jaden Schwartz",
          "Bryan Rust",
          "Zach Hyman",
          "Jake DeBrusk",
          "Ondrej Palat",
          "Charlie Coyle",
          "Tyler Toffoli",
          "William Karlsson",
          "Nick Schmaltz",
          "Adrian Kempe",
          "Brock Nelson",
          "Pavel Buchnevich",
          "Andrew Mangiapane",
          "Yanni Gourde",
          "Andrei Kuzmenko",
          "Josh Anderson",
          "Nikolaj Ehlers",
          "Taylor Hall",
          "Phillip Danault",
          "Teuvo Teravainen",
          "Ryan Nugent-Hopkins",
          "Trevor Zegras",
          "Casey Mittelstadt",
          "Oliver Bjorkstrand",
          "Andre Burakovsky",
          "Tyler Bertuzzi",
          "Jonathan Marchessault",
          "Brendan Gallagher",
          "Nazem Kadri",
          "Martin Necas",
          "Owen Tippett",
          "Chris Kreider",
          "Claude Giroux",
          "Anders Lee",
          "Anze Kopitar",
          "Chandler Stephenson",
          "Brock Boeser",
          "Brandon Hagel",
          "Valeri Nichushkin",
          "Brad Marchand",
          "Quinton Byfield",
          "Anthony Cirelli",
          "Brayden Schenn",
          "Kevin Fiala",
          "Jason Robertson",
          "Josh Norris",
          "Cole Caufield",
          "Nick Suzuki",
          "Kyle Connor",
          "Steven Stamkos",
          "Kevin Hayes",
          "Andrei Svechnikov",
          "Clayton Keller",
          "Seth Jarvis",
          "Sean Couturier",
          "Dylan Cozens",
          "J.T. Miller",
          "Tage Thompson",
          "Jesper Bratt",
          "Elias Lindholm",
          "Nico Hischier",
          "Pierre-Luc Dubois",
          "Tim Stützle",
          "Roope Hintz",
          "Brady Tkachuk",
          "Bo Horvat",
          "Patrik Laine",
          "Jordan Kyrou",
          "Mika Zibanejad",
          "Filip Forsberg",
          "Mark Scheifele",
          "Sam Reinhart",
          "Dylan Larkin",
          "Kirill Kaprizov",
          "Sidney Crosby",
          "Lucas Raymond",
          "Timo Meier",
          "Leon Draisaitl",
          "Tomas Hertl",
          "Jake Guentzel",
          "Robert Thomas",
          "Mark Stone",
          "Nikita Kucherov",
          "Jamie Benn",
          "Alex Ovechkin",
          "Jack Eichel",
          "Sebastian Aho",
          "Aleksander Barkov",
          "Tyler Seguin",
          "Mikko Rantanen",
          "Brayden Point",
          "Jonathan Huberdeau",
          "Connor McDavid",
          "Nathan MacKinnon",
          "Auston Matthews",
          "David Pastrnak",
          "Elias Pettersson",
          "William Nylander",
          "Artemi Panarin"
         ],
         "legendgroup": "",
         "marker": {
          "color": "#636efa"
         },
         "name": "",
         "offsetgroup": "",
         "orientation": "v",
         "points": "all",
         "scalegroup": "True",
         "showlegend": false,
         "type": "violin",
         "x": [
          "1M",
          "1M",
          "1M",
          "1M",
          "1M",
          "1M",
          "1M",
          "1M",
          "1M",
          "1M",
          "1M",
          "1M",
          "1M",
          "1M",
          "1M",
          "1M",
          "1M",
          "1M",
          "1M",
          "1M",
          "1M",
          "1M",
          "1M",
          "1M",
          "1M",
          "1M",
          "1M",
          "1M",
          "1M",
          "1M",
          "1M",
          "1M",
          "1M",
          "1M",
          "1M",
          "1M",
          "1M",
          "1M",
          "1M",
          "1M",
          "1M",
          "1M",
          "1M",
          "1M",
          "1M",
          "1M",
          "1M",
          "1M",
          "1M",
          "1M",
          "1M",
          "1M",
          "1M",
          "1M",
          "1M",
          "1M",
          "1M",
          "1M",
          "1M",
          "1M",
          "1M",
          "1M",
          "1M",
          "1M",
          "1M",
          "1M",
          "1M",
          "1M",
          "1M",
          "1M",
          "1M",
          "1M",
          "1M",
          "1M",
          "1M",
          "1M",
          "1M",
          "1M",
          "1M",
          "1M",
          "1M",
          "1M",
          "1M",
          "1M",
          "1M",
          "1M",
          "1M",
          "1M",
          "1M",
          "1M",
          "1M",
          "1M",
          "1M",
          "1M",
          "1M",
          "1M",
          "1M",
          "1M",
          "1M",
          "1M",
          "1M",
          "1M",
          "1M",
          "1M",
          "1M",
          "1M",
          "1M",
          "1M",
          "1M",
          "1M",
          "1M",
          "1M",
          "1M",
          "1M",
          "1M",
          "1M",
          "1M",
          "1M",
          "1M",
          "1M",
          "2M",
          "2M",
          "2M",
          "2M",
          "2M",
          "2M",
          "2M",
          "2M",
          "2M",
          "2M",
          "2M",
          "2M",
          "2M",
          "2M",
          "2M",
          "2M",
          "2M",
          "2M",
          "2M",
          "2M",
          "2M",
          "2M",
          "2M",
          "2M",
          "2M",
          "2M",
          "2M",
          "2M",
          "2M",
          "2M",
          "2M",
          "2M",
          "2M",
          "2M",
          "2M",
          "2M",
          "2M",
          "2M",
          "2M",
          "2M",
          "2M",
          "2M",
          "2M",
          "2M",
          "2M",
          "2M",
          "2M",
          "2M",
          "2M",
          "2M",
          "2M",
          "2M",
          "2M",
          "2M",
          "2M",
          "2M",
          "3M",
          "3M",
          "3M",
          "3M",
          "3M",
          "3M",
          "3M",
          "3M",
          "3M",
          "3M",
          "3M",
          "3M",
          "3M",
          "3M",
          "3M",
          "3M",
          "3M",
          "3M",
          "3M",
          "3M",
          "3M",
          "3M",
          "3M",
          "3M",
          "3M",
          "3M",
          "3M",
          "3M",
          "3M",
          "3M",
          "3M",
          "3M",
          "3M",
          "3M",
          "3M",
          "3M",
          "3M",
          "3M",
          "3M",
          "3M",
          "3M",
          "3M",
          "3M",
          "3M",
          "3M",
          "4M",
          "4M",
          "4M",
          "4M",
          "4M",
          "4M",
          "4M",
          "4M",
          "4M",
          "4M",
          "4M",
          "4M",
          "4M",
          "4M",
          "4M",
          "4M",
          "4M",
          "4M",
          "4M",
          "4M",
          "4M",
          "4M",
          "4M",
          "4M",
          "4M",
          "4M",
          "4M",
          "4M",
          "4M",
          "4M",
          "4M",
          "4M",
          "5M",
          "5M",
          "5M",
          "5M",
          "5M",
          "5M",
          "5M",
          "5M",
          "5M",
          "5M",
          "5M",
          "5M",
          "5M",
          "5M",
          "5M",
          "5M",
          "5M",
          "5M",
          "5M",
          "5M",
          "5M",
          "5M",
          "5M",
          "5M",
          "5M",
          "5M",
          "5M",
          "5M",
          "5M",
          "5M",
          "5M",
          "5M",
          "5M",
          "5M",
          "6M",
          "6M",
          "6M",
          "6M",
          "6M",
          "6M",
          "6M",
          "6M",
          "6M",
          "6M",
          "6M",
          "6M",
          "6M",
          "6M",
          "6M",
          "6M",
          "6M",
          "6M",
          "6M",
          "6M",
          "6M",
          "6M",
          "6M",
          "6M",
          "6M",
          "6M",
          "6M",
          "6M",
          "6M",
          "6M",
          "7M",
          "7M",
          "7M",
          "7M",
          "7M",
          "7M",
          "7M",
          "7M",
          "7M",
          "7M",
          "7M",
          "7M",
          "7M",
          "7M",
          "7M",
          "7M",
          "8M",
          "8M",
          "8M",
          "8M",
          "8M",
          "8M",
          "8M",
          "8M",
          "8M",
          "8M",
          "8M",
          "8M",
          "8M",
          "8M",
          "8M",
          "8M",
          "8M",
          "8M",
          "9M",
          "9M",
          "9M",
          "9M",
          "9M",
          "9M",
          "9M",
          "9M",
          "9M",
          "9M",
          "9M",
          "9M",
          "9M",
          "9M",
          "9M",
          "9M",
          "9M",
          "9M",
          "9M",
          "9M",
          "10M",
          "10M",
          "10M",
          "10M",
          "10M",
          "10M",
          "10M",
          "10M",
          "10M",
          "10M",
          ">10M",
          ">10M",
          ">10M",
          ">10M",
          ">10M",
          ">10M",
          ">10M",
          ">10M"
         ],
         "x0": " ",
         "xaxis": "x",
         "y": {
          "bdata": "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",
          "dtype": "f8"
         },
         "y0": " ",
         "yaxis": "y"
        }
       ],
       "layout": {
        "legend": {
         "tracegroupgap": 0
        },
        "margin": {
         "t": 60
        },
        "template": {
         "data": {
          "bar": [
           {
            "error_x": {
             "color": "#2a3f5f"
            },
            "error_y": {
             "color": "#2a3f5f"
            },
            "marker": {
             "line": {
              "color": "#E5ECF6",
              "width": 0.5
             },
             "pattern": {
              "fillmode": "overlay",
              "size": 10,
              "solidity": 0.2
             }
            },
            "type": "bar"
           }
          ],
          "barpolar": [
           {
            "marker": {
             "line": {
              "color": "#E5ECF6",
              "width": 0.5
             },
             "pattern": {
              "fillmode": "overlay",
              "size": 10,
              "solidity": 0.2
             }
            },
            "type": "barpolar"
           }
          ],
          "carpet": [
           {
            "aaxis": {
             "endlinecolor": "#2a3f5f",
             "gridcolor": "white",
             "linecolor": "white",
             "minorgridcolor": "white",
             "startlinecolor": "#2a3f5f"
            },
            "baxis": {
             "endlinecolor": "#2a3f5f",
             "gridcolor": "white",
             "linecolor": "white",
             "minorgridcolor": "white",
             "startlinecolor": "#2a3f5f"
            },
            "type": "carpet"
           }
          ],
          "choropleth": [
           {
            "colorbar": {
             "outlinewidth": 0,
             "ticks": ""
            },
            "type": "choropleth"
           }
          ],
          "contour": [
           {
            "colorbar": {
             "outlinewidth": 0,
             "ticks": ""
            },
            "colorscale": [
             [
              0,
              "#0d0887"
             ],
             [
              0.1111111111111111,
              "#46039f"
             ],
             [
              0.2222222222222222,
              "#7201a8"
             ],
             [
              0.3333333333333333,
              "#9c179e"
             ],
             [
              0.4444444444444444,
              "#bd3786"
             ],
             [
              0.5555555555555556,
              "#d8576b"
             ],
             [
              0.6666666666666666,
              "#ed7953"
             ],
             [
              0.7777777777777778,
              "#fb9f3a"
             ],
             [
              0.8888888888888888,
              "#fdca26"
             ],
             [
              1,
              "#f0f921"
             ]
            ],
            "type": "contour"
           }
          ],
          "contourcarpet": [
           {
            "colorbar": {
             "outlinewidth": 0,
             "ticks": ""
            },
            "type": "contourcarpet"
           }
          ],
          "heatmap": [
           {
            "colorbar": {
             "outlinewidth": 0,
             "ticks": ""
            },
            "colorscale": [
             [
              0,
              "#0d0887"
             ],
             [
              0.1111111111111111,
              "#46039f"
             ],
             [
              0.2222222222222222,
              "#7201a8"
             ],
             [
              0.3333333333333333,
              "#9c179e"
             ],
             [
              0.4444444444444444,
              "#bd3786"
             ],
             [
              0.5555555555555556,
              "#d8576b"
             ],
             [
              0.6666666666666666,
              "#ed7953"
             ],
             [
              0.7777777777777778,
              "#fb9f3a"
             ],
             [
              0.8888888888888888,
              "#fdca26"
             ],
             [
              1,
              "#f0f921"
             ]
            ],
            "type": "heatmap"
           }
          ],
          "histogram": [
           {
            "marker": {
             "pattern": {
              "fillmode": "overlay",
              "size": 10,
              "solidity": 0.2
             }
            },
            "type": "histogram"
           }
          ],
          "histogram2d": [
           {
            "colorbar": {
             "outlinewidth": 0,
             "ticks": ""
            },
            "colorscale": [
             [
              0,
              "#0d0887"
             ],
             [
              0.1111111111111111,
              "#46039f"
             ],
             [
              0.2222222222222222,
              "#7201a8"
             ],
             [
              0.3333333333333333,
              "#9c179e"
             ],
             [
              0.4444444444444444,
              "#bd3786"
             ],
             [
              0.5555555555555556,
              "#d8576b"
             ],
             [
              0.6666666666666666,
              "#ed7953"
             ],
             [
              0.7777777777777778,
              "#fb9f3a"
             ],
             [
              0.8888888888888888,
              "#fdca26"
             ],
             [
              1,
              "#f0f921"
             ]
            ],
            "type": "histogram2d"
           }
          ],
          "histogram2dcontour": [
           {
            "colorbar": {
             "outlinewidth": 0,
             "ticks": ""
            },
            "colorscale": [
             [
              0,
              "#0d0887"
             ],
             [
              0.1111111111111111,
              "#46039f"
             ],
             [
              0.2222222222222222,
              "#7201a8"
             ],
             [
              0.3333333333333333,
              "#9c179e"
             ],
             [
              0.4444444444444444,
              "#bd3786"
             ],
             [
              0.5555555555555556,
              "#d8576b"
             ],
             [
              0.6666666666666666,
              "#ed7953"
             ],
             [
              0.7777777777777778,
              "#fb9f3a"
             ],
             [
              0.8888888888888888,
              "#fdca26"
             ],
             [
              1,
              "#f0f921"
             ]
            ],
            "type": "histogram2dcontour"
           }
          ],
          "mesh3d": [
           {
            "colorbar": {
             "outlinewidth": 0,
             "ticks": ""
            },
            "type": "mesh3d"
           }
          ],
          "parcoords": [
           {
            "line": {
             "colorbar": {
              "outlinewidth": 0,
              "ticks": ""
             }
            },
            "type": "parcoords"
           }
          ],
          "pie": [
           {
            "automargin": true,
            "type": "pie"
           }
          ],
          "scatter": [
           {
            "fillpattern": {
             "fillmode": "overlay",
             "size": 10,
             "solidity": 0.2
            },
            "type": "scatter"
           }
          ],
          "scatter3d": [
           {
            "line": {
             "colorbar": {
              "outlinewidth": 0,
              "ticks": ""
             }
            },
            "marker": {
             "colorbar": {
              "outlinewidth": 0,
              "ticks": ""
             }
            },
            "type": "scatter3d"
           }
          ],
          "scattercarpet": [
           {
            "marker": {
             "colorbar": {
              "outlinewidth": 0,
              "ticks": ""
             }
            },
            "type": "scattercarpet"
           }
          ],
          "scattergeo": [
           {
            "marker": {
             "colorbar": {
              "outlinewidth": 0,
              "ticks": ""
             }
            },
            "type": "scattergeo"
           }
          ],
          "scattergl": [
           {
            "marker": {
             "colorbar": {
              "outlinewidth": 0,
              "ticks": ""
             }
            },
            "type": "scattergl"
           }
          ],
          "scattermap": [
           {
            "marker": {
             "colorbar": {
              "outlinewidth": 0,
              "ticks": ""
             }
            },
            "type": "scattermap"
           }
          ],
          "scattermapbox": [
           {
            "marker": {
             "colorbar": {
              "outlinewidth": 0,
              "ticks": ""
             }
            },
            "type": "scattermapbox"
           }
          ],
          "scatterpolar": [
           {
            "marker": {
             "colorbar": {
              "outlinewidth": 0,
              "ticks": ""
             }
            },
            "type": "scatterpolar"
           }
          ],
          "scatterpolargl": [
           {
            "marker": {
             "colorbar": {
              "outlinewidth": 0,
              "ticks": ""
             }
            },
            "type": "scatterpolargl"
           }
          ],
          "scatterternary": [
           {
            "marker": {
             "colorbar": {
              "outlinewidth": 0,
              "ticks": ""
             }
            },
            "type": "scatterternary"
           }
          ],
          "surface": [
           {
            "colorbar": {
             "outlinewidth": 0,
             "ticks": ""
            },
            "colorscale": [
             [
              0,
              "#0d0887"
             ],
             [
              0.1111111111111111,
              "#46039f"
             ],
             [
              0.2222222222222222,
              "#7201a8"
             ],
             [
              0.3333333333333333,
              "#9c179e"
             ],
             [
              0.4444444444444444,
              "#bd3786"
             ],
             [
              0.5555555555555556,
              "#d8576b"
             ],
             [
              0.6666666666666666,
              "#ed7953"
             ],
             [
              0.7777777777777778,
              "#fb9f3a"
             ],
             [
              0.8888888888888888,
              "#fdca26"
             ],
             [
              1,
              "#f0f921"
             ]
            ],
            "type": "surface"
           }
          ],
          "table": [
           {
            "cells": {
             "fill": {
              "color": "#EBF0F8"
             },
             "line": {
              "color": "white"
             }
            },
            "header": {
             "fill": {
              "color": "#C8D4E3"
             },
             "line": {
              "color": "white"
             }
            },
            "type": "table"
           }
          ]
         },
         "layout": {
          "annotationdefaults": {
           "arrowcolor": "#2a3f5f",
           "arrowhead": 0,
           "arrowwidth": 1
          },
          "autotypenumbers": "strict",
          "coloraxis": {
           "colorbar": {
            "outlinewidth": 0,
            "ticks": ""
           }
          },
          "colorscale": {
           "diverging": [
            [
             0,
             "#8e0152"
            ],
            [
             0.1,
             "#c51b7d"
            ],
            [
             0.2,
             "#de77ae"
            ],
            [
             0.3,
             "#f1b6da"
            ],
            [
             0.4,
             "#fde0ef"
            ],
            [
             0.5,
             "#f7f7f7"
            ],
            [
             0.6,
             "#e6f5d0"
            ],
            [
             0.7,
             "#b8e186"
            ],
            [
             0.8,
             "#7fbc41"
            ],
            [
             0.9,
             "#4d9221"
            ],
            [
             1,
             "#276419"
            ]
           ],
           "sequential": [
            [
             0,
             "#0d0887"
            ],
            [
             0.1111111111111111,
             "#46039f"
            ],
            [
             0.2222222222222222,
             "#7201a8"
            ],
            [
             0.3333333333333333,
             "#9c179e"
            ],
            [
             0.4444444444444444,
             "#bd3786"
            ],
            [
             0.5555555555555556,
             "#d8576b"
            ],
            [
             0.6666666666666666,
             "#ed7953"
            ],
            [
             0.7777777777777778,
             "#fb9f3a"
            ],
            [
             0.8888888888888888,
             "#fdca26"
            ],
            [
             1,
             "#f0f921"
            ]
           ],
           "sequentialminus": [
            [
             0,
             "#0d0887"
            ],
            [
             0.1111111111111111,
             "#46039f"
            ],
            [
             0.2222222222222222,
             "#7201a8"
            ],
            [
             0.3333333333333333,
             "#9c179e"
            ],
            [
             0.4444444444444444,
             "#bd3786"
            ],
            [
             0.5555555555555556,
             "#d8576b"
            ],
            [
             0.6666666666666666,
             "#ed7953"
            ],
            [
             0.7777777777777778,
             "#fb9f3a"
            ],
            [
             0.8888888888888888,
             "#fdca26"
            ],
            [
             1,
             "#f0f921"
            ]
           ]
          },
          "colorway": [
           "#636efa",
           "#EF553B",
           "#00cc96",
           "#ab63fa",
           "#FFA15A",
           "#19d3f3",
           "#FF6692",
           "#B6E880",
           "#FF97FF",
           "#FECB52"
          ],
          "font": {
           "color": "#2a3f5f"
          },
          "geo": {
           "bgcolor": "white",
           "lakecolor": "white",
           "landcolor": "#E5ECF6",
           "showlakes": true,
           "showland": true,
           "subunitcolor": "white"
          },
          "hoverlabel": {
           "align": "left"
          },
          "hovermode": "closest",
          "mapbox": {
           "style": "light"
          },
          "paper_bgcolor": "white",
          "plot_bgcolor": "#E5ECF6",
          "polar": {
           "angularaxis": {
            "gridcolor": "white",
            "linecolor": "white",
            "ticks": ""
           },
           "bgcolor": "#E5ECF6",
           "radialaxis": {
            "gridcolor": "white",
            "linecolor": "white",
            "ticks": ""
           }
          },
          "scene": {
           "xaxis": {
            "backgroundcolor": "#E5ECF6",
            "gridcolor": "white",
            "gridwidth": 2,
            "linecolor": "white",
            "showbackground": true,
            "ticks": "",
            "zerolinecolor": "white"
           },
           "yaxis": {
            "backgroundcolor": "#E5ECF6",
            "gridcolor": "white",
            "gridwidth": 2,
            "linecolor": "white",
            "showbackground": true,
            "ticks": "",
            "zerolinecolor": "white"
           },
           "zaxis": {
            "backgroundcolor": "#E5ECF6",
            "gridcolor": "white",
            "gridwidth": 2,
            "linecolor": "white",
            "showbackground": true,
            "ticks": "",
            "zerolinecolor": "white"
           }
          },
          "shapedefaults": {
           "line": {
            "color": "#2a3f5f"
           }
          },
          "ternary": {
           "aaxis": {
            "gridcolor": "white",
            "linecolor": "white",
            "ticks": ""
           },
           "baxis": {
            "gridcolor": "white",
            "linecolor": "white",
            "ticks": ""
           },
           "bgcolor": "#E5ECF6",
           "caxis": {
            "gridcolor": "white",
            "linecolor": "white",
            "ticks": ""
           }
          },
          "title": {
           "x": 0.05
          },
          "xaxis": {
           "automargin": true,
           "gridcolor": "white",
           "linecolor": "white",
           "ticks": "",
           "title": {
            "standoff": 15
           },
           "zerolinecolor": "white",
           "zerolinewidth": 2
          },
          "yaxis": {
           "automargin": true,
           "gridcolor": "white",
           "linecolor": "white",
           "ticks": "",
           "title": {
            "standoff": 15
           },
           "zerolinecolor": "white",
           "zerolinewidth": 2
          }
         }
        },
        "violinmode": "group",
        "xaxis": {
         "anchor": "y",
         "domain": [
          0,
          1
         ],
         "title": {
          "text": "salary_tier"
         }
        },
        "yaxis": {
         "anchor": "x",
         "domain": [
          0,
          1
         ],
         "title": {
          "text": "point_efficiency"
         }
        }
       }
      },
      "image/png": "[encoded data removed]"
     },
     "metadata": {},
     "output_type": "display_data"
    }
   ],
   "source": [
    "fig = px.violin(\n",
    "    df,\n",
    "    x=\"salary_tier\",\n",
    "    y=\"point_efficiency\",\n",
    "    points=\"all\",\n",
    "    hover_name=\"playerName\"\n",
    ")\n",
    "fig.show()"
   ]
  },
  {
   "cell_type": "code",
   "execution_count": null,
   "id": "1478b6eb",
   "metadata": {},
   "outputs": [],
   "source": [
    "# # Missing players due to IR/LTIR\n",
    "# df[df[\"capHit\"].isna()].sort_values(by=[\"age\"], ascending=[False]).iloc[:20,:]"
   ]
  }
 ],
 "metadata": {
  "kernelspec": {
   "display_name": "3.13.2",
   "language": "python",
   "name": "python3"
  },
  "language_info": {
   "codemirror_mode": {
    "name": "ipython",
    "version": 3
   },
   "file_extension": ".py",
   "mimetype": "text/x-python",
   "name": "python",
   "nbconvert_exporter": "python",
   "pygments_lexer": "ipython3",
   "version": "3.13.2"
  }
 },
 "nbformat": 4,
 "nbformat_minor": 5
}
