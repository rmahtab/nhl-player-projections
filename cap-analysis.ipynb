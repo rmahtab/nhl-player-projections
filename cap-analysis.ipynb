{
 "cells": [
  {
   "cell_type": "code",
   "execution_count": 1,
   "id": "c472b430",
   "metadata": {},
   "outputs": [],
   "source": [
    "from common import *"
   ]
  },
  {
   "cell_type": "code",
   "execution_count": 2,
   "id": "4f34d8ef",
   "metadata": {},
   "outputs": [
    {
     "data": {
      "text/html": [
       "<div>\n",
       "<style scoped>\n",
       "    .dataframe tbody tr th:only-of-type {\n",
       "        vertical-align: middle;\n",
       "    }\n",
       "\n",
       "    .dataframe tbody tr th {\n",
       "        vertical-align: top;\n",
       "    }\n",
       "\n",
       "    .dataframe thead th {\n",
       "        text-align: right;\n",
       "    }\n",
       "</style>\n",
       "<table border=\"1\" class=\"dataframe\">\n",
       "  <thead>\n",
       "    <tr style=\"text-align: right;\">\n",
       "      <th></th>\n",
       "      <th>playerId</th>\n",
       "      <th>season</th>\n",
       "      <th>team</th>\n",
       "      <th>playerName</th>\n",
       "      <th>age</th>\n",
       "      <th>gamesPlayed</th>\n",
       "      <th>goals</th>\n",
       "      <th>assists</th>\n",
       "      <th>points</th>\n",
       "      <th>plusMinus</th>\n",
       "      <th>pim</th>\n",
       "      <th>powerPlayPoints</th>\n",
       "      <th>shots</th>\n",
       "      <th>totalToi</th>\n",
       "      <th>avgToi</th>\n",
       "      <th>yoe</th>\n",
       "      <th>seasonLength</th>\n",
       "      <th>gpa</th>\n",
       "      <th>g/60</th>\n",
       "      <th>a/60</th>\n",
       "      <th>p/60</th>\n",
       "      <th>s/60</th>\n",
       "      <th>ppp/60</th>\n",
       "    </tr>\n",
       "  </thead>\n",
       "  <tbody>\n",
       "    <tr>\n",
       "      <th>19</th>\n",
       "      <td>8470621</td>\n",
       "      <td>20242025</td>\n",
       "      <td>[Edmonton Oilers]</td>\n",
       "      <td>Corey Perry</td>\n",
       "      <td>39</td>\n",
       "      <td>81</td>\n",
       "      <td>19.0</td>\n",
       "      <td>11.0</td>\n",
       "      <td>30</td>\n",
       "      <td>12.0</td>\n",
       "      <td>61.0</td>\n",
       "      <td>7.0</td>\n",
       "      <td>100.0</td>\n",
       "      <td>966.600000</td>\n",
       "      <td>11.933333</td>\n",
       "      <td>20</td>\n",
       "      <td>82.0</td>\n",
       "      <td>0.987805</td>\n",
       "      <td>1.179392</td>\n",
       "      <td>0.682806</td>\n",
       "      <td>1.862197</td>\n",
       "      <td>6.207325</td>\n",
       "      <td>0.434513</td>\n",
       "    </tr>\n",
       "    <tr>\n",
       "      <th>39</th>\n",
       "      <td>8471214</td>\n",
       "      <td>20242025</td>\n",
       "      <td>[Washington Capitals]</td>\n",
       "      <td>Alex Ovechkin</td>\n",
       "      <td>39</td>\n",
       "      <td>65</td>\n",
       "      <td>44.0</td>\n",
       "      <td>29.0</td>\n",
       "      <td>73</td>\n",
       "      <td>15.0</td>\n",
       "      <td>14.0</td>\n",
       "      <td>22.0</td>\n",
       "      <td>237.0</td>\n",
       "      <td>1151.583333</td>\n",
       "      <td>17.716667</td>\n",
       "      <td>20</td>\n",
       "      <td>82.0</td>\n",
       "      <td>0.792683</td>\n",
       "      <td>2.292496</td>\n",
       "      <td>1.510963</td>\n",
       "      <td>3.803459</td>\n",
       "      <td>12.348216</td>\n",
       "      <td>1.146248</td>\n",
       "    </tr>\n",
       "    <tr>\n",
       "      <th>58</th>\n",
       "      <td>8471215</td>\n",
       "      <td>20242025</td>\n",
       "      <td>[Pittsburgh Penguins]</td>\n",
       "      <td>Evgeni Malkin</td>\n",
       "      <td>38</td>\n",
       "      <td>68</td>\n",
       "      <td>16.0</td>\n",
       "      <td>34.0</td>\n",
       "      <td>50</td>\n",
       "      <td>-24.0</td>\n",
       "      <td>42.0</td>\n",
       "      <td>16.0</td>\n",
       "      <td>125.0</td>\n",
       "      <td>1209.266667</td>\n",
       "      <td>17.783333</td>\n",
       "      <td>19</td>\n",
       "      <td>82.0</td>\n",
       "      <td>0.829268</td>\n",
       "      <td>0.793870</td>\n",
       "      <td>1.686973</td>\n",
       "      <td>2.480842</td>\n",
       "      <td>6.202106</td>\n",
       "      <td>0.793870</td>\n",
       "    </tr>\n",
       "    <tr>\n",
       "      <th>78</th>\n",
       "      <td>8471675</td>\n",
       "      <td>20242025</td>\n",
       "      <td>[Pittsburgh Penguins]</td>\n",
       "      <td>Sidney Crosby</td>\n",
       "      <td>37</td>\n",
       "      <td>80</td>\n",
       "      <td>33.0</td>\n",
       "      <td>58.0</td>\n",
       "      <td>91</td>\n",
       "      <td>-20.0</td>\n",
       "      <td>31.0</td>\n",
       "      <td>27.0</td>\n",
       "      <td>227.0</td>\n",
       "      <td>1629.333333</td>\n",
       "      <td>20.366667</td>\n",
       "      <td>20</td>\n",
       "      <td>82.0</td>\n",
       "      <td>0.975610</td>\n",
       "      <td>1.215221</td>\n",
       "      <td>2.135843</td>\n",
       "      <td>3.351064</td>\n",
       "      <td>8.359247</td>\n",
       "      <td>0.994272</td>\n",
       "    </tr>\n",
       "    <tr>\n",
       "      <th>97</th>\n",
       "      <td>8471685</td>\n",
       "      <td>20242025</td>\n",
       "      <td>[Los Angeles Kings]</td>\n",
       "      <td>Anze Kopitar</td>\n",
       "      <td>37</td>\n",
       "      <td>81</td>\n",
       "      <td>21.0</td>\n",
       "      <td>46.0</td>\n",
       "      <td>67</td>\n",
       "      <td>14.0</td>\n",
       "      <td>4.0</td>\n",
       "      <td>22.0</td>\n",
       "      <td>98.0</td>\n",
       "      <td>1534.950000</td>\n",
       "      <td>18.950000</td>\n",
       "      <td>19</td>\n",
       "      <td>82.0</td>\n",
       "      <td>0.987805</td>\n",
       "      <td>0.820874</td>\n",
       "      <td>1.798104</td>\n",
       "      <td>2.618978</td>\n",
       "      <td>3.830744</td>\n",
       "      <td>0.859963</td>\n",
       "    </tr>\n",
       "    <tr>\n",
       "      <th>...</th>\n",
       "      <td>...</td>\n",
       "      <td>...</td>\n",
       "      <td>...</td>\n",
       "      <td>...</td>\n",
       "      <td>...</td>\n",
       "      <td>...</td>\n",
       "      <td>...</td>\n",
       "      <td>...</td>\n",
       "      <td>...</td>\n",
       "      <td>...</td>\n",
       "      <td>...</td>\n",
       "      <td>...</td>\n",
       "      <td>...</td>\n",
       "      <td>...</td>\n",
       "      <td>...</td>\n",
       "      <td>...</td>\n",
       "      <td>...</td>\n",
       "      <td>...</td>\n",
       "      <td>...</td>\n",
       "      <td>...</td>\n",
       "      <td>...</td>\n",
       "      <td>...</td>\n",
       "      <td>...</td>\n",
       "    </tr>\n",
       "    <tr>\n",
       "      <th>3654</th>\n",
       "      <td>8484958</td>\n",
       "      <td>20242025</td>\n",
       "      <td>[New York Islanders]</td>\n",
       "      <td>Maxim Tsyplakov</td>\n",
       "      <td>26</td>\n",
       "      <td>77</td>\n",
       "      <td>10.0</td>\n",
       "      <td>25.0</td>\n",
       "      <td>35</td>\n",
       "      <td>4.0</td>\n",
       "      <td>39.0</td>\n",
       "      <td>3.0</td>\n",
       "      <td>116.0</td>\n",
       "      <td>1152.433333</td>\n",
       "      <td>14.966667</td>\n",
       "      <td>1</td>\n",
       "      <td>82.0</td>\n",
       "      <td>0.939024</td>\n",
       "      <td>0.520637</td>\n",
       "      <td>1.301594</td>\n",
       "      <td>1.822231</td>\n",
       "      <td>6.039395</td>\n",
       "      <td>0.156191</td>\n",
       "    </tr>\n",
       "    <tr>\n",
       "      <th>3655</th>\n",
       "      <td>8484984</td>\n",
       "      <td>20242025</td>\n",
       "      <td>[Montréal Canadiens]</td>\n",
       "      <td>Ivan Demidov</td>\n",
       "      <td>19</td>\n",
       "      <td>2</td>\n",
       "      <td>1.0</td>\n",
       "      <td>1.0</td>\n",
       "      <td>2</td>\n",
       "      <td>1.0</td>\n",
       "      <td>0.0</td>\n",
       "      <td>0.0</td>\n",
       "      <td>5.0</td>\n",
       "      <td>27.433333</td>\n",
       "      <td>13.716667</td>\n",
       "      <td>1</td>\n",
       "      <td>82.0</td>\n",
       "      <td>0.024390</td>\n",
       "      <td>2.187120</td>\n",
       "      <td>2.187120</td>\n",
       "      <td>4.374241</td>\n",
       "      <td>10.935601</td>\n",
       "      <td>0.000000</td>\n",
       "    </tr>\n",
       "    <tr>\n",
       "      <th>3656</th>\n",
       "      <td>8485469</td>\n",
       "      <td>20242025</td>\n",
       "      <td>[Columbus Blue Jackets]</td>\n",
       "      <td>Jack Williams</td>\n",
       "      <td>22</td>\n",
       "      <td>1</td>\n",
       "      <td>0.0</td>\n",
       "      <td>0.0</td>\n",
       "      <td>0</td>\n",
       "      <td>1.0</td>\n",
       "      <td>0.0</td>\n",
       "      <td>0.0</td>\n",
       "      <td>0.0</td>\n",
       "      <td>11.150000</td>\n",
       "      <td>11.150000</td>\n",
       "      <td>1</td>\n",
       "      <td>82.0</td>\n",
       "      <td>0.012195</td>\n",
       "      <td>0.000000</td>\n",
       "      <td>0.000000</td>\n",
       "      <td>0.000000</td>\n",
       "      <td>0.000000</td>\n",
       "      <td>0.000000</td>\n",
       "    </tr>\n",
       "    <tr>\n",
       "      <th>3657</th>\n",
       "      <td>8485483</td>\n",
       "      <td>20242025</td>\n",
       "      <td>[Philadelphia Flyers]</td>\n",
       "      <td>Karsen Dorwart</td>\n",
       "      <td>22</td>\n",
       "      <td>5</td>\n",
       "      <td>0.0</td>\n",
       "      <td>0.0</td>\n",
       "      <td>0</td>\n",
       "      <td>-1.0</td>\n",
       "      <td>2.0</td>\n",
       "      <td>0.0</td>\n",
       "      <td>4.0</td>\n",
       "      <td>54.916667</td>\n",
       "      <td>10.983333</td>\n",
       "      <td>1</td>\n",
       "      <td>82.0</td>\n",
       "      <td>0.060976</td>\n",
       "      <td>0.000000</td>\n",
       "      <td>0.000000</td>\n",
       "      <td>0.000000</td>\n",
       "      <td>4.370258</td>\n",
       "      <td>0.000000</td>\n",
       "    </tr>\n",
       "    <tr>\n",
       "      <th>3658</th>\n",
       "      <td>8485512</td>\n",
       "      <td>20242025</td>\n",
       "      <td>[Anaheim Ducks]</td>\n",
       "      <td>Tim Washe</td>\n",
       "      <td>23</td>\n",
       "      <td>2</td>\n",
       "      <td>0.0</td>\n",
       "      <td>0.0</td>\n",
       "      <td>0</td>\n",
       "      <td>0.0</td>\n",
       "      <td>0.0</td>\n",
       "      <td>0.0</td>\n",
       "      <td>2.0</td>\n",
       "      <td>15.466667</td>\n",
       "      <td>7.733333</td>\n",
       "      <td>1</td>\n",
       "      <td>82.0</td>\n",
       "      <td>0.024390</td>\n",
       "      <td>0.000000</td>\n",
       "      <td>0.000000</td>\n",
       "      <td>0.000000</td>\n",
       "      <td>7.758621</td>\n",
       "      <td>0.000000</td>\n",
       "    </tr>\n",
       "  </tbody>\n",
       "</table>\n",
       "<p>476 rows × 23 columns</p>\n",
       "</div>"
      ],
      "text/plain": [
       "     playerId    season                     team       playerName  age  \\\n",
       "19    8470621  20242025        [Edmonton Oilers]      Corey Perry   39   \n",
       "39    8471214  20242025    [Washington Capitals]    Alex Ovechkin   39   \n",
       "58    8471215  20242025    [Pittsburgh Penguins]    Evgeni Malkin   38   \n",
       "78    8471675  20242025    [Pittsburgh Penguins]    Sidney Crosby   37   \n",
       "97    8471685  20242025      [Los Angeles Kings]     Anze Kopitar   37   \n",
       "...       ...       ...                      ...              ...  ...   \n",
       "3654  8484958  20242025     [New York Islanders]  Maxim Tsyplakov   26   \n",
       "3655  8484984  20242025     [Montréal Canadiens]     Ivan Demidov   19   \n",
       "3656  8485469  20242025  [Columbus Blue Jackets]    Jack Williams   22   \n",
       "3657  8485483  20242025    [Philadelphia Flyers]   Karsen Dorwart   22   \n",
       "3658  8485512  20242025          [Anaheim Ducks]        Tim Washe   23   \n",
       "\n",
       "      gamesPlayed  goals  assists  points  plusMinus   pim  powerPlayPoints  \\\n",
       "19             81   19.0     11.0      30       12.0  61.0              7.0   \n",
       "39             65   44.0     29.0      73       15.0  14.0             22.0   \n",
       "58             68   16.0     34.0      50      -24.0  42.0             16.0   \n",
       "78             80   33.0     58.0      91      -20.0  31.0             27.0   \n",
       "97             81   21.0     46.0      67       14.0   4.0             22.0   \n",
       "...           ...    ...      ...     ...        ...   ...              ...   \n",
       "3654           77   10.0     25.0      35        4.0  39.0              3.0   \n",
       "3655            2    1.0      1.0       2        1.0   0.0              0.0   \n",
       "3656            1    0.0      0.0       0        1.0   0.0              0.0   \n",
       "3657            5    0.0      0.0       0       -1.0   2.0              0.0   \n",
       "3658            2    0.0      0.0       0        0.0   0.0              0.0   \n",
       "\n",
       "      shots     totalToi     avgToi  yoe  seasonLength       gpa      g/60  \\\n",
       "19    100.0   966.600000  11.933333   20          82.0  0.987805  1.179392   \n",
       "39    237.0  1151.583333  17.716667   20          82.0  0.792683  2.292496   \n",
       "58    125.0  1209.266667  17.783333   19          82.0  0.829268  0.793870   \n",
       "78    227.0  1629.333333  20.366667   20          82.0  0.975610  1.215221   \n",
       "97     98.0  1534.950000  18.950000   19          82.0  0.987805  0.820874   \n",
       "...     ...          ...        ...  ...           ...       ...       ...   \n",
       "3654  116.0  1152.433333  14.966667    1          82.0  0.939024  0.520637   \n",
       "3655    5.0    27.433333  13.716667    1          82.0  0.024390  2.187120   \n",
       "3656    0.0    11.150000  11.150000    1          82.0  0.012195  0.000000   \n",
       "3657    4.0    54.916667  10.983333    1          82.0  0.060976  0.000000   \n",
       "3658    2.0    15.466667   7.733333    1          82.0  0.024390  0.000000   \n",
       "\n",
       "          a/60      p/60       s/60    ppp/60  \n",
       "19    0.682806  1.862197   6.207325  0.434513  \n",
       "39    1.510963  3.803459  12.348216  1.146248  \n",
       "58    1.686973  2.480842   6.202106  0.793870  \n",
       "78    2.135843  3.351064   8.359247  0.994272  \n",
       "97    1.798104  2.618978   3.830744  0.859963  \n",
       "...        ...       ...        ...       ...  \n",
       "3654  1.301594  1.822231   6.039395  0.156191  \n",
       "3655  2.187120  4.374241  10.935601  0.000000  \n",
       "3656  0.000000  0.000000   0.000000  0.000000  \n",
       "3657  0.000000  0.000000   4.370258  0.000000  \n",
       "3658  0.000000  0.000000   7.758621  0.000000  \n",
       "\n",
       "[476 rows x 23 columns]"
      ]
     },
     "execution_count": 2,
     "metadata": {},
     "output_type": "execute_result"
    }
   ],
   "source": [
    "POSITION = \"forwards\"\n",
    "hdf = load_historical_stats(POSITION)\n",
    "hdf = hdf[hdf[\"season\"] == \"20242025\"]\n",
    "hdf"
   ]
  },
  {
   "cell_type": "code",
   "execution_count": 3,
   "id": "0d841f10",
   "metadata": {},
   "outputs": [],
   "source": [
    "cdf = load_cap_data()"
   ]
  },
  {
   "cell_type": "code",
   "execution_count": 4,
   "id": "37e11be6",
   "metadata": {},
   "outputs": [
    {
     "data": {
      "text/html": [
       "<div>\n",
       "<style scoped>\n",
       "    .dataframe tbody tr th:only-of-type {\n",
       "        vertical-align: middle;\n",
       "    }\n",
       "\n",
       "    .dataframe tbody tr th {\n",
       "        vertical-align: top;\n",
       "    }\n",
       "\n",
       "    .dataframe thead th {\n",
       "        text-align: right;\n",
       "    }\n",
       "</style>\n",
       "<table border=\"1\" class=\"dataframe\">\n",
       "  <thead>\n",
       "    <tr style=\"text-align: right;\">\n",
       "      <th></th>\n",
       "      <th>playerId</th>\n",
       "      <th>season</th>\n",
       "      <th>team</th>\n",
       "      <th>playerName</th>\n",
       "      <th>age</th>\n",
       "      <th>gamesPlayed</th>\n",
       "      <th>goals</th>\n",
       "      <th>assists</th>\n",
       "      <th>points</th>\n",
       "      <th>plusMinus</th>\n",
       "      <th>pim</th>\n",
       "      <th>powerPlayPoints</th>\n",
       "      <th>shots</th>\n",
       "      <th>totalToi</th>\n",
       "      <th>avgToi</th>\n",
       "      <th>yoe</th>\n",
       "      <th>seasonLength</th>\n",
       "      <th>gpa</th>\n",
       "      <th>g/60</th>\n",
       "      <th>a/60</th>\n",
       "      <th>p/60</th>\n",
       "      <th>s/60</th>\n",
       "      <th>ppp/60</th>\n",
       "      <th>capHit</th>\n",
       "      <th>capPct</th>\n",
       "    </tr>\n",
       "  </thead>\n",
       "  <tbody>\n",
       "    <tr>\n",
       "      <th>0</th>\n",
       "      <td>8470621</td>\n",
       "      <td>20242025</td>\n",
       "      <td>[Edmonton Oilers]</td>\n",
       "      <td>Corey Perry</td>\n",
       "      <td>39</td>\n",
       "      <td>81</td>\n",
       "      <td>19.0</td>\n",
       "      <td>11.0</td>\n",
       "      <td>30</td>\n",
       "      <td>12.0</td>\n",
       "      <td>61.0</td>\n",
       "      <td>7.0</td>\n",
       "      <td>100.0</td>\n",
       "      <td>966.600000</td>\n",
       "      <td>11.933333</td>\n",
       "      <td>20</td>\n",
       "      <td>82.0</td>\n",
       "      <td>0.987805</td>\n",
       "      <td>1.179392</td>\n",
       "      <td>0.682806</td>\n",
       "      <td>1.862197</td>\n",
       "      <td>6.207325</td>\n",
       "      <td>0.434513</td>\n",
       "      <td>1150000.0</td>\n",
       "      <td>0.0131</td>\n",
       "    </tr>\n",
       "    <tr>\n",
       "      <th>1</th>\n",
       "      <td>8471214</td>\n",
       "      <td>20242025</td>\n",
       "      <td>[Washington Capitals]</td>\n",
       "      <td>Alex Ovechkin</td>\n",
       "      <td>39</td>\n",
       "      <td>65</td>\n",
       "      <td>44.0</td>\n",
       "      <td>29.0</td>\n",
       "      <td>73</td>\n",
       "      <td>15.0</td>\n",
       "      <td>14.0</td>\n",
       "      <td>22.0</td>\n",
       "      <td>237.0</td>\n",
       "      <td>1151.583333</td>\n",
       "      <td>17.716667</td>\n",
       "      <td>20</td>\n",
       "      <td>82.0</td>\n",
       "      <td>0.792683</td>\n",
       "      <td>2.292496</td>\n",
       "      <td>1.510963</td>\n",
       "      <td>3.803459</td>\n",
       "      <td>12.348216</td>\n",
       "      <td>1.146248</td>\n",
       "      <td>9500000.0</td>\n",
       "      <td>0.1080</td>\n",
       "    </tr>\n",
       "    <tr>\n",
       "      <th>3</th>\n",
       "      <td>8471675</td>\n",
       "      <td>20242025</td>\n",
       "      <td>[Pittsburgh Penguins]</td>\n",
       "      <td>Sidney Crosby</td>\n",
       "      <td>37</td>\n",
       "      <td>80</td>\n",
       "      <td>33.0</td>\n",
       "      <td>58.0</td>\n",
       "      <td>91</td>\n",
       "      <td>-20.0</td>\n",
       "      <td>31.0</td>\n",
       "      <td>27.0</td>\n",
       "      <td>227.0</td>\n",
       "      <td>1629.333333</td>\n",
       "      <td>20.366667</td>\n",
       "      <td>20</td>\n",
       "      <td>82.0</td>\n",
       "      <td>0.975610</td>\n",
       "      <td>1.215221</td>\n",
       "      <td>2.135843</td>\n",
       "      <td>3.351064</td>\n",
       "      <td>8.359247</td>\n",
       "      <td>0.994272</td>\n",
       "      <td>8700000.0</td>\n",
       "      <td>0.0989</td>\n",
       "    </tr>\n",
       "    <tr>\n",
       "      <th>4</th>\n",
       "      <td>8471685</td>\n",
       "      <td>20242025</td>\n",
       "      <td>[Los Angeles Kings]</td>\n",
       "      <td>Anze Kopitar</td>\n",
       "      <td>37</td>\n",
       "      <td>81</td>\n",
       "      <td>21.0</td>\n",
       "      <td>46.0</td>\n",
       "      <td>67</td>\n",
       "      <td>14.0</td>\n",
       "      <td>4.0</td>\n",
       "      <td>22.0</td>\n",
       "      <td>98.0</td>\n",
       "      <td>1534.950000</td>\n",
       "      <td>18.950000</td>\n",
       "      <td>19</td>\n",
       "      <td>82.0</td>\n",
       "      <td>0.987805</td>\n",
       "      <td>0.820874</td>\n",
       "      <td>1.798104</td>\n",
       "      <td>2.618978</td>\n",
       "      <td>3.830744</td>\n",
       "      <td>0.859963</td>\n",
       "      <td>7000000.0</td>\n",
       "      <td>0.0795</td>\n",
       "    </tr>\n",
       "    <tr>\n",
       "      <th>5</th>\n",
       "      <td>8471817</td>\n",
       "      <td>20242025</td>\n",
       "      <td>[Toronto Maple Leafs]</td>\n",
       "      <td>Ryan Reaves</td>\n",
       "      <td>37</td>\n",
       "      <td>35</td>\n",
       "      <td>0.0</td>\n",
       "      <td>2.0</td>\n",
       "      <td>2</td>\n",
       "      <td>-2.0</td>\n",
       "      <td>28.0</td>\n",
       "      <td>0.0</td>\n",
       "      <td>14.0</td>\n",
       "      <td>273.000000</td>\n",
       "      <td>7.800000</td>\n",
       "      <td>15</td>\n",
       "      <td>82.0</td>\n",
       "      <td>0.426829</td>\n",
       "      <td>0.000000</td>\n",
       "      <td>0.439560</td>\n",
       "      <td>0.439560</td>\n",
       "      <td>3.076923</td>\n",
       "      <td>0.000000</td>\n",
       "      <td>1350000.0</td>\n",
       "      <td>0.0153</td>\n",
       "    </tr>\n",
       "    <tr>\n",
       "      <th>...</th>\n",
       "      <td>...</td>\n",
       "      <td>...</td>\n",
       "      <td>...</td>\n",
       "      <td>...</td>\n",
       "      <td>...</td>\n",
       "      <td>...</td>\n",
       "      <td>...</td>\n",
       "      <td>...</td>\n",
       "      <td>...</td>\n",
       "      <td>...</td>\n",
       "      <td>...</td>\n",
       "      <td>...</td>\n",
       "      <td>...</td>\n",
       "      <td>...</td>\n",
       "      <td>...</td>\n",
       "      <td>...</td>\n",
       "      <td>...</td>\n",
       "      <td>...</td>\n",
       "      <td>...</td>\n",
       "      <td>...</td>\n",
       "      <td>...</td>\n",
       "      <td>...</td>\n",
       "      <td>...</td>\n",
       "      <td>...</td>\n",
       "      <td>...</td>\n",
       "    </tr>\n",
       "    <tr>\n",
       "      <th>465</th>\n",
       "      <td>8484227</td>\n",
       "      <td>20242025</td>\n",
       "      <td>[San Jose Sharks]</td>\n",
       "      <td>Will Smith</td>\n",
       "      <td>19</td>\n",
       "      <td>74</td>\n",
       "      <td>18.0</td>\n",
       "      <td>27.0</td>\n",
       "      <td>45</td>\n",
       "      <td>-15.0</td>\n",
       "      <td>18.0</td>\n",
       "      <td>12.0</td>\n",
       "      <td>127.0</td>\n",
       "      <td>1172.900000</td>\n",
       "      <td>15.850000</td>\n",
       "      <td>1</td>\n",
       "      <td>82.0</td>\n",
       "      <td>0.902439</td>\n",
       "      <td>0.920795</td>\n",
       "      <td>1.381192</td>\n",
       "      <td>2.301987</td>\n",
       "      <td>6.496718</td>\n",
       "      <td>0.613863</td>\n",
       "      <td>950000.0</td>\n",
       "      <td>0.0108</td>\n",
       "    </tr>\n",
       "    <tr>\n",
       "      <th>468</th>\n",
       "      <td>8484387</td>\n",
       "      <td>20242025</td>\n",
       "      <td>[Philadelphia Flyers]</td>\n",
       "      <td>Matvei Michkov</td>\n",
       "      <td>20</td>\n",
       "      <td>80</td>\n",
       "      <td>26.0</td>\n",
       "      <td>37.0</td>\n",
       "      <td>63</td>\n",
       "      <td>-18.0</td>\n",
       "      <td>46.0</td>\n",
       "      <td>17.0</td>\n",
       "      <td>199.0</td>\n",
       "      <td>1334.666667</td>\n",
       "      <td>16.683333</td>\n",
       "      <td>1</td>\n",
       "      <td>82.0</td>\n",
       "      <td>0.975610</td>\n",
       "      <td>1.168831</td>\n",
       "      <td>1.663337</td>\n",
       "      <td>2.832168</td>\n",
       "      <td>8.946054</td>\n",
       "      <td>0.764236</td>\n",
       "      <td>950000.0</td>\n",
       "      <td>0.0108</td>\n",
       "    </tr>\n",
       "    <tr>\n",
       "      <th>469</th>\n",
       "      <td>8484801</td>\n",
       "      <td>20242025</td>\n",
       "      <td>[San Jose Sharks]</td>\n",
       "      <td>Macklin Celebrini</td>\n",
       "      <td>18</td>\n",
       "      <td>70</td>\n",
       "      <td>25.0</td>\n",
       "      <td>38.0</td>\n",
       "      <td>63</td>\n",
       "      <td>-31.0</td>\n",
       "      <td>28.0</td>\n",
       "      <td>22.0</td>\n",
       "      <td>236.0</td>\n",
       "      <td>1384.833333</td>\n",
       "      <td>19.783333</td>\n",
       "      <td>1</td>\n",
       "      <td>82.0</td>\n",
       "      <td>0.853659</td>\n",
       "      <td>1.083163</td>\n",
       "      <td>1.646408</td>\n",
       "      <td>2.729570</td>\n",
       "      <td>10.225057</td>\n",
       "      <td>0.953183</td>\n",
       "      <td>975000.0</td>\n",
       "      <td>0.0111</td>\n",
       "    </tr>\n",
       "    <tr>\n",
       "      <th>472</th>\n",
       "      <td>8484958</td>\n",
       "      <td>20242025</td>\n",
       "      <td>[New York Islanders]</td>\n",
       "      <td>Maxim Tsyplakov</td>\n",
       "      <td>26</td>\n",
       "      <td>77</td>\n",
       "      <td>10.0</td>\n",
       "      <td>25.0</td>\n",
       "      <td>35</td>\n",
       "      <td>4.0</td>\n",
       "      <td>39.0</td>\n",
       "      <td>3.0</td>\n",
       "      <td>116.0</td>\n",
       "      <td>1152.433333</td>\n",
       "      <td>14.966667</td>\n",
       "      <td>1</td>\n",
       "      <td>82.0</td>\n",
       "      <td>0.939024</td>\n",
       "      <td>0.520637</td>\n",
       "      <td>1.301594</td>\n",
       "      <td>1.822231</td>\n",
       "      <td>6.039395</td>\n",
       "      <td>0.156191</td>\n",
       "      <td>950000.0</td>\n",
       "      <td>0.0108</td>\n",
       "    </tr>\n",
       "    <tr>\n",
       "      <th>474</th>\n",
       "      <td>8485469</td>\n",
       "      <td>20242025</td>\n",
       "      <td>[Columbus Blue Jackets]</td>\n",
       "      <td>Jack Williams</td>\n",
       "      <td>22</td>\n",
       "      <td>1</td>\n",
       "      <td>0.0</td>\n",
       "      <td>0.0</td>\n",
       "      <td>0</td>\n",
       "      <td>1.0</td>\n",
       "      <td>0.0</td>\n",
       "      <td>0.0</td>\n",
       "      <td>0.0</td>\n",
       "      <td>11.150000</td>\n",
       "      <td>11.150000</td>\n",
       "      <td>1</td>\n",
       "      <td>82.0</td>\n",
       "      <td>0.012195</td>\n",
       "      <td>0.000000</td>\n",
       "      <td>0.000000</td>\n",
       "      <td>0.000000</td>\n",
       "      <td>0.000000</td>\n",
       "      <td>0.000000</td>\n",
       "      <td>923750.0</td>\n",
       "      <td>0.0105</td>\n",
       "    </tr>\n",
       "  </tbody>\n",
       "</table>\n",
       "<p>389 rows × 25 columns</p>\n",
       "</div>"
      ],
      "text/plain": [
       "    playerId    season                     team         playerName  age  \\\n",
       "0    8470621  20242025        [Edmonton Oilers]        Corey Perry   39   \n",
       "1    8471214  20242025    [Washington Capitals]      Alex Ovechkin   39   \n",
       "3    8471675  20242025    [Pittsburgh Penguins]      Sidney Crosby   37   \n",
       "4    8471685  20242025      [Los Angeles Kings]       Anze Kopitar   37   \n",
       "5    8471817  20242025    [Toronto Maple Leafs]        Ryan Reaves   37   \n",
       "..       ...       ...                      ...                ...  ...   \n",
       "465  8484227  20242025        [San Jose Sharks]         Will Smith   19   \n",
       "468  8484387  20242025    [Philadelphia Flyers]     Matvei Michkov   20   \n",
       "469  8484801  20242025        [San Jose Sharks]  Macklin Celebrini   18   \n",
       "472  8484958  20242025     [New York Islanders]    Maxim Tsyplakov   26   \n",
       "474  8485469  20242025  [Columbus Blue Jackets]      Jack Williams   22   \n",
       "\n",
       "     gamesPlayed  goals  assists  points  plusMinus   pim  powerPlayPoints  \\\n",
       "0             81   19.0     11.0      30       12.0  61.0              7.0   \n",
       "1             65   44.0     29.0      73       15.0  14.0             22.0   \n",
       "3             80   33.0     58.0      91      -20.0  31.0             27.0   \n",
       "4             81   21.0     46.0      67       14.0   4.0             22.0   \n",
       "5             35    0.0      2.0       2       -2.0  28.0              0.0   \n",
       "..           ...    ...      ...     ...        ...   ...              ...   \n",
       "465           74   18.0     27.0      45      -15.0  18.0             12.0   \n",
       "468           80   26.0     37.0      63      -18.0  46.0             17.0   \n",
       "469           70   25.0     38.0      63      -31.0  28.0             22.0   \n",
       "472           77   10.0     25.0      35        4.0  39.0              3.0   \n",
       "474            1    0.0      0.0       0        1.0   0.0              0.0   \n",
       "\n",
       "     shots     totalToi     avgToi  yoe  seasonLength       gpa      g/60  \\\n",
       "0    100.0   966.600000  11.933333   20          82.0  0.987805  1.179392   \n",
       "1    237.0  1151.583333  17.716667   20          82.0  0.792683  2.292496   \n",
       "3    227.0  1629.333333  20.366667   20          82.0  0.975610  1.215221   \n",
       "4     98.0  1534.950000  18.950000   19          82.0  0.987805  0.820874   \n",
       "5     14.0   273.000000   7.800000   15          82.0  0.426829  0.000000   \n",
       "..     ...          ...        ...  ...           ...       ...       ...   \n",
       "465  127.0  1172.900000  15.850000    1          82.0  0.902439  0.920795   \n",
       "468  199.0  1334.666667  16.683333    1          82.0  0.975610  1.168831   \n",
       "469  236.0  1384.833333  19.783333    1          82.0  0.853659  1.083163   \n",
       "472  116.0  1152.433333  14.966667    1          82.0  0.939024  0.520637   \n",
       "474    0.0    11.150000  11.150000    1          82.0  0.012195  0.000000   \n",
       "\n",
       "         a/60      p/60       s/60    ppp/60     capHit  capPct  \n",
       "0    0.682806  1.862197   6.207325  0.434513  1150000.0  0.0131  \n",
       "1    1.510963  3.803459  12.348216  1.146248  9500000.0  0.1080  \n",
       "3    2.135843  3.351064   8.359247  0.994272  8700000.0  0.0989  \n",
       "4    1.798104  2.618978   3.830744  0.859963  7000000.0  0.0795  \n",
       "5    0.439560  0.439560   3.076923  0.000000  1350000.0  0.0153  \n",
       "..        ...       ...        ...       ...        ...     ...  \n",
       "465  1.381192  2.301987   6.496718  0.613863   950000.0  0.0108  \n",
       "468  1.663337  2.832168   8.946054  0.764236   950000.0  0.0108  \n",
       "469  1.646408  2.729570  10.225057  0.953183   975000.0  0.0111  \n",
       "472  1.301594  1.822231   6.039395  0.156191   950000.0  0.0108  \n",
       "474  0.000000  0.000000   0.000000  0.000000   923750.0  0.0105  \n",
       "\n",
       "[389 rows x 25 columns]"
      ]
     },
     "execution_count": 4,
     "metadata": {},
     "output_type": "execute_result"
    }
   ],
   "source": [
    "df = hdf.merge(cdf, on=\"playerName\", how=\"left\")\n",
    "df = df[~df[\"capHit\"].isna()]\n",
    "df"
   ]
  },
  {
   "cell_type": "code",
   "execution_count": 5,
   "id": "50f54cbb",
   "metadata": {},
   "outputs": [],
   "source": [
    "df[\"capPct\"] = df[\"capPct\"] * 100"
   ]
  },
  {
   "cell_type": "code",
   "execution_count": 6,
   "id": "c380c4dc",
   "metadata": {},
   "outputs": [],
   "source": [
    "# Add 1 to smooth goals (to capture the fact that 0 goals at $10M cap is much worse than 0 goals at $1M cap)\n",
    "df[\"g_eff\"] = (df[\"goals\"] + 1) / df[\"capPct\"]\n",
    "df[\"a_eff\"] = (df[\"assists\"] + 1) / df[\"capPct\"]\n",
    "df[\"p_eff\"] = (df[\"points\"] + 1) / df[\"capPct\"]\n",
    "df[\"gp_eff\"] = (df[\"gamesPlayed\"]) / df[\"capPct\"]"
   ]
  },
  {
   "cell_type": "code",
   "execution_count": 7,
   "id": "191fcdbd",
   "metadata": {},
   "outputs": [],
   "source": [
    "# df.sort_values(by=[\"g_eff\"], ascending=[False])"
   ]
  },
  {
   "cell_type": "code",
   "execution_count": 8,
   "id": "6be3e448",
   "metadata": {},
   "outputs": [],
   "source": [
    "def add_z_score(df, col, groupby_col=None):\n",
    "    \"\"\"\n",
    "    Adds a z-score column for `col`. Optionally computes within groups.\n",
    "    \"\"\"\n",
    "    # Grouped z-score\n",
    "    if groupby_col:\n",
    "        z_col = f\"{col}_z\"\n",
    "        df[z_col] = df.groupby(groupby_col)[col].transform(\n",
    "            lambda x: (x - x.mean()) / x.std()\n",
    "        )\n",
    "    # Global z-score\n",
    "    else:\n",
    "        df[f\"{col}_z\"] = (df[col] - df[col].mean()) / df[col].std()\n",
    "    return df"
   ]
  },
  {
   "cell_type": "code",
   "execution_count": 9,
   "id": "9a6878dd",
   "metadata": {},
   "outputs": [
    {
     "data": {
      "text/plain": [
       "salary_tier\n",
       "1M     120\n",
       "2M      56\n",
       "3M      45\n",
       "5M      34\n",
       "4M      32\n",
       "6M      30\n",
       "9M      20\n",
       "8M      18\n",
       "7M      16\n",
       "10M     10\n",
       "12M      4\n",
       "13M      2\n",
       "11M      1\n",
       "14M      1\n",
       "Name: count, dtype: int64"
      ]
     },
     "execution_count": 9,
     "metadata": {},
     "output_type": "execute_result"
    }
   ],
   "source": [
    "df[\"salary_tier\"] = (np.ceil(df[\"capHit\"] / 1000000)).astype(int).astype(str) + \"M\"\n",
    "df[\"salary_tier\"].value_counts()"
   ]
  },
  {
   "cell_type": "code",
   "execution_count": 10,
   "id": "aa33ef65",
   "metadata": {},
   "outputs": [
    {
     "data": {
      "text/plain": [
       "salary_tier\n",
       "1M      120\n",
       "2M       56\n",
       "3M       45\n",
       "5M       34\n",
       "4M       32\n",
       "6M       30\n",
       "9M       20\n",
       "8M       18\n",
       "7M       16\n",
       "10M      10\n",
       ">10M      8\n",
       "Name: count, dtype: int64"
      ]
     },
     "execution_count": 10,
     "metadata": {},
     "output_type": "execute_result"
    }
   ],
   "source": [
    "df.loc[df[\"salary_tier\"].isin([\"11M\", \"12M\", \"13M\", \"14M\"]), \"salary_tier\"] = \">10M\"\n",
    "df[\"salary_tier\"].value_counts()"
   ]
  },
  {
   "cell_type": "code",
   "execution_count": 12,
   "id": "b519c4c2",
   "metadata": {},
   "outputs": [],
   "source": [
    "df = add_z_score(df, col=\"g_eff\", groupby_col=\"salary_tier\")\n",
    "df = add_z_score(df, col=\"a_eff\", groupby_col=\"salary_tier\")\n",
    "df = add_z_score(df, col=\"p_eff\", groupby_col=\"salary_tier\")\n",
    "df = add_z_score(df, col=\"gp_eff\", groupby_col=\"salary_tier\")"
   ]
  },
  {
   "cell_type": "code",
   "execution_count": 13,
   "id": "2255a8ca",
   "metadata": {},
   "outputs": [
    {
     "data": {
      "text/html": [
       "<div>\n",
       "<style scoped>\n",
       "    .dataframe tbody tr th:only-of-type {\n",
       "        vertical-align: middle;\n",
       "    }\n",
       "\n",
       "    .dataframe tbody tr th {\n",
       "        vertical-align: top;\n",
       "    }\n",
       "\n",
       "    .dataframe thead th {\n",
       "        text-align: right;\n",
       "    }\n",
       "</style>\n",
       "<table border=\"1\" class=\"dataframe\">\n",
       "  <thead>\n",
       "    <tr style=\"text-align: right;\">\n",
       "      <th></th>\n",
       "      <th>playerId</th>\n",
       "      <th>season</th>\n",
       "      <th>team</th>\n",
       "      <th>playerName</th>\n",
       "      <th>age</th>\n",
       "      <th>gamesPlayed</th>\n",
       "      <th>goals</th>\n",
       "      <th>assists</th>\n",
       "      <th>points</th>\n",
       "      <th>plusMinus</th>\n",
       "      <th>pim</th>\n",
       "      <th>powerPlayPoints</th>\n",
       "      <th>shots</th>\n",
       "      <th>totalToi</th>\n",
       "      <th>avgToi</th>\n",
       "      <th>yoe</th>\n",
       "      <th>seasonLength</th>\n",
       "      <th>gpa</th>\n",
       "      <th>g/60</th>\n",
       "      <th>a/60</th>\n",
       "      <th>p/60</th>\n",
       "      <th>s/60</th>\n",
       "      <th>ppp/60</th>\n",
       "      <th>capHit</th>\n",
       "      <th>capPct</th>\n",
       "      <th>g_eff</th>\n",
       "      <th>a_eff</th>\n",
       "      <th>p_eff</th>\n",
       "      <th>gp_eff</th>\n",
       "      <th>salary_tier</th>\n",
       "      <th>g_eff_z</th>\n",
       "      <th>a_eff_z</th>\n",
       "      <th>p_eff_z</th>\n",
       "      <th>gp_eff_z</th>\n",
       "    </tr>\n",
       "  </thead>\n",
       "  <tbody>\n",
       "    <tr>\n",
       "      <th>432</th>\n",
       "      <td>8482740</td>\n",
       "      <td>20242025</td>\n",
       "      <td>[Dallas Stars]</td>\n",
       "      <td>Wyatt Johnston</td>\n",
       "      <td>21</td>\n",
       "      <td>82</td>\n",
       "      <td>33.0</td>\n",
       "      <td>38.0</td>\n",
       "      <td>71</td>\n",
       "      <td>2.0</td>\n",
       "      <td>14.0</td>\n",
       "      <td>25.0</td>\n",
       "      <td>202.0</td>\n",
       "      <td>1552.533333</td>\n",
       "      <td>18.933333</td>\n",
       "      <td>3</td>\n",
       "      <td>82.0</td>\n",
       "      <td>1.000000</td>\n",
       "      <td>1.275335</td>\n",
       "      <td>1.468568</td>\n",
       "      <td>2.743902</td>\n",
       "      <td>7.806596</td>\n",
       "      <td>0.966163</td>\n",
       "      <td>894167.0</td>\n",
       "      <td>1.02</td>\n",
       "      <td>33.333333</td>\n",
       "      <td>38.235294</td>\n",
       "      <td>70.588235</td>\n",
       "      <td>80.392157</td>\n",
       "      <td>1M</td>\n",
       "      <td>3.022168</td>\n",
       "      <td>2.548681</td>\n",
       "      <td>2.885939</td>\n",
       "      <td>0.877263</td>\n",
       "    </tr>\n",
       "    <tr>\n",
       "      <th>461</th>\n",
       "      <td>8484166</td>\n",
       "      <td>20242025</td>\n",
       "      <td>[Columbus Blue Jackets]</td>\n",
       "      <td>Adam Fantilli</td>\n",
       "      <td>20</td>\n",
       "      <td>82</td>\n",
       "      <td>31.0</td>\n",
       "      <td>23.0</td>\n",
       "      <td>54</td>\n",
       "      <td>4.0</td>\n",
       "      <td>18.0</td>\n",
       "      <td>4.0</td>\n",
       "      <td>191.0</td>\n",
       "      <td>1433.633333</td>\n",
       "      <td>17.483333</td>\n",
       "      <td>2</td>\n",
       "      <td>82.0</td>\n",
       "      <td>1.000000</td>\n",
       "      <td>1.297403</td>\n",
       "      <td>0.962589</td>\n",
       "      <td>2.259992</td>\n",
       "      <td>7.993676</td>\n",
       "      <td>0.167407</td>\n",
       "      <td>950000.0</td>\n",
       "      <td>1.08</td>\n",
       "      <td>29.629630</td>\n",
       "      <td>22.222222</td>\n",
       "      <td>50.925926</td>\n",
       "      <td>75.925926</td>\n",
       "      <td>1M</td>\n",
       "      <td>2.537350</td>\n",
       "      <td>0.944386</td>\n",
       "      <td>1.717835</td>\n",
       "      <td>0.689866</td>\n",
       "    </tr>\n",
       "    <tr>\n",
       "      <th>429</th>\n",
       "      <td>8482720</td>\n",
       "      <td>20242025</td>\n",
       "      <td>[Toronto Maple Leafs]</td>\n",
       "      <td>Matthew Knies</td>\n",
       "      <td>22</td>\n",
       "      <td>78</td>\n",
       "      <td>29.0</td>\n",
       "      <td>29.0</td>\n",
       "      <td>58</td>\n",
       "      <td>7.0</td>\n",
       "      <td>43.0</td>\n",
       "      <td>15.0</td>\n",
       "      <td>152.0</td>\n",
       "      <td>1444.300000</td>\n",
       "      <td>18.516667</td>\n",
       "      <td>3</td>\n",
       "      <td>82.0</td>\n",
       "      <td>0.951220</td>\n",
       "      <td>1.204736</td>\n",
       "      <td>1.204736</td>\n",
       "      <td>2.409472</td>\n",
       "      <td>6.314478</td>\n",
       "      <td>0.623139</td>\n",
       "      <td>925000.0</td>\n",
       "      <td>1.05</td>\n",
       "      <td>28.571429</td>\n",
       "      <td>28.571429</td>\n",
       "      <td>56.190476</td>\n",
       "      <td>74.285714</td>\n",
       "      <td>1M</td>\n",
       "      <td>2.398830</td>\n",
       "      <td>1.580492</td>\n",
       "      <td>2.030593</td>\n",
       "      <td>0.621045</td>\n",
       "    </tr>\n",
       "    <tr>\n",
       "      <th>407</th>\n",
       "      <td>8482159</td>\n",
       "      <td>20242025</td>\n",
       "      <td>[Philadelphia Flyers]</td>\n",
       "      <td>Tyson Foerster</td>\n",
       "      <td>22</td>\n",
       "      <td>81</td>\n",
       "      <td>25.0</td>\n",
       "      <td>18.0</td>\n",
       "      <td>43</td>\n",
       "      <td>-9.0</td>\n",
       "      <td>49.0</td>\n",
       "      <td>8.0</td>\n",
       "      <td>142.0</td>\n",
       "      <td>1366.200000</td>\n",
       "      <td>16.866667</td>\n",
       "      <td>3</td>\n",
       "      <td>82.0</td>\n",
       "      <td>0.987805</td>\n",
       "      <td>1.097936</td>\n",
       "      <td>0.790514</td>\n",
       "      <td>1.888450</td>\n",
       "      <td>6.236276</td>\n",
       "      <td>0.351339</td>\n",
       "      <td>863333.0</td>\n",
       "      <td>0.98</td>\n",
       "      <td>26.530612</td>\n",
       "      <td>19.387755</td>\n",
       "      <td>44.897959</td>\n",
       "      <td>82.653061</td>\n",
       "      <td>1M</td>\n",
       "      <td>2.131686</td>\n",
       "      <td>0.660411</td>\n",
       "      <td>1.359724</td>\n",
       "      <td>0.972127</td>\n",
       "    </tr>\n",
       "    <tr>\n",
       "      <th>388</th>\n",
       "      <td>8482079</td>\n",
       "      <td>20242025</td>\n",
       "      <td>[Minnesota Wild]</td>\n",
       "      <td>Marco Rossi</td>\n",
       "      <td>23</td>\n",
       "      <td>82</td>\n",
       "      <td>24.0</td>\n",
       "      <td>36.0</td>\n",
       "      <td>60</td>\n",
       "      <td>3.0</td>\n",
       "      <td>26.0</td>\n",
       "      <td>16.0</td>\n",
       "      <td>136.0</td>\n",
       "      <td>1496.500000</td>\n",
       "      <td>18.250000</td>\n",
       "      <td>4</td>\n",
       "      <td>82.0</td>\n",
       "      <td>1.000000</td>\n",
       "      <td>0.962245</td>\n",
       "      <td>1.443368</td>\n",
       "      <td>2.405613</td>\n",
       "      <td>5.452723</td>\n",
       "      <td>0.641497</td>\n",
       "      <td>863333.0</td>\n",
       "      <td>0.98</td>\n",
       "      <td>25.510204</td>\n",
       "      <td>37.755102</td>\n",
       "      <td>62.244898</td>\n",
       "      <td>83.673469</td>\n",
       "      <td>1M</td>\n",
       "      <td>1.998113</td>\n",
       "      <td>2.500572</td>\n",
       "      <td>2.390276</td>\n",
       "      <td>1.014942</td>\n",
       "    </tr>\n",
       "    <tr>\n",
       "      <th>...</th>\n",
       "      <td>...</td>\n",
       "      <td>...</td>\n",
       "      <td>...</td>\n",
       "      <td>...</td>\n",
       "      <td>...</td>\n",
       "      <td>...</td>\n",
       "      <td>...</td>\n",
       "      <td>...</td>\n",
       "      <td>...</td>\n",
       "      <td>...</td>\n",
       "      <td>...</td>\n",
       "      <td>...</td>\n",
       "      <td>...</td>\n",
       "      <td>...</td>\n",
       "      <td>...</td>\n",
       "      <td>...</td>\n",
       "      <td>...</td>\n",
       "      <td>...</td>\n",
       "      <td>...</td>\n",
       "      <td>...</td>\n",
       "      <td>...</td>\n",
       "      <td>...</td>\n",
       "      <td>...</td>\n",
       "      <td>...</td>\n",
       "      <td>...</td>\n",
       "      <td>...</td>\n",
       "      <td>...</td>\n",
       "      <td>...</td>\n",
       "      <td>...</td>\n",
       "      <td>...</td>\n",
       "      <td>...</td>\n",
       "      <td>...</td>\n",
       "      <td>...</td>\n",
       "      <td>...</td>\n",
       "    </tr>\n",
       "    <tr>\n",
       "      <th>58</th>\n",
       "      <td>8475794</td>\n",
       "      <td>20242025</td>\n",
       "      <td>[Dallas Stars]</td>\n",
       "      <td>Tyler Seguin</td>\n",
       "      <td>32</td>\n",
       "      <td>20</td>\n",
       "      <td>9.0</td>\n",
       "      <td>12.0</td>\n",
       "      <td>21</td>\n",
       "      <td>15.0</td>\n",
       "      <td>4.0</td>\n",
       "      <td>3.0</td>\n",
       "      <td>46.0</td>\n",
       "      <td>323.000000</td>\n",
       "      <td>16.150000</td>\n",
       "      <td>15</td>\n",
       "      <td>82.0</td>\n",
       "      <td>0.243902</td>\n",
       "      <td>1.671827</td>\n",
       "      <td>2.229102</td>\n",
       "      <td>3.900929</td>\n",
       "      <td>8.544892</td>\n",
       "      <td>0.557276</td>\n",
       "      <td>9850000.0</td>\n",
       "      <td>11.19</td>\n",
       "      <td>0.893655</td>\n",
       "      <td>1.161752</td>\n",
       "      <td>1.966041</td>\n",
       "      <td>1.787310</td>\n",
       "      <td>10M</td>\n",
       "      <td>-1.594352</td>\n",
       "      <td>-1.724648</td>\n",
       "      <td>-1.987152</td>\n",
       "      <td>-2.642859</td>\n",
       "    </tr>\n",
       "    <tr>\n",
       "      <th>284</th>\n",
       "      <td>8480011</td>\n",
       "      <td>20242025</td>\n",
       "      <td>[San Jose Sharks]</td>\n",
       "      <td>Klim Kostin</td>\n",
       "      <td>25</td>\n",
       "      <td>35</td>\n",
       "      <td>1.0</td>\n",
       "      <td>6.0</td>\n",
       "      <td>7</td>\n",
       "      <td>-6.0</td>\n",
       "      <td>27.0</td>\n",
       "      <td>1.0</td>\n",
       "      <td>28.0</td>\n",
       "      <td>373.916667</td>\n",
       "      <td>10.683333</td>\n",
       "      <td>6</td>\n",
       "      <td>82.0</td>\n",
       "      <td>0.426829</td>\n",
       "      <td>0.160464</td>\n",
       "      <td>0.962781</td>\n",
       "      <td>1.123245</td>\n",
       "      <td>4.492980</td>\n",
       "      <td>0.160464</td>\n",
       "      <td>2000000.0</td>\n",
       "      <td>2.27</td>\n",
       "      <td>0.881057</td>\n",
       "      <td>3.083700</td>\n",
       "      <td>3.524229</td>\n",
       "      <td>15.418502</td>\n",
       "      <td>2M</td>\n",
       "      <td>-1.275123</td>\n",
       "      <td>-1.262224</td>\n",
       "      <td>-1.380807</td>\n",
       "      <td>-2.105979</td>\n",
       "    </tr>\n",
       "    <tr>\n",
       "      <th>118</th>\n",
       "      <td>8477070</td>\n",
       "      <td>20242025</td>\n",
       "      <td>[Utah Hockey Club]</td>\n",
       "      <td>Liam O'Brien</td>\n",
       "      <td>30</td>\n",
       "      <td>28</td>\n",
       "      <td>0.0</td>\n",
       "      <td>2.0</td>\n",
       "      <td>2</td>\n",
       "      <td>1.0</td>\n",
       "      <td>50.0</td>\n",
       "      <td>0.0</td>\n",
       "      <td>34.0</td>\n",
       "      <td>260.400000</td>\n",
       "      <td>9.300000</td>\n",
       "      <td>8</td>\n",
       "      <td>82.0</td>\n",
       "      <td>0.341463</td>\n",
       "      <td>0.000000</td>\n",
       "      <td>0.460829</td>\n",
       "      <td>0.460829</td>\n",
       "      <td>7.834101</td>\n",
       "      <td>0.000000</td>\n",
       "      <td>1000000.0</td>\n",
       "      <td>1.14</td>\n",
       "      <td>0.877193</td>\n",
       "      <td>2.631579</td>\n",
       "      <td>2.631579</td>\n",
       "      <td>24.561404</td>\n",
       "      <td>1M</td>\n",
       "      <td>-1.226370</td>\n",
       "      <td>-1.018333</td>\n",
       "      <td>-1.151248</td>\n",
       "      <td>-1.465314</td>\n",
       "    </tr>\n",
       "    <tr>\n",
       "      <th>46</th>\n",
       "      <td>8475714</td>\n",
       "      <td>20242025</td>\n",
       "      <td>[Toronto Maple Leafs]</td>\n",
       "      <td>Calle Jarnkrok</td>\n",
       "      <td>33</td>\n",
       "      <td>19</td>\n",
       "      <td>1.0</td>\n",
       "      <td>6.0</td>\n",
       "      <td>7</td>\n",
       "      <td>1.0</td>\n",
       "      <td>4.0</td>\n",
       "      <td>1.0</td>\n",
       "      <td>9.0</td>\n",
       "      <td>251.433333</td>\n",
       "      <td>13.233333</td>\n",
       "      <td>12</td>\n",
       "      <td>82.0</td>\n",
       "      <td>0.231707</td>\n",
       "      <td>0.238632</td>\n",
       "      <td>1.431791</td>\n",
       "      <td>1.670423</td>\n",
       "      <td>2.147687</td>\n",
       "      <td>0.238632</td>\n",
       "      <td>2100000.0</td>\n",
       "      <td>2.39</td>\n",
       "      <td>0.836820</td>\n",
       "      <td>2.928870</td>\n",
       "      <td>3.347280</td>\n",
       "      <td>7.949791</td>\n",
       "      <td>3M</td>\n",
       "      <td>-1.604561</td>\n",
       "      <td>-0.933573</td>\n",
       "      <td>-1.268493</td>\n",
       "      <td>-2.673761</td>\n",
       "    </tr>\n",
       "    <tr>\n",
       "      <th>5</th>\n",
       "      <td>8471817</td>\n",
       "      <td>20242025</td>\n",
       "      <td>[Toronto Maple Leafs]</td>\n",
       "      <td>Ryan Reaves</td>\n",
       "      <td>37</td>\n",
       "      <td>35</td>\n",
       "      <td>0.0</td>\n",
       "      <td>2.0</td>\n",
       "      <td>2</td>\n",
       "      <td>-2.0</td>\n",
       "      <td>28.0</td>\n",
       "      <td>0.0</td>\n",
       "      <td>14.0</td>\n",
       "      <td>273.000000</td>\n",
       "      <td>7.800000</td>\n",
       "      <td>15</td>\n",
       "      <td>82.0</td>\n",
       "      <td>0.426829</td>\n",
       "      <td>0.000000</td>\n",
       "      <td>0.439560</td>\n",
       "      <td>0.439560</td>\n",
       "      <td>3.076923</td>\n",
       "      <td>0.000000</td>\n",
       "      <td>1350000.0</td>\n",
       "      <td>1.53</td>\n",
       "      <td>0.653595</td>\n",
       "      <td>1.960784</td>\n",
       "      <td>1.960784</td>\n",
       "      <td>22.875817</td>\n",
       "      <td>2M</td>\n",
       "      <td>-1.325504</td>\n",
       "      <td>-1.534155</td>\n",
       "      <td>-1.580453</td>\n",
       "      <td>-1.490859</td>\n",
       "    </tr>\n",
       "  </tbody>\n",
       "</table>\n",
       "<p>389 rows × 34 columns</p>\n",
       "</div>"
      ],
      "text/plain": [
       "    playerId    season                     team      playerName  age  \\\n",
       "432  8482740  20242025           [Dallas Stars]  Wyatt Johnston   21   \n",
       "461  8484166  20242025  [Columbus Blue Jackets]   Adam Fantilli   20   \n",
       "429  8482720  20242025    [Toronto Maple Leafs]   Matthew Knies   22   \n",
       "407  8482159  20242025    [Philadelphia Flyers]  Tyson Foerster   22   \n",
       "388  8482079  20242025         [Minnesota Wild]     Marco Rossi   23   \n",
       "..       ...       ...                      ...             ...  ...   \n",
       "58   8475794  20242025           [Dallas Stars]    Tyler Seguin   32   \n",
       "284  8480011  20242025        [San Jose Sharks]     Klim Kostin   25   \n",
       "118  8477070  20242025       [Utah Hockey Club]    Liam O'Brien   30   \n",
       "46   8475714  20242025    [Toronto Maple Leafs]  Calle Jarnkrok   33   \n",
       "5    8471817  20242025    [Toronto Maple Leafs]     Ryan Reaves   37   \n",
       "\n",
       "     gamesPlayed  goals  assists  points  plusMinus   pim  powerPlayPoints  \\\n",
       "432           82   33.0     38.0      71        2.0  14.0             25.0   \n",
       "461           82   31.0     23.0      54        4.0  18.0              4.0   \n",
       "429           78   29.0     29.0      58        7.0  43.0             15.0   \n",
       "407           81   25.0     18.0      43       -9.0  49.0              8.0   \n",
       "388           82   24.0     36.0      60        3.0  26.0             16.0   \n",
       "..           ...    ...      ...     ...        ...   ...              ...   \n",
       "58            20    9.0     12.0      21       15.0   4.0              3.0   \n",
       "284           35    1.0      6.0       7       -6.0  27.0              1.0   \n",
       "118           28    0.0      2.0       2        1.0  50.0              0.0   \n",
       "46            19    1.0      6.0       7        1.0   4.0              1.0   \n",
       "5             35    0.0      2.0       2       -2.0  28.0              0.0   \n",
       "\n",
       "     shots     totalToi     avgToi  yoe  seasonLength       gpa      g/60  \\\n",
       "432  202.0  1552.533333  18.933333    3          82.0  1.000000  1.275335   \n",
       "461  191.0  1433.633333  17.483333    2          82.0  1.000000  1.297403   \n",
       "429  152.0  1444.300000  18.516667    3          82.0  0.951220  1.204736   \n",
       "407  142.0  1366.200000  16.866667    3          82.0  0.987805  1.097936   \n",
       "388  136.0  1496.500000  18.250000    4          82.0  1.000000  0.962245   \n",
       "..     ...          ...        ...  ...           ...       ...       ...   \n",
       "58    46.0   323.000000  16.150000   15          82.0  0.243902  1.671827   \n",
       "284   28.0   373.916667  10.683333    6          82.0  0.426829  0.160464   \n",
       "118   34.0   260.400000   9.300000    8          82.0  0.341463  0.000000   \n",
       "46     9.0   251.433333  13.233333   12          82.0  0.231707  0.238632   \n",
       "5     14.0   273.000000   7.800000   15          82.0  0.426829  0.000000   \n",
       "\n",
       "         a/60      p/60      s/60    ppp/60     capHit  capPct      g_eff  \\\n",
       "432  1.468568  2.743902  7.806596  0.966163   894167.0    1.02  33.333333   \n",
       "461  0.962589  2.259992  7.993676  0.167407   950000.0    1.08  29.629630   \n",
       "429  1.204736  2.409472  6.314478  0.623139   925000.0    1.05  28.571429   \n",
       "407  0.790514  1.888450  6.236276  0.351339   863333.0    0.98  26.530612   \n",
       "388  1.443368  2.405613  5.452723  0.641497   863333.0    0.98  25.510204   \n",
       "..        ...       ...       ...       ...        ...     ...        ...   \n",
       "58   2.229102  3.900929  8.544892  0.557276  9850000.0   11.19   0.893655   \n",
       "284  0.962781  1.123245  4.492980  0.160464  2000000.0    2.27   0.881057   \n",
       "118  0.460829  0.460829  7.834101  0.000000  1000000.0    1.14   0.877193   \n",
       "46   1.431791  1.670423  2.147687  0.238632  2100000.0    2.39   0.836820   \n",
       "5    0.439560  0.439560  3.076923  0.000000  1350000.0    1.53   0.653595   \n",
       "\n",
       "         a_eff      p_eff     gp_eff salary_tier   g_eff_z   a_eff_z  \\\n",
       "432  38.235294  70.588235  80.392157          1M  3.022168  2.548681   \n",
       "461  22.222222  50.925926  75.925926          1M  2.537350  0.944386   \n",
       "429  28.571429  56.190476  74.285714          1M  2.398830  1.580492   \n",
       "407  19.387755  44.897959  82.653061          1M  2.131686  0.660411   \n",
       "388  37.755102  62.244898  83.673469          1M  1.998113  2.500572   \n",
       "..         ...        ...        ...         ...       ...       ...   \n",
       "58    1.161752   1.966041   1.787310         10M -1.594352 -1.724648   \n",
       "284   3.083700   3.524229  15.418502          2M -1.275123 -1.262224   \n",
       "118   2.631579   2.631579  24.561404          1M -1.226370 -1.018333   \n",
       "46    2.928870   3.347280   7.949791          3M -1.604561 -0.933573   \n",
       "5     1.960784   1.960784  22.875817          2M -1.325504 -1.534155   \n",
       "\n",
       "      p_eff_z  gp_eff_z  \n",
       "432  2.885939  0.877263  \n",
       "461  1.717835  0.689866  \n",
       "429  2.030593  0.621045  \n",
       "407  1.359724  0.972127  \n",
       "388  2.390276  1.014942  \n",
       "..        ...       ...  \n",
       "58  -1.987152 -2.642859  \n",
       "284 -1.380807 -2.105979  \n",
       "118 -1.151248 -1.465314  \n",
       "46  -1.268493 -2.673761  \n",
       "5   -1.580453 -1.490859  \n",
       "\n",
       "[389 rows x 34 columns]"
      ]
     },
     "execution_count": 13,
     "metadata": {},
     "output_type": "execute_result"
    }
   ],
   "source": [
    "df.sort_values(by=\"g_eff\", ascending=False)"
   ]
  },
  {
   "cell_type": "code",
   "execution_count": 14,
   "id": "4b48f44e",
   "metadata": {},
   "outputs": [],
   "source": [
    "tiers = [\"1M\", \"2M\", \"3M\", \"4M\", \"5M\", \"6M\", \"7M\", \"8M\", \"9M\", \"10M\", \">10M\"]  # your custom order\n",
    "df[\"salary_tier\"] = pd.Categorical(df[\"salary_tier\"], categories=tiers, ordered=True)\n",
    "df = df.sort_values('salary_tier')"
   ]
  },
  {
   "cell_type": "code",
   "execution_count": 15,
   "id": "0e210f8a",
   "metadata": {},
   "outputs": [
    {
     "data": {
      "application/vnd.plotly.v1+json": {
       "config": {
        "plotlyServerURL": "https://plot.ly"
       },
       "data": [
        {
         "alignmentgroup": "True",
         "box": {
          "visible": false
         },
         "hovertemplate": "<b>%{hovertext}</b><br><br>salary_tier=%{x}<br>g_eff=%{y}<extra></extra>",
         "hovertext": [
          "Jack Williams",
          "Liam O'Brien",
          "Eric Robinson",
          "Connor Brown",
          "Dominic Toninato",
          "Rasmus Kupari",
          "Jimmy Vesey",
          "Akil Thomas",
          "Jakub Lauko",
          "Pontus Holmberg",
          "Zemgus Girgensons",
          "Mark Jankowski",
          "Jonatan Berggren",
          "Tanner Pearson",
          "David Gustafsson",
          "Luke Glendening",
          "Martin Pospisil",
          "Paul Cotter",
          "Nikolai Kovalenko",
          "Cole Koepke",
          "Nolan Foote",
          "Alex Turcotte",
          "John Beecher",
          "Arthur Kaliyev",
          "Matt Nieto",
          "Nicholas Robertson",
          "Jakob Pelletier",
          "Simon Holmstrom",
          "Tyler Motte",
          "Nick Cousins",
          "Jonny Brodzinski",
          "Parker Kelly",
          "Matthew Highmore",
          "Bokondji Imama",
          "A.J. Greer",
          "Jansen Harkins",
          "Daniel Sprong",
          "Maxim Tsyplakov",
          "Adam Gaudette",
          "Kasperi Kapanen",
          "Steven Lorentz",
          "Jakub Vrana",
          "Max Jones",
          "Tyson Jost",
          "Tomas Nosek",
          "Taylor Raddysh",
          "Noah Gregor",
          "Nathan Walker",
          "Curtis Lazar",
          "Michael Pezzetta",
          "Michael Eyssimont",
          "Michael Carcone",
          "Jonah Gadjovich",
          "Jaret Anderson-Dolan",
          "Jesper Boqvist",
          "Jonas Rondbjerg",
          "Elias Pettersson",
          "Michael McCarron",
          "Mark Kastelic",
          "Hudson Fasching",
          "Vasily Podkolzin",
          "Kyle MacLean",
          "Travis Boyd",
          "Zachary L'Heureux",
          "Wyatt Johnston",
          "Matt Martin",
          "Samuel Helenius",
          "Matthew Knies",
          "Mackie Samoskevich",
          "Brennan Othmann",
          "Logan Stankoven",
          "Joel Kiviranta",
          "Emil Heineman",
          "Jeff Malott",
          "Craig Smith",
          "Gage Goncalves",
          "Marat Khusnutdinov",
          "William Eklund",
          "Landon Slaggert",
          "Jackson Blake",
          "Logan Cooley",
          "Macklin Celebrini",
          "Matvei Michkov",
          "Will Smith",
          "Adam Fantilli",
          "Leo Carlsson",
          "Zach Benson",
          "Taylor Ward",
          "Trevor Lewis",
          "Marc Gatcomb",
          "Shane Wright",
          "Frank Nazar",
          "Rutger McGroarty",
          "Marco Kasper",
          "Cutter Gauthier",
          "Connor Bedard",
          "Tyson Foerster",
          "Josh Doan",
          "Alexander Holtz",
          "Will Cuylle",
          "Connor Zary",
          "Marco Rossi",
          "Jake Neighbours",
          "Ridly Greig",
          "Jack Quinn",
          "Drew O'Connor",
          "Tye Kartye",
          "Cole Smith",
          "Brett Berard",
          "Sam Carrick",
          "Dmitri Voronkov",
          "Mitchell Chaffee",
          "Mavrik Bourque",
          "Luke Evangelista",
          "Juuso Parssinen",
          "Alex Laferriere",
          "Cole Schwindt",
          "Colin Blackwell",
          "Thomas Bordeleau",
          "Justin Dowling",
          "Anthony Beauvillier",
          "Beck Malenstyn",
          "Brett Howden",
          "Sam Steel",
          "Carl Grundstrom",
          "Nils Hoglander",
          "Ryan Lomberg",
          "Kevin Rooney",
          "Bobby Brink",
          "Christian Fischer",
          "Keegan Kolesar",
          "Kevin Stenlund",
          "Noel Acciari",
          "Pavel Dorofeyev",
          "Ty Dellandrea",
          "Brandon Duhaime",
          "Brett Leason",
          "Jack Drury",
          "Isac Lundestrom",
          "Jack McBain",
          "Connor Dewar",
          "Bobby McMann",
          "Kiefer Sherwood",
          "Pius Suter",
          "Kent Johnson",
          "Morgan Barron",
          "Fabian Zetterlund",
          "Ryan Poehling",
          "Klim Kostin",
          "Lukas Reichel",
          "Morgan Geekie",
          "Justin Danforth",
          "Mathieu Olivier",
          "Logan O'Connor",
          "Jake Evans",
          "Nathan Bastian",
          "Nico Sturm",
          "Blake Lizotte",
          "Peyton Krebs",
          "Victor Olofsson",
          "Corey Perry",
          "Nic Dowd",
          "Nicolas Aube-Kubel",
          "Marcus Johansson",
          "Ross Johnston",
          "William Carrier",
          "Vladislav Namestnikov",
          "Brandon Saad",
          "Patrick Maroon",
          "Oskar Sundqvist",
          "Ryan Reaves",
          "Nicolas Deslauriers",
          "Sam Lafferty",
          "Mattias Janmark",
          "Tomas Tatar",
          "Ryan Donato",
          "Alexis Lafrenière",
          "Jeff Skinner",
          "Philipp Kurashev",
          "Nick Bjugstad",
          "Dylan Holloway",
          "Frederick Gaudreau",
          "Garnet Hathaway",
          "Sean Kuraly",
          "Alex Newhook",
          "Luke Kunin",
          "Joe Veleno",
          "Jonathan Drouin",
          "Calle Jarnkrok",
          "Kaapo Kakko",
          "Cody Glass",
          "Stefan Noesen",
          "Scott Laughton",
          "Morgan Frost",
          "Barrett Hayton",
          "Alexandre Texier",
          "David Kampf",
          "Eetu Luostarinen",
          "Colton Sissons",
          "Noah Cates",
          "Ryan McLeod",
          "Tanner Jeannot",
          "Connor McMichael",
          "Trent Frederic",
          "Jordan Greenway",
          "Lars Eller",
          "Jack Roslovic",
          "Nicolas Roy",
          "Michael Amadio",
          "Mathieu Joseph",
          "Evgenii Dadonov",
          "Cole Sillinger",
          "Matt Duchene",
          "Evan Rodrigues",
          "Adam Henrique",
          "Yegor Chinakhov",
          "Pierre Engvall",
          "Mason Appleton",
          "Danton Heinen",
          "Casey Cizikas",
          "Jordan Staal",
          "Warren Foegele",
          "Eeli Tolvanen",
          "Ryan Hartman",
          "Yegor Sharangovich",
          "Barclay Goodrow",
          "Anthony Duclair",
          "Dakota Joshua",
          "Radek Faksa",
          "Viktor Arvidsson",
          "Patrick Kane",
          "Joel Armia",
          "David Perron",
          "Frank Vatrano",
          "Jordan Martinook",
          "Alex Iafallo",
          "Kirill Marchenko",
          "Cole Perfetti",
          "Michael Rasmussen",
          "Aliaksei Protas",
          "Brandon Tanev",
          "Dawson Mercer",
          "Marcus Foligno",
          "Nino Niederreiter",
          "Yakov Trenin",
          "Matias Maccelli",
          "Ross Colton",
          "Max Domi",
          "Alexander Kerfoot",
          "Erik Haula",
          "Gustav Nyquist",
          "Shane Pinto",
          "Boone Jenner",
          "Rickard Rakell",
          "Jason Zucker",
          "Anton Lundell",
          "Kyle Palmieri",
          "Jesperi Kotkaniemi",
          "Vladimir Tarasenko",
          "Reilly Smith",
          "Blake Coleman",
          "Mikael Granlund",
          "Jean-Gabriel Pageau",
          "Jordan Eberle",
          "Ryan O'Reilly",
          "Ilya Mikheyev",
          "Mikael Backlund",
          "Nick Foligno",
          "Ryan Strome",
          "Michael Bunting",
          "Mason Marchment",
          "Sam Bennett",
          "Alex Tuch",
          "Joel Farabee",
          "Jared McCann",
          "Conor Garland",
          "Ivan Barbashev",
          "Lawson Crouse",
          "Dylan Strome",
          "Alexander Wennberg",
          "Christian Dvorak",
          "Drake Batherson",
          "Carter Verhaeghe",
          "Pavel Zacha",
          "Trevor Moore",
          "Filip Chytil",
          "Jason Dickinson",
          "Vincent Trocheck",
          "Jaden Schwartz",
          "Ondrej Palat",
          "Bryan Rust",
          "Sean Monahan",
          "Zach Hyman",
          "Pavel Buchnevich",
          "Brock Nelson",
          "Charlie Coyle",
          "Tyler Toffoli",
          "William Karlsson",
          "Nick Schmaltz",
          "Adrian Kempe",
          "Jake DeBrusk",
          "Travis Konecny",
          "Andrei Kuzmenko",
          "Andrew Mangiapane",
          "Nikolaj Ehlers",
          "Ryan Nugent-Hopkins",
          "Taylor Hall",
          "Phillip Danault",
          "Josh Anderson",
          "Teuvo Teravainen",
          "Jonathan Marchessault",
          "Trevor Zegras",
          "Casey Mittelstadt",
          "Oliver Bjorkstrand",
          "Andre Burakovsky",
          "Tyler Bertuzzi",
          "Yanni Gourde",
          "Martin Necas",
          "Owen Tippett",
          "Chris Kreider",
          "Claude Giroux",
          "Anze Kopitar",
          "Anders Lee",
          "Brendan Gallagher",
          "Nazem Kadri",
          "Brayden Schenn",
          "Anthony Cirelli",
          "Brock Boeser",
          "Brandon Hagel",
          "Chandler Stephenson",
          "Valeri Nichushkin",
          "Brad Marchand",
          "Quinton Byfield",
          "Jason Robertson",
          "Josh Norris",
          "Cole Caufield",
          "Nick Suzuki",
          "Andrei Svechnikov",
          "Steven Stamkos",
          "Kevin Fiala",
          "Kevin Hayes",
          "Kyle Connor",
          "Clayton Keller",
          "Elias Lindholm",
          "Seth Jarvis",
          "Nico Hischier",
          "Dylan Cozens",
          "J.T. Miller",
          "Tage Thompson",
          "Jesper Bratt",
          "Sean Couturier",
          "Patrik Laine",
          "Bo Horvat",
          "Mika Zibanejad",
          "Roope Hintz",
          "Mark Scheifele",
          "Tim Stützle",
          "Pierre-Luc Dubois",
          "Jordan Kyrou",
          "Filip Forsberg",
          "Brady Tkachuk",
          "Sam Reinhart",
          "Kirill Kaprizov",
          "Jake Guentzel",
          "Tomas Hertl",
          "Robert Thomas",
          "Leon Draisaitl",
          "Dylan Larkin",
          "Lucas Raymond",
          "Sidney Crosby",
          "Timo Meier",
          "Nikita Kucherov",
          "Jamie Benn",
          "Alex Ovechkin",
          "Jack Eichel",
          "Mark Stone",
          "Brayden Point",
          "Sebastian Aho",
          "Aleksander Barkov",
          "Tyler Seguin",
          "Mikko Rantanen",
          "Nathan MacKinnon",
          "Auston Matthews",
          "David Pastrnak",
          "Elias Pettersson",
          "William Nylander",
          "Jonathan Huberdeau",
          "Connor McDavid",
          "Artemi Panarin"
         ],
         "legendgroup": "",
         "marker": {
          "color": "#636efa"
         },
         "name": "",
         "offsetgroup": "",
         "orientation": "v",
         "points": "all",
         "scalegroup": "True",
         "showlegend": false,
         "type": "violin",
         "x": [
          "1M",
          "1M",
          "1M",
          "1M",
          "1M",
          "1M",
          "1M",
          "1M",
          "1M",
          "1M",
          "1M",
          "1M",
          "1M",
          "1M",
          "1M",
          "1M",
          "1M",
          "1M",
          "1M",
          "1M",
          "1M",
          "1M",
          "1M",
          "1M",
          "1M",
          "1M",
          "1M",
          "1M",
          "1M",
          "1M",
          "1M",
          "1M",
          "1M",
          "1M",
          "1M",
          "1M",
          "1M",
          "1M",
          "1M",
          "1M",
          "1M",
          "1M",
          "1M",
          "1M",
          "1M",
          "1M",
          "1M",
          "1M",
          "1M",
          "1M",
          "1M",
          "1M",
          "1M",
          "1M",
          "1M",
          "1M",
          "1M",
          "1M",
          "1M",
          "1M",
          "1M",
          "1M",
          "1M",
          "1M",
          "1M",
          "1M",
          "1M",
          "1M",
          "1M",
          "1M",
          "1M",
          "1M",
          "1M",
          "1M",
          "1M",
          "1M",
          "1M",
          "1M",
          "1M",
          "1M",
          "1M",
          "1M",
          "1M",
          "1M",
          "1M",
          "1M",
          "1M",
          "1M",
          "1M",
          "1M",
          "1M",
          "1M",
          "1M",
          "1M",
          "1M",
          "1M",
          "1M",
          "1M",
          "1M",
          "1M",
          "1M",
          "1M",
          "1M",
          "1M",
          "1M",
          "1M",
          "1M",
          "1M",
          "1M",
          "1M",
          "1M",
          "1M",
          "1M",
          "1M",
          "1M",
          "1M",
          "1M",
          "1M",
          "1M",
          "1M",
          "2M",
          "2M",
          "2M",
          "2M",
          "2M",
          "2M",
          "2M",
          "2M",
          "2M",
          "2M",
          "2M",
          "2M",
          "2M",
          "2M",
          "2M",
          "2M",
          "2M",
          "2M",
          "2M",
          "2M",
          "2M",
          "2M",
          "2M",
          "2M",
          "2M",
          "2M",
          "2M",
          "2M",
          "2M",
          "2M",
          "2M",
          "2M",
          "2M",
          "2M",
          "2M",
          "2M",
          "2M",
          "2M",
          "2M",
          "2M",
          "2M",
          "2M",
          "2M",
          "2M",
          "2M",
          "2M",
          "2M",
          "2M",
          "2M",
          "2M",
          "2M",
          "2M",
          "2M",
          "2M",
          "2M",
          "2M",
          "3M",
          "3M",
          "3M",
          "3M",
          "3M",
          "3M",
          "3M",
          "3M",
          "3M",
          "3M",
          "3M",
          "3M",
          "3M",
          "3M",
          "3M",
          "3M",
          "3M",
          "3M",
          "3M",
          "3M",
          "3M",
          "3M",
          "3M",
          "3M",
          "3M",
          "3M",
          "3M",
          "3M",
          "3M",
          "3M",
          "3M",
          "3M",
          "3M",
          "3M",
          "3M",
          "3M",
          "3M",
          "3M",
          "3M",
          "3M",
          "3M",
          "3M",
          "3M",
          "3M",
          "3M",
          "4M",
          "4M",
          "4M",
          "4M",
          "4M",
          "4M",
          "4M",
          "4M",
          "4M",
          "4M",
          "4M",
          "4M",
          "4M",
          "4M",
          "4M",
          "4M",
          "4M",
          "4M",
          "4M",
          "4M",
          "4M",
          "4M",
          "4M",
          "4M",
          "4M",
          "4M",
          "4M",
          "4M",
          "4M",
          "4M",
          "4M",
          "4M",
          "5M",
          "5M",
          "5M",
          "5M",
          "5M",
          "5M",
          "5M",
          "5M",
          "5M",
          "5M",
          "5M",
          "5M",
          "5M",
          "5M",
          "5M",
          "5M",
          "5M",
          "5M",
          "5M",
          "5M",
          "5M",
          "5M",
          "5M",
          "5M",
          "5M",
          "5M",
          "5M",
          "5M",
          "5M",
          "5M",
          "5M",
          "5M",
          "5M",
          "5M",
          "6M",
          "6M",
          "6M",
          "6M",
          "6M",
          "6M",
          "6M",
          "6M",
          "6M",
          "6M",
          "6M",
          "6M",
          "6M",
          "6M",
          "6M",
          "6M",
          "6M",
          "6M",
          "6M",
          "6M",
          "6M",
          "6M",
          "6M",
          "6M",
          "6M",
          "6M",
          "6M",
          "6M",
          "6M",
          "6M",
          "7M",
          "7M",
          "7M",
          "7M",
          "7M",
          "7M",
          "7M",
          "7M",
          "7M",
          "7M",
          "7M",
          "7M",
          "7M",
          "7M",
          "7M",
          "7M",
          "8M",
          "8M",
          "8M",
          "8M",
          "8M",
          "8M",
          "8M",
          "8M",
          "8M",
          "8M",
          "8M",
          "8M",
          "8M",
          "8M",
          "8M",
          "8M",
          "8M",
          "8M",
          "9M",
          "9M",
          "9M",
          "9M",
          "9M",
          "9M",
          "9M",
          "9M",
          "9M",
          "9M",
          "9M",
          "9M",
          "9M",
          "9M",
          "9M",
          "9M",
          "9M",
          "9M",
          "9M",
          "9M",
          "10M",
          "10M",
          "10M",
          "10M",
          "10M",
          "10M",
          "10M",
          "10M",
          "10M",
          "10M",
          ">10M",
          ">10M",
          ">10M",
          ">10M",
          ">10M",
          ">10M",
          ">10M",
          ">10M"
         ],
         "x0": " ",
         "xaxis": "x",
         "y": {
          "bdata": "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",
          "dtype": "f8"
         },
         "y0": " ",
         "yaxis": "y"
        }
       ],
       "layout": {
        "legend": {
         "tracegroupgap": 0
        },
        "margin": {
         "t": 60
        },
        "template": {
         "data": {
          "bar": [
           {
            "error_x": {
             "color": "#f2f5fa"
            },
            "error_y": {
             "color": "#f2f5fa"
            },
            "marker": {
             "line": {
              "color": "rgb(17,17,17)",
              "width": 0.5
             },
             "pattern": {
              "fillmode": "overlay",
              "size": 10,
              "solidity": 0.2
             }
            },
            "type": "bar"
           }
          ],
          "barpolar": [
           {
            "marker": {
             "line": {
              "color": "rgb(17,17,17)",
              "width": 0.5
             },
             "pattern": {
              "fillmode": "overlay",
              "size": 10,
              "solidity": 0.2
             }
            },
            "type": "barpolar"
           }
          ],
          "carpet": [
           {
            "aaxis": {
             "endlinecolor": "#A2B1C6",
             "gridcolor": "#506784",
             "linecolor": "#506784",
             "minorgridcolor": "#506784",
             "startlinecolor": "#A2B1C6"
            },
            "baxis": {
             "endlinecolor": "#A2B1C6",
             "gridcolor": "#506784",
             "linecolor": "#506784",
             "minorgridcolor": "#506784",
             "startlinecolor": "#A2B1C6"
            },
            "type": "carpet"
           }
          ],
          "choropleth": [
           {
            "colorbar": {
             "outlinewidth": 0,
             "ticks": ""
            },
            "type": "choropleth"
           }
          ],
          "contour": [
           {
            "colorbar": {
             "outlinewidth": 0,
             "ticks": ""
            },
            "colorscale": [
             [
              0,
              "#0d0887"
             ],
             [
              0.1111111111111111,
              "#46039f"
             ],
             [
              0.2222222222222222,
              "#7201a8"
             ],
             [
              0.3333333333333333,
              "#9c179e"
             ],
             [
              0.4444444444444444,
              "#bd3786"
             ],
             [
              0.5555555555555556,
              "#d8576b"
             ],
             [
              0.6666666666666666,
              "#ed7953"
             ],
             [
              0.7777777777777778,
              "#fb9f3a"
             ],
             [
              0.8888888888888888,
              "#fdca26"
             ],
             [
              1,
              "#f0f921"
             ]
            ],
            "type": "contour"
           }
          ],
          "contourcarpet": [
           {
            "colorbar": {
             "outlinewidth": 0,
             "ticks": ""
            },
            "type": "contourcarpet"
           }
          ],
          "heatmap": [
           {
            "colorbar": {
             "outlinewidth": 0,
             "ticks": ""
            },
            "colorscale": [
             [
              0,
              "#0d0887"
             ],
             [
              0.1111111111111111,
              "#46039f"
             ],
             [
              0.2222222222222222,
              "#7201a8"
             ],
             [
              0.3333333333333333,
              "#9c179e"
             ],
             [
              0.4444444444444444,
              "#bd3786"
             ],
             [
              0.5555555555555556,
              "#d8576b"
             ],
             [
              0.6666666666666666,
              "#ed7953"
             ],
             [
              0.7777777777777778,
              "#fb9f3a"
             ],
             [
              0.8888888888888888,
              "#fdca26"
             ],
             [
              1,
              "#f0f921"
             ]
            ],
            "type": "heatmap"
           }
          ],
          "histogram": [
           {
            "marker": {
             "pattern": {
              "fillmode": "overlay",
              "size": 10,
              "solidity": 0.2
             }
            },
            "type": "histogram"
           }
          ],
          "histogram2d": [
           {
            "colorbar": {
             "outlinewidth": 0,
             "ticks": ""
            },
            "colorscale": [
             [
              0,
              "#0d0887"
             ],
             [
              0.1111111111111111,
              "#46039f"
             ],
             [
              0.2222222222222222,
              "#7201a8"
             ],
             [
              0.3333333333333333,
              "#9c179e"
             ],
             [
              0.4444444444444444,
              "#bd3786"
             ],
             [
              0.5555555555555556,
              "#d8576b"
             ],
             [
              0.6666666666666666,
              "#ed7953"
             ],
             [
              0.7777777777777778,
              "#fb9f3a"
             ],
             [
              0.8888888888888888,
              "#fdca26"
             ],
             [
              1,
              "#f0f921"
             ]
            ],
            "type": "histogram2d"
           }
          ],
          "histogram2dcontour": [
           {
            "colorbar": {
             "outlinewidth": 0,
             "ticks": ""
            },
            "colorscale": [
             [
              0,
              "#0d0887"
             ],
             [
              0.1111111111111111,
              "#46039f"
             ],
             [
              0.2222222222222222,
              "#7201a8"
             ],
             [
              0.3333333333333333,
              "#9c179e"
             ],
             [
              0.4444444444444444,
              "#bd3786"
             ],
             [
              0.5555555555555556,
              "#d8576b"
             ],
             [
              0.6666666666666666,
              "#ed7953"
             ],
             [
              0.7777777777777778,
              "#fb9f3a"
             ],
             [
              0.8888888888888888,
              "#fdca26"
             ],
             [
              1,
              "#f0f921"
             ]
            ],
            "type": "histogram2dcontour"
           }
          ],
          "mesh3d": [
           {
            "colorbar": {
             "outlinewidth": 0,
             "ticks": ""
            },
            "type": "mesh3d"
           }
          ],
          "parcoords": [
           {
            "line": {
             "colorbar": {
              "outlinewidth": 0,
              "ticks": ""
             }
            },
            "type": "parcoords"
           }
          ],
          "pie": [
           {
            "automargin": true,
            "type": "pie"
           }
          ],
          "scatter": [
           {
            "marker": {
             "line": {
              "color": "#283442"
             }
            },
            "type": "scatter"
           }
          ],
          "scatter3d": [
           {
            "line": {
             "colorbar": {
              "outlinewidth": 0,
              "ticks": ""
             }
            },
            "marker": {
             "colorbar": {
              "outlinewidth": 0,
              "ticks": ""
             }
            },
            "type": "scatter3d"
           }
          ],
          "scattercarpet": [
           {
            "marker": {
             "colorbar": {
              "outlinewidth": 0,
              "ticks": ""
             }
            },
            "type": "scattercarpet"
           }
          ],
          "scattergeo": [
           {
            "marker": {
             "colorbar": {
              "outlinewidth": 0,
              "ticks": ""
             }
            },
            "type": "scattergeo"
           }
          ],
          "scattergl": [
           {
            "marker": {
             "line": {
              "color": "#283442"
             }
            },
            "type": "scattergl"
           }
          ],
          "scattermap": [
           {
            "marker": {
             "colorbar": {
              "outlinewidth": 0,
              "ticks": ""
             }
            },
            "type": "scattermap"
           }
          ],
          "scattermapbox": [
           {
            "marker": {
             "colorbar": {
              "outlinewidth": 0,
              "ticks": ""
             }
            },
            "type": "scattermapbox"
           }
          ],
          "scatterpolar": [
           {
            "marker": {
             "colorbar": {
              "outlinewidth": 0,
              "ticks": ""
             }
            },
            "type": "scatterpolar"
           }
          ],
          "scatterpolargl": [
           {
            "marker": {
             "colorbar": {
              "outlinewidth": 0,
              "ticks": ""
             }
            },
            "type": "scatterpolargl"
           }
          ],
          "scatterternary": [
           {
            "marker": {
             "colorbar": {
              "outlinewidth": 0,
              "ticks": ""
             }
            },
            "type": "scatterternary"
           }
          ],
          "surface": [
           {
            "colorbar": {
             "outlinewidth": 0,
             "ticks": ""
            },
            "colorscale": [
             [
              0,
              "#0d0887"
             ],
             [
              0.1111111111111111,
              "#46039f"
             ],
             [
              0.2222222222222222,
              "#7201a8"
             ],
             [
              0.3333333333333333,
              "#9c179e"
             ],
             [
              0.4444444444444444,
              "#bd3786"
             ],
             [
              0.5555555555555556,
              "#d8576b"
             ],
             [
              0.6666666666666666,
              "#ed7953"
             ],
             [
              0.7777777777777778,
              "#fb9f3a"
             ],
             [
              0.8888888888888888,
              "#fdca26"
             ],
             [
              1,
              "#f0f921"
             ]
            ],
            "type": "surface"
           }
          ],
          "table": [
           {
            "cells": {
             "fill": {
              "color": "#506784"
             },
             "line": {
              "color": "rgb(17,17,17)"
             }
            },
            "header": {
             "fill": {
              "color": "#2a3f5f"
             },
             "line": {
              "color": "rgb(17,17,17)"
             }
            },
            "type": "table"
           }
          ]
         },
         "layout": {
          "annotationdefaults": {
           "arrowcolor": "#f2f5fa",
           "arrowhead": 0,
           "arrowwidth": 1
          },
          "autotypenumbers": "strict",
          "coloraxis": {
           "colorbar": {
            "outlinewidth": 0,
            "ticks": ""
           }
          },
          "colorscale": {
           "diverging": [
            [
             0,
             "#8e0152"
            ],
            [
             0.1,
             "#c51b7d"
            ],
            [
             0.2,
             "#de77ae"
            ],
            [
             0.3,
             "#f1b6da"
            ],
            [
             0.4,
             "#fde0ef"
            ],
            [
             0.5,
             "#f7f7f7"
            ],
            [
             0.6,
             "#e6f5d0"
            ],
            [
             0.7,
             "#b8e186"
            ],
            [
             0.8,
             "#7fbc41"
            ],
            [
             0.9,
             "#4d9221"
            ],
            [
             1,
             "#276419"
            ]
           ],
           "sequential": [
            [
             0,
             "#0d0887"
            ],
            [
             0.1111111111111111,
             "#46039f"
            ],
            [
             0.2222222222222222,
             "#7201a8"
            ],
            [
             0.3333333333333333,
             "#9c179e"
            ],
            [
             0.4444444444444444,
             "#bd3786"
            ],
            [
             0.5555555555555556,
             "#d8576b"
            ],
            [
             0.6666666666666666,
             "#ed7953"
            ],
            [
             0.7777777777777778,
             "#fb9f3a"
            ],
            [
             0.8888888888888888,
             "#fdca26"
            ],
            [
             1,
             "#f0f921"
            ]
           ],
           "sequentialminus": [
            [
             0,
             "#0d0887"
            ],
            [
             0.1111111111111111,
             "#46039f"
            ],
            [
             0.2222222222222222,
             "#7201a8"
            ],
            [
             0.3333333333333333,
             "#9c179e"
            ],
            [
             0.4444444444444444,
             "#bd3786"
            ],
            [
             0.5555555555555556,
             "#d8576b"
            ],
            [
             0.6666666666666666,
             "#ed7953"
            ],
            [
             0.7777777777777778,
             "#fb9f3a"
            ],
            [
             0.8888888888888888,
             "#fdca26"
            ],
            [
             1,
             "#f0f921"
            ]
           ]
          },
          "colorway": [
           "#636efa",
           "#EF553B",
           "#00cc96",
           "#ab63fa",
           "#FFA15A",
           "#19d3f3",
           "#FF6692",
           "#B6E880",
           "#FF97FF",
           "#FECB52"
          ],
          "font": {
           "color": "#f2f5fa"
          },
          "geo": {
           "bgcolor": "rgb(17,17,17)",
           "lakecolor": "rgb(17,17,17)",
           "landcolor": "rgb(17,17,17)",
           "showlakes": true,
           "showland": true,
           "subunitcolor": "#506784"
          },
          "hoverlabel": {
           "align": "left"
          },
          "hovermode": "closest",
          "mapbox": {
           "style": "dark"
          },
          "paper_bgcolor": "rgb(17,17,17)",
          "plot_bgcolor": "rgb(17,17,17)",
          "polar": {
           "angularaxis": {
            "gridcolor": "#506784",
            "linecolor": "#506784",
            "ticks": ""
           },
           "bgcolor": "rgb(17,17,17)",
           "radialaxis": {
            "gridcolor": "#506784",
            "linecolor": "#506784",
            "ticks": ""
           }
          },
          "scene": {
           "xaxis": {
            "backgroundcolor": "rgb(17,17,17)",
            "gridcolor": "#506784",
            "gridwidth": 2,
            "linecolor": "#506784",
            "showbackground": true,
            "ticks": "",
            "zerolinecolor": "#C8D4E3"
           },
           "yaxis": {
            "backgroundcolor": "rgb(17,17,17)",
            "gridcolor": "#506784",
            "gridwidth": 2,
            "linecolor": "#506784",
            "showbackground": true,
            "ticks": "",
            "zerolinecolor": "#C8D4E3"
           },
           "zaxis": {
            "backgroundcolor": "rgb(17,17,17)",
            "gridcolor": "#506784",
            "gridwidth": 2,
            "linecolor": "#506784",
            "showbackground": true,
            "ticks": "",
            "zerolinecolor": "#C8D4E3"
           }
          },
          "shapedefaults": {
           "line": {
            "color": "#f2f5fa"
           }
          },
          "sliderdefaults": {
           "bgcolor": "#C8D4E3",
           "bordercolor": "rgb(17,17,17)",
           "borderwidth": 1,
           "tickwidth": 0
          },
          "ternary": {
           "aaxis": {
            "gridcolor": "#506784",
            "linecolor": "#506784",
            "ticks": ""
           },
           "baxis": {
            "gridcolor": "#506784",
            "linecolor": "#506784",
            "ticks": ""
           },
           "bgcolor": "rgb(17,17,17)",
           "caxis": {
            "gridcolor": "#506784",
            "linecolor": "#506784",
            "ticks": ""
           }
          },
          "title": {
           "x": 0.05
          },
          "updatemenudefaults": {
           "bgcolor": "#506784",
           "borderwidth": 0
          },
          "xaxis": {
           "automargin": true,
           "gridcolor": "#283442",
           "linecolor": "#506784",
           "ticks": "",
           "title": {
            "standoff": 15
           },
           "zerolinecolor": "#283442",
           "zerolinewidth": 2
          },
          "yaxis": {
           "automargin": true,
           "gridcolor": "#283442",
           "linecolor": "#506784",
           "ticks": "",
           "title": {
            "standoff": 15
           },
           "zerolinecolor": "#283442",
           "zerolinewidth": 2
          }
         }
        },
        "violinmode": "group",
        "xaxis": {
         "anchor": "y",
         "domain": [
          0,
          1
         ],
         "title": {
          "text": "salary_tier"
         }
        },
        "yaxis": {
         "anchor": "x",
         "domain": [
          0,
          1
         ],
         "title": {
          "text": "g_eff"
         }
        }
       }
      },
      "image/png": "[encoded data removed]"
     },
     "metadata": {},
     "output_type": "display_data"
    }
   ],
   "source": [
    "fig = px.violin(\n",
    "    df,\n",
    "    x=\"salary_tier\",\n",
    "    y=\"g_eff\",\n",
    "    points=\"all\",\n",
    "    hover_name=\"playerName\"\n",
    ")\n",
    "fig.show()"
   ]
  },
  {
   "cell_type": "code",
   "execution_count": 16,
   "id": "95b181f7",
   "metadata": {},
   "outputs": [
    {
     "data": {
      "application/vnd.plotly.v1+json": {
       "config": {
        "plotlyServerURL": "https://plot.ly"
       },
       "data": [
        {
         "alignmentgroup": "True",
         "box": {
          "visible": false
         },
         "hovertemplate": "<b>%{hovertext}</b><br><br>salary_tier=%{x}<br>a_eff=%{y}<extra></extra>",
         "hovertext": [
          "Jack Williams",
          "Liam O'Brien",
          "Eric Robinson",
          "Connor Brown",
          "Dominic Toninato",
          "Rasmus Kupari",
          "Jimmy Vesey",
          "Akil Thomas",
          "Jakub Lauko",
          "Pontus Holmberg",
          "Zemgus Girgensons",
          "Mark Jankowski",
          "Jonatan Berggren",
          "Tanner Pearson",
          "David Gustafsson",
          "Luke Glendening",
          "Martin Pospisil",
          "Paul Cotter",
          "Nikolai Kovalenko",
          "Cole Koepke",
          "Nolan Foote",
          "Alex Turcotte",
          "John Beecher",
          "Arthur Kaliyev",
          "Matt Nieto",
          "Nicholas Robertson",
          "Jakob Pelletier",
          "Simon Holmstrom",
          "Tyler Motte",
          "Nick Cousins",
          "Jonny Brodzinski",
          "Parker Kelly",
          "Matthew Highmore",
          "Bokondji Imama",
          "A.J. Greer",
          "Jansen Harkins",
          "Daniel Sprong",
          "Maxim Tsyplakov",
          "Adam Gaudette",
          "Kasperi Kapanen",
          "Steven Lorentz",
          "Jakub Vrana",
          "Max Jones",
          "Tyson Jost",
          "Tomas Nosek",
          "Taylor Raddysh",
          "Noah Gregor",
          "Nathan Walker",
          "Curtis Lazar",
          "Michael Pezzetta",
          "Michael Eyssimont",
          "Michael Carcone",
          "Jonah Gadjovich",
          "Jaret Anderson-Dolan",
          "Jesper Boqvist",
          "Jonas Rondbjerg",
          "Elias Pettersson",
          "Michael McCarron",
          "Mark Kastelic",
          "Hudson Fasching",
          "Vasily Podkolzin",
          "Kyle MacLean",
          "Travis Boyd",
          "Zachary L'Heureux",
          "Wyatt Johnston",
          "Matt Martin",
          "Samuel Helenius",
          "Matthew Knies",
          "Mackie Samoskevich",
          "Brennan Othmann",
          "Logan Stankoven",
          "Joel Kiviranta",
          "Emil Heineman",
          "Jeff Malott",
          "Craig Smith",
          "Gage Goncalves",
          "Marat Khusnutdinov",
          "William Eklund",
          "Landon Slaggert",
          "Jackson Blake",
          "Logan Cooley",
          "Macklin Celebrini",
          "Matvei Michkov",
          "Will Smith",
          "Adam Fantilli",
          "Leo Carlsson",
          "Zach Benson",
          "Taylor Ward",
          "Trevor Lewis",
          "Marc Gatcomb",
          "Shane Wright",
          "Frank Nazar",
          "Rutger McGroarty",
          "Marco Kasper",
          "Cutter Gauthier",
          "Connor Bedard",
          "Tyson Foerster",
          "Josh Doan",
          "Alexander Holtz",
          "Will Cuylle",
          "Connor Zary",
          "Marco Rossi",
          "Jake Neighbours",
          "Ridly Greig",
          "Jack Quinn",
          "Drew O'Connor",
          "Tye Kartye",
          "Cole Smith",
          "Brett Berard",
          "Sam Carrick",
          "Dmitri Voronkov",
          "Mitchell Chaffee",
          "Mavrik Bourque",
          "Luke Evangelista",
          "Juuso Parssinen",
          "Alex Laferriere",
          "Cole Schwindt",
          "Colin Blackwell",
          "Thomas Bordeleau",
          "Justin Dowling",
          "Anthony Beauvillier",
          "Beck Malenstyn",
          "Brett Howden",
          "Sam Steel",
          "Carl Grundstrom",
          "Nils Hoglander",
          "Ryan Lomberg",
          "Kevin Rooney",
          "Bobby Brink",
          "Christian Fischer",
          "Keegan Kolesar",
          "Kevin Stenlund",
          "Noel Acciari",
          "Pavel Dorofeyev",
          "Ty Dellandrea",
          "Brandon Duhaime",
          "Brett Leason",
          "Jack Drury",
          "Isac Lundestrom",
          "Jack McBain",
          "Connor Dewar",
          "Bobby McMann",
          "Kiefer Sherwood",
          "Pius Suter",
          "Kent Johnson",
          "Morgan Barron",
          "Fabian Zetterlund",
          "Ryan Poehling",
          "Klim Kostin",
          "Lukas Reichel",
          "Morgan Geekie",
          "Justin Danforth",
          "Mathieu Olivier",
          "Logan O'Connor",
          "Jake Evans",
          "Nathan Bastian",
          "Nico Sturm",
          "Blake Lizotte",
          "Peyton Krebs",
          "Victor Olofsson",
          "Corey Perry",
          "Nic Dowd",
          "Nicolas Aube-Kubel",
          "Marcus Johansson",
          "Ross Johnston",
          "William Carrier",
          "Vladislav Namestnikov",
          "Brandon Saad",
          "Patrick Maroon",
          "Oskar Sundqvist",
          "Ryan Reaves",
          "Nicolas Deslauriers",
          "Sam Lafferty",
          "Mattias Janmark",
          "Tomas Tatar",
          "Ryan Donato",
          "Alexis Lafrenière",
          "Jeff Skinner",
          "Philipp Kurashev",
          "Nick Bjugstad",
          "Dylan Holloway",
          "Frederick Gaudreau",
          "Garnet Hathaway",
          "Sean Kuraly",
          "Alex Newhook",
          "Luke Kunin",
          "Joe Veleno",
          "Jonathan Drouin",
          "Calle Jarnkrok",
          "Kaapo Kakko",
          "Cody Glass",
          "Stefan Noesen",
          "Scott Laughton",
          "Morgan Frost",
          "Barrett Hayton",
          "Alexandre Texier",
          "David Kampf",
          "Eetu Luostarinen",
          "Colton Sissons",
          "Noah Cates",
          "Ryan McLeod",
          "Tanner Jeannot",
          "Connor McMichael",
          "Trent Frederic",
          "Jordan Greenway",
          "Lars Eller",
          "Jack Roslovic",
          "Nicolas Roy",
          "Michael Amadio",
          "Mathieu Joseph",
          "Evgenii Dadonov",
          "Cole Sillinger",
          "Matt Duchene",
          "Evan Rodrigues",
          "Adam Henrique",
          "Yegor Chinakhov",
          "Pierre Engvall",
          "Mason Appleton",
          "Danton Heinen",
          "Casey Cizikas",
          "Jordan Staal",
          "Warren Foegele",
          "Eeli Tolvanen",
          "Ryan Hartman",
          "Yegor Sharangovich",
          "Barclay Goodrow",
          "Anthony Duclair",
          "Dakota Joshua",
          "Radek Faksa",
          "Viktor Arvidsson",
          "Patrick Kane",
          "Joel Armia",
          "David Perron",
          "Frank Vatrano",
          "Jordan Martinook",
          "Alex Iafallo",
          "Kirill Marchenko",
          "Cole Perfetti",
          "Michael Rasmussen",
          "Aliaksei Protas",
          "Brandon Tanev",
          "Dawson Mercer",
          "Marcus Foligno",
          "Nino Niederreiter",
          "Yakov Trenin",
          "Matias Maccelli",
          "Ross Colton",
          "Max Domi",
          "Alexander Kerfoot",
          "Erik Haula",
          "Gustav Nyquist",
          "Shane Pinto",
          "Boone Jenner",
          "Rickard Rakell",
          "Jason Zucker",
          "Anton Lundell",
          "Kyle Palmieri",
          "Jesperi Kotkaniemi",
          "Vladimir Tarasenko",
          "Reilly Smith",
          "Blake Coleman",
          "Mikael Granlund",
          "Jean-Gabriel Pageau",
          "Jordan Eberle",
          "Ryan O'Reilly",
          "Ilya Mikheyev",
          "Mikael Backlund",
          "Nick Foligno",
          "Ryan Strome",
          "Michael Bunting",
          "Mason Marchment",
          "Sam Bennett",
          "Alex Tuch",
          "Joel Farabee",
          "Jared McCann",
          "Conor Garland",
          "Ivan Barbashev",
          "Lawson Crouse",
          "Dylan Strome",
          "Alexander Wennberg",
          "Christian Dvorak",
          "Drake Batherson",
          "Carter Verhaeghe",
          "Pavel Zacha",
          "Trevor Moore",
          "Filip Chytil",
          "Jason Dickinson",
          "Vincent Trocheck",
          "Jaden Schwartz",
          "Ondrej Palat",
          "Bryan Rust",
          "Sean Monahan",
          "Zach Hyman",
          "Pavel Buchnevich",
          "Brock Nelson",
          "Charlie Coyle",
          "Tyler Toffoli",
          "William Karlsson",
          "Nick Schmaltz",
          "Adrian Kempe",
          "Jake DeBrusk",
          "Travis Konecny",
          "Andrei Kuzmenko",
          "Andrew Mangiapane",
          "Nikolaj Ehlers",
          "Ryan Nugent-Hopkins",
          "Taylor Hall",
          "Phillip Danault",
          "Josh Anderson",
          "Teuvo Teravainen",
          "Jonathan Marchessault",
          "Trevor Zegras",
          "Casey Mittelstadt",
          "Oliver Bjorkstrand",
          "Andre Burakovsky",
          "Tyler Bertuzzi",
          "Yanni Gourde",
          "Martin Necas",
          "Owen Tippett",
          "Chris Kreider",
          "Claude Giroux",
          "Anze Kopitar",
          "Anders Lee",
          "Brendan Gallagher",
          "Nazem Kadri",
          "Brayden Schenn",
          "Anthony Cirelli",
          "Brock Boeser",
          "Brandon Hagel",
          "Chandler Stephenson",
          "Valeri Nichushkin",
          "Brad Marchand",
          "Quinton Byfield",
          "Jason Robertson",
          "Josh Norris",
          "Cole Caufield",
          "Nick Suzuki",
          "Andrei Svechnikov",
          "Steven Stamkos",
          "Kevin Fiala",
          "Kevin Hayes",
          "Kyle Connor",
          "Clayton Keller",
          "Elias Lindholm",
          "Seth Jarvis",
          "Nico Hischier",
          "Dylan Cozens",
          "J.T. Miller",
          "Tage Thompson",
          "Jesper Bratt",
          "Sean Couturier",
          "Patrik Laine",
          "Bo Horvat",
          "Mika Zibanejad",
          "Roope Hintz",
          "Mark Scheifele",
          "Tim Stützle",
          "Pierre-Luc Dubois",
          "Jordan Kyrou",
          "Filip Forsberg",
          "Brady Tkachuk",
          "Sam Reinhart",
          "Kirill Kaprizov",
          "Jake Guentzel",
          "Tomas Hertl",
          "Robert Thomas",
          "Leon Draisaitl",
          "Dylan Larkin",
          "Lucas Raymond",
          "Sidney Crosby",
          "Timo Meier",
          "Nikita Kucherov",
          "Jamie Benn",
          "Alex Ovechkin",
          "Jack Eichel",
          "Mark Stone",
          "Brayden Point",
          "Sebastian Aho",
          "Aleksander Barkov",
          "Tyler Seguin",
          "Mikko Rantanen",
          "Nathan MacKinnon",
          "Auston Matthews",
          "David Pastrnak",
          "Elias Pettersson",
          "William Nylander",
          "Jonathan Huberdeau",
          "Connor McDavid",
          "Artemi Panarin"
         ],
         "legendgroup": "",
         "marker": {
          "color": "#636efa"
         },
         "name": "",
         "offsetgroup": "",
         "orientation": "v",
         "points": "all",
         "scalegroup": "True",
         "showlegend": false,
         "type": "violin",
         "x": [
          "1M",
          "1M",
          "1M",
          "1M",
          "1M",
          "1M",
          "1M",
          "1M",
          "1M",
          "1M",
          "1M",
          "1M",
          "1M",
          "1M",
          "1M",
          "1M",
          "1M",
          "1M",
          "1M",
          "1M",
          "1M",
          "1M",
          "1M",
          "1M",
          "1M",
          "1M",
          "1M",
          "1M",
          "1M",
          "1M",
          "1M",
          "1M",
          "1M",
          "1M",
          "1M",
          "1M",
          "1M",
          "1M",
          "1M",
          "1M",
          "1M",
          "1M",
          "1M",
          "1M",
          "1M",
          "1M",
          "1M",
          "1M",
          "1M",
          "1M",
          "1M",
          "1M",
          "1M",
          "1M",
          "1M",
          "1M",
          "1M",
          "1M",
          "1M",
          "1M",
          "1M",
          "1M",
          "1M",
          "1M",
          "1M",
          "1M",
          "1M",
          "1M",
          "1M",
          "1M",
          "1M",
          "1M",
          "1M",
          "1M",
          "1M",
          "1M",
          "1M",
          "1M",
          "1M",
          "1M",
          "1M",
          "1M",
          "1M",
          "1M",
          "1M",
          "1M",
          "1M",
          "1M",
          "1M",
          "1M",
          "1M",
          "1M",
          "1M",
          "1M",
          "1M",
          "1M",
          "1M",
          "1M",
          "1M",
          "1M",
          "1M",
          "1M",
          "1M",
          "1M",
          "1M",
          "1M",
          "1M",
          "1M",
          "1M",
          "1M",
          "1M",
          "1M",
          "1M",
          "1M",
          "1M",
          "1M",
          "1M",
          "1M",
          "1M",
          "1M",
          "2M",
          "2M",
          "2M",
          "2M",
          "2M",
          "2M",
          "2M",
          "2M",
          "2M",
          "2M",
          "2M",
          "2M",
          "2M",
          "2M",
          "2M",
          "2M",
          "2M",
          "2M",
          "2M",
          "2M",
          "2M",
          "2M",
          "2M",
          "2M",
          "2M",
          "2M",
          "2M",
          "2M",
          "2M",
          "2M",
          "2M",
          "2M",
          "2M",
          "2M",
          "2M",
          "2M",
          "2M",
          "2M",
          "2M",
          "2M",
          "2M",
          "2M",
          "2M",
          "2M",
          "2M",
          "2M",
          "2M",
          "2M",
          "2M",
          "2M",
          "2M",
          "2M",
          "2M",
          "2M",
          "2M",
          "2M",
          "3M",
          "3M",
          "3M",
          "3M",
          "3M",
          "3M",
          "3M",
          "3M",
          "3M",
          "3M",
          "3M",
          "3M",
          "3M",
          "3M",
          "3M",
          "3M",
          "3M",
          "3M",
          "3M",
          "3M",
          "3M",
          "3M",
          "3M",
          "3M",
          "3M",
          "3M",
          "3M",
          "3M",
          "3M",
          "3M",
          "3M",
          "3M",
          "3M",
          "3M",
          "3M",
          "3M",
          "3M",
          "3M",
          "3M",
          "3M",
          "3M",
          "3M",
          "3M",
          "3M",
          "3M",
          "4M",
          "4M",
          "4M",
          "4M",
          "4M",
          "4M",
          "4M",
          "4M",
          "4M",
          "4M",
          "4M",
          "4M",
          "4M",
          "4M",
          "4M",
          "4M",
          "4M",
          "4M",
          "4M",
          "4M",
          "4M",
          "4M",
          "4M",
          "4M",
          "4M",
          "4M",
          "4M",
          "4M",
          "4M",
          "4M",
          "4M",
          "4M",
          "5M",
          "5M",
          "5M",
          "5M",
          "5M",
          "5M",
          "5M",
          "5M",
          "5M",
          "5M",
          "5M",
          "5M",
          "5M",
          "5M",
          "5M",
          "5M",
          "5M",
          "5M",
          "5M",
          "5M",
          "5M",
          "5M",
          "5M",
          "5M",
          "5M",
          "5M",
          "5M",
          "5M",
          "5M",
          "5M",
          "5M",
          "5M",
          "5M",
          "5M",
          "6M",
          "6M",
          "6M",
          "6M",
          "6M",
          "6M",
          "6M",
          "6M",
          "6M",
          "6M",
          "6M",
          "6M",
          "6M",
          "6M",
          "6M",
          "6M",
          "6M",
          "6M",
          "6M",
          "6M",
          "6M",
          "6M",
          "6M",
          "6M",
          "6M",
          "6M",
          "6M",
          "6M",
          "6M",
          "6M",
          "7M",
          "7M",
          "7M",
          "7M",
          "7M",
          "7M",
          "7M",
          "7M",
          "7M",
          "7M",
          "7M",
          "7M",
          "7M",
          "7M",
          "7M",
          "7M",
          "8M",
          "8M",
          "8M",
          "8M",
          "8M",
          "8M",
          "8M",
          "8M",
          "8M",
          "8M",
          "8M",
          "8M",
          "8M",
          "8M",
          "8M",
          "8M",
          "8M",
          "8M",
          "9M",
          "9M",
          "9M",
          "9M",
          "9M",
          "9M",
          "9M",
          "9M",
          "9M",
          "9M",
          "9M",
          "9M",
          "9M",
          "9M",
          "9M",
          "9M",
          "9M",
          "9M",
          "9M",
          "9M",
          "10M",
          "10M",
          "10M",
          "10M",
          "10M",
          "10M",
          "10M",
          "10M",
          "10M",
          "10M",
          ">10M",
          ">10M",
          ">10M",
          ">10M",
          ">10M",
          ">10M",
          ">10M",
          ">10M"
         ],
         "x0": " ",
         "xaxis": "x",
         "y": {
          "bdata": "nud5nud57j8MUV5DeQ0FQHsJ7SW0lzFAknkN5TWUL0Avuuiiiy7yP2XBfQT3EQxAURmVURmVEUBGF1100UULQPe6173udR9AJEmSJEmSLEBFpmG7WZ4UQPqlX/qlXxpAErRR39moK0Avuuiiiy4yQNhQXkN5DRVAURmVURmVEUD2dBbTWUwzQNFFF1100R9Ac3Nzc3NzK0Avuuiiiy4iQPfkCmJyBQFA0UUXXXRRM0BJkiRJkiQhQPfkCmJyBQFAh4eHh4eHB0CtpUCtXykgQCRJkiRJkixA8yQyDdvNOkD6pV/6pV8aQKZf+qVf+iVAIP3oRz/6IUBzVxCTK4gpQLrooosuuhZAL7rooosu8j+5+kFHBb4oQGc84xnPeBZA8lk3mCKfFUAvob2E9hI4QC+66KKLLiJAknkN5TWUH0BGF1100UUrQEYXXXTRRRtAZcF9BPcR/D9GF1100UUbQHTRRRdddCRA64byGsprMkDRUYEvrn4QQHTRRRdddCRAZcF9BPcRDEAXspCFLGTxP1EZlVEZlSFAjC666KKLLUAvuuiiiy7yPy+66KKLLgJARhdddNFFK0C9QCbFC2TyP/9ArV8pUD9AnJubm5ubI0DYUF5DeQ0lQEYXXXTRRQtAfJ3FdBbTLUAvuuiiiy4iQC+66KKLLvI/nYKXU/ByJkAeHh4eHh5DQAAAAAAAAA5AF7KQhSxkEUAkSZIkSZI8QAzDMAzDMDBAHxrrQ2N9CEDihhtuuOE6QC+66KKLLiJApqWlpaWlIUAvuuiiiy4CQN+YzmI6iyFAjC666KKLLUCe53me53keQNy2bdu2bUVAsRM7sRM7E0CL+ARSyXkxQLSX0F5C+0JAFPmsG0yRQUB7Ce0ltJdBQNBeQnsJ7TlAjuM4juM4NkAvob2E9hI4QHsJ7SW0lzFAL7rooosu8j9O7MRO7MQeQC+66KKLLgJAvH62WBm+OUBxHMdxHMcrQI7jOI7jOAZAT+zETuxEMkBeQnsJ7SU3QFVVVVVV1URAWR8a60NjM0AwDMMwDMMoQKalpaWlpSFAErRR39moO0Cn4OUUvJwuQHg5BS+n4EJADuU1lNdQOkCdgpdT8HI2QOHlFLycgjlAnud5nud5LkAVvJyCl1MgQJJ5DeU1lB9AGM+QmLczFEBP5TWU11AqQPQ8z/M8zzdATuzETuzEHkBpaWlpaWktQGVURmVURjlAAAAAAAAAKUCD+OCDDz44QFEZlVEZlSFARhdddNFFK0CtpUCtXynwP0YXXXTRRRtAyt8u9WT8HkCi90yi90wSQKqqqqqqqiBAamlpaWlpLUB2uxK1K1ELQM3MzMzMzCxAKXRTUh1iE0B2gynyWTcQQKWlpaWlpTFAAAAAAADgFUBfG7EuPeYnQH37KxOFbhpAUh1iA58xDED3h8HCkTkhQPJZN5ginxVAMAzDMAzDGEAyR9n9RtklQJ2Cl1PwchZAOzw8PDw8HEC8x3u8x3sgQF+NifRA5RRAnJubm5ubI0Dh4eHh4eEpQNACLdACLShArahdidqVMECVP+qUP+oUQOCDDz744CtATGgvob2EIkCo2fUia6sIQBAPDw8PDyZA6KakOsQGJkDNzMzMzMwkQAAAAAAAAChApAYrdAYrJEDMAn7h1t4oQKL3TKL3TBJAUh1iA58xDEDDMAzDMAwTQAcffPDBBydA5aPN+xSXKEDugr+KE1IiQLRuMEU+6yJA0tLS0tLS8j/+lYlCNyUlQJqZmZmZmQlAUh1iA58xDECo2fUia6soQC0tLS0tLSVAU+SzbjBFJEClpaWlpaUhQF9fX19fX/8/0LLjOZUU8D9SHWIDnzH8P5tssskmmyRAlCVqV6J2FUBSHWIDnzEsQPjggw8++CVAbbDBBhtsEEAAAAAAAAAJQHw0IS9sFRRAsRM7sRM7LUASAfHRhLwgQHEcx3EcxxFA6RxItMLmEEAXXXTRRRcNQF3+ETqBcgRANu4F/lXjDkCGINEKmwMjQOZnUYxTbgdAX+u1Xuu1JkBKfrvUk/EXQPR9loghjxlASiaZZJJJFkB8NCEvbBUkQH3mVeew8CFAfDQhL2wVBED6pV/6pV8KQMUSSyyxxBJAYid2Yid2EkBfZXFGu4cdQAW1GZiucyxAv24TZ1p7AkBQm4HpOscqQMCr3QZlhQhAKJxwwgkn/D8P6MY8fbQSQILxVvY5pBZA8cMPP/zwE0Del8dWBA0XQJzdwq/GRApAAAAAAABoIEAAAAAAAPghQBdXXHHFFS9AHnXUUUcdFUDFEkssscQSQLrOsUYiIA5AxRJLLLHEAkAjHTbSYSMVQAAAAAAAaCBAq98u9WT8DkAXXXTRRRcdQAtRN4OWHRdAqHRkz0BUCkAcwiEcwiEMQC+66KKLLhJAmjwB0fnq7j+En1yIuhn0P61mLMAbWAFALg09KCbZB0C3bdu2bdsGQEmSJEmSJCFA02wuHWqwE0AcwiEcwiH8P/NrD7msGBhA0L+0EThcGUA+3uM93uMNQHZB2AVhFyRA4sktntziIUDQAi3QAi0IQFZVVVVVRSNAkgISfnIhCkBg+qVf+qUPQBzCIRzCIQxAYyd2Yid2EkAqKSDhJxcCQGEWxndCnwZA2Ymd2ImdCECOYvbnw2kYQCopIOEnFxJA6jQ5yLyUCECxV/pztuMTQESopBvF7A9AjmL258NpCEBRK2wOJFoZQLUn47dLPRdAkM2BRCtsFEBqcyDRCpsRQEP8cevyDhBAl9BeQnsJEUAGd6kn47cTQLnmct4M9BFAJTYHEq2wH0CQzYFEK2wUQKqqqqqqqgpATp06derUGUCO4ziO4zgGQOHChQsXLgxAAwcOHDhwEEAs0QqbA4kWQPr06dOnTw9AokWLFi1aFEDbhY/KnngVQEJ7Ce0ltBdAGSRaYXMgBUB3hc2BRCscQMs+sqg/vBZAkM2BRCtsFEB4Y/IJZef2P30g0QqbAyNA88n47VJPEkAXspCFLGQRQGMU5zpGcR5A6mdAMa3AHED2EtpLaC8ZQOyBZrWGSRNAjuM4juM4BkDA8tJmKpAAQNgaw2eDSBVAuB6F61G4DkBtsMEGG2wAQFCXnFoTDhhA9ihcj8L1GEAK16NwPQoHQA1qtT+0EBdAL7rooosuEkCBMFNG7HUJQFRNNdVUUw1AcnYLvxoTCUB1p9WdVncaQPYoXI/C9RhA4XoUrkfhCkD2KFyPwvUgQEjhehSuRxFAhL+Bxps1AkB211133XUXQESmYbtZnhRAVE011VRTDUAK16NwPQoXQKRwPQrXowBAjgIPWhyqHEAK16NwPQoXQIrvUas3uglAnusDTl3aD0BUx6sGKPAQQOxRuB6F6xFAuB6F61G4DkBvxguPKAkRQNR/Zak92h5AbtR3Nuo7C0B418bWXHzzP3jXxtZcfBNAzN9rI9alF0CFMyCU3CkKQHjXxtZcfANAxlvZ55CaEEDZmotvqtwRQO5ST8ZvlxJANrjY4GKDC0D0wFHcrE8eQBq/XerJ+BVApXiBTIoXAECrqqqqqqoQQOdAohU2BxJA1PXSyqbiFECu9haZ/JP6P/JzxSxHfg5AXsWy8c3QGkAXQSAhblUKQHLXzxYrwwdApkTwSH89B0Df8KO6xKz1PyDVJWYtFBxA7gbSGSYDHkCCr+Q9WyYMQGLdFSj0FBFAa2NouoP9EECYSSgX8bgPQHZWQXjpjxVAJUmSJEmSDEAVRnWaHGQeQIKv5D1bJgxAiJonEy6m9j8gbDyaP9gIQMGR75QtzhFAq6qqqqqqEEDFzyjxM0oUQKl5aTWSmhdAbhBr0jF2E0DUBfEB+1UOQMMwDMMwDBNAYGj5FQwtB0BjfWisD40RQAYZZJBBBglARx999NFHD0Ajn3WDKfIJQHvrfU5/bxpAyA1iTTrGFkC2tSqXGJUQQI+Hh4eHhxdAGJXA+MvcF0BmZmZmZmYGQLSX0F5Cex9A9hLaS2gvCUCO4ziO4zgGQPVST8ZvlxdAXkJ7Ce0lEkDsJbSX0F4OQB5gOHdDmxBA78n47VJPEkCWL9DOiJbyP9SBcWqRsRVAwJ6rWDa+F0COPsjjgm8IQI9kezQDCBRA1TSo1f7QAkBX5rjwyXsIQH/JzdlheAdADyRaYXMgFUCskh4mMQYQQA==",
          "dtype": "f8"
         },
         "y0": " ",
         "yaxis": "y"
        }
       ],
       "layout": {
        "legend": {
         "tracegroupgap": 0
        },
        "margin": {
         "t": 60
        },
        "template": {
         "data": {
          "bar": [
           {
            "error_x": {
             "color": "#f2f5fa"
            },
            "error_y": {
             "color": "#f2f5fa"
            },
            "marker": {
             "line": {
              "color": "rgb(17,17,17)",
              "width": 0.5
             },
             "pattern": {
              "fillmode": "overlay",
              "size": 10,
              "solidity": 0.2
             }
            },
            "type": "bar"
           }
          ],
          "barpolar": [
           {
            "marker": {
             "line": {
              "color": "rgb(17,17,17)",
              "width": 0.5
             },
             "pattern": {
              "fillmode": "overlay",
              "size": 10,
              "solidity": 0.2
             }
            },
            "type": "barpolar"
           }
          ],
          "carpet": [
           {
            "aaxis": {
             "endlinecolor": "#A2B1C6",
             "gridcolor": "#506784",
             "linecolor": "#506784",
             "minorgridcolor": "#506784",
             "startlinecolor": "#A2B1C6"
            },
            "baxis": {
             "endlinecolor": "#A2B1C6",
             "gridcolor": "#506784",
             "linecolor": "#506784",
             "minorgridcolor": "#506784",
             "startlinecolor": "#A2B1C6"
            },
            "type": "carpet"
           }
          ],
          "choropleth": [
           {
            "colorbar": {
             "outlinewidth": 0,
             "ticks": ""
            },
            "type": "choropleth"
           }
          ],
          "contour": [
           {
            "colorbar": {
             "outlinewidth": 0,
             "ticks": ""
            },
            "colorscale": [
             [
              0,
              "#0d0887"
             ],
             [
              0.1111111111111111,
              "#46039f"
             ],
             [
              0.2222222222222222,
              "#7201a8"
             ],
             [
              0.3333333333333333,
              "#9c179e"
             ],
             [
              0.4444444444444444,
              "#bd3786"
             ],
             [
              0.5555555555555556,
              "#d8576b"
             ],
             [
              0.6666666666666666,
              "#ed7953"
             ],
             [
              0.7777777777777778,
              "#fb9f3a"
             ],
             [
              0.8888888888888888,
              "#fdca26"
             ],
             [
              1,
              "#f0f921"
             ]
            ],
            "type": "contour"
           }
          ],
          "contourcarpet": [
           {
            "colorbar": {
             "outlinewidth": 0,
             "ticks": ""
            },
            "type": "contourcarpet"
           }
          ],
          "heatmap": [
           {
            "colorbar": {
             "outlinewidth": 0,
             "ticks": ""
            },
            "colorscale": [
             [
              0,
              "#0d0887"
             ],
             [
              0.1111111111111111,
              "#46039f"
             ],
             [
              0.2222222222222222,
              "#7201a8"
             ],
             [
              0.3333333333333333,
              "#9c179e"
             ],
             [
              0.4444444444444444,
              "#bd3786"
             ],
             [
              0.5555555555555556,
              "#d8576b"
             ],
             [
              0.6666666666666666,
              "#ed7953"
             ],
             [
              0.7777777777777778,
              "#fb9f3a"
             ],
             [
              0.8888888888888888,
              "#fdca26"
             ],
             [
              1,
              "#f0f921"
             ]
            ],
            "type": "heatmap"
           }
          ],
          "histogram": [
           {
            "marker": {
             "pattern": {
              "fillmode": "overlay",
              "size": 10,
              "solidity": 0.2
             }
            },
            "type": "histogram"
           }
          ],
          "histogram2d": [
           {
            "colorbar": {
             "outlinewidth": 0,
             "ticks": ""
            },
            "colorscale": [
             [
              0,
              "#0d0887"
             ],
             [
              0.1111111111111111,
              "#46039f"
             ],
             [
              0.2222222222222222,
              "#7201a8"
             ],
             [
              0.3333333333333333,
              "#9c179e"
             ],
             [
              0.4444444444444444,
              "#bd3786"
             ],
             [
              0.5555555555555556,
              "#d8576b"
             ],
             [
              0.6666666666666666,
              "#ed7953"
             ],
             [
              0.7777777777777778,
              "#fb9f3a"
             ],
             [
              0.8888888888888888,
              "#fdca26"
             ],
             [
              1,
              "#f0f921"
             ]
            ],
            "type": "histogram2d"
           }
          ],
          "histogram2dcontour": [
           {
            "colorbar": {
             "outlinewidth": 0,
             "ticks": ""
            },
            "colorscale": [
             [
              0,
              "#0d0887"
             ],
             [
              0.1111111111111111,
              "#46039f"
             ],
             [
              0.2222222222222222,
              "#7201a8"
             ],
             [
              0.3333333333333333,
              "#9c179e"
             ],
             [
              0.4444444444444444,
              "#bd3786"
             ],
             [
              0.5555555555555556,
              "#d8576b"
             ],
             [
              0.6666666666666666,
              "#ed7953"
             ],
             [
              0.7777777777777778,
              "#fb9f3a"
             ],
             [
              0.8888888888888888,
              "#fdca26"
             ],
             [
              1,
              "#f0f921"
             ]
            ],
            "type": "histogram2dcontour"
           }
          ],
          "mesh3d": [
           {
            "colorbar": {
             "outlinewidth": 0,
             "ticks": ""
            },
            "type": "mesh3d"
           }
          ],
          "parcoords": [
           {
            "line": {
             "colorbar": {
              "outlinewidth": 0,
              "ticks": ""
             }
            },
            "type": "parcoords"
           }
          ],
          "pie": [
           {
            "automargin": true,
            "type": "pie"
           }
          ],
          "scatter": [
           {
            "marker": {
             "line": {
              "color": "#283442"
             }
            },
            "type": "scatter"
           }
          ],
          "scatter3d": [
           {
            "line": {
             "colorbar": {
              "outlinewidth": 0,
              "ticks": ""
             }
            },
            "marker": {
             "colorbar": {
              "outlinewidth": 0,
              "ticks": ""
             }
            },
            "type": "scatter3d"
           }
          ],
          "scattercarpet": [
           {
            "marker": {
             "colorbar": {
              "outlinewidth": 0,
              "ticks": ""
             }
            },
            "type": "scattercarpet"
           }
          ],
          "scattergeo": [
           {
            "marker": {
             "colorbar": {
              "outlinewidth": 0,
              "ticks": ""
             }
            },
            "type": "scattergeo"
           }
          ],
          "scattergl": [
           {
            "marker": {
             "line": {
              "color": "#283442"
             }
            },
            "type": "scattergl"
           }
          ],
          "scattermap": [
           {
            "marker": {
             "colorbar": {
              "outlinewidth": 0,
              "ticks": ""
             }
            },
            "type": "scattermap"
           }
          ],
          "scattermapbox": [
           {
            "marker": {
             "colorbar": {
              "outlinewidth": 0,
              "ticks": ""
             }
            },
            "type": "scattermapbox"
           }
          ],
          "scatterpolar": [
           {
            "marker": {
             "colorbar": {
              "outlinewidth": 0,
              "ticks": ""
             }
            },
            "type": "scatterpolar"
           }
          ],
          "scatterpolargl": [
           {
            "marker": {
             "colorbar": {
              "outlinewidth": 0,
              "ticks": ""
             }
            },
            "type": "scatterpolargl"
           }
          ],
          "scatterternary": [
           {
            "marker": {
             "colorbar": {
              "outlinewidth": 0,
              "ticks": ""
             }
            },
            "type": "scatterternary"
           }
          ],
          "surface": [
           {
            "colorbar": {
             "outlinewidth": 0,
             "ticks": ""
            },
            "colorscale": [
             [
              0,
              "#0d0887"
             ],
             [
              0.1111111111111111,
              "#46039f"
             ],
             [
              0.2222222222222222,
              "#7201a8"
             ],
             [
              0.3333333333333333,
              "#9c179e"
             ],
             [
              0.4444444444444444,
              "#bd3786"
             ],
             [
              0.5555555555555556,
              "#d8576b"
             ],
             [
              0.6666666666666666,
              "#ed7953"
             ],
             [
              0.7777777777777778,
              "#fb9f3a"
             ],
             [
              0.8888888888888888,
              "#fdca26"
             ],
             [
              1,
              "#f0f921"
             ]
            ],
            "type": "surface"
           }
          ],
          "table": [
           {
            "cells": {
             "fill": {
              "color": "#506784"
             },
             "line": {
              "color": "rgb(17,17,17)"
             }
            },
            "header": {
             "fill": {
              "color": "#2a3f5f"
             },
             "line": {
              "color": "rgb(17,17,17)"
             }
            },
            "type": "table"
           }
          ]
         },
         "layout": {
          "annotationdefaults": {
           "arrowcolor": "#f2f5fa",
           "arrowhead": 0,
           "arrowwidth": 1
          },
          "autotypenumbers": "strict",
          "coloraxis": {
           "colorbar": {
            "outlinewidth": 0,
            "ticks": ""
           }
          },
          "colorscale": {
           "diverging": [
            [
             0,
             "#8e0152"
            ],
            [
             0.1,
             "#c51b7d"
            ],
            [
             0.2,
             "#de77ae"
            ],
            [
             0.3,
             "#f1b6da"
            ],
            [
             0.4,
             "#fde0ef"
            ],
            [
             0.5,
             "#f7f7f7"
            ],
            [
             0.6,
             "#e6f5d0"
            ],
            [
             0.7,
             "#b8e186"
            ],
            [
             0.8,
             "#7fbc41"
            ],
            [
             0.9,
             "#4d9221"
            ],
            [
             1,
             "#276419"
            ]
           ],
           "sequential": [
            [
             0,
             "#0d0887"
            ],
            [
             0.1111111111111111,
             "#46039f"
            ],
            [
             0.2222222222222222,
             "#7201a8"
            ],
            [
             0.3333333333333333,
             "#9c179e"
            ],
            [
             0.4444444444444444,
             "#bd3786"
            ],
            [
             0.5555555555555556,
             "#d8576b"
            ],
            [
             0.6666666666666666,
             "#ed7953"
            ],
            [
             0.7777777777777778,
             "#fb9f3a"
            ],
            [
             0.8888888888888888,
             "#fdca26"
            ],
            [
             1,
             "#f0f921"
            ]
           ],
           "sequentialminus": [
            [
             0,
             "#0d0887"
            ],
            [
             0.1111111111111111,
             "#46039f"
            ],
            [
             0.2222222222222222,
             "#7201a8"
            ],
            [
             0.3333333333333333,
             "#9c179e"
            ],
            [
             0.4444444444444444,
             "#bd3786"
            ],
            [
             0.5555555555555556,
             "#d8576b"
            ],
            [
             0.6666666666666666,
             "#ed7953"
            ],
            [
             0.7777777777777778,
             "#fb9f3a"
            ],
            [
             0.8888888888888888,
             "#fdca26"
            ],
            [
             1,
             "#f0f921"
            ]
           ]
          },
          "colorway": [
           "#636efa",
           "#EF553B",
           "#00cc96",
           "#ab63fa",
           "#FFA15A",
           "#19d3f3",
           "#FF6692",
           "#B6E880",
           "#FF97FF",
           "#FECB52"
          ],
          "font": {
           "color": "#f2f5fa"
          },
          "geo": {
           "bgcolor": "rgb(17,17,17)",
           "lakecolor": "rgb(17,17,17)",
           "landcolor": "rgb(17,17,17)",
           "showlakes": true,
           "showland": true,
           "subunitcolor": "#506784"
          },
          "hoverlabel": {
           "align": "left"
          },
          "hovermode": "closest",
          "mapbox": {
           "style": "dark"
          },
          "paper_bgcolor": "rgb(17,17,17)",
          "plot_bgcolor": "rgb(17,17,17)",
          "polar": {
           "angularaxis": {
            "gridcolor": "#506784",
            "linecolor": "#506784",
            "ticks": ""
           },
           "bgcolor": "rgb(17,17,17)",
           "radialaxis": {
            "gridcolor": "#506784",
            "linecolor": "#506784",
            "ticks": ""
           }
          },
          "scene": {
           "xaxis": {
            "backgroundcolor": "rgb(17,17,17)",
            "gridcolor": "#506784",
            "gridwidth": 2,
            "linecolor": "#506784",
            "showbackground": true,
            "ticks": "",
            "zerolinecolor": "#C8D4E3"
           },
           "yaxis": {
            "backgroundcolor": "rgb(17,17,17)",
            "gridcolor": "#506784",
            "gridwidth": 2,
            "linecolor": "#506784",
            "showbackground": true,
            "ticks": "",
            "zerolinecolor": "#C8D4E3"
           },
           "zaxis": {
            "backgroundcolor": "rgb(17,17,17)",
            "gridcolor": "#506784",
            "gridwidth": 2,
            "linecolor": "#506784",
            "showbackground": true,
            "ticks": "",
            "zerolinecolor": "#C8D4E3"
           }
          },
          "shapedefaults": {
           "line": {
            "color": "#f2f5fa"
           }
          },
          "sliderdefaults": {
           "bgcolor": "#C8D4E3",
           "bordercolor": "rgb(17,17,17)",
           "borderwidth": 1,
           "tickwidth": 0
          },
          "ternary": {
           "aaxis": {
            "gridcolor": "#506784",
            "linecolor": "#506784",
            "ticks": ""
           },
           "baxis": {
            "gridcolor": "#506784",
            "linecolor": "#506784",
            "ticks": ""
           },
           "bgcolor": "rgb(17,17,17)",
           "caxis": {
            "gridcolor": "#506784",
            "linecolor": "#506784",
            "ticks": ""
           }
          },
          "title": {
           "x": 0.05
          },
          "updatemenudefaults": {
           "bgcolor": "#506784",
           "borderwidth": 0
          },
          "xaxis": {
           "automargin": true,
           "gridcolor": "#283442",
           "linecolor": "#506784",
           "ticks": "",
           "title": {
            "standoff": 15
           },
           "zerolinecolor": "#283442",
           "zerolinewidth": 2
          },
          "yaxis": {
           "automargin": true,
           "gridcolor": "#283442",
           "linecolor": "#506784",
           "ticks": "",
           "title": {
            "standoff": 15
           },
           "zerolinecolor": "#283442",
           "zerolinewidth": 2
          }
         }
        },
        "violinmode": "group",
        "xaxis": {
         "anchor": "y",
         "domain": [
          0,
          1
         ],
         "title": {
          "text": "salary_tier"
         }
        },
        "yaxis": {
         "anchor": "x",
         "domain": [
          0,
          1
         ],
         "title": {
          "text": "a_eff"
         }
        }
       }
      },
      "image/png": "[encoded data removed]"
     },
     "metadata": {},
     "output_type": "display_data"
    }
   ],
   "source": [
    "fig = px.violin(\n",
    "    df,\n",
    "    x=\"salary_tier\",\n",
    "    y=\"a_eff\",\n",
    "    points=\"all\",\n",
    "    hover_name=\"playerName\"\n",
    ")\n",
    "fig.show()"
   ]
  },
  {
   "cell_type": "code",
   "execution_count": 17,
   "id": "d44b1146",
   "metadata": {},
   "outputs": [
    {
     "data": {
      "application/vnd.plotly.v1+json": {
       "config": {
        "plotlyServerURL": "https://plot.ly"
       },
       "data": [
        {
         "alignmentgroup": "True",
         "box": {
          "visible": false
         },
         "hovertemplate": "<b>%{hovertext}</b><br><br>salary_tier=%{x}<br>p_eff=%{y}<extra></extra>",
         "hovertext": [
          "Jack Williams",
          "Liam O'Brien",
          "Eric Robinson",
          "Connor Brown",
          "Dominic Toninato",
          "Rasmus Kupari",
          "Jimmy Vesey",
          "Akil Thomas",
          "Jakub Lauko",
          "Pontus Holmberg",
          "Zemgus Girgensons",
          "Mark Jankowski",
          "Jonatan Berggren",
          "Tanner Pearson",
          "David Gustafsson",
          "Luke Glendening",
          "Martin Pospisil",
          "Paul Cotter",
          "Nikolai Kovalenko",
          "Cole Koepke",
          "Nolan Foote",
          "Alex Turcotte",
          "John Beecher",
          "Arthur Kaliyev",
          "Matt Nieto",
          "Nicholas Robertson",
          "Jakob Pelletier",
          "Simon Holmstrom",
          "Tyler Motte",
          "Nick Cousins",
          "Jonny Brodzinski",
          "Parker Kelly",
          "Matthew Highmore",
          "Bokondji Imama",
          "A.J. Greer",
          "Jansen Harkins",
          "Daniel Sprong",
          "Maxim Tsyplakov",
          "Adam Gaudette",
          "Kasperi Kapanen",
          "Steven Lorentz",
          "Jakub Vrana",
          "Max Jones",
          "Tyson Jost",
          "Tomas Nosek",
          "Taylor Raddysh",
          "Noah Gregor",
          "Nathan Walker",
          "Curtis Lazar",
          "Michael Pezzetta",
          "Michael Eyssimont",
          "Michael Carcone",
          "Jonah Gadjovich",
          "Jaret Anderson-Dolan",
          "Jesper Boqvist",
          "Jonas Rondbjerg",
          "Elias Pettersson",
          "Michael McCarron",
          "Mark Kastelic",
          "Hudson Fasching",
          "Vasily Podkolzin",
          "Kyle MacLean",
          "Travis Boyd",
          "Zachary L'Heureux",
          "Wyatt Johnston",
          "Matt Martin",
          "Samuel Helenius",
          "Matthew Knies",
          "Mackie Samoskevich",
          "Brennan Othmann",
          "Logan Stankoven",
          "Joel Kiviranta",
          "Emil Heineman",
          "Jeff Malott",
          "Craig Smith",
          "Gage Goncalves",
          "Marat Khusnutdinov",
          "William Eklund",
          "Landon Slaggert",
          "Jackson Blake",
          "Logan Cooley",
          "Macklin Celebrini",
          "Matvei Michkov",
          "Will Smith",
          "Adam Fantilli",
          "Leo Carlsson",
          "Zach Benson",
          "Taylor Ward",
          "Trevor Lewis",
          "Marc Gatcomb",
          "Shane Wright",
          "Frank Nazar",
          "Rutger McGroarty",
          "Marco Kasper",
          "Cutter Gauthier",
          "Connor Bedard",
          "Tyson Foerster",
          "Josh Doan",
          "Alexander Holtz",
          "Will Cuylle",
          "Connor Zary",
          "Marco Rossi",
          "Jake Neighbours",
          "Ridly Greig",
          "Jack Quinn",
          "Drew O'Connor",
          "Tye Kartye",
          "Cole Smith",
          "Brett Berard",
          "Sam Carrick",
          "Dmitri Voronkov",
          "Mitchell Chaffee",
          "Mavrik Bourque",
          "Luke Evangelista",
          "Juuso Parssinen",
          "Alex Laferriere",
          "Cole Schwindt",
          "Colin Blackwell",
          "Thomas Bordeleau",
          "Justin Dowling",
          "Anthony Beauvillier",
          "Beck Malenstyn",
          "Brett Howden",
          "Sam Steel",
          "Carl Grundstrom",
          "Nils Hoglander",
          "Ryan Lomberg",
          "Kevin Rooney",
          "Bobby Brink",
          "Christian Fischer",
          "Keegan Kolesar",
          "Kevin Stenlund",
          "Noel Acciari",
          "Pavel Dorofeyev",
          "Ty Dellandrea",
          "Brandon Duhaime",
          "Brett Leason",
          "Jack Drury",
          "Isac Lundestrom",
          "Jack McBain",
          "Connor Dewar",
          "Bobby McMann",
          "Kiefer Sherwood",
          "Pius Suter",
          "Kent Johnson",
          "Morgan Barron",
          "Fabian Zetterlund",
          "Ryan Poehling",
          "Klim Kostin",
          "Lukas Reichel",
          "Morgan Geekie",
          "Justin Danforth",
          "Mathieu Olivier",
          "Logan O'Connor",
          "Jake Evans",
          "Nathan Bastian",
          "Nico Sturm",
          "Blake Lizotte",
          "Peyton Krebs",
          "Victor Olofsson",
          "Corey Perry",
          "Nic Dowd",
          "Nicolas Aube-Kubel",
          "Marcus Johansson",
          "Ross Johnston",
          "William Carrier",
          "Vladislav Namestnikov",
          "Brandon Saad",
          "Patrick Maroon",
          "Oskar Sundqvist",
          "Ryan Reaves",
          "Nicolas Deslauriers",
          "Sam Lafferty",
          "Mattias Janmark",
          "Tomas Tatar",
          "Ryan Donato",
          "Alexis Lafrenière",
          "Jeff Skinner",
          "Philipp Kurashev",
          "Nick Bjugstad",
          "Dylan Holloway",
          "Frederick Gaudreau",
          "Garnet Hathaway",
          "Sean Kuraly",
          "Alex Newhook",
          "Luke Kunin",
          "Joe Veleno",
          "Jonathan Drouin",
          "Calle Jarnkrok",
          "Kaapo Kakko",
          "Cody Glass",
          "Stefan Noesen",
          "Scott Laughton",
          "Morgan Frost",
          "Barrett Hayton",
          "Alexandre Texier",
          "David Kampf",
          "Eetu Luostarinen",
          "Colton Sissons",
          "Noah Cates",
          "Ryan McLeod",
          "Tanner Jeannot",
          "Connor McMichael",
          "Trent Frederic",
          "Jordan Greenway",
          "Lars Eller",
          "Jack Roslovic",
          "Nicolas Roy",
          "Michael Amadio",
          "Mathieu Joseph",
          "Evgenii Dadonov",
          "Cole Sillinger",
          "Matt Duchene",
          "Evan Rodrigues",
          "Adam Henrique",
          "Yegor Chinakhov",
          "Pierre Engvall",
          "Mason Appleton",
          "Danton Heinen",
          "Casey Cizikas",
          "Jordan Staal",
          "Warren Foegele",
          "Eeli Tolvanen",
          "Ryan Hartman",
          "Yegor Sharangovich",
          "Barclay Goodrow",
          "Anthony Duclair",
          "Dakota Joshua",
          "Radek Faksa",
          "Viktor Arvidsson",
          "Patrick Kane",
          "Joel Armia",
          "David Perron",
          "Frank Vatrano",
          "Jordan Martinook",
          "Alex Iafallo",
          "Kirill Marchenko",
          "Cole Perfetti",
          "Michael Rasmussen",
          "Aliaksei Protas",
          "Brandon Tanev",
          "Dawson Mercer",
          "Marcus Foligno",
          "Nino Niederreiter",
          "Yakov Trenin",
          "Matias Maccelli",
          "Ross Colton",
          "Max Domi",
          "Alexander Kerfoot",
          "Erik Haula",
          "Gustav Nyquist",
          "Shane Pinto",
          "Boone Jenner",
          "Rickard Rakell",
          "Jason Zucker",
          "Anton Lundell",
          "Kyle Palmieri",
          "Jesperi Kotkaniemi",
          "Vladimir Tarasenko",
          "Reilly Smith",
          "Blake Coleman",
          "Mikael Granlund",
          "Jean-Gabriel Pageau",
          "Jordan Eberle",
          "Ryan O'Reilly",
          "Ilya Mikheyev",
          "Mikael Backlund",
          "Nick Foligno",
          "Ryan Strome",
          "Michael Bunting",
          "Mason Marchment",
          "Sam Bennett",
          "Alex Tuch",
          "Joel Farabee",
          "Jared McCann",
          "Conor Garland",
          "Ivan Barbashev",
          "Lawson Crouse",
          "Dylan Strome",
          "Alexander Wennberg",
          "Christian Dvorak",
          "Drake Batherson",
          "Carter Verhaeghe",
          "Pavel Zacha",
          "Trevor Moore",
          "Filip Chytil",
          "Jason Dickinson",
          "Vincent Trocheck",
          "Jaden Schwartz",
          "Ondrej Palat",
          "Bryan Rust",
          "Sean Monahan",
          "Zach Hyman",
          "Pavel Buchnevich",
          "Brock Nelson",
          "Charlie Coyle",
          "Tyler Toffoli",
          "William Karlsson",
          "Nick Schmaltz",
          "Adrian Kempe",
          "Jake DeBrusk",
          "Travis Konecny",
          "Andrei Kuzmenko",
          "Andrew Mangiapane",
          "Nikolaj Ehlers",
          "Ryan Nugent-Hopkins",
          "Taylor Hall",
          "Phillip Danault",
          "Josh Anderson",
          "Teuvo Teravainen",
          "Jonathan Marchessault",
          "Trevor Zegras",
          "Casey Mittelstadt",
          "Oliver Bjorkstrand",
          "Andre Burakovsky",
          "Tyler Bertuzzi",
          "Yanni Gourde",
          "Martin Necas",
          "Owen Tippett",
          "Chris Kreider",
          "Claude Giroux",
          "Anze Kopitar",
          "Anders Lee",
          "Brendan Gallagher",
          "Nazem Kadri",
          "Brayden Schenn",
          "Anthony Cirelli",
          "Brock Boeser",
          "Brandon Hagel",
          "Chandler Stephenson",
          "Valeri Nichushkin",
          "Brad Marchand",
          "Quinton Byfield",
          "Jason Robertson",
          "Josh Norris",
          "Cole Caufield",
          "Nick Suzuki",
          "Andrei Svechnikov",
          "Steven Stamkos",
          "Kevin Fiala",
          "Kevin Hayes",
          "Kyle Connor",
          "Clayton Keller",
          "Elias Lindholm",
          "Seth Jarvis",
          "Nico Hischier",
          "Dylan Cozens",
          "J.T. Miller",
          "Tage Thompson",
          "Jesper Bratt",
          "Sean Couturier",
          "Patrik Laine",
          "Bo Horvat",
          "Mika Zibanejad",
          "Roope Hintz",
          "Mark Scheifele",
          "Tim Stützle",
          "Pierre-Luc Dubois",
          "Jordan Kyrou",
          "Filip Forsberg",
          "Brady Tkachuk",
          "Sam Reinhart",
          "Kirill Kaprizov",
          "Jake Guentzel",
          "Tomas Hertl",
          "Robert Thomas",
          "Leon Draisaitl",
          "Dylan Larkin",
          "Lucas Raymond",
          "Sidney Crosby",
          "Timo Meier",
          "Nikita Kucherov",
          "Jamie Benn",
          "Alex Ovechkin",
          "Jack Eichel",
          "Mark Stone",
          "Brayden Point",
          "Sebastian Aho",
          "Aleksander Barkov",
          "Tyler Seguin",
          "Mikko Rantanen",
          "Nathan MacKinnon",
          "Auston Matthews",
          "David Pastrnak",
          "Elias Pettersson",
          "William Nylander",
          "Jonathan Huberdeau",
          "Connor McDavid",
          "Artemi Panarin"
         ],
         "legendgroup": "",
         "marker": {
          "color": "#636efa"
         },
         "name": "",
         "offsetgroup": "",
         "orientation": "v",
         "points": "all",
         "scalegroup": "True",
         "showlegend": false,
         "type": "violin",
         "x": [
          "1M",
          "1M",
          "1M",
          "1M",
          "1M",
          "1M",
          "1M",
          "1M",
          "1M",
          "1M",
          "1M",
          "1M",
          "1M",
          "1M",
          "1M",
          "1M",
          "1M",
          "1M",
          "1M",
          "1M",
          "1M",
          "1M",
          "1M",
          "1M",
          "1M",
          "1M",
          "1M",
          "1M",
          "1M",
          "1M",
          "1M",
          "1M",
          "1M",
          "1M",
          "1M",
          "1M",
          "1M",
          "1M",
          "1M",
          "1M",
          "1M",
          "1M",
          "1M",
          "1M",
          "1M",
          "1M",
          "1M",
          "1M",
          "1M",
          "1M",
          "1M",
          "1M",
          "1M",
          "1M",
          "1M",
          "1M",
          "1M",
          "1M",
          "1M",
          "1M",
          "1M",
          "1M",
          "1M",
          "1M",
          "1M",
          "1M",
          "1M",
          "1M",
          "1M",
          "1M",
          "1M",
          "1M",
          "1M",
          "1M",
          "1M",
          "1M",
          "1M",
          "1M",
          "1M",
          "1M",
          "1M",
          "1M",
          "1M",
          "1M",
          "1M",
          "1M",
          "1M",
          "1M",
          "1M",
          "1M",
          "1M",
          "1M",
          "1M",
          "1M",
          "1M",
          "1M",
          "1M",
          "1M",
          "1M",
          "1M",
          "1M",
          "1M",
          "1M",
          "1M",
          "1M",
          "1M",
          "1M",
          "1M",
          "1M",
          "1M",
          "1M",
          "1M",
          "1M",
          "1M",
          "1M",
          "1M",
          "1M",
          "1M",
          "1M",
          "1M",
          "2M",
          "2M",
          "2M",
          "2M",
          "2M",
          "2M",
          "2M",
          "2M",
          "2M",
          "2M",
          "2M",
          "2M",
          "2M",
          "2M",
          "2M",
          "2M",
          "2M",
          "2M",
          "2M",
          "2M",
          "2M",
          "2M",
          "2M",
          "2M",
          "2M",
          "2M",
          "2M",
          "2M",
          "2M",
          "2M",
          "2M",
          "2M",
          "2M",
          "2M",
          "2M",
          "2M",
          "2M",
          "2M",
          "2M",
          "2M",
          "2M",
          "2M",
          "2M",
          "2M",
          "2M",
          "2M",
          "2M",
          "2M",
          "2M",
          "2M",
          "2M",
          "2M",
          "2M",
          "2M",
          "2M",
          "2M",
          "3M",
          "3M",
          "3M",
          "3M",
          "3M",
          "3M",
          "3M",
          "3M",
          "3M",
          "3M",
          "3M",
          "3M",
          "3M",
          "3M",
          "3M",
          "3M",
          "3M",
          "3M",
          "3M",
          "3M",
          "3M",
          "3M",
          "3M",
          "3M",
          "3M",
          "3M",
          "3M",
          "3M",
          "3M",
          "3M",
          "3M",
          "3M",
          "3M",
          "3M",
          "3M",
          "3M",
          "3M",
          "3M",
          "3M",
          "3M",
          "3M",
          "3M",
          "3M",
          "3M",
          "3M",
          "4M",
          "4M",
          "4M",
          "4M",
          "4M",
          "4M",
          "4M",
          "4M",
          "4M",
          "4M",
          "4M",
          "4M",
          "4M",
          "4M",
          "4M",
          "4M",
          "4M",
          "4M",
          "4M",
          "4M",
          "4M",
          "4M",
          "4M",
          "4M",
          "4M",
          "4M",
          "4M",
          "4M",
          "4M",
          "4M",
          "4M",
          "4M",
          "5M",
          "5M",
          "5M",
          "5M",
          "5M",
          "5M",
          "5M",
          "5M",
          "5M",
          "5M",
          "5M",
          "5M",
          "5M",
          "5M",
          "5M",
          "5M",
          "5M",
          "5M",
          "5M",
          "5M",
          "5M",
          "5M",
          "5M",
          "5M",
          "5M",
          "5M",
          "5M",
          "5M",
          "5M",
          "5M",
          "5M",
          "5M",
          "5M",
          "5M",
          "6M",
          "6M",
          "6M",
          "6M",
          "6M",
          "6M",
          "6M",
          "6M",
          "6M",
          "6M",
          "6M",
          "6M",
          "6M",
          "6M",
          "6M",
          "6M",
          "6M",
          "6M",
          "6M",
          "6M",
          "6M",
          "6M",
          "6M",
          "6M",
          "6M",
          "6M",
          "6M",
          "6M",
          "6M",
          "6M",
          "7M",
          "7M",
          "7M",
          "7M",
          "7M",
          "7M",
          "7M",
          "7M",
          "7M",
          "7M",
          "7M",
          "7M",
          "7M",
          "7M",
          "7M",
          "7M",
          "8M",
          "8M",
          "8M",
          "8M",
          "8M",
          "8M",
          "8M",
          "8M",
          "8M",
          "8M",
          "8M",
          "8M",
          "8M",
          "8M",
          "8M",
          "8M",
          "8M",
          "8M",
          "9M",
          "9M",
          "9M",
          "9M",
          "9M",
          "9M",
          "9M",
          "9M",
          "9M",
          "9M",
          "9M",
          "9M",
          "9M",
          "9M",
          "9M",
          "9M",
          "9M",
          "9M",
          "9M",
          "9M",
          "10M",
          "10M",
          "10M",
          "10M",
          "10M",
          "10M",
          "10M",
          "10M",
          "10M",
          "10M",
          ">10M",
          ">10M",
          ">10M",
          ">10M",
          ">10M",
          ">10M",
          ">10M",
          ">10M"
         ],
         "x0": " ",
         "xaxis": "x",
         "y": {
          "bdata": "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",
          "dtype": "f8"
         },
         "y0": " ",
         "yaxis": "y"
        }
       ],
       "layout": {
        "legend": {
         "tracegroupgap": 0
        },
        "margin": {
         "t": 60
        },
        "template": {
         "data": {
          "bar": [
           {
            "error_x": {
             "color": "#f2f5fa"
            },
            "error_y": {
             "color": "#f2f5fa"
            },
            "marker": {
             "line": {
              "color": "rgb(17,17,17)",
              "width": 0.5
             },
             "pattern": {
              "fillmode": "overlay",
              "size": 10,
              "solidity": 0.2
             }
            },
            "type": "bar"
           }
          ],
          "barpolar": [
           {
            "marker": {
             "line": {
              "color": "rgb(17,17,17)",
              "width": 0.5
             },
             "pattern": {
              "fillmode": "overlay",
              "size": 10,
              "solidity": 0.2
             }
            },
            "type": "barpolar"
           }
          ],
          "carpet": [
           {
            "aaxis": {
             "endlinecolor": "#A2B1C6",
             "gridcolor": "#506784",
             "linecolor": "#506784",
             "minorgridcolor": "#506784",
             "startlinecolor": "#A2B1C6"
            },
            "baxis": {
             "endlinecolor": "#A2B1C6",
             "gridcolor": "#506784",
             "linecolor": "#506784",
             "minorgridcolor": "#506784",
             "startlinecolor": "#A2B1C6"
            },
            "type": "carpet"
           }
          ],
          "choropleth": [
           {
            "colorbar": {
             "outlinewidth": 0,
             "ticks": ""
            },
            "type": "choropleth"
           }
          ],
          "contour": [
           {
            "colorbar": {
             "outlinewidth": 0,
             "ticks": ""
            },
            "colorscale": [
             [
              0,
              "#0d0887"
             ],
             [
              0.1111111111111111,
              "#46039f"
             ],
             [
              0.2222222222222222,
              "#7201a8"
             ],
             [
              0.3333333333333333,
              "#9c179e"
             ],
             [
              0.4444444444444444,
              "#bd3786"
             ],
             [
              0.5555555555555556,
              "#d8576b"
             ],
             [
              0.6666666666666666,
              "#ed7953"
             ],
             [
              0.7777777777777778,
              "#fb9f3a"
             ],
             [
              0.8888888888888888,
              "#fdca26"
             ],
             [
              1,
              "#f0f921"
             ]
            ],
            "type": "contour"
           }
          ],
          "contourcarpet": [
           {
            "colorbar": {
             "outlinewidth": 0,
             "ticks": ""
            },
            "type": "contourcarpet"
           }
          ],
          "heatmap": [
           {
            "colorbar": {
             "outlinewidth": 0,
             "ticks": ""
            },
            "colorscale": [
             [
              0,
              "#0d0887"
             ],
             [
              0.1111111111111111,
              "#46039f"
             ],
             [
              0.2222222222222222,
              "#7201a8"
             ],
             [
              0.3333333333333333,
              "#9c179e"
             ],
             [
              0.4444444444444444,
              "#bd3786"
             ],
             [
              0.5555555555555556,
              "#d8576b"
             ],
             [
              0.6666666666666666,
              "#ed7953"
             ],
             [
              0.7777777777777778,
              "#fb9f3a"
             ],
             [
              0.8888888888888888,
              "#fdca26"
             ],
             [
              1,
              "#f0f921"
             ]
            ],
            "type": "heatmap"
           }
          ],
          "histogram": [
           {
            "marker": {
             "pattern": {
              "fillmode": "overlay",
              "size": 10,
              "solidity": 0.2
             }
            },
            "type": "histogram"
           }
          ],
          "histogram2d": [
           {
            "colorbar": {
             "outlinewidth": 0,
             "ticks": ""
            },
            "colorscale": [
             [
              0,
              "#0d0887"
             ],
             [
              0.1111111111111111,
              "#46039f"
             ],
             [
              0.2222222222222222,
              "#7201a8"
             ],
             [
              0.3333333333333333,
              "#9c179e"
             ],
             [
              0.4444444444444444,
              "#bd3786"
             ],
             [
              0.5555555555555556,
              "#d8576b"
             ],
             [
              0.6666666666666666,
              "#ed7953"
             ],
             [
              0.7777777777777778,
              "#fb9f3a"
             ],
             [
              0.8888888888888888,
              "#fdca26"
             ],
             [
              1,
              "#f0f921"
             ]
            ],
            "type": "histogram2d"
           }
          ],
          "histogram2dcontour": [
           {
            "colorbar": {
             "outlinewidth": 0,
             "ticks": ""
            },
            "colorscale": [
             [
              0,
              "#0d0887"
             ],
             [
              0.1111111111111111,
              "#46039f"
             ],
             [
              0.2222222222222222,
              "#7201a8"
             ],
             [
              0.3333333333333333,
              "#9c179e"
             ],
             [
              0.4444444444444444,
              "#bd3786"
             ],
             [
              0.5555555555555556,
              "#d8576b"
             ],
             [
              0.6666666666666666,
              "#ed7953"
             ],
             [
              0.7777777777777778,
              "#fb9f3a"
             ],
             [
              0.8888888888888888,
              "#fdca26"
             ],
             [
              1,
              "#f0f921"
             ]
            ],
            "type": "histogram2dcontour"
           }
          ],
          "mesh3d": [
           {
            "colorbar": {
             "outlinewidth": 0,
             "ticks": ""
            },
            "type": "mesh3d"
           }
          ],
          "parcoords": [
           {
            "line": {
             "colorbar": {
              "outlinewidth": 0,
              "ticks": ""
             }
            },
            "type": "parcoords"
           }
          ],
          "pie": [
           {
            "automargin": true,
            "type": "pie"
           }
          ],
          "scatter": [
           {
            "marker": {
             "line": {
              "color": "#283442"
             }
            },
            "type": "scatter"
           }
          ],
          "scatter3d": [
           {
            "line": {
             "colorbar": {
              "outlinewidth": 0,
              "ticks": ""
             }
            },
            "marker": {
             "colorbar": {
              "outlinewidth": 0,
              "ticks": ""
             }
            },
            "type": "scatter3d"
           }
          ],
          "scattercarpet": [
           {
            "marker": {
             "colorbar": {
              "outlinewidth": 0,
              "ticks": ""
             }
            },
            "type": "scattercarpet"
           }
          ],
          "scattergeo": [
           {
            "marker": {
             "colorbar": {
              "outlinewidth": 0,
              "ticks": ""
             }
            },
            "type": "scattergeo"
           }
          ],
          "scattergl": [
           {
            "marker": {
             "line": {
              "color": "#283442"
             }
            },
            "type": "scattergl"
           }
          ],
          "scattermap": [
           {
            "marker": {
             "colorbar": {
              "outlinewidth": 0,
              "ticks": ""
             }
            },
            "type": "scattermap"
           }
          ],
          "scattermapbox": [
           {
            "marker": {
             "colorbar": {
              "outlinewidth": 0,
              "ticks": ""
             }
            },
            "type": "scattermapbox"
           }
          ],
          "scatterpolar": [
           {
            "marker": {
             "colorbar": {
              "outlinewidth": 0,
              "ticks": ""
             }
            },
            "type": "scatterpolar"
           }
          ],
          "scatterpolargl": [
           {
            "marker": {
             "colorbar": {
              "outlinewidth": 0,
              "ticks": ""
             }
            },
            "type": "scatterpolargl"
           }
          ],
          "scatterternary": [
           {
            "marker": {
             "colorbar": {
              "outlinewidth": 0,
              "ticks": ""
             }
            },
            "type": "scatterternary"
           }
          ],
          "surface": [
           {
            "colorbar": {
             "outlinewidth": 0,
             "ticks": ""
            },
            "colorscale": [
             [
              0,
              "#0d0887"
             ],
             [
              0.1111111111111111,
              "#46039f"
             ],
             [
              0.2222222222222222,
              "#7201a8"
             ],
             [
              0.3333333333333333,
              "#9c179e"
             ],
             [
              0.4444444444444444,
              "#bd3786"
             ],
             [
              0.5555555555555556,
              "#d8576b"
             ],
             [
              0.6666666666666666,
              "#ed7953"
             ],
             [
              0.7777777777777778,
              "#fb9f3a"
             ],
             [
              0.8888888888888888,
              "#fdca26"
             ],
             [
              1,
              "#f0f921"
             ]
            ],
            "type": "surface"
           }
          ],
          "table": [
           {
            "cells": {
             "fill": {
              "color": "#506784"
             },
             "line": {
              "color": "rgb(17,17,17)"
             }
            },
            "header": {
             "fill": {
              "color": "#2a3f5f"
             },
             "line": {
              "color": "rgb(17,17,17)"
             }
            },
            "type": "table"
           }
          ]
         },
         "layout": {
          "annotationdefaults": {
           "arrowcolor": "#f2f5fa",
           "arrowhead": 0,
           "arrowwidth": 1
          },
          "autotypenumbers": "strict",
          "coloraxis": {
           "colorbar": {
            "outlinewidth": 0,
            "ticks": ""
           }
          },
          "colorscale": {
           "diverging": [
            [
             0,
             "#8e0152"
            ],
            [
             0.1,
             "#c51b7d"
            ],
            [
             0.2,
             "#de77ae"
            ],
            [
             0.3,
             "#f1b6da"
            ],
            [
             0.4,
             "#fde0ef"
            ],
            [
             0.5,
             "#f7f7f7"
            ],
            [
             0.6,
             "#e6f5d0"
            ],
            [
             0.7,
             "#b8e186"
            ],
            [
             0.8,
             "#7fbc41"
            ],
            [
             0.9,
             "#4d9221"
            ],
            [
             1,
             "#276419"
            ]
           ],
           "sequential": [
            [
             0,
             "#0d0887"
            ],
            [
             0.1111111111111111,
             "#46039f"
            ],
            [
             0.2222222222222222,
             "#7201a8"
            ],
            [
             0.3333333333333333,
             "#9c179e"
            ],
            [
             0.4444444444444444,
             "#bd3786"
            ],
            [
             0.5555555555555556,
             "#d8576b"
            ],
            [
             0.6666666666666666,
             "#ed7953"
            ],
            [
             0.7777777777777778,
             "#fb9f3a"
            ],
            [
             0.8888888888888888,
             "#fdca26"
            ],
            [
             1,
             "#f0f921"
            ]
           ],
           "sequentialminus": [
            [
             0,
             "#0d0887"
            ],
            [
             0.1111111111111111,
             "#46039f"
            ],
            [
             0.2222222222222222,
             "#7201a8"
            ],
            [
             0.3333333333333333,
             "#9c179e"
            ],
            [
             0.4444444444444444,
             "#bd3786"
            ],
            [
             0.5555555555555556,
             "#d8576b"
            ],
            [
             0.6666666666666666,
             "#ed7953"
            ],
            [
             0.7777777777777778,
             "#fb9f3a"
            ],
            [
             0.8888888888888888,
             "#fdca26"
            ],
            [
             1,
             "#f0f921"
            ]
           ]
          },
          "colorway": [
           "#636efa",
           "#EF553B",
           "#00cc96",
           "#ab63fa",
           "#FFA15A",
           "#19d3f3",
           "#FF6692",
           "#B6E880",
           "#FF97FF",
           "#FECB52"
          ],
          "font": {
           "color": "#f2f5fa"
          },
          "geo": {
           "bgcolor": "rgb(17,17,17)",
           "lakecolor": "rgb(17,17,17)",
           "landcolor": "rgb(17,17,17)",
           "showlakes": true,
           "showland": true,
           "subunitcolor": "#506784"
          },
          "hoverlabel": {
           "align": "left"
          },
          "hovermode": "closest",
          "mapbox": {
           "style": "dark"
          },
          "paper_bgcolor": "rgb(17,17,17)",
          "plot_bgcolor": "rgb(17,17,17)",
          "polar": {
           "angularaxis": {
            "gridcolor": "#506784",
            "linecolor": "#506784",
            "ticks": ""
           },
           "bgcolor": "rgb(17,17,17)",
           "radialaxis": {
            "gridcolor": "#506784",
            "linecolor": "#506784",
            "ticks": ""
           }
          },
          "scene": {
           "xaxis": {
            "backgroundcolor": "rgb(17,17,17)",
            "gridcolor": "#506784",
            "gridwidth": 2,
            "linecolor": "#506784",
            "showbackground": true,
            "ticks": "",
            "zerolinecolor": "#C8D4E3"
           },
           "yaxis": {
            "backgroundcolor": "rgb(17,17,17)",
            "gridcolor": "#506784",
            "gridwidth": 2,
            "linecolor": "#506784",
            "showbackground": true,
            "ticks": "",
            "zerolinecolor": "#C8D4E3"
           },
           "zaxis": {
            "backgroundcolor": "rgb(17,17,17)",
            "gridcolor": "#506784",
            "gridwidth": 2,
            "linecolor": "#506784",
            "showbackground": true,
            "ticks": "",
            "zerolinecolor": "#C8D4E3"
           }
          },
          "shapedefaults": {
           "line": {
            "color": "#f2f5fa"
           }
          },
          "sliderdefaults": {
           "bgcolor": "#C8D4E3",
           "bordercolor": "rgb(17,17,17)",
           "borderwidth": 1,
           "tickwidth": 0
          },
          "ternary": {
           "aaxis": {
            "gridcolor": "#506784",
            "linecolor": "#506784",
            "ticks": ""
           },
           "baxis": {
            "gridcolor": "#506784",
            "linecolor": "#506784",
            "ticks": ""
           },
           "bgcolor": "rgb(17,17,17)",
           "caxis": {
            "gridcolor": "#506784",
            "linecolor": "#506784",
            "ticks": ""
           }
          },
          "title": {
           "x": 0.05
          },
          "updatemenudefaults": {
           "bgcolor": "#506784",
           "borderwidth": 0
          },
          "xaxis": {
           "automargin": true,
           "gridcolor": "#283442",
           "linecolor": "#506784",
           "ticks": "",
           "title": {
            "standoff": 15
           },
           "zerolinecolor": "#283442",
           "zerolinewidth": 2
          },
          "yaxis": {
           "automargin": true,
           "gridcolor": "#283442",
           "linecolor": "#506784",
           "ticks": "",
           "title": {
            "standoff": 15
           },
           "zerolinecolor": "#283442",
           "zerolinewidth": 2
          }
         }
        },
        "violinmode": "group",
        "xaxis": {
         "anchor": "y",
         "domain": [
          0,
          1
         ],
         "title": {
          "text": "salary_tier"
         }
        },
        "yaxis": {
         "anchor": "x",
         "domain": [
          0,
          1
         ],
         "title": {
          "text": "p_eff"
         }
        }
       }
      },
      "image/png": "[encoded data removed]"
     },
     "metadata": {},
     "output_type": "display_data"
    }
   ],
   "source": [
    "fig = px.violin(\n",
    "    df,\n",
    "    x=\"salary_tier\",\n",
    "    y=\"p_eff\",\n",
    "    points=\"all\",\n",
    "    hover_name=\"playerName\"\n",
    ")\n",
    "fig.show()"
   ]
  },
  {
   "cell_type": "code",
   "execution_count": 18,
   "id": "4c3e5264",
   "metadata": {},
   "outputs": [
    {
     "data": {
      "application/vnd.plotly.v1+json": {
       "config": {
        "plotlyServerURL": "https://plot.ly"
       },
       "data": [
        {
         "alignmentgroup": "True",
         "box": {
          "visible": false
         },
         "hovertemplate": "<b>%{hovertext}</b><br><br>salary_tier=%{x}<br>gp_eff=%{y}<extra></extra>",
         "hovertext": [
          "Jack Williams",
          "Liam O'Brien",
          "Eric Robinson",
          "Connor Brown",
          "Dominic Toninato",
          "Rasmus Kupari",
          "Jimmy Vesey",
          "Akil Thomas",
          "Jakub Lauko",
          "Pontus Holmberg",
          "Zemgus Girgensons",
          "Mark Jankowski",
          "Jonatan Berggren",
          "Tanner Pearson",
          "David Gustafsson",
          "Luke Glendening",
          "Martin Pospisil",
          "Paul Cotter",
          "Nikolai Kovalenko",
          "Cole Koepke",
          "Nolan Foote",
          "Alex Turcotte",
          "John Beecher",
          "Arthur Kaliyev",
          "Matt Nieto",
          "Nicholas Robertson",
          "Jakob Pelletier",
          "Simon Holmstrom",
          "Tyler Motte",
          "Nick Cousins",
          "Jonny Brodzinski",
          "Parker Kelly",
          "Matthew Highmore",
          "Bokondji Imama",
          "A.J. Greer",
          "Jansen Harkins",
          "Daniel Sprong",
          "Maxim Tsyplakov",
          "Adam Gaudette",
          "Kasperi Kapanen",
          "Steven Lorentz",
          "Jakub Vrana",
          "Max Jones",
          "Tyson Jost",
          "Tomas Nosek",
          "Taylor Raddysh",
          "Noah Gregor",
          "Nathan Walker",
          "Curtis Lazar",
          "Michael Pezzetta",
          "Michael Eyssimont",
          "Michael Carcone",
          "Jonah Gadjovich",
          "Jaret Anderson-Dolan",
          "Jesper Boqvist",
          "Jonas Rondbjerg",
          "Elias Pettersson",
          "Michael McCarron",
          "Mark Kastelic",
          "Hudson Fasching",
          "Vasily Podkolzin",
          "Kyle MacLean",
          "Travis Boyd",
          "Zachary L'Heureux",
          "Wyatt Johnston",
          "Matt Martin",
          "Samuel Helenius",
          "Matthew Knies",
          "Mackie Samoskevich",
          "Brennan Othmann",
          "Logan Stankoven",
          "Joel Kiviranta",
          "Emil Heineman",
          "Jeff Malott",
          "Craig Smith",
          "Gage Goncalves",
          "Marat Khusnutdinov",
          "William Eklund",
          "Landon Slaggert",
          "Jackson Blake",
          "Logan Cooley",
          "Macklin Celebrini",
          "Matvei Michkov",
          "Will Smith",
          "Adam Fantilli",
          "Leo Carlsson",
          "Zach Benson",
          "Taylor Ward",
          "Trevor Lewis",
          "Marc Gatcomb",
          "Shane Wright",
          "Frank Nazar",
          "Rutger McGroarty",
          "Marco Kasper",
          "Cutter Gauthier",
          "Connor Bedard",
          "Tyson Foerster",
          "Josh Doan",
          "Alexander Holtz",
          "Will Cuylle",
          "Connor Zary",
          "Marco Rossi",
          "Jake Neighbours",
          "Ridly Greig",
          "Jack Quinn",
          "Drew O'Connor",
          "Tye Kartye",
          "Cole Smith",
          "Brett Berard",
          "Sam Carrick",
          "Dmitri Voronkov",
          "Mitchell Chaffee",
          "Mavrik Bourque",
          "Luke Evangelista",
          "Juuso Parssinen",
          "Alex Laferriere",
          "Cole Schwindt",
          "Colin Blackwell",
          "Thomas Bordeleau",
          "Justin Dowling",
          "Anthony Beauvillier",
          "Beck Malenstyn",
          "Brett Howden",
          "Sam Steel",
          "Carl Grundstrom",
          "Nils Hoglander",
          "Ryan Lomberg",
          "Kevin Rooney",
          "Bobby Brink",
          "Christian Fischer",
          "Keegan Kolesar",
          "Kevin Stenlund",
          "Noel Acciari",
          "Pavel Dorofeyev",
          "Ty Dellandrea",
          "Brandon Duhaime",
          "Brett Leason",
          "Jack Drury",
          "Isac Lundestrom",
          "Jack McBain",
          "Connor Dewar",
          "Bobby McMann",
          "Kiefer Sherwood",
          "Pius Suter",
          "Kent Johnson",
          "Morgan Barron",
          "Fabian Zetterlund",
          "Ryan Poehling",
          "Klim Kostin",
          "Lukas Reichel",
          "Morgan Geekie",
          "Justin Danforth",
          "Mathieu Olivier",
          "Logan O'Connor",
          "Jake Evans",
          "Nathan Bastian",
          "Nico Sturm",
          "Blake Lizotte",
          "Peyton Krebs",
          "Victor Olofsson",
          "Corey Perry",
          "Nic Dowd",
          "Nicolas Aube-Kubel",
          "Marcus Johansson",
          "Ross Johnston",
          "William Carrier",
          "Vladislav Namestnikov",
          "Brandon Saad",
          "Patrick Maroon",
          "Oskar Sundqvist",
          "Ryan Reaves",
          "Nicolas Deslauriers",
          "Sam Lafferty",
          "Mattias Janmark",
          "Tomas Tatar",
          "Ryan Donato",
          "Alexis Lafrenière",
          "Jeff Skinner",
          "Philipp Kurashev",
          "Nick Bjugstad",
          "Dylan Holloway",
          "Frederick Gaudreau",
          "Garnet Hathaway",
          "Sean Kuraly",
          "Alex Newhook",
          "Luke Kunin",
          "Joe Veleno",
          "Jonathan Drouin",
          "Calle Jarnkrok",
          "Kaapo Kakko",
          "Cody Glass",
          "Stefan Noesen",
          "Scott Laughton",
          "Morgan Frost",
          "Barrett Hayton",
          "Alexandre Texier",
          "David Kampf",
          "Eetu Luostarinen",
          "Colton Sissons",
          "Noah Cates",
          "Ryan McLeod",
          "Tanner Jeannot",
          "Connor McMichael",
          "Trent Frederic",
          "Jordan Greenway",
          "Lars Eller",
          "Jack Roslovic",
          "Nicolas Roy",
          "Michael Amadio",
          "Mathieu Joseph",
          "Evgenii Dadonov",
          "Cole Sillinger",
          "Matt Duchene",
          "Evan Rodrigues",
          "Adam Henrique",
          "Yegor Chinakhov",
          "Pierre Engvall",
          "Mason Appleton",
          "Danton Heinen",
          "Casey Cizikas",
          "Jordan Staal",
          "Warren Foegele",
          "Eeli Tolvanen",
          "Ryan Hartman",
          "Yegor Sharangovich",
          "Barclay Goodrow",
          "Anthony Duclair",
          "Dakota Joshua",
          "Radek Faksa",
          "Viktor Arvidsson",
          "Patrick Kane",
          "Joel Armia",
          "David Perron",
          "Frank Vatrano",
          "Jordan Martinook",
          "Alex Iafallo",
          "Kirill Marchenko",
          "Cole Perfetti",
          "Michael Rasmussen",
          "Aliaksei Protas",
          "Brandon Tanev",
          "Dawson Mercer",
          "Marcus Foligno",
          "Nino Niederreiter",
          "Yakov Trenin",
          "Matias Maccelli",
          "Ross Colton",
          "Max Domi",
          "Alexander Kerfoot",
          "Erik Haula",
          "Gustav Nyquist",
          "Shane Pinto",
          "Boone Jenner",
          "Rickard Rakell",
          "Jason Zucker",
          "Anton Lundell",
          "Kyle Palmieri",
          "Jesperi Kotkaniemi",
          "Vladimir Tarasenko",
          "Reilly Smith",
          "Blake Coleman",
          "Mikael Granlund",
          "Jean-Gabriel Pageau",
          "Jordan Eberle",
          "Ryan O'Reilly",
          "Ilya Mikheyev",
          "Mikael Backlund",
          "Nick Foligno",
          "Ryan Strome",
          "Michael Bunting",
          "Mason Marchment",
          "Sam Bennett",
          "Alex Tuch",
          "Joel Farabee",
          "Jared McCann",
          "Conor Garland",
          "Ivan Barbashev",
          "Lawson Crouse",
          "Dylan Strome",
          "Alexander Wennberg",
          "Christian Dvorak",
          "Drake Batherson",
          "Carter Verhaeghe",
          "Pavel Zacha",
          "Trevor Moore",
          "Filip Chytil",
          "Jason Dickinson",
          "Vincent Trocheck",
          "Jaden Schwartz",
          "Ondrej Palat",
          "Bryan Rust",
          "Sean Monahan",
          "Zach Hyman",
          "Pavel Buchnevich",
          "Brock Nelson",
          "Charlie Coyle",
          "Tyler Toffoli",
          "William Karlsson",
          "Nick Schmaltz",
          "Adrian Kempe",
          "Jake DeBrusk",
          "Travis Konecny",
          "Andrei Kuzmenko",
          "Andrew Mangiapane",
          "Nikolaj Ehlers",
          "Ryan Nugent-Hopkins",
          "Taylor Hall",
          "Phillip Danault",
          "Josh Anderson",
          "Teuvo Teravainen",
          "Jonathan Marchessault",
          "Trevor Zegras",
          "Casey Mittelstadt",
          "Oliver Bjorkstrand",
          "Andre Burakovsky",
          "Tyler Bertuzzi",
          "Yanni Gourde",
          "Martin Necas",
          "Owen Tippett",
          "Chris Kreider",
          "Claude Giroux",
          "Anze Kopitar",
          "Anders Lee",
          "Brendan Gallagher",
          "Nazem Kadri",
          "Brayden Schenn",
          "Anthony Cirelli",
          "Brock Boeser",
          "Brandon Hagel",
          "Chandler Stephenson",
          "Valeri Nichushkin",
          "Brad Marchand",
          "Quinton Byfield",
          "Jason Robertson",
          "Josh Norris",
          "Cole Caufield",
          "Nick Suzuki",
          "Andrei Svechnikov",
          "Steven Stamkos",
          "Kevin Fiala",
          "Kevin Hayes",
          "Kyle Connor",
          "Clayton Keller",
          "Elias Lindholm",
          "Seth Jarvis",
          "Nico Hischier",
          "Dylan Cozens",
          "J.T. Miller",
          "Tage Thompson",
          "Jesper Bratt",
          "Sean Couturier",
          "Patrik Laine",
          "Bo Horvat",
          "Mika Zibanejad",
          "Roope Hintz",
          "Mark Scheifele",
          "Tim Stützle",
          "Pierre-Luc Dubois",
          "Jordan Kyrou",
          "Filip Forsberg",
          "Brady Tkachuk",
          "Sam Reinhart",
          "Kirill Kaprizov",
          "Jake Guentzel",
          "Tomas Hertl",
          "Robert Thomas",
          "Leon Draisaitl",
          "Dylan Larkin",
          "Lucas Raymond",
          "Sidney Crosby",
          "Timo Meier",
          "Nikita Kucherov",
          "Jamie Benn",
          "Alex Ovechkin",
          "Jack Eichel",
          "Mark Stone",
          "Brayden Point",
          "Sebastian Aho",
          "Aleksander Barkov",
          "Tyler Seguin",
          "Mikko Rantanen",
          "Nathan MacKinnon",
          "Auston Matthews",
          "David Pastrnak",
          "Elias Pettersson",
          "William Nylander",
          "Jonathan Huberdeau",
          "Connor McDavid",
          "Artemi Panarin"
         ],
         "legendgroup": "",
         "marker": {
          "color": "#636efa"
         },
         "name": "",
         "offsetgroup": "",
         "orientation": "v",
         "points": "all",
         "scalegroup": "True",
         "showlegend": false,
         "type": "violin",
         "x": [
          "1M",
          "1M",
          "1M",
          "1M",
          "1M",
          "1M",
          "1M",
          "1M",
          "1M",
          "1M",
          "1M",
          "1M",
          "1M",
          "1M",
          "1M",
          "1M",
          "1M",
          "1M",
          "1M",
          "1M",
          "1M",
          "1M",
          "1M",
          "1M",
          "1M",
          "1M",
          "1M",
          "1M",
          "1M",
          "1M",
          "1M",
          "1M",
          "1M",
          "1M",
          "1M",
          "1M",
          "1M",
          "1M",
          "1M",
          "1M",
          "1M",
          "1M",
          "1M",
          "1M",
          "1M",
          "1M",
          "1M",
          "1M",
          "1M",
          "1M",
          "1M",
          "1M",
          "1M",
          "1M",
          "1M",
          "1M",
          "1M",
          "1M",
          "1M",
          "1M",
          "1M",
          "1M",
          "1M",
          "1M",
          "1M",
          "1M",
          "1M",
          "1M",
          "1M",
          "1M",
          "1M",
          "1M",
          "1M",
          "1M",
          "1M",
          "1M",
          "1M",
          "1M",
          "1M",
          "1M",
          "1M",
          "1M",
          "1M",
          "1M",
          "1M",
          "1M",
          "1M",
          "1M",
          "1M",
          "1M",
          "1M",
          "1M",
          "1M",
          "1M",
          "1M",
          "1M",
          "1M",
          "1M",
          "1M",
          "1M",
          "1M",
          "1M",
          "1M",
          "1M",
          "1M",
          "1M",
          "1M",
          "1M",
          "1M",
          "1M",
          "1M",
          "1M",
          "1M",
          "1M",
          "1M",
          "1M",
          "1M",
          "1M",
          "1M",
          "1M",
          "2M",
          "2M",
          "2M",
          "2M",
          "2M",
          "2M",
          "2M",
          "2M",
          "2M",
          "2M",
          "2M",
          "2M",
          "2M",
          "2M",
          "2M",
          "2M",
          "2M",
          "2M",
          "2M",
          "2M",
          "2M",
          "2M",
          "2M",
          "2M",
          "2M",
          "2M",
          "2M",
          "2M",
          "2M",
          "2M",
          "2M",
          "2M",
          "2M",
          "2M",
          "2M",
          "2M",
          "2M",
          "2M",
          "2M",
          "2M",
          "2M",
          "2M",
          "2M",
          "2M",
          "2M",
          "2M",
          "2M",
          "2M",
          "2M",
          "2M",
          "2M",
          "2M",
          "2M",
          "2M",
          "2M",
          "2M",
          "3M",
          "3M",
          "3M",
          "3M",
          "3M",
          "3M",
          "3M",
          "3M",
          "3M",
          "3M",
          "3M",
          "3M",
          "3M",
          "3M",
          "3M",
          "3M",
          "3M",
          "3M",
          "3M",
          "3M",
          "3M",
          "3M",
          "3M",
          "3M",
          "3M",
          "3M",
          "3M",
          "3M",
          "3M",
          "3M",
          "3M",
          "3M",
          "3M",
          "3M",
          "3M",
          "3M",
          "3M",
          "3M",
          "3M",
          "3M",
          "3M",
          "3M",
          "3M",
          "3M",
          "3M",
          "4M",
          "4M",
          "4M",
          "4M",
          "4M",
          "4M",
          "4M",
          "4M",
          "4M",
          "4M",
          "4M",
          "4M",
          "4M",
          "4M",
          "4M",
          "4M",
          "4M",
          "4M",
          "4M",
          "4M",
          "4M",
          "4M",
          "4M",
          "4M",
          "4M",
          "4M",
          "4M",
          "4M",
          "4M",
          "4M",
          "4M",
          "4M",
          "5M",
          "5M",
          "5M",
          "5M",
          "5M",
          "5M",
          "5M",
          "5M",
          "5M",
          "5M",
          "5M",
          "5M",
          "5M",
          "5M",
          "5M",
          "5M",
          "5M",
          "5M",
          "5M",
          "5M",
          "5M",
          "5M",
          "5M",
          "5M",
          "5M",
          "5M",
          "5M",
          "5M",
          "5M",
          "5M",
          "5M",
          "5M",
          "5M",
          "5M",
          "6M",
          "6M",
          "6M",
          "6M",
          "6M",
          "6M",
          "6M",
          "6M",
          "6M",
          "6M",
          "6M",
          "6M",
          "6M",
          "6M",
          "6M",
          "6M",
          "6M",
          "6M",
          "6M",
          "6M",
          "6M",
          "6M",
          "6M",
          "6M",
          "6M",
          "6M",
          "6M",
          "6M",
          "6M",
          "6M",
          "7M",
          "7M",
          "7M",
          "7M",
          "7M",
          "7M",
          "7M",
          "7M",
          "7M",
          "7M",
          "7M",
          "7M",
          "7M",
          "7M",
          "7M",
          "7M",
          "8M",
          "8M",
          "8M",
          "8M",
          "8M",
          "8M",
          "8M",
          "8M",
          "8M",
          "8M",
          "8M",
          "8M",
          "8M",
          "8M",
          "8M",
          "8M",
          "8M",
          "8M",
          "9M",
          "9M",
          "9M",
          "9M",
          "9M",
          "9M",
          "9M",
          "9M",
          "9M",
          "9M",
          "9M",
          "9M",
          "9M",
          "9M",
          "9M",
          "9M",
          "9M",
          "9M",
          "9M",
          "9M",
          "10M",
          "10M",
          "10M",
          "10M",
          "10M",
          "10M",
          "10M",
          "10M",
          "10M",
          "10M",
          ">10M",
          ">10M",
          ">10M",
          ">10M",
          ">10M",
          ">10M",
          ">10M",
          ">10M"
         ],
         "x0": " ",
         "xaxis": "x",
         "y": {
          "bdata": "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",
          "dtype": "f8"
         },
         "y0": " ",
         "yaxis": "y"
        }
       ],
       "layout": {
        "legend": {
         "tracegroupgap": 0
        },
        "margin": {
         "t": 60
        },
        "template": {
         "data": {
          "bar": [
           {
            "error_x": {
             "color": "#f2f5fa"
            },
            "error_y": {
             "color": "#f2f5fa"
            },
            "marker": {
             "line": {
              "color": "rgb(17,17,17)",
              "width": 0.5
             },
             "pattern": {
              "fillmode": "overlay",
              "size": 10,
              "solidity": 0.2
             }
            },
            "type": "bar"
           }
          ],
          "barpolar": [
           {
            "marker": {
             "line": {
              "color": "rgb(17,17,17)",
              "width": 0.5
             },
             "pattern": {
              "fillmode": "overlay",
              "size": 10,
              "solidity": 0.2
             }
            },
            "type": "barpolar"
           }
          ],
          "carpet": [
           {
            "aaxis": {
             "endlinecolor": "#A2B1C6",
             "gridcolor": "#506784",
             "linecolor": "#506784",
             "minorgridcolor": "#506784",
             "startlinecolor": "#A2B1C6"
            },
            "baxis": {
             "endlinecolor": "#A2B1C6",
             "gridcolor": "#506784",
             "linecolor": "#506784",
             "minorgridcolor": "#506784",
             "startlinecolor": "#A2B1C6"
            },
            "type": "carpet"
           }
          ],
          "choropleth": [
           {
            "colorbar": {
             "outlinewidth": 0,
             "ticks": ""
            },
            "type": "choropleth"
           }
          ],
          "contour": [
           {
            "colorbar": {
             "outlinewidth": 0,
             "ticks": ""
            },
            "colorscale": [
             [
              0,
              "#0d0887"
             ],
             [
              0.1111111111111111,
              "#46039f"
             ],
             [
              0.2222222222222222,
              "#7201a8"
             ],
             [
              0.3333333333333333,
              "#9c179e"
             ],
             [
              0.4444444444444444,
              "#bd3786"
             ],
             [
              0.5555555555555556,
              "#d8576b"
             ],
             [
              0.6666666666666666,
              "#ed7953"
             ],
             [
              0.7777777777777778,
              "#fb9f3a"
             ],
             [
              0.8888888888888888,
              "#fdca26"
             ],
             [
              1,
              "#f0f921"
             ]
            ],
            "type": "contour"
           }
          ],
          "contourcarpet": [
           {
            "colorbar": {
             "outlinewidth": 0,
             "ticks": ""
            },
            "type": "contourcarpet"
           }
          ],
          "heatmap": [
           {
            "colorbar": {
             "outlinewidth": 0,
             "ticks": ""
            },
            "colorscale": [
             [
              0,
              "#0d0887"
             ],
             [
              0.1111111111111111,
              "#46039f"
             ],
             [
              0.2222222222222222,
              "#7201a8"
             ],
             [
              0.3333333333333333,
              "#9c179e"
             ],
             [
              0.4444444444444444,
              "#bd3786"
             ],
             [
              0.5555555555555556,
              "#d8576b"
             ],
             [
              0.6666666666666666,
              "#ed7953"
             ],
             [
              0.7777777777777778,
              "#fb9f3a"
             ],
             [
              0.8888888888888888,
              "#fdca26"
             ],
             [
              1,
              "#f0f921"
             ]
            ],
            "type": "heatmap"
           }
          ],
          "histogram": [
           {
            "marker": {
             "pattern": {
              "fillmode": "overlay",
              "size": 10,
              "solidity": 0.2
             }
            },
            "type": "histogram"
           }
          ],
          "histogram2d": [
           {
            "colorbar": {
             "outlinewidth": 0,
             "ticks": ""
            },
            "colorscale": [
             [
              0,
              "#0d0887"
             ],
             [
              0.1111111111111111,
              "#46039f"
             ],
             [
              0.2222222222222222,
              "#7201a8"
             ],
             [
              0.3333333333333333,
              "#9c179e"
             ],
             [
              0.4444444444444444,
              "#bd3786"
             ],
             [
              0.5555555555555556,
              "#d8576b"
             ],
             [
              0.6666666666666666,
              "#ed7953"
             ],
             [
              0.7777777777777778,
              "#fb9f3a"
             ],
             [
              0.8888888888888888,
              "#fdca26"
             ],
             [
              1,
              "#f0f921"
             ]
            ],
            "type": "histogram2d"
           }
          ],
          "histogram2dcontour": [
           {
            "colorbar": {
             "outlinewidth": 0,
             "ticks": ""
            },
            "colorscale": [
             [
              0,
              "#0d0887"
             ],
             [
              0.1111111111111111,
              "#46039f"
             ],
             [
              0.2222222222222222,
              "#7201a8"
             ],
             [
              0.3333333333333333,
              "#9c179e"
             ],
             [
              0.4444444444444444,
              "#bd3786"
             ],
             [
              0.5555555555555556,
              "#d8576b"
             ],
             [
              0.6666666666666666,
              "#ed7953"
             ],
             [
              0.7777777777777778,
              "#fb9f3a"
             ],
             [
              0.8888888888888888,
              "#fdca26"
             ],
             [
              1,
              "#f0f921"
             ]
            ],
            "type": "histogram2dcontour"
           }
          ],
          "mesh3d": [
           {
            "colorbar": {
             "outlinewidth": 0,
             "ticks": ""
            },
            "type": "mesh3d"
           }
          ],
          "parcoords": [
           {
            "line": {
             "colorbar": {
              "outlinewidth": 0,
              "ticks": ""
             }
            },
            "type": "parcoords"
           }
          ],
          "pie": [
           {
            "automargin": true,
            "type": "pie"
           }
          ],
          "scatter": [
           {
            "marker": {
             "line": {
              "color": "#283442"
             }
            },
            "type": "scatter"
           }
          ],
          "scatter3d": [
           {
            "line": {
             "colorbar": {
              "outlinewidth": 0,
              "ticks": ""
             }
            },
            "marker": {
             "colorbar": {
              "outlinewidth": 0,
              "ticks": ""
             }
            },
            "type": "scatter3d"
           }
          ],
          "scattercarpet": [
           {
            "marker": {
             "colorbar": {
              "outlinewidth": 0,
              "ticks": ""
             }
            },
            "type": "scattercarpet"
           }
          ],
          "scattergeo": [
           {
            "marker": {
             "colorbar": {
              "outlinewidth": 0,
              "ticks": ""
             }
            },
            "type": "scattergeo"
           }
          ],
          "scattergl": [
           {
            "marker": {
             "line": {
              "color": "#283442"
             }
            },
            "type": "scattergl"
           }
          ],
          "scattermap": [
           {
            "marker": {
             "colorbar": {
              "outlinewidth": 0,
              "ticks": ""
             }
            },
            "type": "scattermap"
           }
          ],
          "scattermapbox": [
           {
            "marker": {
             "colorbar": {
              "outlinewidth": 0,
              "ticks": ""
             }
            },
            "type": "scattermapbox"
           }
          ],
          "scatterpolar": [
           {
            "marker": {
             "colorbar": {
              "outlinewidth": 0,
              "ticks": ""
             }
            },
            "type": "scatterpolar"
           }
          ],
          "scatterpolargl": [
           {
            "marker": {
             "colorbar": {
              "outlinewidth": 0,
              "ticks": ""
             }
            },
            "type": "scatterpolargl"
           }
          ],
          "scatterternary": [
           {
            "marker": {
             "colorbar": {
              "outlinewidth": 0,
              "ticks": ""
             }
            },
            "type": "scatterternary"
           }
          ],
          "surface": [
           {
            "colorbar": {
             "outlinewidth": 0,
             "ticks": ""
            },
            "colorscale": [
             [
              0,
              "#0d0887"
             ],
             [
              0.1111111111111111,
              "#46039f"
             ],
             [
              0.2222222222222222,
              "#7201a8"
             ],
             [
              0.3333333333333333,
              "#9c179e"
             ],
             [
              0.4444444444444444,
              "#bd3786"
             ],
             [
              0.5555555555555556,
              "#d8576b"
             ],
             [
              0.6666666666666666,
              "#ed7953"
             ],
             [
              0.7777777777777778,
              "#fb9f3a"
             ],
             [
              0.8888888888888888,
              "#fdca26"
             ],
             [
              1,
              "#f0f921"
             ]
            ],
            "type": "surface"
           }
          ],
          "table": [
           {
            "cells": {
             "fill": {
              "color": "#506784"
             },
             "line": {
              "color": "rgb(17,17,17)"
             }
            },
            "header": {
             "fill": {
              "color": "#2a3f5f"
             },
             "line": {
              "color": "rgb(17,17,17)"
             }
            },
            "type": "table"
           }
          ]
         },
         "layout": {
          "annotationdefaults": {
           "arrowcolor": "#f2f5fa",
           "arrowhead": 0,
           "arrowwidth": 1
          },
          "autotypenumbers": "strict",
          "coloraxis": {
           "colorbar": {
            "outlinewidth": 0,
            "ticks": ""
           }
          },
          "colorscale": {
           "diverging": [
            [
             0,
             "#8e0152"
            ],
            [
             0.1,
             "#c51b7d"
            ],
            [
             0.2,
             "#de77ae"
            ],
            [
             0.3,
             "#f1b6da"
            ],
            [
             0.4,
             "#fde0ef"
            ],
            [
             0.5,
             "#f7f7f7"
            ],
            [
             0.6,
             "#e6f5d0"
            ],
            [
             0.7,
             "#b8e186"
            ],
            [
             0.8,
             "#7fbc41"
            ],
            [
             0.9,
             "#4d9221"
            ],
            [
             1,
             "#276419"
            ]
           ],
           "sequential": [
            [
             0,
             "#0d0887"
            ],
            [
             0.1111111111111111,
             "#46039f"
            ],
            [
             0.2222222222222222,
             "#7201a8"
            ],
            [
             0.3333333333333333,
             "#9c179e"
            ],
            [
             0.4444444444444444,
             "#bd3786"
            ],
            [
             0.5555555555555556,
             "#d8576b"
            ],
            [
             0.6666666666666666,
             "#ed7953"
            ],
            [
             0.7777777777777778,
             "#fb9f3a"
            ],
            [
             0.8888888888888888,
             "#fdca26"
            ],
            [
             1,
             "#f0f921"
            ]
           ],
           "sequentialminus": [
            [
             0,
             "#0d0887"
            ],
            [
             0.1111111111111111,
             "#46039f"
            ],
            [
             0.2222222222222222,
             "#7201a8"
            ],
            [
             0.3333333333333333,
             "#9c179e"
            ],
            [
             0.4444444444444444,
             "#bd3786"
            ],
            [
             0.5555555555555556,
             "#d8576b"
            ],
            [
             0.6666666666666666,
             "#ed7953"
            ],
            [
             0.7777777777777778,
             "#fb9f3a"
            ],
            [
             0.8888888888888888,
             "#fdca26"
            ],
            [
             1,
             "#f0f921"
            ]
           ]
          },
          "colorway": [
           "#636efa",
           "#EF553B",
           "#00cc96",
           "#ab63fa",
           "#FFA15A",
           "#19d3f3",
           "#FF6692",
           "#B6E880",
           "#FF97FF",
           "#FECB52"
          ],
          "font": {
           "color": "#f2f5fa"
          },
          "geo": {
           "bgcolor": "rgb(17,17,17)",
           "lakecolor": "rgb(17,17,17)",
           "landcolor": "rgb(17,17,17)",
           "showlakes": true,
           "showland": true,
           "subunitcolor": "#506784"
          },
          "hoverlabel": {
           "align": "left"
          },
          "hovermode": "closest",
          "mapbox": {
           "style": "dark"
          },
          "paper_bgcolor": "rgb(17,17,17)",
          "plot_bgcolor": "rgb(17,17,17)",
          "polar": {
           "angularaxis": {
            "gridcolor": "#506784",
            "linecolor": "#506784",
            "ticks": ""
           },
           "bgcolor": "rgb(17,17,17)",
           "radialaxis": {
            "gridcolor": "#506784",
            "linecolor": "#506784",
            "ticks": ""
           }
          },
          "scene": {
           "xaxis": {
            "backgroundcolor": "rgb(17,17,17)",
            "gridcolor": "#506784",
            "gridwidth": 2,
            "linecolor": "#506784",
            "showbackground": true,
            "ticks": "",
            "zerolinecolor": "#C8D4E3"
           },
           "yaxis": {
            "backgroundcolor": "rgb(17,17,17)",
            "gridcolor": "#506784",
            "gridwidth": 2,
            "linecolor": "#506784",
            "showbackground": true,
            "ticks": "",
            "zerolinecolor": "#C8D4E3"
           },
           "zaxis": {
            "backgroundcolor": "rgb(17,17,17)",
            "gridcolor": "#506784",
            "gridwidth": 2,
            "linecolor": "#506784",
            "showbackground": true,
            "ticks": "",
            "zerolinecolor": "#C8D4E3"
           }
          },
          "shapedefaults": {
           "line": {
            "color": "#f2f5fa"
           }
          },
          "sliderdefaults": {
           "bgcolor": "#C8D4E3",
           "bordercolor": "rgb(17,17,17)",
           "borderwidth": 1,
           "tickwidth": 0
          },
          "ternary": {
           "aaxis": {
            "gridcolor": "#506784",
            "linecolor": "#506784",
            "ticks": ""
           },
           "baxis": {
            "gridcolor": "#506784",
            "linecolor": "#506784",
            "ticks": ""
           },
           "bgcolor": "rgb(17,17,17)",
           "caxis": {
            "gridcolor": "#506784",
            "linecolor": "#506784",
            "ticks": ""
           }
          },
          "title": {
           "x": 0.05
          },
          "updatemenudefaults": {
           "bgcolor": "#506784",
           "borderwidth": 0
          },
          "xaxis": {
           "automargin": true,
           "gridcolor": "#283442",
           "linecolor": "#506784",
           "ticks": "",
           "title": {
            "standoff": 15
           },
           "zerolinecolor": "#283442",
           "zerolinewidth": 2
          },
          "yaxis": {
           "automargin": true,
           "gridcolor": "#283442",
           "linecolor": "#506784",
           "ticks": "",
           "title": {
            "standoff": 15
           },
           "zerolinecolor": "#283442",
           "zerolinewidth": 2
          }
         }
        },
        "violinmode": "group",
        "xaxis": {
         "anchor": "y",
         "domain": [
          0,
          1
         ],
         "title": {
          "text": "salary_tier"
         }
        },
        "yaxis": {
         "anchor": "x",
         "domain": [
          0,
          1
         ],
         "title": {
          "text": "gp_eff"
         }
        }
       }
      },
      "image/png": "[encoded data removed]"
     },
     "metadata": {},
     "output_type": "display_data"
    }
   ],
   "source": [
    "fig = px.violin(\n",
    "    df,\n",
    "    x=\"salary_tier\",\n",
    "    y=\"gp_eff\",\n",
    "    points=\"all\",\n",
    "    hover_name=\"playerName\"\n",
    ")\n",
    "fig.show()"
   ]
  },
  {
   "cell_type": "code",
   "execution_count": 20,
   "id": "1478b6eb",
   "metadata": {},
   "outputs": [],
   "source": [
    "# # Missing players due to IR/LTIR\n",
    "# df[df[\"capHit\"].isna()].sort_values(by=[\"age\"], ascending=[False]).iloc[:20,:]"
   ]
  },
  {
   "cell_type": "code",
   "execution_count": null,
   "id": "ac74854b",
   "metadata": {},
   "outputs": [],
   "source": []
  }
 ],
 "metadata": {
  "kernelspec": {
   "display_name": "3.13.2",
   "language": "python",
   "name": "python3"
  },
  "language_info": {
   "codemirror_mode": {
    "name": "ipython",
    "version": 3
   },
   "file_extension": ".py",
   "mimetype": "text/x-python",
   "name": "python",
   "nbconvert_exporter": "python",
   "pygments_lexer": "ipython3",
   "version": "3.13.2"
  }
 },
 "nbformat": 4,
 "nbformat_minor": 5
}
