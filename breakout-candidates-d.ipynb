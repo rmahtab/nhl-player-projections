{
 "cells": [
  {
   "cell_type": "markdown",
   "id": "b1b60d2c",
   "metadata": {},
   "source": [
    "# Breakout Candidates - Defensemen\n",
    "\n",
    "The objective of this notebook is to identify undervalued NHL defensemen who are early in their careers and poised to breakout next season."
   ]
  },
  {
   "cell_type": "code",
   "execution_count": 1,
   "id": "c472b430",
   "metadata": {},
   "outputs": [],
   "source": [
    "from common import *\n",
    "import statsmodels.api as sm"
   ]
  },
  {
   "cell_type": "code",
   "execution_count": 2,
   "id": "4f34d8ef",
   "metadata": {},
   "outputs": [],
   "source": [
    "# Choose position to filter down to\n",
    "POSITION = \"defensemen\"\n",
    "\n",
    "# Load player historical season stats and salary cap data\n",
    "hdf = load_historical_stats(POSITION)\n",
    "hdf = hdf[hdf[\"season\"] == \"20242025\"]\n",
    "cdf = load_cap_data()"
   ]
  },
  {
   "cell_type": "markdown",
   "id": "f5b1e9a5",
   "metadata": {},
   "source": [
    "Join the two datasets on player name, which is not ideal but ok for now.\n",
    "\n",
    "Also, I did not ingest cap data for all players (e.g. players on IR/LTIR).\n",
    "\n",
    "And some players have names spelled differently across the two datasets, so they are not joined.\n",
    "\n",
    "Filtering these cases out for now."
   ]
  },
  {
   "cell_type": "code",
   "execution_count": 3,
   "id": "6fbcde14",
   "metadata": {},
   "outputs": [],
   "source": [
    "df = hdf.merge(cdf, on=\"playerName\", how=\"left\")\n",
    "df = df[~df[\"capHit\"].isna()]"
   ]
  },
  {
   "cell_type": "markdown",
   "id": "11ff0a85",
   "metadata": {},
   "source": [
    "Lets check the distribution of average time on ice. Not really using the results of this graph anywhere, but just wanted to check the distribution of this feature.\n",
    "\n",
    "Hypothesis: Players with low average time on ice (but strong scoring stats) are good breakout candidates."
   ]
  },
  {
   "cell_type": "code",
   "execution_count": 5,
   "id": "d38da270",
   "metadata": {},
   "outputs": [
    {
     "data": {
      "application/vnd.plotly.v1+json": {
       "config": {
        "plotlyServerURL": "https://plot.ly"
       },
       "data": [
        {
         "bingroup": "x",
         "hovertemplate": "Avg Time on Ice=%{x}<br>count=%{y}<extra></extra>",
         "legendgroup": "",
         "marker": {
          "color": "#636efa",
          "pattern": {
           "shape": ""
          }
         },
         "name": "",
         "orientation": "v",
         "showlegend": false,
         "type": "histogram",
         "x": {
          "bdata": "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",
          "dtype": "f8"
         },
         "xaxis": "x",
         "yaxis": "y"
        }
       ],
       "layout": {
        "barmode": "relative",
        "height": 500,
        "legend": {
         "tracegroupgap": 0
        },
        "template": {
         "data": {
          "bar": [
           {
            "error_x": {
             "color": "#f2f5fa"
            },
            "error_y": {
             "color": "#f2f5fa"
            },
            "marker": {
             "line": {
              "color": "rgb(17,17,17)",
              "width": 0.5
             },
             "pattern": {
              "fillmode": "overlay",
              "size": 10,
              "solidity": 0.2
             }
            },
            "type": "bar"
           }
          ],
          "barpolar": [
           {
            "marker": {
             "line": {
              "color": "rgb(17,17,17)",
              "width": 0.5
             },
             "pattern": {
              "fillmode": "overlay",
              "size": 10,
              "solidity": 0.2
             }
            },
            "type": "barpolar"
           }
          ],
          "carpet": [
           {
            "aaxis": {
             "endlinecolor": "#A2B1C6",
             "gridcolor": "#506784",
             "linecolor": "#506784",
             "minorgridcolor": "#506784",
             "startlinecolor": "#A2B1C6"
            },
            "baxis": {
             "endlinecolor": "#A2B1C6",
             "gridcolor": "#506784",
             "linecolor": "#506784",
             "minorgridcolor": "#506784",
             "startlinecolor": "#A2B1C6"
            },
            "type": "carpet"
           }
          ],
          "choropleth": [
           {
            "colorbar": {
             "outlinewidth": 0,
             "ticks": ""
            },
            "type": "choropleth"
           }
          ],
          "contour": [
           {
            "colorbar": {
             "outlinewidth": 0,
             "ticks": ""
            },
            "colorscale": [
             [
              0,
              "#0d0887"
             ],
             [
              0.1111111111111111,
              "#46039f"
             ],
             [
              0.2222222222222222,
              "#7201a8"
             ],
             [
              0.3333333333333333,
              "#9c179e"
             ],
             [
              0.4444444444444444,
              "#bd3786"
             ],
             [
              0.5555555555555556,
              "#d8576b"
             ],
             [
              0.6666666666666666,
              "#ed7953"
             ],
             [
              0.7777777777777778,
              "#fb9f3a"
             ],
             [
              0.8888888888888888,
              "#fdca26"
             ],
             [
              1,
              "#f0f921"
             ]
            ],
            "type": "contour"
           }
          ],
          "contourcarpet": [
           {
            "colorbar": {
             "outlinewidth": 0,
             "ticks": ""
            },
            "type": "contourcarpet"
           }
          ],
          "heatmap": [
           {
            "colorbar": {
             "outlinewidth": 0,
             "ticks": ""
            },
            "colorscale": [
             [
              0,
              "#0d0887"
             ],
             [
              0.1111111111111111,
              "#46039f"
             ],
             [
              0.2222222222222222,
              "#7201a8"
             ],
             [
              0.3333333333333333,
              "#9c179e"
             ],
             [
              0.4444444444444444,
              "#bd3786"
             ],
             [
              0.5555555555555556,
              "#d8576b"
             ],
             [
              0.6666666666666666,
              "#ed7953"
             ],
             [
              0.7777777777777778,
              "#fb9f3a"
             ],
             [
              0.8888888888888888,
              "#fdca26"
             ],
             [
              1,
              "#f0f921"
             ]
            ],
            "type": "heatmap"
           }
          ],
          "histogram": [
           {
            "marker": {
             "pattern": {
              "fillmode": "overlay",
              "size": 10,
              "solidity": 0.2
             }
            },
            "type": "histogram"
           }
          ],
          "histogram2d": [
           {
            "colorbar": {
             "outlinewidth": 0,
             "ticks": ""
            },
            "colorscale": [
             [
              0,
              "#0d0887"
             ],
             [
              0.1111111111111111,
              "#46039f"
             ],
             [
              0.2222222222222222,
              "#7201a8"
             ],
             [
              0.3333333333333333,
              "#9c179e"
             ],
             [
              0.4444444444444444,
              "#bd3786"
             ],
             [
              0.5555555555555556,
              "#d8576b"
             ],
             [
              0.6666666666666666,
              "#ed7953"
             ],
             [
              0.7777777777777778,
              "#fb9f3a"
             ],
             [
              0.8888888888888888,
              "#fdca26"
             ],
             [
              1,
              "#f0f921"
             ]
            ],
            "type": "histogram2d"
           }
          ],
          "histogram2dcontour": [
           {
            "colorbar": {
             "outlinewidth": 0,
             "ticks": ""
            },
            "colorscale": [
             [
              0,
              "#0d0887"
             ],
             [
              0.1111111111111111,
              "#46039f"
             ],
             [
              0.2222222222222222,
              "#7201a8"
             ],
             [
              0.3333333333333333,
              "#9c179e"
             ],
             [
              0.4444444444444444,
              "#bd3786"
             ],
             [
              0.5555555555555556,
              "#d8576b"
             ],
             [
              0.6666666666666666,
              "#ed7953"
             ],
             [
              0.7777777777777778,
              "#fb9f3a"
             ],
             [
              0.8888888888888888,
              "#fdca26"
             ],
             [
              1,
              "#f0f921"
             ]
            ],
            "type": "histogram2dcontour"
           }
          ],
          "mesh3d": [
           {
            "colorbar": {
             "outlinewidth": 0,
             "ticks": ""
            },
            "type": "mesh3d"
           }
          ],
          "parcoords": [
           {
            "line": {
             "colorbar": {
              "outlinewidth": 0,
              "ticks": ""
             }
            },
            "type": "parcoords"
           }
          ],
          "pie": [
           {
            "automargin": true,
            "type": "pie"
           }
          ],
          "scatter": [
           {
            "marker": {
             "line": {
              "color": "#283442"
             }
            },
            "type": "scatter"
           }
          ],
          "scatter3d": [
           {
            "line": {
             "colorbar": {
              "outlinewidth": 0,
              "ticks": ""
             }
            },
            "marker": {
             "colorbar": {
              "outlinewidth": 0,
              "ticks": ""
             }
            },
            "type": "scatter3d"
           }
          ],
          "scattercarpet": [
           {
            "marker": {
             "colorbar": {
              "outlinewidth": 0,
              "ticks": ""
             }
            },
            "type": "scattercarpet"
           }
          ],
          "scattergeo": [
           {
            "marker": {
             "colorbar": {
              "outlinewidth": 0,
              "ticks": ""
             }
            },
            "type": "scattergeo"
           }
          ],
          "scattergl": [
           {
            "marker": {
             "line": {
              "color": "#283442"
             }
            },
            "type": "scattergl"
           }
          ],
          "scattermap": [
           {
            "marker": {
             "colorbar": {
              "outlinewidth": 0,
              "ticks": ""
             }
            },
            "type": "scattermap"
           }
          ],
          "scattermapbox": [
           {
            "marker": {
             "colorbar": {
              "outlinewidth": 0,
              "ticks": ""
             }
            },
            "type": "scattermapbox"
           }
          ],
          "scatterpolar": [
           {
            "marker": {
             "colorbar": {
              "outlinewidth": 0,
              "ticks": ""
             }
            },
            "type": "scatterpolar"
           }
          ],
          "scatterpolargl": [
           {
            "marker": {
             "colorbar": {
              "outlinewidth": 0,
              "ticks": ""
             }
            },
            "type": "scatterpolargl"
           }
          ],
          "scatterternary": [
           {
            "marker": {
             "colorbar": {
              "outlinewidth": 0,
              "ticks": ""
             }
            },
            "type": "scatterternary"
           }
          ],
          "surface": [
           {
            "colorbar": {
             "outlinewidth": 0,
             "ticks": ""
            },
            "colorscale": [
             [
              0,
              "#0d0887"
             ],
             [
              0.1111111111111111,
              "#46039f"
             ],
             [
              0.2222222222222222,
              "#7201a8"
             ],
             [
              0.3333333333333333,
              "#9c179e"
             ],
             [
              0.4444444444444444,
              "#bd3786"
             ],
             [
              0.5555555555555556,
              "#d8576b"
             ],
             [
              0.6666666666666666,
              "#ed7953"
             ],
             [
              0.7777777777777778,
              "#fb9f3a"
             ],
             [
              0.8888888888888888,
              "#fdca26"
             ],
             [
              1,
              "#f0f921"
             ]
            ],
            "type": "surface"
           }
          ],
          "table": [
           {
            "cells": {
             "fill": {
              "color": "#506784"
             },
             "line": {
              "color": "rgb(17,17,17)"
             }
            },
            "header": {
             "fill": {
              "color": "#2a3f5f"
             },
             "line": {
              "color": "rgb(17,17,17)"
             }
            },
            "type": "table"
           }
          ]
         },
         "layout": {
          "annotationdefaults": {
           "arrowcolor": "#f2f5fa",
           "arrowhead": 0,
           "arrowwidth": 1
          },
          "autotypenumbers": "strict",
          "coloraxis": {
           "colorbar": {
            "outlinewidth": 0,
            "ticks": ""
           }
          },
          "colorscale": {
           "diverging": [
            [
             0,
             "#8e0152"
            ],
            [
             0.1,
             "#c51b7d"
            ],
            [
             0.2,
             "#de77ae"
            ],
            [
             0.3,
             "#f1b6da"
            ],
            [
             0.4,
             "#fde0ef"
            ],
            [
             0.5,
             "#f7f7f7"
            ],
            [
             0.6,
             "#e6f5d0"
            ],
            [
             0.7,
             "#b8e186"
            ],
            [
             0.8,
             "#7fbc41"
            ],
            [
             0.9,
             "#4d9221"
            ],
            [
             1,
             "#276419"
            ]
           ],
           "sequential": [
            [
             0,
             "#0d0887"
            ],
            [
             0.1111111111111111,
             "#46039f"
            ],
            [
             0.2222222222222222,
             "#7201a8"
            ],
            [
             0.3333333333333333,
             "#9c179e"
            ],
            [
             0.4444444444444444,
             "#bd3786"
            ],
            [
             0.5555555555555556,
             "#d8576b"
            ],
            [
             0.6666666666666666,
             "#ed7953"
            ],
            [
             0.7777777777777778,
             "#fb9f3a"
            ],
            [
             0.8888888888888888,
             "#fdca26"
            ],
            [
             1,
             "#f0f921"
            ]
           ],
           "sequentialminus": [
            [
             0,
             "#0d0887"
            ],
            [
             0.1111111111111111,
             "#46039f"
            ],
            [
             0.2222222222222222,
             "#7201a8"
            ],
            [
             0.3333333333333333,
             "#9c179e"
            ],
            [
             0.4444444444444444,
             "#bd3786"
            ],
            [
             0.5555555555555556,
             "#d8576b"
            ],
            [
             0.6666666666666666,
             "#ed7953"
            ],
            [
             0.7777777777777778,
             "#fb9f3a"
            ],
            [
             0.8888888888888888,
             "#fdca26"
            ],
            [
             1,
             "#f0f921"
            ]
           ]
          },
          "colorway": [
           "#636efa",
           "#EF553B",
           "#00cc96",
           "#ab63fa",
           "#FFA15A",
           "#19d3f3",
           "#FF6692",
           "#B6E880",
           "#FF97FF",
           "#FECB52"
          ],
          "font": {
           "color": "#f2f5fa"
          },
          "geo": {
           "bgcolor": "rgb(17,17,17)",
           "lakecolor": "rgb(17,17,17)",
           "landcolor": "rgb(17,17,17)",
           "showlakes": true,
           "showland": true,
           "subunitcolor": "#506784"
          },
          "hoverlabel": {
           "align": "left"
          },
          "hovermode": "closest",
          "mapbox": {
           "style": "dark"
          },
          "paper_bgcolor": "rgb(17,17,17)",
          "plot_bgcolor": "rgb(17,17,17)",
          "polar": {
           "angularaxis": {
            "gridcolor": "#506784",
            "linecolor": "#506784",
            "ticks": ""
           },
           "bgcolor": "rgb(17,17,17)",
           "radialaxis": {
            "gridcolor": "#506784",
            "linecolor": "#506784",
            "ticks": ""
           }
          },
          "scene": {
           "xaxis": {
            "backgroundcolor": "rgb(17,17,17)",
            "gridcolor": "#506784",
            "gridwidth": 2,
            "linecolor": "#506784",
            "showbackground": true,
            "ticks": "",
            "zerolinecolor": "#C8D4E3"
           },
           "yaxis": {
            "backgroundcolor": "rgb(17,17,17)",
            "gridcolor": "#506784",
            "gridwidth": 2,
            "linecolor": "#506784",
            "showbackground": true,
            "ticks": "",
            "zerolinecolor": "#C8D4E3"
           },
           "zaxis": {
            "backgroundcolor": "rgb(17,17,17)",
            "gridcolor": "#506784",
            "gridwidth": 2,
            "linecolor": "#506784",
            "showbackground": true,
            "ticks": "",
            "zerolinecolor": "#C8D4E3"
           }
          },
          "shapedefaults": {
           "line": {
            "color": "#f2f5fa"
           }
          },
          "sliderdefaults": {
           "bgcolor": "#C8D4E3",
           "bordercolor": "rgb(17,17,17)",
           "borderwidth": 1,
           "tickwidth": 0
          },
          "ternary": {
           "aaxis": {
            "gridcolor": "#506784",
            "linecolor": "#506784",
            "ticks": ""
           },
           "baxis": {
            "gridcolor": "#506784",
            "linecolor": "#506784",
            "ticks": ""
           },
           "bgcolor": "rgb(17,17,17)",
           "caxis": {
            "gridcolor": "#506784",
            "linecolor": "#506784",
            "ticks": ""
           }
          },
          "title": {
           "x": 0.05
          },
          "updatemenudefaults": {
           "bgcolor": "#506784",
           "borderwidth": 0
          },
          "xaxis": {
           "automargin": true,
           "gridcolor": "#283442",
           "linecolor": "#506784",
           "ticks": "",
           "title": {
            "standoff": 15
           },
           "zerolinecolor": "#283442",
           "zerolinewidth": 2
          },
          "yaxis": {
           "automargin": true,
           "gridcolor": "#283442",
           "linecolor": "#506784",
           "ticks": "",
           "title": {
            "standoff": 15
           },
           "zerolinecolor": "#283442",
           "zerolinewidth": 2
          }
         }
        },
        "title": {
         "text": "Distribution of Avg Time on Ice"
        },
        "width": 800,
        "xaxis": {
         "anchor": "y",
         "domain": [
          0,
          1
         ],
         "title": {
          "text": "Avg Time on Ice"
         }
        },
        "yaxis": {
         "anchor": "x",
         "domain": [
          0,
          1
         ],
         "title": {
          "text": "count"
         }
        }
       }
      },
      "image/png": "[encoded data removed]"
     },
     "metadata": {},
     "output_type": "display_data"
    }
   ],
   "source": [
    "px.histogram(\n",
    "    df,\n",
    "    x=\"avgToi\",\n",
    "    width=800,\n",
    "    height=500,\n",
    "    title=\"Distribution of Avg Time on Ice\",\n",
    "    labels={\"avgToi\": \"Avg Time on Ice\"},\n",
    ")"
   ]
  },
  {
   "cell_type": "markdown",
   "id": "e2ad45dc",
   "metadata": {},
   "source": [
    "Lets filter down to players with 1-2 years of experience in the NHL who played at least 10 games this past season. Looks like there are 20 players who fit the bill."
   ]
  },
  {
   "cell_type": "code",
   "execution_count": 24,
   "id": "df896222",
   "metadata": {},
   "outputs": [
    {
     "data": {
      "text/plain": [
       "(20, 27)"
      ]
     },
     "execution_count": 24,
     "metadata": {},
     "output_type": "execute_result"
    }
   ],
   "source": [
    "MIN_GAMES = 10\n",
    "subset = df[\n",
    "    (df[\"yoe\"] <= 2)\n",
    "    & (df[\"gamesPlayed\"] >= MIN_GAMES)\n",
    "    & (df[\"capHit\"] <= 10000000) # Adding this filter bc Elias Pettersson the forward shows up here...\n",
    "    # & (df[\"avgToi\"] <= 12)\n",
    "    # & (df[\"age\"] <= 25)\n",
    "]\n",
    "subset.shape"
   ]
  },
  {
   "cell_type": "markdown",
   "id": "5f0b52e5",
   "metadata": {},
   "source": [
    "The below text is copy-pasted from my forward breakout candidates ontebook, but leaving it in for now:\n",
    "\n",
    "Curious what goal/assist/point scoring rates are for these players vs their average ice time.\n",
    "\n",
    "Lets also adjust for avgToi. The x/60 metric looks at x metric divided by total ice time. But dividing by avgToi gives us more info.\n",
    "\n",
    "For example, Player A and Player B may both have 0.5 g/60. Lets say both Player A and Player B have 5 goals for a total of 600 min played. Howver, Player A may have 60 games played for an avgToi of 10 minutes per game, while Player B has 30 games played for an avgToi of 20 minutes per game. They both scored the same amount of goals in the same amount of total ice time. However, my interpretation is that Player B was given more slack by the coach (20 minutes per game instead of just 10) while Player A had much less room for error. The difference in number of games could be due to injury or AHL call-ups. If two players have the same per/60 stats, I want to rank players who had less room for error higher than players who had more room for error. This is because I want to idenitfy players who could post increased stats (i.e. breakout) if they are given more ice time. Young players who can deliver under scrutiny and limited ice time are should be well-positioned to blossom given more leeway.\n",
    "\n",
    "Thus, I divide the metrics by avgToi to create an adjusted metric. I then produce a ranking of the players based on that specific adjusted metric. I will do this for all metrics and then add up the rankings per player. The players with the lowest rank sums, should be the best all around scorer within the criteria of this subset of players adjusted for ice time."
   ]
  },
  {
   "cell_type": "code",
   "execution_count": 23,
   "id": "60baf0fc",
   "metadata": {},
   "outputs": [
    {
     "data": {
      "application/vnd.plotly.v1+json": {
       "config": {
        "plotlyServerURL": "https://plot.ly"
       },
       "data": [
        {
         "customdata": [
          [
           2,
           3,
           5,
           39,
           [
            "Pittsburgh Penguins"
           ],
           27,
           775000
          ],
          [
           0,
           2,
           2,
           41,
           [
            "Colorado Avalanche"
           ],
           26,
           775000
          ],
          [
           2,
           11,
           13,
           76,
           [
            "Edmonton Oilers"
           ],
           24,
           950000
          ],
          [
           4,
           9,
           13,
           56,
           [
            "Anaheim Ducks"
           ],
           23,
           925000
          ],
          [
           2,
           11,
           13,
           56,
           [
            "Montréal Canadiens"
           ],
           23,
           867500
          ],
          [
           3,
           6,
           9,
           61,
           [
            "Detroit Red Wings"
           ],
           23,
           775000
          ],
          [
           3,
           1,
           4,
           32,
           [
            "Chicago Blackhawks"
           ],
           23,
           775000
          ],
          [
           2,
           7,
           9,
           30,
           [
            "San Jose Sharks"
           ],
           22,
           894167
          ],
          [
           5,
           28,
           33,
           77,
           [
            "Boston Bruins"
           ],
           23,
           925000
          ],
          [
           1,
           5,
           6,
           14,
           [
            "Carolina Hurricanes"
           ],
           22,
           916667
          ],
          [
           7,
           13,
           20,
           62,
           [
            "Anaheim Ducks"
           ],
           21,
           844167
          ],
          [
           5,
           20,
           25,
           73,
           [
            "Seattle Kraken"
           ],
           23,
           897500
          ],
          [
           4,
           4,
           8,
           14,
           [
            "New Jersey Devils"
           ],
           20,
           950000
          ],
          [
           6,
           60,
           66,
           82,
           [
            "Montréal Canadiens"
           ],
           20,
           950000
          ],
          [
           5,
           14,
           19,
           68,
           [
            "Anaheim Ducks"
           ],
           21,
           918333
          ],
          [
           2,
           2,
           4,
           27,
           [
            "New Jersey Devils"
           ],
           20,
           918333
          ],
          [
           1,
           2,
           3,
           28,
           [
            "Vancouver Canucks"
           ],
           20,
           870000
          ],
          [
           5,
           10,
           15,
           76,
           [
            "Colorado Avalanche"
           ],
           26,
           850000
          ],
          [
           4,
           14,
           18,
           76,
           [
            "Florida Panthers"
           ],
           28,
           850000
          ],
          [
           1,
           3,
           4,
           41,
           [
            "Ottawa Senators"
           ],
           26,
           775000
          ]
         ],
         "hovertemplate": "<b>%{hovertext}</b><br><br>avgToi=%{x}<br>g/60=%{y}<br>goals=%{customdata[0]}<br>assists=%{customdata[1]}<br>points=%{customdata[2]}<br>gamesPlayed=%{customdata[3]}<br>team=%{customdata[4]}<br>age=%{customdata[5]}<br>capHit=%{customdata[6]}<extra></extra>",
         "hovertext": [
          "Ryan Shea",
          "Keaton Middleton",
          "Ty Emberson",
          "Drew Helleson",
          "Jayden Struble",
          "Albert Johansson",
          "Louis Crevier",
          "Shakir Mukhamadullin",
          "Mason Lohrei",
          "Scott Morrow",
          "Olen Zellweger",
          "Ryker Evans",
          "Seamus Casey",
          "Lane Hutson",
          "Pavel Mintyukov",
          "Simon Nemec",
          "Elias Pettersson",
          "Sam Malinski",
          "Uvis Balinskis",
          "Nikolas Matinpalo"
         ],
         "legendgroup": "",
         "marker": {
          "color": "#636efa",
          "symbol": "circle"
         },
         "mode": "markers",
         "name": "",
         "orientation": "v",
         "showlegend": false,
         "type": "scatter",
         "x": {
          "bdata": "vLu7u7u7MEB3d3d3d/cmQL27u7u7Oy5AmpmZmZlZMEBmZmZmZuYtQN7d3d3dXTBAiYiIiIhIMUAREREREREyQImIiIiIiDNAmpmZmZmZL0B3d3d3d/cyQLy7u7u7ezNAzczMzMxMKUC8u7u7u7s2QJqZmZmZmTFAd3d3d3f3LUAiIiIiIqIpQGdmZmZm5i9AMzMzMzOzLUC7u7u7uzspQA==",
          "dtype": "f8"
         },
         "xaxis": "x",
         "y": {
          "bdata": "GsadG2CJxz8AAAAAAAAAAG96bgNJvbo/aQyhYKDG0D8/tqaBzFjCPyvCvbnjE8c/Evp3Ak7U1D/MWD5i6FbMP8oPkGjhh8k/uCKteh9c0T+0SUajwtvWP+bxpPiz/8o/v0vcJMOu9T+4GIKLIbjIPwpo3K3zCtA/gfgWHuv70j+bwd+plGbFP6F1e4mNrc8/Jj+wWTU4yz/GUb42j7G9Pw==",
          "dtype": "f8"
         },
         "yaxis": "y"
        },
        {
         "hovertemplate": "<b>OLS trendline</b><br>g/60 = -0.0145226 * avgToi + 0.50044<br>R<sup>2</sup>=0.022167<br><br>avgToi=%{x}<br>g/60=%{y} <b>(trend)</b><extra></extra>",
         "legendgroup": "",
         "line": {
          "color": "yellow"
         },
         "marker": {
          "color": "#636efa",
          "symbol": "circle"
         },
         "mode": "lines",
         "name": "",
         "showlegend": false,
         "type": "scatter",
         "x": {
          "bdata": "d3d3d3f3JkC7u7u7uzspQM3MzMzMTClAIiIiIiKiKUAzMzMzM7MtQGZmZmZm5i1Ad3d3d3f3LUC9u7u7uzsuQJqZmZmZmS9AZ2ZmZmbmL0CamZmZmVkwQN7d3d3dXTBAvLu7u7u7MECJiIiIiEgxQJqZmZmZmTFAERERERERMkB3d3d3d/cyQLy7u7u7ezNAiYiIiIiIM0C8u7u7u7s2QA==",
          "dtype": "f8"
         },
         "xaxis": "x",
         "y": {
          "bdata": "jeAdguNa1T9244q1OU3UP9aupE1LRdQ/vKclRqMd1D/mHUuE1DnSPwqAmEwJItI/akuy5Boa0j/ueBlFYfrRPzhCKvPJV9E/bVWeHxk00T/73dNA7NTQP6zD4Az10NA/2YD8lbZ50D86OUzHse3PP3BRNhEAV88/EpAItOx4zj+UdnnJoszMP1gXmTTE1ss/fHnm/Pi+yz9iAj8QK8zFPw==",
          "dtype": "f8"
         },
         "yaxis": "y"
        }
       ],
       "layout": {
        "height": 500,
        "legend": {
         "tracegroupgap": 0
        },
        "template": {
         "data": {
          "bar": [
           {
            "error_x": {
             "color": "#f2f5fa"
            },
            "error_y": {
             "color": "#f2f5fa"
            },
            "marker": {
             "line": {
              "color": "rgb(17,17,17)",
              "width": 0.5
             },
             "pattern": {
              "fillmode": "overlay",
              "size": 10,
              "solidity": 0.2
             }
            },
            "type": "bar"
           }
          ],
          "barpolar": [
           {
            "marker": {
             "line": {
              "color": "rgb(17,17,17)",
              "width": 0.5
             },
             "pattern": {
              "fillmode": "overlay",
              "size": 10,
              "solidity": 0.2
             }
            },
            "type": "barpolar"
           }
          ],
          "carpet": [
           {
            "aaxis": {
             "endlinecolor": "#A2B1C6",
             "gridcolor": "#506784",
             "linecolor": "#506784",
             "minorgridcolor": "#506784",
             "startlinecolor": "#A2B1C6"
            },
            "baxis": {
             "endlinecolor": "#A2B1C6",
             "gridcolor": "#506784",
             "linecolor": "#506784",
             "minorgridcolor": "#506784",
             "startlinecolor": "#A2B1C6"
            },
            "type": "carpet"
           }
          ],
          "choropleth": [
           {
            "colorbar": {
             "outlinewidth": 0,
             "ticks": ""
            },
            "type": "choropleth"
           }
          ],
          "contour": [
           {
            "colorbar": {
             "outlinewidth": 0,
             "ticks": ""
            },
            "colorscale": [
             [
              0,
              "#0d0887"
             ],
             [
              0.1111111111111111,
              "#46039f"
             ],
             [
              0.2222222222222222,
              "#7201a8"
             ],
             [
              0.3333333333333333,
              "#9c179e"
             ],
             [
              0.4444444444444444,
              "#bd3786"
             ],
             [
              0.5555555555555556,
              "#d8576b"
             ],
             [
              0.6666666666666666,
              "#ed7953"
             ],
             [
              0.7777777777777778,
              "#fb9f3a"
             ],
             [
              0.8888888888888888,
              "#fdca26"
             ],
             [
              1,
              "#f0f921"
             ]
            ],
            "type": "contour"
           }
          ],
          "contourcarpet": [
           {
            "colorbar": {
             "outlinewidth": 0,
             "ticks": ""
            },
            "type": "contourcarpet"
           }
          ],
          "heatmap": [
           {
            "colorbar": {
             "outlinewidth": 0,
             "ticks": ""
            },
            "colorscale": [
             [
              0,
              "#0d0887"
             ],
             [
              0.1111111111111111,
              "#46039f"
             ],
             [
              0.2222222222222222,
              "#7201a8"
             ],
             [
              0.3333333333333333,
              "#9c179e"
             ],
             [
              0.4444444444444444,
              "#bd3786"
             ],
             [
              0.5555555555555556,
              "#d8576b"
             ],
             [
              0.6666666666666666,
              "#ed7953"
             ],
             [
              0.7777777777777778,
              "#fb9f3a"
             ],
             [
              0.8888888888888888,
              "#fdca26"
             ],
             [
              1,
              "#f0f921"
             ]
            ],
            "type": "heatmap"
           }
          ],
          "histogram": [
           {
            "marker": {
             "pattern": {
              "fillmode": "overlay",
              "size": 10,
              "solidity": 0.2
             }
            },
            "type": "histogram"
           }
          ],
          "histogram2d": [
           {
            "colorbar": {
             "outlinewidth": 0,
             "ticks": ""
            },
            "colorscale": [
             [
              0,
              "#0d0887"
             ],
             [
              0.1111111111111111,
              "#46039f"
             ],
             [
              0.2222222222222222,
              "#7201a8"
             ],
             [
              0.3333333333333333,
              "#9c179e"
             ],
             [
              0.4444444444444444,
              "#bd3786"
             ],
             [
              0.5555555555555556,
              "#d8576b"
             ],
             [
              0.6666666666666666,
              "#ed7953"
             ],
             [
              0.7777777777777778,
              "#fb9f3a"
             ],
             [
              0.8888888888888888,
              "#fdca26"
             ],
             [
              1,
              "#f0f921"
             ]
            ],
            "type": "histogram2d"
           }
          ],
          "histogram2dcontour": [
           {
            "colorbar": {
             "outlinewidth": 0,
             "ticks": ""
            },
            "colorscale": [
             [
              0,
              "#0d0887"
             ],
             [
              0.1111111111111111,
              "#46039f"
             ],
             [
              0.2222222222222222,
              "#7201a8"
             ],
             [
              0.3333333333333333,
              "#9c179e"
             ],
             [
              0.4444444444444444,
              "#bd3786"
             ],
             [
              0.5555555555555556,
              "#d8576b"
             ],
             [
              0.6666666666666666,
              "#ed7953"
             ],
             [
              0.7777777777777778,
              "#fb9f3a"
             ],
             [
              0.8888888888888888,
              "#fdca26"
             ],
             [
              1,
              "#f0f921"
             ]
            ],
            "type": "histogram2dcontour"
           }
          ],
          "mesh3d": [
           {
            "colorbar": {
             "outlinewidth": 0,
             "ticks": ""
            },
            "type": "mesh3d"
           }
          ],
          "parcoords": [
           {
            "line": {
             "colorbar": {
              "outlinewidth": 0,
              "ticks": ""
             }
            },
            "type": "parcoords"
           }
          ],
          "pie": [
           {
            "automargin": true,
            "type": "pie"
           }
          ],
          "scatter": [
           {
            "marker": {
             "line": {
              "color": "#283442"
             }
            },
            "type": "scatter"
           }
          ],
          "scatter3d": [
           {
            "line": {
             "colorbar": {
              "outlinewidth": 0,
              "ticks": ""
             }
            },
            "marker": {
             "colorbar": {
              "outlinewidth": 0,
              "ticks": ""
             }
            },
            "type": "scatter3d"
           }
          ],
          "scattercarpet": [
           {
            "marker": {
             "colorbar": {
              "outlinewidth": 0,
              "ticks": ""
             }
            },
            "type": "scattercarpet"
           }
          ],
          "scattergeo": [
           {
            "marker": {
             "colorbar": {
              "outlinewidth": 0,
              "ticks": ""
             }
            },
            "type": "scattergeo"
           }
          ],
          "scattergl": [
           {
            "marker": {
             "line": {
              "color": "#283442"
             }
            },
            "type": "scattergl"
           }
          ],
          "scattermap": [
           {
            "marker": {
             "colorbar": {
              "outlinewidth": 0,
              "ticks": ""
             }
            },
            "type": "scattermap"
           }
          ],
          "scattermapbox": [
           {
            "marker": {
             "colorbar": {
              "outlinewidth": 0,
              "ticks": ""
             }
            },
            "type": "scattermapbox"
           }
          ],
          "scatterpolar": [
           {
            "marker": {
             "colorbar": {
              "outlinewidth": 0,
              "ticks": ""
             }
            },
            "type": "scatterpolar"
           }
          ],
          "scatterpolargl": [
           {
            "marker": {
             "colorbar": {
              "outlinewidth": 0,
              "ticks": ""
             }
            },
            "type": "scatterpolargl"
           }
          ],
          "scatterternary": [
           {
            "marker": {
             "colorbar": {
              "outlinewidth": 0,
              "ticks": ""
             }
            },
            "type": "scatterternary"
           }
          ],
          "surface": [
           {
            "colorbar": {
             "outlinewidth": 0,
             "ticks": ""
            },
            "colorscale": [
             [
              0,
              "#0d0887"
             ],
             [
              0.1111111111111111,
              "#46039f"
             ],
             [
              0.2222222222222222,
              "#7201a8"
             ],
             [
              0.3333333333333333,
              "#9c179e"
             ],
             [
              0.4444444444444444,
              "#bd3786"
             ],
             [
              0.5555555555555556,
              "#d8576b"
             ],
             [
              0.6666666666666666,
              "#ed7953"
             ],
             [
              0.7777777777777778,
              "#fb9f3a"
             ],
             [
              0.8888888888888888,
              "#fdca26"
             ],
             [
              1,
              "#f0f921"
             ]
            ],
            "type": "surface"
           }
          ],
          "table": [
           {
            "cells": {
             "fill": {
              "color": "#506784"
             },
             "line": {
              "color": "rgb(17,17,17)"
             }
            },
            "header": {
             "fill": {
              "color": "#2a3f5f"
             },
             "line": {
              "color": "rgb(17,17,17)"
             }
            },
            "type": "table"
           }
          ]
         },
         "layout": {
          "annotationdefaults": {
           "arrowcolor": "#f2f5fa",
           "arrowhead": 0,
           "arrowwidth": 1
          },
          "autotypenumbers": "strict",
          "coloraxis": {
           "colorbar": {
            "outlinewidth": 0,
            "ticks": ""
           }
          },
          "colorscale": {
           "diverging": [
            [
             0,
             "#8e0152"
            ],
            [
             0.1,
             "#c51b7d"
            ],
            [
             0.2,
             "#de77ae"
            ],
            [
             0.3,
             "#f1b6da"
            ],
            [
             0.4,
             "#fde0ef"
            ],
            [
             0.5,
             "#f7f7f7"
            ],
            [
             0.6,
             "#e6f5d0"
            ],
            [
             0.7,
             "#b8e186"
            ],
            [
             0.8,
             "#7fbc41"
            ],
            [
             0.9,
             "#4d9221"
            ],
            [
             1,
             "#276419"
            ]
           ],
           "sequential": [
            [
             0,
             "#0d0887"
            ],
            [
             0.1111111111111111,
             "#46039f"
            ],
            [
             0.2222222222222222,
             "#7201a8"
            ],
            [
             0.3333333333333333,
             "#9c179e"
            ],
            [
             0.4444444444444444,
             "#bd3786"
            ],
            [
             0.5555555555555556,
             "#d8576b"
            ],
            [
             0.6666666666666666,
             "#ed7953"
            ],
            [
             0.7777777777777778,
             "#fb9f3a"
            ],
            [
             0.8888888888888888,
             "#fdca26"
            ],
            [
             1,
             "#f0f921"
            ]
           ],
           "sequentialminus": [
            [
             0,
             "#0d0887"
            ],
            [
             0.1111111111111111,
             "#46039f"
            ],
            [
             0.2222222222222222,
             "#7201a8"
            ],
            [
             0.3333333333333333,
             "#9c179e"
            ],
            [
             0.4444444444444444,
             "#bd3786"
            ],
            [
             0.5555555555555556,
             "#d8576b"
            ],
            [
             0.6666666666666666,
             "#ed7953"
            ],
            [
             0.7777777777777778,
             "#fb9f3a"
            ],
            [
             0.8888888888888888,
             "#fdca26"
            ],
            [
             1,
             "#f0f921"
            ]
           ]
          },
          "colorway": [
           "#636efa",
           "#EF553B",
           "#00cc96",
           "#ab63fa",
           "#FFA15A",
           "#19d3f3",
           "#FF6692",
           "#B6E880",
           "#FF97FF",
           "#FECB52"
          ],
          "font": {
           "color": "#f2f5fa"
          },
          "geo": {
           "bgcolor": "rgb(17,17,17)",
           "lakecolor": "rgb(17,17,17)",
           "landcolor": "rgb(17,17,17)",
           "showlakes": true,
           "showland": true,
           "subunitcolor": "#506784"
          },
          "hoverlabel": {
           "align": "left"
          },
          "hovermode": "closest",
          "mapbox": {
           "style": "dark"
          },
          "paper_bgcolor": "rgb(17,17,17)",
          "plot_bgcolor": "rgb(17,17,17)",
          "polar": {
           "angularaxis": {
            "gridcolor": "#506784",
            "linecolor": "#506784",
            "ticks": ""
           },
           "bgcolor": "rgb(17,17,17)",
           "radialaxis": {
            "gridcolor": "#506784",
            "linecolor": "#506784",
            "ticks": ""
           }
          },
          "scene": {
           "xaxis": {
            "backgroundcolor": "rgb(17,17,17)",
            "gridcolor": "#506784",
            "gridwidth": 2,
            "linecolor": "#506784",
            "showbackground": true,
            "ticks": "",
            "zerolinecolor": "#C8D4E3"
           },
           "yaxis": {
            "backgroundcolor": "rgb(17,17,17)",
            "gridcolor": "#506784",
            "gridwidth": 2,
            "linecolor": "#506784",
            "showbackground": true,
            "ticks": "",
            "zerolinecolor": "#C8D4E3"
           },
           "zaxis": {
            "backgroundcolor": "rgb(17,17,17)",
            "gridcolor": "#506784",
            "gridwidth": 2,
            "linecolor": "#506784",
            "showbackground": true,
            "ticks": "",
            "zerolinecolor": "#C8D4E3"
           }
          },
          "shapedefaults": {
           "line": {
            "color": "#f2f5fa"
           }
          },
          "sliderdefaults": {
           "bgcolor": "#C8D4E3",
           "bordercolor": "rgb(17,17,17)",
           "borderwidth": 1,
           "tickwidth": 0
          },
          "ternary": {
           "aaxis": {
            "gridcolor": "#506784",
            "linecolor": "#506784",
            "ticks": ""
           },
           "baxis": {
            "gridcolor": "#506784",
            "linecolor": "#506784",
            "ticks": ""
           },
           "bgcolor": "rgb(17,17,17)",
           "caxis": {
            "gridcolor": "#506784",
            "linecolor": "#506784",
            "ticks": ""
           }
          },
          "title": {
           "x": 0.05
          },
          "updatemenudefaults": {
           "bgcolor": "#506784",
           "borderwidth": 0
          },
          "xaxis": {
           "automargin": true,
           "gridcolor": "#283442",
           "linecolor": "#506784",
           "ticks": "",
           "title": {
            "standoff": 15
           },
           "zerolinecolor": "#283442",
           "zerolinewidth": 2
          },
          "yaxis": {
           "automargin": true,
           "gridcolor": "#283442",
           "linecolor": "#506784",
           "ticks": "",
           "title": {
            "standoff": 15
           },
           "zerolinecolor": "#283442",
           "zerolinewidth": 2
          }
         }
        },
        "title": {
         "text": "Avg Time on Ice vs g/60"
        },
        "width": 800,
        "xaxis": {
         "anchor": "y",
         "domain": [
          0,
          1
         ],
         "title": {
          "text": "avgToi"
         }
        },
        "yaxis": {
         "anchor": "x",
         "domain": [
          0,
          1
         ],
         "title": {
          "text": "g/60"
         }
        }
       }
      },
      "image/png": "[encoded data removed]"
     },
     "metadata": {},
     "output_type": "display_data"
    }
   ],
   "source": [
    "metric = \"g/60\"\n",
    "fig = px.scatter(\n",
    "    subset,\n",
    "    x=\"avgToi\",\n",
    "    y=metric,\n",
    "    hover_name=\"playerName\",\n",
    "    hover_data=[\"goals\", \"assists\", \"points\", \"gamesPlayed\", \"team\", \"age\", \"capHit\"],\n",
    "    width=800,\n",
    "    height=500,\n",
    "    title=f\"Avg Time on Ice vs {metric}\",\n",
    "    trendline=\"ols\",\n",
    "    trendline_color_override=\"yellow\",\n",
    ")\n",
    "fig.show()\n",
    "subset.loc[:, f\"{metric}_adj\"] = subset[metric] / subset[\"avgToi\"]\n",
    "subset.loc[:, f\"{metric}_adj_rank\"] = subset[f\"{metric}_adj\"].rank(ascending=False, method='first').astype(int)"
   ]
  },
  {
   "cell_type": "code",
   "execution_count": 22,
   "id": "bc3ef6a4",
   "metadata": {},
   "outputs": [
    {
     "data": {
      "application/vnd.plotly.v1+json": {
       "config": {
        "plotlyServerURL": "https://plot.ly"
       },
       "data": [
        {
         "customdata": [
          [
           2,
           3,
           5,
           39,
           [
            "Pittsburgh Penguins"
           ],
           27,
           775000
          ],
          [
           0,
           2,
           2,
           41,
           [
            "Colorado Avalanche"
           ],
           26,
           775000
          ],
          [
           2,
           11,
           13,
           76,
           [
            "Edmonton Oilers"
           ],
           24,
           950000
          ],
          [
           4,
           9,
           13,
           56,
           [
            "Anaheim Ducks"
           ],
           23,
           925000
          ],
          [
           2,
           11,
           13,
           56,
           [
            "Montréal Canadiens"
           ],
           23,
           867500
          ],
          [
           3,
           6,
           9,
           61,
           [
            "Detroit Red Wings"
           ],
           23,
           775000
          ],
          [
           3,
           1,
           4,
           32,
           [
            "Chicago Blackhawks"
           ],
           23,
           775000
          ],
          [
           2,
           7,
           9,
           30,
           [
            "San Jose Sharks"
           ],
           22,
           894167
          ],
          [
           5,
           28,
           33,
           77,
           [
            "Boston Bruins"
           ],
           23,
           925000
          ],
          [
           1,
           5,
           6,
           14,
           [
            "Carolina Hurricanes"
           ],
           22,
           916667
          ],
          [
           7,
           13,
           20,
           62,
           [
            "Anaheim Ducks"
           ],
           21,
           844167
          ],
          [
           5,
           20,
           25,
           73,
           [
            "Seattle Kraken"
           ],
           23,
           897500
          ],
          [
           4,
           4,
           8,
           14,
           [
            "New Jersey Devils"
           ],
           20,
           950000
          ],
          [
           6,
           60,
           66,
           82,
           [
            "Montréal Canadiens"
           ],
           20,
           950000
          ],
          [
           5,
           14,
           19,
           68,
           [
            "Anaheim Ducks"
           ],
           21,
           918333
          ],
          [
           2,
           2,
           4,
           27,
           [
            "New Jersey Devils"
           ],
           20,
           918333
          ],
          [
           1,
           2,
           3,
           28,
           [
            "Vancouver Canucks"
           ],
           20,
           870000
          ],
          [
           5,
           10,
           15,
           76,
           [
            "Colorado Avalanche"
           ],
           26,
           850000
          ],
          [
           4,
           14,
           18,
           76,
           [
            "Florida Panthers"
           ],
           28,
           850000
          ],
          [
           1,
           3,
           4,
           41,
           [
            "Ottawa Senators"
           ],
           26,
           775000
          ]
         ],
         "hovertemplate": "<b>%{hovertext}</b><br><br>avgToi=%{x}<br>a/60=%{y}<br>goals=%{customdata[0]}<br>assists=%{customdata[1]}<br>points=%{customdata[2]}<br>gamesPlayed=%{customdata[3]}<br>team=%{customdata[4]}<br>age=%{customdata[5]}<br>capHit=%{customdata[6]}<extra></extra>",
         "hovertext": [
          "Ryan Shea",
          "Keaton Middleton",
          "Ty Emberson",
          "Drew Helleson",
          "Jayden Struble",
          "Albert Johansson",
          "Louis Crevier",
          "Shakir Mukhamadullin",
          "Mason Lohrei",
          "Scott Morrow",
          "Olen Zellweger",
          "Ryker Evans",
          "Seamus Casey",
          "Lane Hutson",
          "Pavel Mintyukov",
          "Simon Nemec",
          "Elias Pettersson",
          "Sam Malinski",
          "Uvis Balinskis",
          "Nikolas Matinpalo"
         ],
         "legendgroup": "",
         "marker": {
          "color": "#636efa",
          "symbol": "circle"
         },
         "mode": "markers",
         "name": "",
         "orientation": "v",
         "showlegend": false,
         "type": "scatter",
         "x": {
          "bdata": "vLu7u7u7MEB3d3d3d/cmQL27u7u7Oy5AmpmZmZlZMEBmZmZmZuYtQN7d3d3dXTBAiYiIiIhIMUAREREREREyQImIiIiIiDNAmpmZmZmZL0B3d3d3d/cyQLy7u7u7ezNAzczMzMxMKUC8u7u7u7s2QJqZmZmZmTFAd3d3d3f3LUAiIiIiIqIpQGdmZmZm5i9AMzMzMzOzLUC7u7u7uzspQA==",
          "dtype": "f8"
         },
         "xaxis": "x",
         "y": {
          "bdata": "k1S2FAin0T+Q9X+Y5E/QPyz0WzIiYuI/9i21bHTf4j+XOkUyGTrpPyvCvbnjE9c/GfifWL3Fuz+zjfZVC8zoP6ekMckd3/E/ZWtYWSez9T+UjVMFxznlP+bxpPiz/+o/v0vcJMOu9T/lnmLuKeb+P3VeAY27deY/gfgWHuv70j+bwd+plGbVP6F1e4mNrd8/Qjd6ri7R5z9VvQ5pK0XWPw==",
          "dtype": "f8"
         },
         "yaxis": "y"
        },
        {
         "hovertemplate": "<b>OLS trendline</b><br>a/60 = 0.0797172 * avgToi + -0.597049<br>R<sup>2</sup>=0.234376<br><br>avgToi=%{x}<br>a/60=%{y} <b>(trend)</b><extra></extra>",
         "legendgroup": "",
         "line": {
          "color": "yellow"
         },
         "marker": {
          "color": "#636efa",
          "symbol": "circle"
         },
         "mode": "lines",
         "name": "",
         "showlegend": false,
         "type": "scatter",
         "x": {
          "bdata": "d3d3d3f3JkC7u7u7uzspQM3MzMzMTClAIiIiIiKiKUAzMzMzM7MtQGZmZmZm5i1Ad3d3d3f3LUC9u7u7uzsuQJqZmZmZmS9AZ2ZmZmbmL0CamZmZmVkwQN7d3d3dXTBAvLu7u7u7MECJiIiIiEgxQJqZmZmZmTFAERERERERMkB3d3d3d/cyQLy7u7u7ezNAiYiIiIiIM0C8u7u7u7s2QA==",
          "dtype": "f8"
         },
         "xaxis": "x",
         "y": {
          "bdata": "5KsRPS5g1D/Qw5CXaSjaPyzq/d3yU9o/7KkfPqEt2z+m5hCDq8biPyygtGz5B+M/WDPrD74d4z8OgMWc0HTjPyZJpK4PM+U/cN8ZjQSV5T+KxagzPJrmPyAPRIUepeY/DmKciJGU5z9y3qANvvvoP5xUJxyKyuk/EGEjCUv76j/K5uQ/CEftPwTQsiFwmO4/yKyEFhe57j/N7n0lanHzPw==",
          "dtype": "f8"
         },
         "yaxis": "y"
        }
       ],
       "layout": {
        "height": 500,
        "legend": {
         "tracegroupgap": 0
        },
        "template": {
         "data": {
          "bar": [
           {
            "error_x": {
             "color": "#f2f5fa"
            },
            "error_y": {
             "color": "#f2f5fa"
            },
            "marker": {
             "line": {
              "color": "rgb(17,17,17)",
              "width": 0.5
             },
             "pattern": {
              "fillmode": "overlay",
              "size": 10,
              "solidity": 0.2
             }
            },
            "type": "bar"
           }
          ],
          "barpolar": [
           {
            "marker": {
             "line": {
              "color": "rgb(17,17,17)",
              "width": 0.5
             },
             "pattern": {
              "fillmode": "overlay",
              "size": 10,
              "solidity": 0.2
             }
            },
            "type": "barpolar"
           }
          ],
          "carpet": [
           {
            "aaxis": {
             "endlinecolor": "#A2B1C6",
             "gridcolor": "#506784",
             "linecolor": "#506784",
             "minorgridcolor": "#506784",
             "startlinecolor": "#A2B1C6"
            },
            "baxis": {
             "endlinecolor": "#A2B1C6",
             "gridcolor": "#506784",
             "linecolor": "#506784",
             "minorgridcolor": "#506784",
             "startlinecolor": "#A2B1C6"
            },
            "type": "carpet"
           }
          ],
          "choropleth": [
           {
            "colorbar": {
             "outlinewidth": 0,
             "ticks": ""
            },
            "type": "choropleth"
           }
          ],
          "contour": [
           {
            "colorbar": {
             "outlinewidth": 0,
             "ticks": ""
            },
            "colorscale": [
             [
              0,
              "#0d0887"
             ],
             [
              0.1111111111111111,
              "#46039f"
             ],
             [
              0.2222222222222222,
              "#7201a8"
             ],
             [
              0.3333333333333333,
              "#9c179e"
             ],
             [
              0.4444444444444444,
              "#bd3786"
             ],
             [
              0.5555555555555556,
              "#d8576b"
             ],
             [
              0.6666666666666666,
              "#ed7953"
             ],
             [
              0.7777777777777778,
              "#fb9f3a"
             ],
             [
              0.8888888888888888,
              "#fdca26"
             ],
             [
              1,
              "#f0f921"
             ]
            ],
            "type": "contour"
           }
          ],
          "contourcarpet": [
           {
            "colorbar": {
             "outlinewidth": 0,
             "ticks": ""
            },
            "type": "contourcarpet"
           }
          ],
          "heatmap": [
           {
            "colorbar": {
             "outlinewidth": 0,
             "ticks": ""
            },
            "colorscale": [
             [
              0,
              "#0d0887"
             ],
             [
              0.1111111111111111,
              "#46039f"
             ],
             [
              0.2222222222222222,
              "#7201a8"
             ],
             [
              0.3333333333333333,
              "#9c179e"
             ],
             [
              0.4444444444444444,
              "#bd3786"
             ],
             [
              0.5555555555555556,
              "#d8576b"
             ],
             [
              0.6666666666666666,
              "#ed7953"
             ],
             [
              0.7777777777777778,
              "#fb9f3a"
             ],
             [
              0.8888888888888888,
              "#fdca26"
             ],
             [
              1,
              "#f0f921"
             ]
            ],
            "type": "heatmap"
           }
          ],
          "histogram": [
           {
            "marker": {
             "pattern": {
              "fillmode": "overlay",
              "size": 10,
              "solidity": 0.2
             }
            },
            "type": "histogram"
           }
          ],
          "histogram2d": [
           {
            "colorbar": {
             "outlinewidth": 0,
             "ticks": ""
            },
            "colorscale": [
             [
              0,
              "#0d0887"
             ],
             [
              0.1111111111111111,
              "#46039f"
             ],
             [
              0.2222222222222222,
              "#7201a8"
             ],
             [
              0.3333333333333333,
              "#9c179e"
             ],
             [
              0.4444444444444444,
              "#bd3786"
             ],
             [
              0.5555555555555556,
              "#d8576b"
             ],
             [
              0.6666666666666666,
              "#ed7953"
             ],
             [
              0.7777777777777778,
              "#fb9f3a"
             ],
             [
              0.8888888888888888,
              "#fdca26"
             ],
             [
              1,
              "#f0f921"
             ]
            ],
            "type": "histogram2d"
           }
          ],
          "histogram2dcontour": [
           {
            "colorbar": {
             "outlinewidth": 0,
             "ticks": ""
            },
            "colorscale": [
             [
              0,
              "#0d0887"
             ],
             [
              0.1111111111111111,
              "#46039f"
             ],
             [
              0.2222222222222222,
              "#7201a8"
             ],
             [
              0.3333333333333333,
              "#9c179e"
             ],
             [
              0.4444444444444444,
              "#bd3786"
             ],
             [
              0.5555555555555556,
              "#d8576b"
             ],
             [
              0.6666666666666666,
              "#ed7953"
             ],
             [
              0.7777777777777778,
              "#fb9f3a"
             ],
             [
              0.8888888888888888,
              "#fdca26"
             ],
             [
              1,
              "#f0f921"
             ]
            ],
            "type": "histogram2dcontour"
           }
          ],
          "mesh3d": [
           {
            "colorbar": {
             "outlinewidth": 0,
             "ticks": ""
            },
            "type": "mesh3d"
           }
          ],
          "parcoords": [
           {
            "line": {
             "colorbar": {
              "outlinewidth": 0,
              "ticks": ""
             }
            },
            "type": "parcoords"
           }
          ],
          "pie": [
           {
            "automargin": true,
            "type": "pie"
           }
          ],
          "scatter": [
           {
            "marker": {
             "line": {
              "color": "#283442"
             }
            },
            "type": "scatter"
           }
          ],
          "scatter3d": [
           {
            "line": {
             "colorbar": {
              "outlinewidth": 0,
              "ticks": ""
             }
            },
            "marker": {
             "colorbar": {
              "outlinewidth": 0,
              "ticks": ""
             }
            },
            "type": "scatter3d"
           }
          ],
          "scattercarpet": [
           {
            "marker": {
             "colorbar": {
              "outlinewidth": 0,
              "ticks": ""
             }
            },
            "type": "scattercarpet"
           }
          ],
          "scattergeo": [
           {
            "marker": {
             "colorbar": {
              "outlinewidth": 0,
              "ticks": ""
             }
            },
            "type": "scattergeo"
           }
          ],
          "scattergl": [
           {
            "marker": {
             "line": {
              "color": "#283442"
             }
            },
            "type": "scattergl"
           }
          ],
          "scattermap": [
           {
            "marker": {
             "colorbar": {
              "outlinewidth": 0,
              "ticks": ""
             }
            },
            "type": "scattermap"
           }
          ],
          "scattermapbox": [
           {
            "marker": {
             "colorbar": {
              "outlinewidth": 0,
              "ticks": ""
             }
            },
            "type": "scattermapbox"
           }
          ],
          "scatterpolar": [
           {
            "marker": {
             "colorbar": {
              "outlinewidth": 0,
              "ticks": ""
             }
            },
            "type": "scatterpolar"
           }
          ],
          "scatterpolargl": [
           {
            "marker": {
             "colorbar": {
              "outlinewidth": 0,
              "ticks": ""
             }
            },
            "type": "scatterpolargl"
           }
          ],
          "scatterternary": [
           {
            "marker": {
             "colorbar": {
              "outlinewidth": 0,
              "ticks": ""
             }
            },
            "type": "scatterternary"
           }
          ],
          "surface": [
           {
            "colorbar": {
             "outlinewidth": 0,
             "ticks": ""
            },
            "colorscale": [
             [
              0,
              "#0d0887"
             ],
             [
              0.1111111111111111,
              "#46039f"
             ],
             [
              0.2222222222222222,
              "#7201a8"
             ],
             [
              0.3333333333333333,
              "#9c179e"
             ],
             [
              0.4444444444444444,
              "#bd3786"
             ],
             [
              0.5555555555555556,
              "#d8576b"
             ],
             [
              0.6666666666666666,
              "#ed7953"
             ],
             [
              0.7777777777777778,
              "#fb9f3a"
             ],
             [
              0.8888888888888888,
              "#fdca26"
             ],
             [
              1,
              "#f0f921"
             ]
            ],
            "type": "surface"
           }
          ],
          "table": [
           {
            "cells": {
             "fill": {
              "color": "#506784"
             },
             "line": {
              "color": "rgb(17,17,17)"
             }
            },
            "header": {
             "fill": {
              "color": "#2a3f5f"
             },
             "line": {
              "color": "rgb(17,17,17)"
             }
            },
            "type": "table"
           }
          ]
         },
         "layout": {
          "annotationdefaults": {
           "arrowcolor": "#f2f5fa",
           "arrowhead": 0,
           "arrowwidth": 1
          },
          "autotypenumbers": "strict",
          "coloraxis": {
           "colorbar": {
            "outlinewidth": 0,
            "ticks": ""
           }
          },
          "colorscale": {
           "diverging": [
            [
             0,
             "#8e0152"
            ],
            [
             0.1,
             "#c51b7d"
            ],
            [
             0.2,
             "#de77ae"
            ],
            [
             0.3,
             "#f1b6da"
            ],
            [
             0.4,
             "#fde0ef"
            ],
            [
             0.5,
             "#f7f7f7"
            ],
            [
             0.6,
             "#e6f5d0"
            ],
            [
             0.7,
             "#b8e186"
            ],
            [
             0.8,
             "#7fbc41"
            ],
            [
             0.9,
             "#4d9221"
            ],
            [
             1,
             "#276419"
            ]
           ],
           "sequential": [
            [
             0,
             "#0d0887"
            ],
            [
             0.1111111111111111,
             "#46039f"
            ],
            [
             0.2222222222222222,
             "#7201a8"
            ],
            [
             0.3333333333333333,
             "#9c179e"
            ],
            [
             0.4444444444444444,
             "#bd3786"
            ],
            [
             0.5555555555555556,
             "#d8576b"
            ],
            [
             0.6666666666666666,
             "#ed7953"
            ],
            [
             0.7777777777777778,
             "#fb9f3a"
            ],
            [
             0.8888888888888888,
             "#fdca26"
            ],
            [
             1,
             "#f0f921"
            ]
           ],
           "sequentialminus": [
            [
             0,
             "#0d0887"
            ],
            [
             0.1111111111111111,
             "#46039f"
            ],
            [
             0.2222222222222222,
             "#7201a8"
            ],
            [
             0.3333333333333333,
             "#9c179e"
            ],
            [
             0.4444444444444444,
             "#bd3786"
            ],
            [
             0.5555555555555556,
             "#d8576b"
            ],
            [
             0.6666666666666666,
             "#ed7953"
            ],
            [
             0.7777777777777778,
             "#fb9f3a"
            ],
            [
             0.8888888888888888,
             "#fdca26"
            ],
            [
             1,
             "#f0f921"
            ]
           ]
          },
          "colorway": [
           "#636efa",
           "#EF553B",
           "#00cc96",
           "#ab63fa",
           "#FFA15A",
           "#19d3f3",
           "#FF6692",
           "#B6E880",
           "#FF97FF",
           "#FECB52"
          ],
          "font": {
           "color": "#f2f5fa"
          },
          "geo": {
           "bgcolor": "rgb(17,17,17)",
           "lakecolor": "rgb(17,17,17)",
           "landcolor": "rgb(17,17,17)",
           "showlakes": true,
           "showland": true,
           "subunitcolor": "#506784"
          },
          "hoverlabel": {
           "align": "left"
          },
          "hovermode": "closest",
          "mapbox": {
           "style": "dark"
          },
          "paper_bgcolor": "rgb(17,17,17)",
          "plot_bgcolor": "rgb(17,17,17)",
          "polar": {
           "angularaxis": {
            "gridcolor": "#506784",
            "linecolor": "#506784",
            "ticks": ""
           },
           "bgcolor": "rgb(17,17,17)",
           "radialaxis": {
            "gridcolor": "#506784",
            "linecolor": "#506784",
            "ticks": ""
           }
          },
          "scene": {
           "xaxis": {
            "backgroundcolor": "rgb(17,17,17)",
            "gridcolor": "#506784",
            "gridwidth": 2,
            "linecolor": "#506784",
            "showbackground": true,
            "ticks": "",
            "zerolinecolor": "#C8D4E3"
           },
           "yaxis": {
            "backgroundcolor": "rgb(17,17,17)",
            "gridcolor": "#506784",
            "gridwidth": 2,
            "linecolor": "#506784",
            "showbackground": true,
            "ticks": "",
            "zerolinecolor": "#C8D4E3"
           },
           "zaxis": {
            "backgroundcolor": "rgb(17,17,17)",
            "gridcolor": "#506784",
            "gridwidth": 2,
            "linecolor": "#506784",
            "showbackground": true,
            "ticks": "",
            "zerolinecolor": "#C8D4E3"
           }
          },
          "shapedefaults": {
           "line": {
            "color": "#f2f5fa"
           }
          },
          "sliderdefaults": {
           "bgcolor": "#C8D4E3",
           "bordercolor": "rgb(17,17,17)",
           "borderwidth": 1,
           "tickwidth": 0
          },
          "ternary": {
           "aaxis": {
            "gridcolor": "#506784",
            "linecolor": "#506784",
            "ticks": ""
           },
           "baxis": {
            "gridcolor": "#506784",
            "linecolor": "#506784",
            "ticks": ""
           },
           "bgcolor": "rgb(17,17,17)",
           "caxis": {
            "gridcolor": "#506784",
            "linecolor": "#506784",
            "ticks": ""
           }
          },
          "title": {
           "x": 0.05
          },
          "updatemenudefaults": {
           "bgcolor": "#506784",
           "borderwidth": 0
          },
          "xaxis": {
           "automargin": true,
           "gridcolor": "#283442",
           "linecolor": "#506784",
           "ticks": "",
           "title": {
            "standoff": 15
           },
           "zerolinecolor": "#283442",
           "zerolinewidth": 2
          },
          "yaxis": {
           "automargin": true,
           "gridcolor": "#283442",
           "linecolor": "#506784",
           "ticks": "",
           "title": {
            "standoff": 15
           },
           "zerolinecolor": "#283442",
           "zerolinewidth": 2
          }
         }
        },
        "title": {
         "text": "Avg Time on Ice vs a/60"
        },
        "width": 800,
        "xaxis": {
         "anchor": "y",
         "domain": [
          0,
          1
         ],
         "title": {
          "text": "avgToi"
         }
        },
        "yaxis": {
         "anchor": "x",
         "domain": [
          0,
          1
         ],
         "title": {
          "text": "a/60"
         }
        }
       }
      },
      "image/png": "[encoded data removed]"
     },
     "metadata": {},
     "output_type": "display_data"
    }
   ],
   "source": [
    "metric = \"a/60\"\n",
    "fig = px.scatter(\n",
    "    subset,\n",
    "    x=\"avgToi\",\n",
    "    y=metric,\n",
    "    hover_name=\"playerName\",\n",
    "    hover_data=[\"goals\", \"assists\", \"points\", \"gamesPlayed\", \"team\", \"age\", \"capHit\"],\n",
    "    width=800,\n",
    "    height=500,\n",
    "    title=f\"Avg Time on Ice vs {metric}\",\n",
    "    trendline=\"ols\",\n",
    "    trendline_color_override=\"yellow\",\n",
    ")\n",
    "fig.show()\n",
    "subset.loc[:, f\"{metric}_adj\"] = subset[metric] / subset[\"avgToi\"]\n",
    "subset.loc[:, f\"{metric}_adj_rank\"] = subset[f\"{metric}_adj\"].rank(ascending=False, method='first').astype(int)"
   ]
  },
  {
   "cell_type": "code",
   "execution_count": 20,
   "id": "7db817ca",
   "metadata": {},
   "outputs": [
    {
     "data": {
      "application/vnd.plotly.v1+json": {
       "config": {
        "plotlyServerURL": "https://plot.ly"
       },
       "data": [
        {
         "customdata": [
          [
           2,
           3,
           5,
           39,
           [
            "Pittsburgh Penguins"
           ],
           27,
           775000
          ],
          [
           0,
           2,
           2,
           41,
           [
            "Colorado Avalanche"
           ],
           26,
           775000
          ],
          [
           2,
           11,
           13,
           76,
           [
            "Edmonton Oilers"
           ],
           24,
           950000
          ],
          [
           4,
           9,
           13,
           56,
           [
            "Anaheim Ducks"
           ],
           23,
           925000
          ],
          [
           2,
           11,
           13,
           56,
           [
            "Montréal Canadiens"
           ],
           23,
           867500
          ],
          [
           3,
           6,
           9,
           61,
           [
            "Detroit Red Wings"
           ],
           23,
           775000
          ],
          [
           3,
           1,
           4,
           32,
           [
            "Chicago Blackhawks"
           ],
           23,
           775000
          ],
          [
           2,
           7,
           9,
           30,
           [
            "San Jose Sharks"
           ],
           22,
           894167
          ],
          [
           5,
           28,
           33,
           77,
           [
            "Boston Bruins"
           ],
           23,
           925000
          ],
          [
           1,
           5,
           6,
           14,
           [
            "Carolina Hurricanes"
           ],
           22,
           916667
          ],
          [
           7,
           13,
           20,
           62,
           [
            "Anaheim Ducks"
           ],
           21,
           844167
          ],
          [
           5,
           20,
           25,
           73,
           [
            "Seattle Kraken"
           ],
           23,
           897500
          ],
          [
           4,
           4,
           8,
           14,
           [
            "New Jersey Devils"
           ],
           20,
           950000
          ],
          [
           6,
           60,
           66,
           82,
           [
            "Montréal Canadiens"
           ],
           20,
           950000
          ],
          [
           5,
           14,
           19,
           68,
           [
            "Anaheim Ducks"
           ],
           21,
           918333
          ],
          [
           2,
           2,
           4,
           27,
           [
            "New Jersey Devils"
           ],
           20,
           918333
          ],
          [
           1,
           2,
           3,
           28,
           [
            "Vancouver Canucks"
           ],
           20,
           870000
          ],
          [
           5,
           10,
           15,
           76,
           [
            "Colorado Avalanche"
           ],
           26,
           850000
          ],
          [
           4,
           14,
           18,
           76,
           [
            "Florida Panthers"
           ],
           28,
           850000
          ],
          [
           1,
           3,
           4,
           41,
           [
            "Ottawa Senators"
           ],
           26,
           775000
          ]
         ],
         "hovertemplate": "<b>%{hovertext}</b><br><br>avgToi=%{x}<br>p/60=%{y}<br>goals=%{customdata[0]}<br>assists=%{customdata[1]}<br>points=%{customdata[2]}<br>gamesPlayed=%{customdata[3]}<br>team=%{customdata[4]}<br>age=%{customdata[5]}<br>capHit=%{customdata[6]}<extra></extra>",
         "hovertext": [
          "Ryan Shea",
          "Keaton Middleton",
          "Ty Emberson",
          "Drew Helleson",
          "Jayden Struble",
          "Albert Johansson",
          "Louis Crevier",
          "Shakir Mukhamadullin",
          "Mason Lohrei",
          "Scott Morrow",
          "Olen Zellweger",
          "Ryker Evans",
          "Seamus Casey",
          "Lane Hutson",
          "Pavel Mintyukov",
          "Simon Nemec",
          "Elias Pettersson",
          "Sam Malinski",
          "Uvis Balinskis",
          "Nikolas Matinpalo"
         ],
         "legendgroup": "",
         "marker": {
          "color": "#636efa",
          "symbol": "circle"
         },
         "mode": "markers",
         "name": "",
         "orientation": "v",
         "showlegend": false,
         "type": "scatter",
         "x": {
          "bdata": "vLu7u7u7MEB3d3d3d/cmQL27u7u7Oy5AmpmZmZlZMEBmZmZmZuYtQN7d3d3dXTBAiYiIiIhIMUAREREREREyQImIiIiIiDNAmpmZmZmZL0B3d3d3d/cyQLy7u7u7ezNAzczMzMxMKUC8u7u7u7s2QJqZmZmZmTFAd3d3d3f3LUAiIiIiIqIpQGdmZmZm5i9AMzMzMzOzLUC7u7u7uzspQA==",
          "dtype": "f8"
         },
         "xaxis": "x",
         "y": {
          "bdata": "nzeFIrhr3T+Q9X+Y5E/QP3rDyVLLueU/K7QFncRC6z8n6K5STNDtP6BRTsvqTuE/GfifWL3F2z/mI4ZuxeHvP6GmQ/YZEPU/FLQDOC8K+j84WXsr1FPwPy8XZ3vQ3/A/v0vcJMOuBUD+cOkPl/4AQHqS72M1e+4/gfgWHuv74j800Wd/7wzgPzmYHCcqwuc/DEfmBDyf7j/GUb42j7HdPw==",
          "dtype": "f8"
         },
         "yaxis": "y"
        },
        {
         "hovertemplate": "<b>OLS trendline</b><br>p/60 = 0.0651946 * avgToi + -0.0966088<br>R<sup>2</sup>=0.088604<br><br>avgToi=%{x}<br>p/60=%{y} <b>(trend)</b><extra></extra>",
         "legendgroup": "",
         "line": {
          "color": "yellow"
         },
         "marker": {
          "color": "#636efa",
          "symbol": "circle"
         },
         "mode": "lines",
         "name": "",
         "showlegend": false,
         "type": "scatter",
         "x": {
          "bdata": "d3d3d3f3JkC7u7u7uzspQM3MzMzMTClAIiIiIiKiKUAzMzMzM7MtQGZmZmZm5i1Ad3d3d3f3LUC9u7u7uzsuQJqZmZmZmS9AZ2ZmZmbmL0CamZmZmVkwQN7d3d3dXTBAvLu7u7u7MECJiIiIiEgxQJqZmZmZmTFAERERERERMkB3d3d3d/cyQLy7u7u7ezNAiYiIiIiIM0C8u7u7u7s2QA==",
          "dtype": "f8"
         },
         "xaxis": "x",
         "y": {
          "bdata": "O8aX34jd5D+k042m0TrnP4NM0RWfTOc/1qgiQqKl5z+bdTbFlePrPzPgABP+GOw/EVlEgssq7D+IPFI/AXLsP0RqOaj03u0/KArpHBEv7j+KtBJUsgTvP/hwtAuZDe8/fKKa02zR7z9i9rk/lXvwP350OhAl0PA/i8ISG8NM8T85oiF5GD3yP+6KbJcQx/I/lCXfqmrU8j8az4WH7yr2Pw==",
          "dtype": "f8"
         },
         "yaxis": "y"
        }
       ],
       "layout": {
        "height": 500,
        "legend": {
         "tracegroupgap": 0
        },
        "template": {
         "data": {
          "bar": [
           {
            "error_x": {
             "color": "#f2f5fa"
            },
            "error_y": {
             "color": "#f2f5fa"
            },
            "marker": {
             "line": {
              "color": "rgb(17,17,17)",
              "width": 0.5
             },
             "pattern": {
              "fillmode": "overlay",
              "size": 10,
              "solidity": 0.2
             }
            },
            "type": "bar"
           }
          ],
          "barpolar": [
           {
            "marker": {
             "line": {
              "color": "rgb(17,17,17)",
              "width": 0.5
             },
             "pattern": {
              "fillmode": "overlay",
              "size": 10,
              "solidity": 0.2
             }
            },
            "type": "barpolar"
           }
          ],
          "carpet": [
           {
            "aaxis": {
             "endlinecolor": "#A2B1C6",
             "gridcolor": "#506784",
             "linecolor": "#506784",
             "minorgridcolor": "#506784",
             "startlinecolor": "#A2B1C6"
            },
            "baxis": {
             "endlinecolor": "#A2B1C6",
             "gridcolor": "#506784",
             "linecolor": "#506784",
             "minorgridcolor": "#506784",
             "startlinecolor": "#A2B1C6"
            },
            "type": "carpet"
           }
          ],
          "choropleth": [
           {
            "colorbar": {
             "outlinewidth": 0,
             "ticks": ""
            },
            "type": "choropleth"
           }
          ],
          "contour": [
           {
            "colorbar": {
             "outlinewidth": 0,
             "ticks": ""
            },
            "colorscale": [
             [
              0,
              "#0d0887"
             ],
             [
              0.1111111111111111,
              "#46039f"
             ],
             [
              0.2222222222222222,
              "#7201a8"
             ],
             [
              0.3333333333333333,
              "#9c179e"
             ],
             [
              0.4444444444444444,
              "#bd3786"
             ],
             [
              0.5555555555555556,
              "#d8576b"
             ],
             [
              0.6666666666666666,
              "#ed7953"
             ],
             [
              0.7777777777777778,
              "#fb9f3a"
             ],
             [
              0.8888888888888888,
              "#fdca26"
             ],
             [
              1,
              "#f0f921"
             ]
            ],
            "type": "contour"
           }
          ],
          "contourcarpet": [
           {
            "colorbar": {
             "outlinewidth": 0,
             "ticks": ""
            },
            "type": "contourcarpet"
           }
          ],
          "heatmap": [
           {
            "colorbar": {
             "outlinewidth": 0,
             "ticks": ""
            },
            "colorscale": [
             [
              0,
              "#0d0887"
             ],
             [
              0.1111111111111111,
              "#46039f"
             ],
             [
              0.2222222222222222,
              "#7201a8"
             ],
             [
              0.3333333333333333,
              "#9c179e"
             ],
             [
              0.4444444444444444,
              "#bd3786"
             ],
             [
              0.5555555555555556,
              "#d8576b"
             ],
             [
              0.6666666666666666,
              "#ed7953"
             ],
             [
              0.7777777777777778,
              "#fb9f3a"
             ],
             [
              0.8888888888888888,
              "#fdca26"
             ],
             [
              1,
              "#f0f921"
             ]
            ],
            "type": "heatmap"
           }
          ],
          "histogram": [
           {
            "marker": {
             "pattern": {
              "fillmode": "overlay",
              "size": 10,
              "solidity": 0.2
             }
            },
            "type": "histogram"
           }
          ],
          "histogram2d": [
           {
            "colorbar": {
             "outlinewidth": 0,
             "ticks": ""
            },
            "colorscale": [
             [
              0,
              "#0d0887"
             ],
             [
              0.1111111111111111,
              "#46039f"
             ],
             [
              0.2222222222222222,
              "#7201a8"
             ],
             [
              0.3333333333333333,
              "#9c179e"
             ],
             [
              0.4444444444444444,
              "#bd3786"
             ],
             [
              0.5555555555555556,
              "#d8576b"
             ],
             [
              0.6666666666666666,
              "#ed7953"
             ],
             [
              0.7777777777777778,
              "#fb9f3a"
             ],
             [
              0.8888888888888888,
              "#fdca26"
             ],
             [
              1,
              "#f0f921"
             ]
            ],
            "type": "histogram2d"
           }
          ],
          "histogram2dcontour": [
           {
            "colorbar": {
             "outlinewidth": 0,
             "ticks": ""
            },
            "colorscale": [
             [
              0,
              "#0d0887"
             ],
             [
              0.1111111111111111,
              "#46039f"
             ],
             [
              0.2222222222222222,
              "#7201a8"
             ],
             [
              0.3333333333333333,
              "#9c179e"
             ],
             [
              0.4444444444444444,
              "#bd3786"
             ],
             [
              0.5555555555555556,
              "#d8576b"
             ],
             [
              0.6666666666666666,
              "#ed7953"
             ],
             [
              0.7777777777777778,
              "#fb9f3a"
             ],
             [
              0.8888888888888888,
              "#fdca26"
             ],
             [
              1,
              "#f0f921"
             ]
            ],
            "type": "histogram2dcontour"
           }
          ],
          "mesh3d": [
           {
            "colorbar": {
             "outlinewidth": 0,
             "ticks": ""
            },
            "type": "mesh3d"
           }
          ],
          "parcoords": [
           {
            "line": {
             "colorbar": {
              "outlinewidth": 0,
              "ticks": ""
             }
            },
            "type": "parcoords"
           }
          ],
          "pie": [
           {
            "automargin": true,
            "type": "pie"
           }
          ],
          "scatter": [
           {
            "marker": {
             "line": {
              "color": "#283442"
             }
            },
            "type": "scatter"
           }
          ],
          "scatter3d": [
           {
            "line": {
             "colorbar": {
              "outlinewidth": 0,
              "ticks": ""
             }
            },
            "marker": {
             "colorbar": {
              "outlinewidth": 0,
              "ticks": ""
             }
            },
            "type": "scatter3d"
           }
          ],
          "scattercarpet": [
           {
            "marker": {
             "colorbar": {
              "outlinewidth": 0,
              "ticks": ""
             }
            },
            "type": "scattercarpet"
           }
          ],
          "scattergeo": [
           {
            "marker": {
             "colorbar": {
              "outlinewidth": 0,
              "ticks": ""
             }
            },
            "type": "scattergeo"
           }
          ],
          "scattergl": [
           {
            "marker": {
             "line": {
              "color": "#283442"
             }
            },
            "type": "scattergl"
           }
          ],
          "scattermap": [
           {
            "marker": {
             "colorbar": {
              "outlinewidth": 0,
              "ticks": ""
             }
            },
            "type": "scattermap"
           }
          ],
          "scattermapbox": [
           {
            "marker": {
             "colorbar": {
              "outlinewidth": 0,
              "ticks": ""
             }
            },
            "type": "scattermapbox"
           }
          ],
          "scatterpolar": [
           {
            "marker": {
             "colorbar": {
              "outlinewidth": 0,
              "ticks": ""
             }
            },
            "type": "scatterpolar"
           }
          ],
          "scatterpolargl": [
           {
            "marker": {
             "colorbar": {
              "outlinewidth": 0,
              "ticks": ""
             }
            },
            "type": "scatterpolargl"
           }
          ],
          "scatterternary": [
           {
            "marker": {
             "colorbar": {
              "outlinewidth": 0,
              "ticks": ""
             }
            },
            "type": "scatterternary"
           }
          ],
          "surface": [
           {
            "colorbar": {
             "outlinewidth": 0,
             "ticks": ""
            },
            "colorscale": [
             [
              0,
              "#0d0887"
             ],
             [
              0.1111111111111111,
              "#46039f"
             ],
             [
              0.2222222222222222,
              "#7201a8"
             ],
             [
              0.3333333333333333,
              "#9c179e"
             ],
             [
              0.4444444444444444,
              "#bd3786"
             ],
             [
              0.5555555555555556,
              "#d8576b"
             ],
             [
              0.6666666666666666,
              "#ed7953"
             ],
             [
              0.7777777777777778,
              "#fb9f3a"
             ],
             [
              0.8888888888888888,
              "#fdca26"
             ],
             [
              1,
              "#f0f921"
             ]
            ],
            "type": "surface"
           }
          ],
          "table": [
           {
            "cells": {
             "fill": {
              "color": "#506784"
             },
             "line": {
              "color": "rgb(17,17,17)"
             }
            },
            "header": {
             "fill": {
              "color": "#2a3f5f"
             },
             "line": {
              "color": "rgb(17,17,17)"
             }
            },
            "type": "table"
           }
          ]
         },
         "layout": {
          "annotationdefaults": {
           "arrowcolor": "#f2f5fa",
           "arrowhead": 0,
           "arrowwidth": 1
          },
          "autotypenumbers": "strict",
          "coloraxis": {
           "colorbar": {
            "outlinewidth": 0,
            "ticks": ""
           }
          },
          "colorscale": {
           "diverging": [
            [
             0,
             "#8e0152"
            ],
            [
             0.1,
             "#c51b7d"
            ],
            [
             0.2,
             "#de77ae"
            ],
            [
             0.3,
             "#f1b6da"
            ],
            [
             0.4,
             "#fde0ef"
            ],
            [
             0.5,
             "#f7f7f7"
            ],
            [
             0.6,
             "#e6f5d0"
            ],
            [
             0.7,
             "#b8e186"
            ],
            [
             0.8,
             "#7fbc41"
            ],
            [
             0.9,
             "#4d9221"
            ],
            [
             1,
             "#276419"
            ]
           ],
           "sequential": [
            [
             0,
             "#0d0887"
            ],
            [
             0.1111111111111111,
             "#46039f"
            ],
            [
             0.2222222222222222,
             "#7201a8"
            ],
            [
             0.3333333333333333,
             "#9c179e"
            ],
            [
             0.4444444444444444,
             "#bd3786"
            ],
            [
             0.5555555555555556,
             "#d8576b"
            ],
            [
             0.6666666666666666,
             "#ed7953"
            ],
            [
             0.7777777777777778,
             "#fb9f3a"
            ],
            [
             0.8888888888888888,
             "#fdca26"
            ],
            [
             1,
             "#f0f921"
            ]
           ],
           "sequentialminus": [
            [
             0,
             "#0d0887"
            ],
            [
             0.1111111111111111,
             "#46039f"
            ],
            [
             0.2222222222222222,
             "#7201a8"
            ],
            [
             0.3333333333333333,
             "#9c179e"
            ],
            [
             0.4444444444444444,
             "#bd3786"
            ],
            [
             0.5555555555555556,
             "#d8576b"
            ],
            [
             0.6666666666666666,
             "#ed7953"
            ],
            [
             0.7777777777777778,
             "#fb9f3a"
            ],
            [
             0.8888888888888888,
             "#fdca26"
            ],
            [
             1,
             "#f0f921"
            ]
           ]
          },
          "colorway": [
           "#636efa",
           "#EF553B",
           "#00cc96",
           "#ab63fa",
           "#FFA15A",
           "#19d3f3",
           "#FF6692",
           "#B6E880",
           "#FF97FF",
           "#FECB52"
          ],
          "font": {
           "color": "#f2f5fa"
          },
          "geo": {
           "bgcolor": "rgb(17,17,17)",
           "lakecolor": "rgb(17,17,17)",
           "landcolor": "rgb(17,17,17)",
           "showlakes": true,
           "showland": true,
           "subunitcolor": "#506784"
          },
          "hoverlabel": {
           "align": "left"
          },
          "hovermode": "closest",
          "mapbox": {
           "style": "dark"
          },
          "paper_bgcolor": "rgb(17,17,17)",
          "plot_bgcolor": "rgb(17,17,17)",
          "polar": {
           "angularaxis": {
            "gridcolor": "#506784",
            "linecolor": "#506784",
            "ticks": ""
           },
           "bgcolor": "rgb(17,17,17)",
           "radialaxis": {
            "gridcolor": "#506784",
            "linecolor": "#506784",
            "ticks": ""
           }
          },
          "scene": {
           "xaxis": {
            "backgroundcolor": "rgb(17,17,17)",
            "gridcolor": "#506784",
            "gridwidth": 2,
            "linecolor": "#506784",
            "showbackground": true,
            "ticks": "",
            "zerolinecolor": "#C8D4E3"
           },
           "yaxis": {
            "backgroundcolor": "rgb(17,17,17)",
            "gridcolor": "#506784",
            "gridwidth": 2,
            "linecolor": "#506784",
            "showbackground": true,
            "ticks": "",
            "zerolinecolor": "#C8D4E3"
           },
           "zaxis": {
            "backgroundcolor": "rgb(17,17,17)",
            "gridcolor": "#506784",
            "gridwidth": 2,
            "linecolor": "#506784",
            "showbackground": true,
            "ticks": "",
            "zerolinecolor": "#C8D4E3"
           }
          },
          "shapedefaults": {
           "line": {
            "color": "#f2f5fa"
           }
          },
          "sliderdefaults": {
           "bgcolor": "#C8D4E3",
           "bordercolor": "rgb(17,17,17)",
           "borderwidth": 1,
           "tickwidth": 0
          },
          "ternary": {
           "aaxis": {
            "gridcolor": "#506784",
            "linecolor": "#506784",
            "ticks": ""
           },
           "baxis": {
            "gridcolor": "#506784",
            "linecolor": "#506784",
            "ticks": ""
           },
           "bgcolor": "rgb(17,17,17)",
           "caxis": {
            "gridcolor": "#506784",
            "linecolor": "#506784",
            "ticks": ""
           }
          },
          "title": {
           "x": 0.05
          },
          "updatemenudefaults": {
           "bgcolor": "#506784",
           "borderwidth": 0
          },
          "xaxis": {
           "automargin": true,
           "gridcolor": "#283442",
           "linecolor": "#506784",
           "ticks": "",
           "title": {
            "standoff": 15
           },
           "zerolinecolor": "#283442",
           "zerolinewidth": 2
          },
          "yaxis": {
           "automargin": true,
           "gridcolor": "#283442",
           "linecolor": "#506784",
           "ticks": "",
           "title": {
            "standoff": 15
           },
           "zerolinecolor": "#283442",
           "zerolinewidth": 2
          }
         }
        },
        "title": {
         "text": "Avg Time on Ice vs p/60"
        },
        "width": 800,
        "xaxis": {
         "anchor": "y",
         "domain": [
          0,
          1
         ],
         "title": {
          "text": "avgToi"
         }
        },
        "yaxis": {
         "anchor": "x",
         "domain": [
          0,
          1
         ],
         "title": {
          "text": "p/60"
         }
        }
       }
      },
      "image/png": "[encoded data removed]"
     },
     "metadata": {},
     "output_type": "display_data"
    }
   ],
   "source": [
    "metric = \"p/60\"\n",
    "fig = px.scatter(\n",
    "    subset,\n",
    "    x=\"avgToi\",\n",
    "    y=metric,\n",
    "    hover_name=\"playerName\",\n",
    "    hover_data=[\"goals\", \"assists\", \"points\", \"gamesPlayed\", \"team\", \"age\", \"capHit\"],\n",
    "    width=800,\n",
    "    height=500,\n",
    "    title=f\"Avg Time on Ice vs {metric}\",\n",
    "    trendline=\"ols\",\n",
    "    trendline_color_override=\"yellow\",\n",
    ")\n",
    "fig.show()\n",
    "subset.loc[:, f\"{metric}_adj\"] = subset[metric] / subset[\"avgToi\"]\n",
    "subset.loc[:, f\"{metric}_adj_rank\"] = subset[f\"{metric}_adj\"].rank(ascending=False, method='first').astype(int)"
   ]
  },
  {
   "cell_type": "markdown",
   "id": "577cb167",
   "metadata": {},
   "source": [
    "Now that I have the three adjusted metrics for goals/assists/points and their respective rankings, I will create the rank_sum metric by adding up the three rankings.\n",
    "\n",
    "Sorting by this rank sum in ascending order, we see some well-known rising stars in the NHL such as Lane Hutson. He already gets a relatively high amount of ice time, so even after adjusting for ice time he performs well.\n",
    "\n",
    "Some players towards the top of the list who have relatively low ice time include Seamus Casey, Scot Morrow (Ranger alert!!!), and Uvis Balinskis. These are some of the players I plan to include in my breakout candidates lineup."
   ]
  },
  {
   "cell_type": "code",
   "execution_count": 19,
   "id": "549104eb",
   "metadata": {},
   "outputs": [
    {
     "data": {
      "text/html": [
       "<div>\n",
       "<style scoped>\n",
       "    .dataframe tbody tr th:only-of-type {\n",
       "        vertical-align: middle;\n",
       "    }\n",
       "\n",
       "    .dataframe tbody tr th {\n",
       "        vertical-align: top;\n",
       "    }\n",
       "\n",
       "    .dataframe thead th {\n",
       "        text-align: right;\n",
       "    }\n",
       "</style>\n",
       "<table border=\"1\" class=\"dataframe\">\n",
       "  <thead>\n",
       "    <tr style=\"text-align: right;\">\n",
       "      <th></th>\n",
       "      <th>rank_sum</th>\n",
       "      <th>playerName</th>\n",
       "      <th>team</th>\n",
       "      <th>gamesPlayed</th>\n",
       "      <th>goals</th>\n",
       "      <th>assists</th>\n",
       "      <th>points</th>\n",
       "      <th>avgToi</th>\n",
       "      <th>g/60_adj_rank</th>\n",
       "      <th>a/60_adj_rank</th>\n",
       "      <th>p/60_adj_rank</th>\n",
       "    </tr>\n",
       "  </thead>\n",
       "  <tbody>\n",
       "    <tr>\n",
       "      <th>250</th>\n",
       "      <td>3</td>\n",
       "      <td>Seamus Casey</td>\n",
       "      <td>[New Jersey Devils]</td>\n",
       "      <td>14.0</td>\n",
       "      <td>4</td>\n",
       "      <td>4</td>\n",
       "      <td>8</td>\n",
       "      <td>12.650000</td>\n",
       "      <td>1</td>\n",
       "      <td>1</td>\n",
       "      <td>1</td>\n",
       "    </tr>\n",
       "    <tr>\n",
       "      <th>240</th>\n",
       "      <td>9</td>\n",
       "      <td>Scott Morrow</td>\n",
       "      <td>[Carolina Hurricanes]</td>\n",
       "      <td>14.0</td>\n",
       "      <td>1</td>\n",
       "      <td>5</td>\n",
       "      <td>6</td>\n",
       "      <td>15.800000</td>\n",
       "      <td>5</td>\n",
       "      <td>2</td>\n",
       "      <td>2</td>\n",
       "    </tr>\n",
       "    <tr>\n",
       "      <th>259</th>\n",
       "      <td>19</td>\n",
       "      <td>Uvis Balinskis</td>\n",
       "      <td>[Florida Panthers]</td>\n",
       "      <td>76.0</td>\n",
       "      <td>4</td>\n",
       "      <td>14</td>\n",
       "      <td>18</td>\n",
       "      <td>14.850000</td>\n",
       "      <td>8</td>\n",
       "      <td>6</td>\n",
       "      <td>5</td>\n",
       "    </tr>\n",
       "    <tr>\n",
       "      <th>236</th>\n",
       "      <td>23</td>\n",
       "      <td>Mason Lohrei</td>\n",
       "      <td>[Boston Bruins]</td>\n",
       "      <td>77.0</td>\n",
       "      <td>5</td>\n",
       "      <td>28</td>\n",
       "      <td>33</td>\n",
       "      <td>19.533333</td>\n",
       "      <td>15</td>\n",
       "      <td>4</td>\n",
       "      <td>4</td>\n",
       "    </tr>\n",
       "    <tr>\n",
       "      <th>251</th>\n",
       "      <td>24</td>\n",
       "      <td>Lane Hutson</td>\n",
       "      <td>[Montréal Canadiens]</td>\n",
       "      <td>82.0</td>\n",
       "      <td>6</td>\n",
       "      <td>60</td>\n",
       "      <td>66</td>\n",
       "      <td>22.733333</td>\n",
       "      <td>18</td>\n",
       "      <td>3</td>\n",
       "      <td>3</td>\n",
       "    </tr>\n",
       "    <tr>\n",
       "      <th>245</th>\n",
       "      <td>25</td>\n",
       "      <td>Olen Zellweger</td>\n",
       "      <td>[Anaheim Ducks]</td>\n",
       "      <td>62.0</td>\n",
       "      <td>7</td>\n",
       "      <td>13</td>\n",
       "      <td>20</td>\n",
       "      <td>18.966667</td>\n",
       "      <td>3</td>\n",
       "      <td>12</td>\n",
       "      <td>10</td>\n",
       "    </tr>\n",
       "    <tr>\n",
       "      <th>229</th>\n",
       "      <td>26</td>\n",
       "      <td>Shakir Mukhamadullin</td>\n",
       "      <td>[San Jose Sharks]</td>\n",
       "      <td>30.0</td>\n",
       "      <td>2</td>\n",
       "      <td>7</td>\n",
       "      <td>9</td>\n",
       "      <td>18.066667</td>\n",
       "      <td>11</td>\n",
       "      <td>8</td>\n",
       "      <td>7</td>\n",
       "    </tr>\n",
       "    <tr>\n",
       "      <th>213</th>\n",
       "      <td>27</td>\n",
       "      <td>Jayden Struble</td>\n",
       "      <td>[Montréal Canadiens]</td>\n",
       "      <td>56.0</td>\n",
       "      <td>2</td>\n",
       "      <td>11</td>\n",
       "      <td>13</td>\n",
       "      <td>14.950000</td>\n",
       "      <td>16</td>\n",
       "      <td>5</td>\n",
       "      <td>6</td>\n",
       "    </tr>\n",
       "    <tr>\n",
       "      <th>252</th>\n",
       "      <td>27</td>\n",
       "      <td>Pavel Mintyukov</td>\n",
       "      <td>[Anaheim Ducks]</td>\n",
       "      <td>68.0</td>\n",
       "      <td>5</td>\n",
       "      <td>14</td>\n",
       "      <td>19</td>\n",
       "      <td>17.600000</td>\n",
       "      <td>9</td>\n",
       "      <td>9</td>\n",
       "      <td>9</td>\n",
       "    </tr>\n",
       "    <tr>\n",
       "      <th>208</th>\n",
       "      <td>28</td>\n",
       "      <td>Drew Helleson</td>\n",
       "      <td>[Anaheim Ducks]</td>\n",
       "      <td>56.0</td>\n",
       "      <td>4</td>\n",
       "      <td>9</td>\n",
       "      <td>13</td>\n",
       "      <td>16.350000</td>\n",
       "      <td>6</td>\n",
       "      <td>11</td>\n",
       "      <td>11</td>\n",
       "    </tr>\n",
       "    <tr>\n",
       "      <th>246</th>\n",
       "      <td>29</td>\n",
       "      <td>Ryker Evans</td>\n",
       "      <td>[Seattle Kraken]</td>\n",
       "      <td>73.0</td>\n",
       "      <td>5</td>\n",
       "      <td>20</td>\n",
       "      <td>25</td>\n",
       "      <td>19.483333</td>\n",
       "      <td>14</td>\n",
       "      <td>7</td>\n",
       "      <td>8</td>\n",
       "    </tr>\n",
       "    <tr>\n",
       "      <th>258</th>\n",
       "      <td>32</td>\n",
       "      <td>Sam Malinski</td>\n",
       "      <td>[Colorado Avalanche]</td>\n",
       "      <td>76.0</td>\n",
       "      <td>5</td>\n",
       "      <td>10</td>\n",
       "      <td>15</td>\n",
       "      <td>15.950000</td>\n",
       "      <td>7</td>\n",
       "      <td>13</td>\n",
       "      <td>12</td>\n",
       "    </tr>\n",
       "    <tr>\n",
       "      <th>253</th>\n",
       "      <td>34</td>\n",
       "      <td>Simon Nemec</td>\n",
       "      <td>[New Jersey Devils]</td>\n",
       "      <td>27.0</td>\n",
       "      <td>2</td>\n",
       "      <td>2</td>\n",
       "      <td>4</td>\n",
       "      <td>14.983333</td>\n",
       "      <td>2</td>\n",
       "      <td>18</td>\n",
       "      <td>14</td>\n",
       "    </tr>\n",
       "    <tr>\n",
       "      <th>257</th>\n",
       "      <td>40</td>\n",
       "      <td>Elias Pettersson</td>\n",
       "      <td>[Vancouver Canucks]</td>\n",
       "      <td>28.0</td>\n",
       "      <td>1</td>\n",
       "      <td>2</td>\n",
       "      <td>3</td>\n",
       "      <td>12.816667</td>\n",
       "      <td>10</td>\n",
       "      <td>15</td>\n",
       "      <td>15</td>\n",
       "    </tr>\n",
       "    <tr>\n",
       "      <th>184</th>\n",
       "      <td>42</td>\n",
       "      <td>Ty Emberson</td>\n",
       "      <td>[Edmonton Oilers]</td>\n",
       "      <td>76.0</td>\n",
       "      <td>2</td>\n",
       "      <td>11</td>\n",
       "      <td>13</td>\n",
       "      <td>15.116667</td>\n",
       "      <td>19</td>\n",
       "      <td>10</td>\n",
       "      <td>13</td>\n",
       "    </tr>\n",
       "    <tr>\n",
       "      <th>220</th>\n",
       "      <td>43</td>\n",
       "      <td>Louis Crevier</td>\n",
       "      <td>[Chicago Blackhawks]</td>\n",
       "      <td>32.0</td>\n",
       "      <td>3</td>\n",
       "      <td>1</td>\n",
       "      <td>4</td>\n",
       "      <td>17.283333</td>\n",
       "      <td>4</td>\n",
       "      <td>20</td>\n",
       "      <td>19</td>\n",
       "    </tr>\n",
       "    <tr>\n",
       "      <th>217</th>\n",
       "      <td>46</td>\n",
       "      <td>Albert Johansson</td>\n",
       "      <td>[Detroit Red Wings]</td>\n",
       "      <td>61.0</td>\n",
       "      <td>3</td>\n",
       "      <td>6</td>\n",
       "      <td>9</td>\n",
       "      <td>16.366667</td>\n",
       "      <td>12</td>\n",
       "      <td>17</td>\n",
       "      <td>17</td>\n",
       "    </tr>\n",
       "    <tr>\n",
       "      <th>260</th>\n",
       "      <td>47</td>\n",
       "      <td>Nikolas Matinpalo</td>\n",
       "      <td>[Ottawa Senators]</td>\n",
       "      <td>41.0</td>\n",
       "      <td>1</td>\n",
       "      <td>3</td>\n",
       "      <td>4</td>\n",
       "      <td>12.616667</td>\n",
       "      <td>17</td>\n",
       "      <td>14</td>\n",
       "      <td>16</td>\n",
       "    </tr>\n",
       "    <tr>\n",
       "      <th>130</th>\n",
       "      <td>50</td>\n",
       "      <td>Ryan Shea</td>\n",
       "      <td>[Pittsburgh Penguins]</td>\n",
       "      <td>39.0</td>\n",
       "      <td>2</td>\n",
       "      <td>3</td>\n",
       "      <td>5</td>\n",
       "      <td>16.733333</td>\n",
       "      <td>13</td>\n",
       "      <td>19</td>\n",
       "      <td>18</td>\n",
       "    </tr>\n",
       "    <tr>\n",
       "      <th>145</th>\n",
       "      <td>56</td>\n",
       "      <td>Keaton Middleton</td>\n",
       "      <td>[Colorado Avalanche]</td>\n",
       "      <td>41.0</td>\n",
       "      <td>0</td>\n",
       "      <td>2</td>\n",
       "      <td>2</td>\n",
       "      <td>11.483333</td>\n",
       "      <td>20</td>\n",
       "      <td>16</td>\n",
       "      <td>20</td>\n",
       "    </tr>\n",
       "  </tbody>\n",
       "</table>\n",
       "</div>"
      ],
      "text/plain": [
       "     rank_sum            playerName                   team  gamesPlayed  \\\n",
       "250         3          Seamus Casey    [New Jersey Devils]         14.0   \n",
       "240         9          Scott Morrow  [Carolina Hurricanes]         14.0   \n",
       "259        19        Uvis Balinskis     [Florida Panthers]         76.0   \n",
       "236        23          Mason Lohrei        [Boston Bruins]         77.0   \n",
       "251        24           Lane Hutson   [Montréal Canadiens]         82.0   \n",
       "245        25        Olen Zellweger        [Anaheim Ducks]         62.0   \n",
       "229        26  Shakir Mukhamadullin      [San Jose Sharks]         30.0   \n",
       "213        27        Jayden Struble   [Montréal Canadiens]         56.0   \n",
       "252        27       Pavel Mintyukov        [Anaheim Ducks]         68.0   \n",
       "208        28         Drew Helleson        [Anaheim Ducks]         56.0   \n",
       "246        29           Ryker Evans       [Seattle Kraken]         73.0   \n",
       "258        32          Sam Malinski   [Colorado Avalanche]         76.0   \n",
       "253        34           Simon Nemec    [New Jersey Devils]         27.0   \n",
       "257        40      Elias Pettersson    [Vancouver Canucks]         28.0   \n",
       "184        42           Ty Emberson      [Edmonton Oilers]         76.0   \n",
       "220        43         Louis Crevier   [Chicago Blackhawks]         32.0   \n",
       "217        46      Albert Johansson    [Detroit Red Wings]         61.0   \n",
       "260        47     Nikolas Matinpalo      [Ottawa Senators]         41.0   \n",
       "130        50             Ryan Shea  [Pittsburgh Penguins]         39.0   \n",
       "145        56      Keaton Middleton   [Colorado Avalanche]         41.0   \n",
       "\n",
       "     goals  assists  points     avgToi  g/60_adj_rank  a/60_adj_rank  \\\n",
       "250      4        4       8  12.650000              1              1   \n",
       "240      1        5       6  15.800000              5              2   \n",
       "259      4       14      18  14.850000              8              6   \n",
       "236      5       28      33  19.533333             15              4   \n",
       "251      6       60      66  22.733333             18              3   \n",
       "245      7       13      20  18.966667              3             12   \n",
       "229      2        7       9  18.066667             11              8   \n",
       "213      2       11      13  14.950000             16              5   \n",
       "252      5       14      19  17.600000              9              9   \n",
       "208      4        9      13  16.350000              6             11   \n",
       "246      5       20      25  19.483333             14              7   \n",
       "258      5       10      15  15.950000              7             13   \n",
       "253      2        2       4  14.983333              2             18   \n",
       "257      1        2       3  12.816667             10             15   \n",
       "184      2       11      13  15.116667             19             10   \n",
       "220      3        1       4  17.283333              4             20   \n",
       "217      3        6       9  16.366667             12             17   \n",
       "260      1        3       4  12.616667             17             14   \n",
       "130      2        3       5  16.733333             13             19   \n",
       "145      0        2       2  11.483333             20             16   \n",
       "\n",
       "     p/60_adj_rank  \n",
       "250              1  \n",
       "240              2  \n",
       "259              5  \n",
       "236              4  \n",
       "251              3  \n",
       "245             10  \n",
       "229              7  \n",
       "213              6  \n",
       "252              9  \n",
       "208             11  \n",
       "246              8  \n",
       "258             12  \n",
       "253             14  \n",
       "257             15  \n",
       "184             13  \n",
       "220             19  \n",
       "217             17  \n",
       "260             16  \n",
       "130             18  \n",
       "145             20  "
      ]
     },
     "execution_count": 19,
     "metadata": {},
     "output_type": "execute_result"
    }
   ],
   "source": [
    "subset.loc[:, \"rank_sum\"] = subset[\"g/60_adj_rank\"] + subset[\"a/60_adj_rank\"] + subset[\"p/60_adj_rank\"]\n",
    "subset.sort_values(\"rank_sum\")[[\"rank_sum\", \"playerName\", \"team\", \"gamesPlayed\", \"goals\", \"assists\", \"points\", \"avgToi\", \"g/60_adj_rank\", \"a/60_adj_rank\", \"p/60_adj_rank\"]]"
   ]
  },
  {
   "cell_type": "markdown",
   "id": "8c7c7b33",
   "metadata": {},
   "source": [
    "One more plot for fun here, I have avgToi on the x-axis and rank_sum on the y-axis. Players below the trendline are those that are ranked above average compared to their peers in this subset with similar avgToi. Those in the bottom left section of the graph should be ideal breakout candidates."
   ]
  },
  {
   "cell_type": "code",
   "execution_count": 15,
   "id": "a54b7747",
   "metadata": {},
   "outputs": [
    {
     "data": {
      "application/vnd.plotly.v1+json": {
       "config": {
        "plotlyServerURL": "https://plot.ly"
       },
       "data": [
        {
         "customdata": [
          [
           2,
           3,
           5,
           39,
           [
            "Pittsburgh Penguins"
           ],
           27,
           775000
          ],
          [
           0,
           2,
           2,
           41,
           [
            "Colorado Avalanche"
           ],
           26,
           775000
          ],
          [
           2,
           11,
           13,
           76,
           [
            "Edmonton Oilers"
           ],
           24,
           950000
          ],
          [
           4,
           9,
           13,
           56,
           [
            "Anaheim Ducks"
           ],
           23,
           925000
          ],
          [
           2,
           11,
           13,
           56,
           [
            "Montréal Canadiens"
           ],
           23,
           867500
          ],
          [
           3,
           6,
           9,
           61,
           [
            "Detroit Red Wings"
           ],
           23,
           775000
          ],
          [
           3,
           1,
           4,
           32,
           [
            "Chicago Blackhawks"
           ],
           23,
           775000
          ],
          [
           2,
           7,
           9,
           30,
           [
            "San Jose Sharks"
           ],
           22,
           894167
          ],
          [
           5,
           28,
           33,
           77,
           [
            "Boston Bruins"
           ],
           23,
           925000
          ],
          [
           1,
           5,
           6,
           14,
           [
            "Carolina Hurricanes"
           ],
           22,
           916667
          ],
          [
           7,
           13,
           20,
           62,
           [
            "Anaheim Ducks"
           ],
           21,
           844167
          ],
          [
           5,
           20,
           25,
           73,
           [
            "Seattle Kraken"
           ],
           23,
           897500
          ],
          [
           4,
           4,
           8,
           14,
           [
            "New Jersey Devils"
           ],
           20,
           950000
          ],
          [
           6,
           60,
           66,
           82,
           [
            "Montréal Canadiens"
           ],
           20,
           950000
          ],
          [
           5,
           14,
           19,
           68,
           [
            "Anaheim Ducks"
           ],
           21,
           918333
          ],
          [
           2,
           2,
           4,
           27,
           [
            "New Jersey Devils"
           ],
           20,
           918333
          ],
          [
           1,
           2,
           3,
           28,
           [
            "Vancouver Canucks"
           ],
           20,
           870000
          ],
          [
           5,
           10,
           15,
           76,
           [
            "Colorado Avalanche"
           ],
           26,
           850000
          ],
          [
           4,
           14,
           18,
           76,
           [
            "Florida Panthers"
           ],
           28,
           850000
          ],
          [
           1,
           3,
           4,
           41,
           [
            "Ottawa Senators"
           ],
           26,
           775000
          ]
         ],
         "hovertemplate": "<b>%{hovertext}</b><br><br>avgToi=%{x}<br>rank_sum=%{y}<br>goals=%{customdata[0]}<br>assists=%{customdata[1]}<br>points=%{customdata[2]}<br>gamesPlayed=%{customdata[3]}<br>team=%{customdata[4]}<br>age=%{customdata[5]}<br>capHit=%{customdata[6]}<extra></extra>",
         "hovertext": [
          "Ryan Shea",
          "Keaton Middleton",
          "Ty Emberson",
          "Drew Helleson",
          "Jayden Struble",
          "Albert Johansson",
          "Louis Crevier",
          "Shakir Mukhamadullin",
          "Mason Lohrei",
          "Scott Morrow",
          "Olen Zellweger",
          "Ryker Evans",
          "Seamus Casey",
          "Lane Hutson",
          "Pavel Mintyukov",
          "Simon Nemec",
          "Elias Pettersson",
          "Sam Malinski",
          "Uvis Balinskis",
          "Nikolas Matinpalo"
         ],
         "legendgroup": "",
         "marker": {
          "color": "#636efa",
          "symbol": "circle"
         },
         "mode": "markers",
         "name": "",
         "orientation": "v",
         "showlegend": false,
         "type": "scatter",
         "x": {
          "bdata": "vLu7u7u7MEB3d3d3d/cmQL27u7u7Oy5AmpmZmZlZMEBmZmZmZuYtQN7d3d3dXTBAiYiIiIhIMUAREREREREyQImIiIiIiDNAmpmZmZmZL0B3d3d3d/cyQLy7u7u7ezNAzczMzMxMKUC8u7u7u7s2QJqZmZmZmTFAd3d3d3f3LUAiIiIiIqIpQGdmZmZm5i9AMzMzMzOzLUC7u7u7uzspQA==",
          "dtype": "f8"
         },
         "xaxis": "x",
         "y": {
          "bdata": "MjgqHBsuKxoXCRkdAxgbIiggEy8=",
          "dtype": "i1"
         },
         "yaxis": "y"
        },
        {
         "hovertemplate": "<b>OLS trendline</b><br>rank_sum = -1.22842 * avgToi + 51.4209<br>R<sup>2</sup>=0.063255<br><br>avgToi=%{x}<br>rank_sum=%{y} <b>(trend)</b><extra></extra>",
         "legendgroup": "",
         "line": {
          "color": "yellow"
         },
         "marker": {
          "color": "#636efa",
          "symbol": "circle"
         },
         "mode": "lines",
         "name": "",
         "showlegend": false,
         "type": "scatter",
         "x": {
          "bdata": "d3d3d3f3JkC7u7u7uzspQM3MzMzMTClAIiIiIiKiKUAzMzMzM7MtQGZmZmZm5i1Ad3d3d3f3LUC9u7u7uzsuQJqZmZmZmS9AZ2ZmZmbmL0CamZmZmVkwQN7d3d3dXTBAvLu7u7u7MECJiIiIiEgxQJqZmZmZmTFAERERERERMkB3d3d3d/cyQLy7u7u7ezNAiYiIiIiIM0C8u7u7u7s2QA==",
          "dtype": "f8"
         },
         "xaxis": "x",
         "y": {
          "bdata": "svVnxEKoQkDHhG+5DvZBQBonWfXQ8EFAvFLpIJzWQUCeAJVn5JZAQJjnURsrh0BA7Ik7V+2BQEA5E+JG9mxAQOiSFxOEAUBAv9plQdzTP0CSEk3fEVY/QOa0NhvUUD9AEahKQYXdPkDTlGj6jjA+QAWhv2z5zD1AJmJN+jc6PUDBn5WdMB88QNtH4N61fDtA1S6dkvxsO0Br7daBqX43QA==",
          "dtype": "f8"
         },
         "yaxis": "y"
        }
       ],
       "layout": {
        "height": 500,
        "legend": {
         "tracegroupgap": 0
        },
        "template": {
         "data": {
          "bar": [
           {
            "error_x": {
             "color": "#f2f5fa"
            },
            "error_y": {
             "color": "#f2f5fa"
            },
            "marker": {
             "line": {
              "color": "rgb(17,17,17)",
              "width": 0.5
             },
             "pattern": {
              "fillmode": "overlay",
              "size": 10,
              "solidity": 0.2
             }
            },
            "type": "bar"
           }
          ],
          "barpolar": [
           {
            "marker": {
             "line": {
              "color": "rgb(17,17,17)",
              "width": 0.5
             },
             "pattern": {
              "fillmode": "overlay",
              "size": 10,
              "solidity": 0.2
             }
            },
            "type": "barpolar"
           }
          ],
          "carpet": [
           {
            "aaxis": {
             "endlinecolor": "#A2B1C6",
             "gridcolor": "#506784",
             "linecolor": "#506784",
             "minorgridcolor": "#506784",
             "startlinecolor": "#A2B1C6"
            },
            "baxis": {
             "endlinecolor": "#A2B1C6",
             "gridcolor": "#506784",
             "linecolor": "#506784",
             "minorgridcolor": "#506784",
             "startlinecolor": "#A2B1C6"
            },
            "type": "carpet"
           }
          ],
          "choropleth": [
           {
            "colorbar": {
             "outlinewidth": 0,
             "ticks": ""
            },
            "type": "choropleth"
           }
          ],
          "contour": [
           {
            "colorbar": {
             "outlinewidth": 0,
             "ticks": ""
            },
            "colorscale": [
             [
              0,
              "#0d0887"
             ],
             [
              0.1111111111111111,
              "#46039f"
             ],
             [
              0.2222222222222222,
              "#7201a8"
             ],
             [
              0.3333333333333333,
              "#9c179e"
             ],
             [
              0.4444444444444444,
              "#bd3786"
             ],
             [
              0.5555555555555556,
              "#d8576b"
             ],
             [
              0.6666666666666666,
              "#ed7953"
             ],
             [
              0.7777777777777778,
              "#fb9f3a"
             ],
             [
              0.8888888888888888,
              "#fdca26"
             ],
             [
              1,
              "#f0f921"
             ]
            ],
            "type": "contour"
           }
          ],
          "contourcarpet": [
           {
            "colorbar": {
             "outlinewidth": 0,
             "ticks": ""
            },
            "type": "contourcarpet"
           }
          ],
          "heatmap": [
           {
            "colorbar": {
             "outlinewidth": 0,
             "ticks": ""
            },
            "colorscale": [
             [
              0,
              "#0d0887"
             ],
             [
              0.1111111111111111,
              "#46039f"
             ],
             [
              0.2222222222222222,
              "#7201a8"
             ],
             [
              0.3333333333333333,
              "#9c179e"
             ],
             [
              0.4444444444444444,
              "#bd3786"
             ],
             [
              0.5555555555555556,
              "#d8576b"
             ],
             [
              0.6666666666666666,
              "#ed7953"
             ],
             [
              0.7777777777777778,
              "#fb9f3a"
             ],
             [
              0.8888888888888888,
              "#fdca26"
             ],
             [
              1,
              "#f0f921"
             ]
            ],
            "type": "heatmap"
           }
          ],
          "histogram": [
           {
            "marker": {
             "pattern": {
              "fillmode": "overlay",
              "size": 10,
              "solidity": 0.2
             }
            },
            "type": "histogram"
           }
          ],
          "histogram2d": [
           {
            "colorbar": {
             "outlinewidth": 0,
             "ticks": ""
            },
            "colorscale": [
             [
              0,
              "#0d0887"
             ],
             [
              0.1111111111111111,
              "#46039f"
             ],
             [
              0.2222222222222222,
              "#7201a8"
             ],
             [
              0.3333333333333333,
              "#9c179e"
             ],
             [
              0.4444444444444444,
              "#bd3786"
             ],
             [
              0.5555555555555556,
              "#d8576b"
             ],
             [
              0.6666666666666666,
              "#ed7953"
             ],
             [
              0.7777777777777778,
              "#fb9f3a"
             ],
             [
              0.8888888888888888,
              "#fdca26"
             ],
             [
              1,
              "#f0f921"
             ]
            ],
            "type": "histogram2d"
           }
          ],
          "histogram2dcontour": [
           {
            "colorbar": {
             "outlinewidth": 0,
             "ticks": ""
            },
            "colorscale": [
             [
              0,
              "#0d0887"
             ],
             [
              0.1111111111111111,
              "#46039f"
             ],
             [
              0.2222222222222222,
              "#7201a8"
             ],
             [
              0.3333333333333333,
              "#9c179e"
             ],
             [
              0.4444444444444444,
              "#bd3786"
             ],
             [
              0.5555555555555556,
              "#d8576b"
             ],
             [
              0.6666666666666666,
              "#ed7953"
             ],
             [
              0.7777777777777778,
              "#fb9f3a"
             ],
             [
              0.8888888888888888,
              "#fdca26"
             ],
             [
              1,
              "#f0f921"
             ]
            ],
            "type": "histogram2dcontour"
           }
          ],
          "mesh3d": [
           {
            "colorbar": {
             "outlinewidth": 0,
             "ticks": ""
            },
            "type": "mesh3d"
           }
          ],
          "parcoords": [
           {
            "line": {
             "colorbar": {
              "outlinewidth": 0,
              "ticks": ""
             }
            },
            "type": "parcoords"
           }
          ],
          "pie": [
           {
            "automargin": true,
            "type": "pie"
           }
          ],
          "scatter": [
           {
            "marker": {
             "line": {
              "color": "#283442"
             }
            },
            "type": "scatter"
           }
          ],
          "scatter3d": [
           {
            "line": {
             "colorbar": {
              "outlinewidth": 0,
              "ticks": ""
             }
            },
            "marker": {
             "colorbar": {
              "outlinewidth": 0,
              "ticks": ""
             }
            },
            "type": "scatter3d"
           }
          ],
          "scattercarpet": [
           {
            "marker": {
             "colorbar": {
              "outlinewidth": 0,
              "ticks": ""
             }
            },
            "type": "scattercarpet"
           }
          ],
          "scattergeo": [
           {
            "marker": {
             "colorbar": {
              "outlinewidth": 0,
              "ticks": ""
             }
            },
            "type": "scattergeo"
           }
          ],
          "scattergl": [
           {
            "marker": {
             "line": {
              "color": "#283442"
             }
            },
            "type": "scattergl"
           }
          ],
          "scattermap": [
           {
            "marker": {
             "colorbar": {
              "outlinewidth": 0,
              "ticks": ""
             }
            },
            "type": "scattermap"
           }
          ],
          "scattermapbox": [
           {
            "marker": {
             "colorbar": {
              "outlinewidth": 0,
              "ticks": ""
             }
            },
            "type": "scattermapbox"
           }
          ],
          "scatterpolar": [
           {
            "marker": {
             "colorbar": {
              "outlinewidth": 0,
              "ticks": ""
             }
            },
            "type": "scatterpolar"
           }
          ],
          "scatterpolargl": [
           {
            "marker": {
             "colorbar": {
              "outlinewidth": 0,
              "ticks": ""
             }
            },
            "type": "scatterpolargl"
           }
          ],
          "scatterternary": [
           {
            "marker": {
             "colorbar": {
              "outlinewidth": 0,
              "ticks": ""
             }
            },
            "type": "scatterternary"
           }
          ],
          "surface": [
           {
            "colorbar": {
             "outlinewidth": 0,
             "ticks": ""
            },
            "colorscale": [
             [
              0,
              "#0d0887"
             ],
             [
              0.1111111111111111,
              "#46039f"
             ],
             [
              0.2222222222222222,
              "#7201a8"
             ],
             [
              0.3333333333333333,
              "#9c179e"
             ],
             [
              0.4444444444444444,
              "#bd3786"
             ],
             [
              0.5555555555555556,
              "#d8576b"
             ],
             [
              0.6666666666666666,
              "#ed7953"
             ],
             [
              0.7777777777777778,
              "#fb9f3a"
             ],
             [
              0.8888888888888888,
              "#fdca26"
             ],
             [
              1,
              "#f0f921"
             ]
            ],
            "type": "surface"
           }
          ],
          "table": [
           {
            "cells": {
             "fill": {
              "color": "#506784"
             },
             "line": {
              "color": "rgb(17,17,17)"
             }
            },
            "header": {
             "fill": {
              "color": "#2a3f5f"
             },
             "line": {
              "color": "rgb(17,17,17)"
             }
            },
            "type": "table"
           }
          ]
         },
         "layout": {
          "annotationdefaults": {
           "arrowcolor": "#f2f5fa",
           "arrowhead": 0,
           "arrowwidth": 1
          },
          "autotypenumbers": "strict",
          "coloraxis": {
           "colorbar": {
            "outlinewidth": 0,
            "ticks": ""
           }
          },
          "colorscale": {
           "diverging": [
            [
             0,
             "#8e0152"
            ],
            [
             0.1,
             "#c51b7d"
            ],
            [
             0.2,
             "#de77ae"
            ],
            [
             0.3,
             "#f1b6da"
            ],
            [
             0.4,
             "#fde0ef"
            ],
            [
             0.5,
             "#f7f7f7"
            ],
            [
             0.6,
             "#e6f5d0"
            ],
            [
             0.7,
             "#b8e186"
            ],
            [
             0.8,
             "#7fbc41"
            ],
            [
             0.9,
             "#4d9221"
            ],
            [
             1,
             "#276419"
            ]
           ],
           "sequential": [
            [
             0,
             "#0d0887"
            ],
            [
             0.1111111111111111,
             "#46039f"
            ],
            [
             0.2222222222222222,
             "#7201a8"
            ],
            [
             0.3333333333333333,
             "#9c179e"
            ],
            [
             0.4444444444444444,
             "#bd3786"
            ],
            [
             0.5555555555555556,
             "#d8576b"
            ],
            [
             0.6666666666666666,
             "#ed7953"
            ],
            [
             0.7777777777777778,
             "#fb9f3a"
            ],
            [
             0.8888888888888888,
             "#fdca26"
            ],
            [
             1,
             "#f0f921"
            ]
           ],
           "sequentialminus": [
            [
             0,
             "#0d0887"
            ],
            [
             0.1111111111111111,
             "#46039f"
            ],
            [
             0.2222222222222222,
             "#7201a8"
            ],
            [
             0.3333333333333333,
             "#9c179e"
            ],
            [
             0.4444444444444444,
             "#bd3786"
            ],
            [
             0.5555555555555556,
             "#d8576b"
            ],
            [
             0.6666666666666666,
             "#ed7953"
            ],
            [
             0.7777777777777778,
             "#fb9f3a"
            ],
            [
             0.8888888888888888,
             "#fdca26"
            ],
            [
             1,
             "#f0f921"
            ]
           ]
          },
          "colorway": [
           "#636efa",
           "#EF553B",
           "#00cc96",
           "#ab63fa",
           "#FFA15A",
           "#19d3f3",
           "#FF6692",
           "#B6E880",
           "#FF97FF",
           "#FECB52"
          ],
          "font": {
           "color": "#f2f5fa"
          },
          "geo": {
           "bgcolor": "rgb(17,17,17)",
           "lakecolor": "rgb(17,17,17)",
           "landcolor": "rgb(17,17,17)",
           "showlakes": true,
           "showland": true,
           "subunitcolor": "#506784"
          },
          "hoverlabel": {
           "align": "left"
          },
          "hovermode": "closest",
          "mapbox": {
           "style": "dark"
          },
          "paper_bgcolor": "rgb(17,17,17)",
          "plot_bgcolor": "rgb(17,17,17)",
          "polar": {
           "angularaxis": {
            "gridcolor": "#506784",
            "linecolor": "#506784",
            "ticks": ""
           },
           "bgcolor": "rgb(17,17,17)",
           "radialaxis": {
            "gridcolor": "#506784",
            "linecolor": "#506784",
            "ticks": ""
           }
          },
          "scene": {
           "xaxis": {
            "backgroundcolor": "rgb(17,17,17)",
            "gridcolor": "#506784",
            "gridwidth": 2,
            "linecolor": "#506784",
            "showbackground": true,
            "ticks": "",
            "zerolinecolor": "#C8D4E3"
           },
           "yaxis": {
            "backgroundcolor": "rgb(17,17,17)",
            "gridcolor": "#506784",
            "gridwidth": 2,
            "linecolor": "#506784",
            "showbackground": true,
            "ticks": "",
            "zerolinecolor": "#C8D4E3"
           },
           "zaxis": {
            "backgroundcolor": "rgb(17,17,17)",
            "gridcolor": "#506784",
            "gridwidth": 2,
            "linecolor": "#506784",
            "showbackground": true,
            "ticks": "",
            "zerolinecolor": "#C8D4E3"
           }
          },
          "shapedefaults": {
           "line": {
            "color": "#f2f5fa"
           }
          },
          "sliderdefaults": {
           "bgcolor": "#C8D4E3",
           "bordercolor": "rgb(17,17,17)",
           "borderwidth": 1,
           "tickwidth": 0
          },
          "ternary": {
           "aaxis": {
            "gridcolor": "#506784",
            "linecolor": "#506784",
            "ticks": ""
           },
           "baxis": {
            "gridcolor": "#506784",
            "linecolor": "#506784",
            "ticks": ""
           },
           "bgcolor": "rgb(17,17,17)",
           "caxis": {
            "gridcolor": "#506784",
            "linecolor": "#506784",
            "ticks": ""
           }
          },
          "title": {
           "x": 0.05
          },
          "updatemenudefaults": {
           "bgcolor": "#506784",
           "borderwidth": 0
          },
          "xaxis": {
           "automargin": true,
           "gridcolor": "#283442",
           "linecolor": "#506784",
           "ticks": "",
           "title": {
            "standoff": 15
           },
           "zerolinecolor": "#283442",
           "zerolinewidth": 2
          },
          "yaxis": {
           "automargin": true,
           "gridcolor": "#283442",
           "linecolor": "#506784",
           "ticks": "",
           "title": {
            "standoff": 15
           },
           "zerolinecolor": "#283442",
           "zerolinewidth": 2
          }
         }
        },
        "title": {
         "text": "Avg Time on Ice vs Rank Sum"
        },
        "width": 800,
        "xaxis": {
         "anchor": "y",
         "domain": [
          0,
          1
         ],
         "title": {
          "text": "avgToi"
         }
        },
        "yaxis": {
         "anchor": "x",
         "domain": [
          0,
          1
         ],
         "title": {
          "text": "rank_sum"
         }
        }
       }
      },
      "image/png": "[encoded data removed]"
     },
     "metadata": {},
     "output_type": "display_data"
    }
   ],
   "source": [
    "fig = px.scatter(\n",
    "    subset,\n",
    "    x=\"avgToi\",\n",
    "    y=\"rank_sum\",\n",
    "    hover_name=\"playerName\",\n",
    "    hover_data=[\"goals\", \"assists\", \"points\", \"gamesPlayed\", \"team\", \"age\", \"capHit\"],\n",
    "    width=800,\n",
    "    height=500,\n",
    "    title=f\"Avg Time on Ice vs Rank Sum\",\n",
    "    trendline=\"ols\",\n",
    "    trendline_color_override=\"yellow\",\n",
    ")\n",
    "fig.show()"
   ]
  },
  {
   "cell_type": "markdown",
   "id": "4865c1a6",
   "metadata": {},
   "source": [
    "### Appendix"
   ]
  },
  {
   "cell_type": "code",
   "execution_count": 18,
   "id": "f404e497",
   "metadata": {},
   "outputs": [],
   "source": [
    "# # Just looking at goals/60 now, and split by years of experience.\n",
    "# fig = px.violin(\n",
    "#     subset,\n",
    "#     x=\"yoe\",\n",
    "#     y=\"p/60\",\n",
    "#     points=\"all\",\n",
    "#     hover_name=\"playerName\",\n",
    "#     hover_data=[\"goals\", \"assists\", \"points\", \"gamesPlayed\", \"team\", \"age\", \"capHit\"]\n",
    "# )\n",
    "# fig.show()"
   ]
  },
  {
   "cell_type": "code",
   "execution_count": 116,
   "id": "3767f8ae",
   "metadata": {},
   "outputs": [
    {
     "name": "stderr",
     "output_type": "stream",
     "text": [
      "[NbConvertApp] Converting notebook breakout-candidates.ipynb to html\n",
      "[NbConvertApp] WARNING | Alternative text is missing on 5 image(s).\n",
      "[NbConvertApp] Writing 532122 bytes to breakout-candidates.html\n"
     ]
    },
    {
     "data": {
      "text/plain": [
       "0"
      ]
     },
     "execution_count": 116,
     "metadata": {},
     "output_type": "execute_result"
    }
   ],
   "source": [
    "os.system(\"jupyter nbconvert --to html breakout-candidates.ipynb\")"
   ]
  },
  {
   "cell_type": "code",
   "execution_count": null,
   "id": "0219d337",
   "metadata": {},
   "outputs": [],
   "source": []
  }
 ],
 "metadata": {
  "kernelspec": {
   "display_name": "3.13.2",
   "language": "python",
   "name": "python3"
  },
  "language_info": {
   "codemirror_mode": {
    "name": "ipython",
    "version": 3
   },
   "file_extension": ".py",
   "mimetype": "text/x-python",
   "name": "python",
   "nbconvert_exporter": "python",
   "pygments_lexer": "ipython3",
   "version": "3.13.2"
  }
 },
 "nbformat": 4,
 "nbformat_minor": 5
}
